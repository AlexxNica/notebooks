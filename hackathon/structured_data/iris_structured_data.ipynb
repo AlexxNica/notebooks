{
 "cells": [
  {
   "cell_type": "markdown",
   "metadata": {},
   "source": [
    "Table of Contents\n",
    "===\n",
    "\n",
    "<a href=\"#about\">About this notebook</a> <br />\n",
    "<a href=\"#setup\">Setting things up</a>\n",
    "\n",
    "Local Experience\n",
    "1. <a href=\"#local_preprocessing\">Local preprocessing starting from csv files</a>\n",
    "1. <a href=\"#local_training\">Local training</a>\n",
    "1. <a href=\"#local_prediction\">Local prediction</a>\n",
    "1. <a href=\"#local_batch_prediction\">Local batch prediction</a>\n",
    "\n",
    "Cloud Experience\n",
    "1. <a href=\"#cloud_preprocessing\">Cloud preprocessing starting from csv files</a>\n",
    "1. <a href=\"#cloud_training\">Cloud training</a>\n",
    "1. <a href=\"#cloud_online_prediction\">Cloud prediction</a>\n",
    "1. <a href=\"#cloud_batch_prediction\">Clod batch prediction</a>"
   ]
  },
  {
   "cell_type": "markdown",
   "metadata": {},
   "source": [
    "<a name=\"about\"></a>\n",
    "About this notebook\n",
    "======\n",
    "\n",
    "This notebook uses the datalab structured data package for building and running a Tensorflow classification problems locally, and using Google Compute Platform services. This notebook uses the classic <a href=\"https://en.wikipedia.org/wiki/Iris_flower_data_set\">Iris flower data set.</a>"
   ]
  },
  {
   "cell_type": "markdown",
   "metadata": {},
   "source": [
    "<a name=\"setup\"></a>\n",
    "Setting things up\n",
    "====="
   ]
  },
  {
   "cell_type": "code",
   "execution_count": 1,
   "metadata": {
    "collapsed": true
   },
   "outputs": [],
   "source": [
    "%projects set cloud-ml-dev"
   ]
  },
  {
   "cell_type": "code",
   "execution_count": 2,
   "metadata": {
    "collapsed": false
   },
   "outputs": [
    {
     "name": "stderr",
     "output_type": "stream",
     "text": [
      "Updated property [core/project].\n"
     ]
    }
   ],
   "source": [
    "%bash\n",
    "gcloud config set project cloud-ml-dev"
   ]
  },
  {
   "cell_type": "code",
   "execution_count": 3,
   "metadata": {
    "collapsed": false
   },
   "outputs": [
    {
     "name": "stderr",
     "output_type": "stream",
     "text": [
      "Updated property [compute/region].\n"
     ]
    }
   ],
   "source": [
    "%bash\n",
    "gcloud config set compute/region us-central1"
   ]
  },
  {
   "cell_type": "code",
   "execution_count": 4,
   "metadata": {
    "collapsed": false
   },
   "outputs": [
    {
     "name": "stdout",
     "output_type": "stream",
     "text": [
      "Added serviceAccount:cloud-ml-service@cml-236417448818.iam.gserviceaccount.com as an Editor to project 'cloud-ml-dev'.\r\n"
     ]
    }
   ],
   "source": [
    "!gcloud beta ml init-project -q"
   ]
  },
  {
   "cell_type": "code",
   "execution_count": 3,
   "metadata": {
    "collapsed": false
   },
   "outputs": [],
   "source": [
    "\n",
    "import datalab_solutions.structured_data as sd"
   ]
  },
  {
   "cell_type": "markdown",
   "metadata": {},
   "source": [
    "Lets look at the versions of structured_data and TF we have"
   ]
  },
  {
   "cell_type": "code",
   "execution_count": 4,
   "metadata": {
    "collapsed": false
   },
   "outputs": [
    {
     "name": "stdout",
     "output_type": "stream",
     "text": [
      "tf 1.0.0-rc1\n",
      "sd 0.0.1\n"
     ]
    }
   ],
   "source": [
    "import tensorflow as tf\n",
    "import os\n",
    "print('tf ' + str(tf.__version__))\n",
    "print('sd ' + str(sd.__version__))"
   ]
  },
  {
   "cell_type": "markdown",
   "metadata": {},
   "source": [
    "This notebook will write files during preprocessing, training, and prediction. Please give a root folder you wish to write use for local and cloud usage."
   ]
  },
  {
   "cell_type": "code",
   "execution_count": 5,
   "metadata": {
    "collapsed": false
   },
   "outputs": [],
   "source": [
    "LOCAL_ROOT = '/content/Downloads/iris_notebook_workspace'\n",
    "if not os.path.exists(LOCAL_ROOT):\n",
    "  os.mkdirs(LOCAL_ROOT)"
   ]
  },
  {
   "cell_type": "code",
   "execution_count": 6,
   "metadata": {
    "collapsed": false
   },
   "outputs": [],
   "source": [
    "CLOUD_ROOT = 'gs://cloud-ml-dev_bdt/iris_notebook_workspace'\n",
    "from tensorflow.python.lib.io import file_io\n",
    "if not file_io.file_exists(CLOUD_ROOT):\n",
    "  file_io.recursive_create_dir(CLOUD_ROOT)"
   ]
  },
  {
   "cell_type": "markdown",
   "metadata": {},
   "source": [
    "The iris dataset is small, so the data is embedded into this notebook. Write the iris data set into 3 files: training, eval, prediction. Note that the target column has to be the first column in the dataset. Also, the prediction dataset does not have target values. "
   ]
  },
  {
   "cell_type": "code",
   "execution_count": 7,
   "metadata": {
    "codeCollapsed": false,
    "collapsed": false,
    "hiddenCell": false
   },
   "outputs": [
    {
     "name": "stdout",
     "output_type": "stream",
     "text": [
      "Overwriting /content/Downloads/iris_notebook_workspace/train.csv\n"
     ]
    }
   ],
   "source": [
    "%writefile {LOCAL_ROOT}/train.csv\n",
    "Iris-setosa,4,4.6,3.1,1.5,0.2\n",
    "Iris-setosa,20,5.1,3.8,1.5,0.3\n",
    "Iris-setosa,43,4.4,3.2,1.3,0.2\n",
    "Iris-versicolor,88,6.3,2.3,4.4,1.3\n",
    "Iris-versicolor,76,6.6,3,4.4,1.4\n",
    "Iris-versicolor,63,6,2.2,4,1\n",
    "Iris-setosa,47,5.1,3.8,1.6,0.2\n",
    "Iris-virginica,146,6.7,3,5.2,2.3\n",
    "Iris-versicolor,53,6.9,3.1,4.9,1.5\n",
    "Iris-versicolor,71,5.9,3.2,4.8,1.8\n",
    "Iris-virginica,144,6.8,3.2,5.9,2.3\n",
    "Iris-virginica,124,6.3,2.7,4.9,1.8\n",
    "Iris-virginica,122,5.6,2.8,4.9,2\n",
    "Iris-setosa,17,5.4,3.9,1.3,0.4\n",
    "Iris-setosa,7,4.6,3.4,1.4,0.3\n",
    "Iris-versicolor,87,6.7,3.1,4.7,1.5\n",
    "Iris-virginica,131,7.4,2.8,6.1,1.9\n",
    "Iris-setosa,2,4.9,3,1.4,0.2\n",
    "Iris-virginica,147,6.3,2.5,5,1.9\n",
    "Iris-setosa,29,5.2,3.4,1.4,0.2\n",
    "Iris-versicolor,91,5.5,2.6,4.4,1.2\n",
    "Iris-virginica,110,7.2,3.6,6.1,2.5\n",
    "Iris-virginica,121,6.9,3.2,5.7,2.3\n",
    "Iris-setosa,45,5.1,3.8,1.9,0.4\n",
    "Iris-setosa,10,4.9,3.1,1.5,0.1\n",
    "Iris-setosa,36,5,3.2,1.2,0.2\n",
    "Iris-virginica,112,6.4,2.7,5.3,1.9\n",
    "Iris-setosa,46,4.8,3,1.4,0.3\n",
    "Iris-virginica,132,7.9,3.8,6.4,2\n",
    "Iris-versicolor,77,6.8,2.8,4.8,1.4\n",
    "Iris-setosa,6,5.4,3.9,1.7,0.4\n",
    "Iris-versicolor,90,5.5,2.5,4,1.3\n",
    "Iris-virginica,137,6.3,3.4,5.6,2.4\n",
    "Iris-setosa,31,4.8,3.1,1.6,0.2\n",
    "Iris-virginica,120,6,2.2,5,1.5\n",
    "Iris-virginica,138,6.4,3.1,5.5,1.8\n",
    "Iris-setosa,24,5.1,3.3,1.7,0.5\n",
    "Iris-versicolor,96,5.7,3,4.2,1.2\n",
    "Iris-versicolor,68,5.8,2.7,4.1,1\n",
    "Iris-virginica,150,5.9,3,5.1,1.8\n",
    "Iris-setosa,26,5,3,1.6,0.2\n",
    "Iris-versicolor,98,6.2,2.9,4.3,1.3\n",
    "Iris-versicolor,80,5.7,2.6,3.5,1\n",
    "Iris-versicolor,72,6.1,2.8,4,1.3\n",
    "Iris-versicolor,75,6.4,2.9,4.3,1.3\n",
    "Iris-setosa,38,4.9,3.1,1.5,0.1\n",
    "Iris-setosa,35,4.9,3.1,1.5,0.1\n",
    "Iris-versicolor,89,5.6,3,4.1,1.3\n",
    "Iris-versicolor,84,6,2.7,5.1,1.6\n",
    "Iris-versicolor,51,7,3.2,4.7,1.4\n",
    "Iris-virginica,116,6.4,3.2,5.3,2.3\n",
    "Iris-versicolor,54,5.5,2.3,4,1.3\n",
    "Iris-virginica,130,7.2,3,5.8,1.6\n",
    "Iris-virginica,115,5.8,2.8,5.1,2.4\n",
    "Iris-setosa,32,5.4,3.4,1.5,0.4\n",
    "Iris-virginica,104,6.3,2.9,5.6,1.8\n",
    "Iris-versicolor,64,6.1,2.9,4.7,1.4\n",
    "Iris-setosa,18,5.1,3.5,1.4,0.3\n",
    "Iris-versicolor,66,6.7,3.1,4.4,1.4\n",
    "Iris-setosa,15,5.8,4,1.2,0.2\n",
    "Iris-versicolor,52,6.4,3.2,4.5,1.5\n",
    "Iris-virginica,103,7.1,3,5.9,2.1\n",
    "Iris-setosa,9,4.4,2.9,1.4,0.2\n",
    "Iris-versicolor,83,5.8,2.7,3.9,1.2\n",
    "Iris-virginica,135,6.1,2.6,5.6,1.4\n",
    "Iris-virginica,139,6,3,4.8,1.8\n",
    "Iris-versicolor,85,5.4,3,4.5,1.5\n",
    "Iris-virginica,106,7.6,3,6.6,2.1\n",
    "Iris-setosa,27,5,3.4,1.6,0.4\n",
    "Iris-virginica,140,6.9,3.1,5.4,2.1\n",
    "Iris-versicolor,67,5.6,3,4.5,1.5\n",
    "Iris-setosa,12,4.8,3.4,1.6,0.2\n",
    "Iris-versicolor,56,5.7,2.8,4.5,1.3\n",
    "Iris-virginica,113,6.8,3,5.5,2.1\n",
    "Iris-versicolor,62,5.9,3,4.2,1.5\n",
    "Iris-virginica,145,6.7,3.3,5.7,2.5\n",
    "Iris-virginica,111,6.5,3.2,5.1,2\n",
    "Iris-virginica,141,6.7,3.1,5.6,2.4\n",
    "Iris-setosa,34,5.5,4.2,1.4,0.2\n",
    "Iris-versicolor,81,5.5,2.4,3.8,1.1\n",
    "Iris-setosa,8,5,3.4,1.5,0.2\n",
    "Iris-virginica,129,6.4,2.8,5.6,2.1\n",
    "Iris-versicolor,57,6.3,3.3,4.7,1.6\n",
    "Iris-virginica,128,6.1,3,4.9,1.8\n",
    "Iris-virginica,119,7.7,2.6,6.9,2.3\n",
    "Iris-virginica,126,7.2,3.2,6,1.8\n",
    "Iris-versicolor,58,4.9,2.4,3.3,1\n",
    "Iris-virginica,117,6.5,3,5.5,1.8\n",
    "Iris-virginica,127,6.2,2.8,4.8,1.8\n",
    "Iris-setosa,16,5.7,4.4,1.5,0.4\n",
    "Iris-setosa,3,4.7,3.2,1.3,0.2\n",
    "Iris-virginica,108,7.3,2.9,6.3,1.8\n",
    "Iris-virginica,118,7.7,3.8,6.7,2.2\n",
    "Iris-setosa,42,4.5,2.3,1.3,0.3\n",
    "Iris-virginica,142,6.9,3.1,5.1,2.3\n",
    "Iris-setosa,14,4.3,3,1.1,0.1\n",
    "Iris-virginica,134,6.3,2.8,5.1,1.5\n",
    "Iris-versicolor,94,5,2.3,3.3,1\n",
    "Iris-setosa,19,5.7,3.8,1.7,0.3\n",
    "Iris-virginica,133,6.4,2.8,5.6,2.2\n",
    "Iris-virginica,114,5.7,2.5,5,2\n",
    "Iris-versicolor,86,6,3.4,4.5,1.6\n",
    "Iris-versicolor,93,5.8,2.6,4,1.2\n",
    "Iris-versicolor,92,6.1,3,4.6,1.4\n",
    "Iris-virginica,109,6.7,2.5,5.8,1.8\n",
    "Iris-virginica,102,5.8,2.7,5.1,1.9\n",
    "Iris-setosa,41,5,3.5,1.3,0.3\n",
    "Iris-versicolor,60,5.2,2.7,3.9,1.4\n",
    "Iris-virginica,105,6.5,3,5.8,2.2\n",
    "Iris-versicolor,65,5.6,2.9,3.6,1.3\n",
    "Iris-setosa,28,5.2,3.5,1.5,0.2\n",
    "Iris-versicolor,82,5.5,2.4,3.7,1\n",
    "Iris-setosa,25,4.8,3.4,1.9,0.2\n",
    "Iris-versicolor,79,6,2.9,4.5,1.5\n",
    "Iris-setosa,1,5.1,3.5,1.4,0.2\n",
    "Iris-versicolor,61,5,2,3.5,1\n",
    "Iris-virginica,149,6.2,3.4,5.4,2.3\n",
    "Iris-setosa,48,4.6,3.2,1.4,0.2\n",
    "Iris-setosa,22,5.1,3.7,1.5,0.4\n",
    "Iris-setosa,30,4.7,3.2,1.6,0.2"
   ]
  },
  {
   "cell_type": "code",
   "execution_count": 8,
   "metadata": {
    "codeCollapsed": false,
    "collapsed": false,
    "hiddenCell": false
   },
   "outputs": [
    {
     "name": "stdout",
     "output_type": "stream",
     "text": [
      "Overwriting /content/Downloads/iris_notebook_workspace/eval.csv\n"
     ]
    }
   ],
   "source": [
    "%writefile {LOCAL_ROOT}/eval.csv\n",
    "Iris-virginica,107,4.9,2.5,4.5,1.7\n",
    "Iris-versicolor,100,5.7,2.8,4.1,1.3\n",
    "Iris-versicolor,99,5.1,2.5,3,1.1\n",
    "Iris-setosa,13,4.8,3,1.4,0.1\n",
    "Iris-versicolor,70,5.6,2.5,3.9,1.1\n",
    "Iris-setosa,11,5.4,3.7,1.5,0.2\n",
    "Iris-setosa,37,5.5,3.5,1.3,0.2\n",
    "Iris-versicolor,69,6.2,2.2,4.5,1.5\n",
    "Iris-setosa,40,5.1,3.4,1.5,0.2\n",
    "Iris-virginica,101,6.3,3.3,6,2.5\n",
    "Iris-setosa,39,4.4,3,1.3,0.2\n",
    "Iris-versicolor,74,6.1,2.8,4.7,1.2\n",
    "Iris-versicolor,97,5.7,2.9,4.2,1.3\n",
    "Iris-setosa,50,5,3.3,1.4,0.2\n",
    "Iris-versicolor,95,5.6,2.7,4.2,1.3\n",
    "Iris-setosa,44,5,3.5,1.6,0.6\n",
    "Iris-virginica,123,7.7,2.8,6.7,2\n",
    "Iris-setosa,23,4.6,3.6,1,0.2\n",
    "Iris-versicolor,59,6.6,2.9,4.6,1.3\n",
    "Iris-virginica,148,6.5,3,5.2,2\n",
    "Iris-versicolor,55,6.5,2.8,4.6,1.5\n",
    "Iris-setosa,49,5.3,3.7,1.5,0.2\n",
    "Iris-versicolor,78,6.7,3,5,1.7\n",
    "Iris-versicolor,73,6.3,2.5,4.9,1.5\n",
    "Iris-virginica,136,7.7,3,6.1,2.3\n",
    "Iris-setosa,33,5.2,4.1,1.5,0.1\n",
    "Iris-virginica,125,6.7,3.3,5.7,2.1\n",
    "Iris-virginica,143,5.8,2.7,5.1,1.9\n",
    "Iris-setosa,21,5.4,3.4,1.7,0.2\n",
    "Iris-setosa,5,5,3.6,1.4,0.2"
   ]
  },
  {
   "cell_type": "code",
   "execution_count": 9,
   "metadata": {
    "collapsed": false
   },
   "outputs": [
    {
     "name": "stdout",
     "output_type": "stream",
     "text": [
      "Overwriting /content/Downloads/iris_notebook_workspace/predict.csv\n"
     ]
    }
   ],
   "source": [
    "%writefile {LOCAL_ROOT}/predict.csv\n",
    "107,4.9,2.5,4.5,1.7\n",
    "100,5.7,2.8,4.1,1.3\n",
    "99,5.1,2.5,3,1.1\n",
    "13,4.8,3,1.4,0.1\n",
    "70,5.6,2.5,3.9,1.1\n",
    "11,5.4,3.7,1.5,0.2\n",
    "37,5.5,3.5,1.3,0.2\n",
    "69,6.2,2.2,4.5,1.5\n",
    "40,5.1,3.4,1.5,0.2\n",
    "101,6.3,3.3,6,2.5\n",
    "39,4.4,3,1.3,0.2\n",
    "74,6.1,2.8,4.7,1.2\n",
    "97,5.7,2.9,4.2,1.3\n",
    "50,5,3.3,1.4,0.2\n",
    "95,5.6,2.7,4.2,1.3\n",
    "44,5,3.5,1.6,0.6\n",
    "123,7.7,2.8,6.7,2\n",
    "23,4.6,3.6,1,0.2\n",
    "59,6.6,2.9,4.6,1.3\n",
    "148,6.5,3,5.2,2\n",
    "55,6.5,2.8,4.6,1.5\n",
    "49,5.3,3.7,1.5,0.2\n",
    "78,6.7,3,5,1.7\n",
    "73,6.3,2.5,4.9,1.5\n",
    "136,7.7,3,6.1,2.3\n",
    "33,5.2,4.1,1.5,0.1\n",
    "125,6.7,3.3,5.7,2.1\n",
    "143,5.8,2.7,5.1,1.9\n",
    "21,5.4,3.4,1.7,0.2\n",
    "5,5,3.6,1.4,0.2"
   ]
  },
  {
   "cell_type": "markdown",
   "metadata": {},
   "source": [
    "<a name=\"local_preprocessing\"></a>\n",
    "Local preprocessing starting from csv files\n",
    "====="
   ]
  },
  {
   "cell_type": "markdown",
   "metadata": {},
   "source": [
    "A schema file is used to describe each column of the csv files. It is assumed that the train, eval, and prediction csv files all have the same schema, but the prediction file is allowed to have a missing target column. The format of the  schema file is a valid BigQuery table schema file. This allows BigQuery to be used later in cloud preprocessing. Only 3 BigQuery types are supported: STRING (for categorical columns) and INTEGER and FLOAT (for numerical columns)."
   ]
  },
  {
   "cell_type": "code",
   "execution_count": 10,
   "metadata": {
    "collapsed": false
   },
   "outputs": [
    {
     "name": "stdout",
     "output_type": "stream",
     "text": [
      "Overwriting /content/Downloads/iris_notebook_workspace/schema.json\n"
     ]
    }
   ],
   "source": [
    "%writefile {LOCAL_ROOT}/schema.json\n",
    "[\n",
    "    {\n",
    "        \"mode\": \"NULLABLE\",\n",
    "        \"name\": \"flower\",\n",
    "        \"type\": \"STRING\"\n",
    "    },\n",
    "    {\n",
    "        \"mode\": \"REQUIRED\",\n",
    "        \"name\": \"key\",\n",
    "        \"type\": \"INTEGER\"\n",
    "    },\n",
    "    {\n",
    "        \"mode\": \"NULLABLE\",\n",
    "        \"name\": \"sepal_length\",\n",
    "        \"type\": \"FLOAT\"\n",
    "    },\n",
    "    {\n",
    "        \"mode\": \"NULLABLE\",\n",
    "        \"name\": \"sepal_width\",\n",
    "        \"type\": \"FLOAT\"\n",
    "    },\n",
    "    {\n",
    "        \"mode\": \"NULLABLE\",\n",
    "        \"name\": \"petal_length\",\n",
    "        \"type\": \"FLOAT\"\n",
    "    },\n",
    "    {\n",
    "        \"mode\": \"NULLABLE\",\n",
    "        \"name\": \"petal_width\",\n",
    "        \"type\": \"FLOAT\"\n",
    "    }   \n",
    "]"
   ]
  },
  {
   "cell_type": "code",
   "execution_count": 11,
   "metadata": {
    "collapsed": false
   },
   "outputs": [
    {
     "name": "stdout",
     "output_type": "stream",
     "text": [
      "rm: cannot remove '/content/Downloads/iris_notebook_workspace/preprocess': Is a directory\r\n"
     ]
    }
   ],
   "source": [
    "!rm -f {LOCAL_ROOT}/preprocess"
   ]
  },
  {
   "cell_type": "code",
   "execution_count": 12,
   "metadata": {
    "collapsed": false
   },
   "outputs": [
    {
     "name": "stdout",
     "output_type": "stream",
     "text": [
      "Starting local preprocessing.\n",
      "Local preprocessing done.\n"
     ]
    }
   ],
   "source": [
    "sd.local_preprocess(\n",
    "  input_file_pattern=os.path.join(LOCAL_ROOT, 'train.*'),\n",
    "  output_dir=os.path.join(LOCAL_ROOT, 'preprocess'),\n",
    "  schema_file=os.path.join(LOCAL_ROOT, 'schema.json'),\n",
    ")"
   ]
  },
  {
   "cell_type": "markdown",
   "metadata": {},
   "source": [
    "The output of preprocessing is a numerical_analysis file that contains analysis from the numerical columns, and a vocab file from each categorical column. The files preoduced by preprocessing are consumed in training, and you should not have to worry about these files. Just for fun, lets look at them."
   ]
  },
  {
   "cell_type": "code",
   "execution_count": 13,
   "metadata": {
    "collapsed": false
   },
   "outputs": [
    {
     "name": "stdout",
     "output_type": "stream",
     "text": [
      "numerical_analysis.json  schema.json  vocab_flower.csv\r\n"
     ]
    }
   ],
   "source": [
    "!ls  {LOCAL_ROOT}/preprocess"
   ]
  },
  {
   "cell_type": "code",
   "execution_count": 14,
   "metadata": {
    "collapsed": false
   },
   "outputs": [
    {
     "name": "stdout",
     "output_type": "stream",
     "text": [
      "{\r\n",
      "  \"sepal_width\": {\r\n",
      "    \"max\": 4.4,\r\n",
      "    \"mean\": 3.050833333333332,\r\n",
      "    \"min\": 2.0\r\n",
      "  },\r\n",
      "  \"petal_width\": {\r\n",
      "    \"max\": 2.5,\r\n",
      "    \"mean\": 1.2324999999999995,\r\n",
      "    \"min\": 0.1\r\n",
      "  },\r\n",
      "  \"sepal_length\": {\r\n",
      "    \"max\": 7.9,\r\n",
      "    \"mean\": 5.867500000000002,\r\n",
      "    \"min\": 4.3\r\n",
      "  },\r\n",
      "  \"key\": {\r\n",
      "    \"max\": 150.0,\r\n",
      "    \"mean\": 76.73333333333333,\r\n",
      "    \"min\": 1.0\r\n",
      "  },\r\n",
      "  \"petal_length\": {\r\n",
      "    \"max\": 6.9,\r\n",
      "    \"mean\": 3.830833333333335,\r\n",
      "    \"min\": 1.1\r\n",
      "  }\r\n",
      "}"
     ]
    }
   ],
   "source": [
    "!cat {LOCAL_ROOT}/preprocess/numerical_analysis.json"
   ]
  },
  {
   "cell_type": "code",
   "execution_count": 15,
   "metadata": {
    "collapsed": false
   },
   "outputs": [
    {
     "name": "stdout",
     "output_type": "stream",
     "text": [
      "[\r\n",
      "    {\r\n",
      "        \"mode\": \"NULLABLE\",\r\n",
      "        \"name\": \"flower\",\r\n",
      "        \"type\": \"STRING\"\r\n",
      "    },\r\n",
      "    {\r\n",
      "        \"mode\": \"REQUIRED\",\r\n",
      "        \"name\": \"key\",\r\n",
      "        \"type\": \"INTEGER\"\r\n",
      "    },\r\n",
      "    {\r\n",
      "        \"mode\": \"NULLABLE\",\r\n",
      "        \"name\": \"sepal_length\",\r\n",
      "        \"type\": \"FLOAT\"\r\n",
      "    },\r\n",
      "    {\r\n",
      "        \"mode\": \"NULLABLE\",\r\n",
      "        \"name\": \"sepal_width\",\r\n",
      "        \"type\": \"FLOAT\"\r\n",
      "    },\r\n",
      "    {\r\n",
      "        \"mode\": \"NULLABLE\",\r\n",
      "        \"name\": \"petal_length\",\r\n",
      "        \"type\": \"FLOAT\"\r\n",
      "    },\r\n",
      "    {\r\n",
      "        \"mode\": \"NULLABLE\",\r\n",
      "        \"name\": \"petal_width\",\r\n",
      "        \"type\": \"FLOAT\"\r\n",
      "    }   \r\n",
      "]"
     ]
    }
   ],
   "source": [
    "!cat {LOCAL_ROOT}/preprocess/schema.json"
   ]
  },
  {
   "cell_type": "code",
   "execution_count": 16,
   "metadata": {
    "collapsed": false
   },
   "outputs": [
    {
     "name": "stdout",
     "output_type": "stream",
     "text": [
      "Iris-virginica\r\n",
      "Iris-setosa\r\n",
      "Iris-versicolor"
     ]
    }
   ],
   "source": [
    "!cat {LOCAL_ROOT}/preprocess/vocab_flower.csv"
   ]
  },
  {
   "cell_type": "markdown",
   "metadata": {},
   "source": [
    "<a name=\"local_training\"></a>\n",
    "Local Training\n",
    "==========="
   ]
  },
  {
   "cell_type": "markdown",
   "metadata": {},
   "source": [
    "The files in the output folder of preprocessing is consumed by the trainer. The structured data package will automatically pick transforms to perform on each column of data depending on the problem and the data type. Lets first run the trainer with all the defaults. When using all the defaults the key_column parameter must be used to tell which column is the key column."
   ]
  },
  {
   "cell_type": "code",
   "execution_count": 25,
   "metadata": {
    "collapsed": false
   },
   "outputs": [],
   "source": [
    "!rm -fr {LOCAL_ROOT}/training"
   ]
  },
  {
   "cell_type": "code",
   "execution_count": 26,
   "metadata": {
    "collapsed": false
   },
   "outputs": [
    {
     "name": "stdout",
     "output_type": "stream",
     "text": [
      "Starting local training.\n",
      "INFO:tensorflow:Using config: {'_save_checkpoints_secs': 600, '_num_ps_replicas': 0, '_keep_checkpoint_max': 5, '_tf_random_seed': None, '_task_type': None, '_environment': 'local', '_is_chief': True, '_cluster_spec': <tensorflow.python.training.server_lib.ClusterSpec object at 0x7f0c250850d0>, '_tf_config': gpu_options {\n",
      "  per_process_gpu_memory_fraction: 1.0\n",
      "}\n",
      ", '_task_id': 0, '_save_summary_steps': 100, '_save_checkpoints_steps': None, '_evaluation_master': '', '_keep_checkpoint_every_n_hours': 10000, '_master': ''}\n"
     ]
    },
    {
     "name": "stderr",
     "output_type": "stream",
     "text": [
      "INFO:tensorflow:Using config: {'_save_checkpoints_secs': 600, '_num_ps_replicas': 0, '_keep_checkpoint_max': 5, '_tf_random_seed': None, '_task_type': None, '_environment': 'local', '_is_chief': True, '_cluster_spec': <tensorflow.python.training.server_lib.ClusterSpec object at 0x7f0c250850d0>, '_tf_config': gpu_options {\n",
      "  per_process_gpu_memory_fraction: 1.0\n",
      "}\n",
      ", '_task_id': 0, '_save_summary_steps': 100, '_save_checkpoints_steps': None, '_evaluation_master': '', '_keep_checkpoint_every_n_hours': 10000, '_master': ''}\n"
     ]
    },
    {
     "name": "stdout",
     "output_type": "stream",
     "text": [
      "WARNING:tensorflow:From /usr/local/lib/python2.7/dist-packages/tensorflow/contrib/learn/python/learn/monitors.py:322: __init__ (from tensorflow.contrib.learn.python.learn.monitors) is deprecated and will be removed after 2016-12-05.\n",
      "Instructions for updating:\n",
      "Monitors are deprecated. Please use tf.train.SessionRunHook.\n"
     ]
    },
    {
     "name": "stderr",
     "output_type": "stream",
     "text": [
      "WARNING:tensorflow:From /usr/local/lib/python2.7/dist-packages/tensorflow/contrib/learn/python/learn/monitors.py:322: __init__ (from tensorflow.contrib.learn.python.learn.monitors) is deprecated and will be removed after 2016-12-05.\n",
      "Instructions for updating:\n",
      "Monitors are deprecated. Please use tf.train.SessionRunHook.\n"
     ]
    },
    {
     "name": "stdout",
     "output_type": "stream",
     "text": [
      "WARNING:tensorflow:From /usr/local/lib/python2.7/dist-packages/tensorflow/contrib/learn/python/learn/monitors.py:322: __init__ (from tensorflow.contrib.learn.python.learn.monitors) is deprecated and will be removed after 2016-12-05.\n",
      "Instructions for updating:\n",
      "Monitors are deprecated. Please use tf.train.SessionRunHook.\n"
     ]
    },
    {
     "name": "stderr",
     "output_type": "stream",
     "text": [
      "WARNING:tensorflow:From /usr/local/lib/python2.7/dist-packages/tensorflow/contrib/learn/python/learn/monitors.py:322: __init__ (from tensorflow.contrib.learn.python.learn.monitors) is deprecated and will be removed after 2016-12-05.\n",
      "Instructions for updating:\n",
      "Monitors are deprecated. Please use tf.train.SessionRunHook.\n"
     ]
    },
    {
     "name": "stdout",
     "output_type": "stream",
     "text": [
      "WARNING:tensorflow:From /usr/local/lib/python2.7/dist-packages/datalab_solutions/structured_data/trainer/util.py:333: string_to_index (from tensorflow.contrib.lookup.lookup_ops) is deprecated and will be removed after 2017-01-07.\n",
      "Instructions for updating:\n",
      "This op will be removed after the deprecation date. Please switch to string_to_index_table_from_tensor and call the lookup method of the returned table.\n"
     ]
    },
    {
     "name": "stderr",
     "output_type": "stream",
     "text": [
      "WARNING:tensorflow:From /usr/local/lib/python2.7/dist-packages/datalab_solutions/structured_data/trainer/util.py:333: string_to_index (from tensorflow.contrib.lookup.lookup_ops) is deprecated and will be removed after 2017-01-07.\n",
      "Instructions for updating:\n",
      "This op will be removed after the deprecation date. Please switch to string_to_index_table_from_tensor and call the lookup method of the returned table.\n"
     ]
    },
    {
     "name": "stdout",
     "output_type": "stream",
     "text": [
      "WARNING:tensorflow:From /usr/local/lib/python2.7/dist-packages/tensorflow/contrib/learn/python/learn/estimators/head.py:1362: scalar_summary (from tensorflow.python.ops.logging_ops) is deprecated and will be removed after 2016-11-30.\n",
      "Instructions for updating:\n",
      "Please switch to tf.summary.scalar. Note that tf.summary.scalar uses the node name instead of the tag. This means that TensorFlow will automatically de-duplicate summary names based on the scope they are created in. Also, passing a tensor or list of tags to a scalar summary op is no longer supported.\n"
     ]
    },
    {
     "name": "stderr",
     "output_type": "stream",
     "text": [
      "WARNING:tensorflow:From /usr/local/lib/python2.7/dist-packages/tensorflow/contrib/learn/python/learn/estimators/head.py:1362: scalar_summary (from tensorflow.python.ops.logging_ops) is deprecated and will be removed after 2016-11-30.\n",
      "Instructions for updating:\n",
      "Please switch to tf.summary.scalar. Note that tf.summary.scalar uses the node name instead of the tag. This means that TensorFlow will automatically de-duplicate summary names based on the scope they are created in. Also, passing a tensor or list of tags to a scalar summary op is no longer supported.\n"
     ]
    },
    {
     "name": "stdout",
     "output_type": "stream",
     "text": [
      "INFO:tensorflow:Create CheckpointSaverHook.\n"
     ]
    },
    {
     "name": "stderr",
     "output_type": "stream",
     "text": [
      "INFO:tensorflow:Create CheckpointSaverHook.\n"
     ]
    },
    {
     "name": "stdout",
     "output_type": "stream",
     "text": [
      "INFO:tensorflow:Saving checkpoints for 1 into /content/Downloads/iris_notebook_workspace/training/train/model.ckpt.\n"
     ]
    },
    {
     "name": "stderr",
     "output_type": "stream",
     "text": [
      "INFO:tensorflow:Saving checkpoints for 1 into /content/Downloads/iris_notebook_workspace/training/train/model.ckpt.\n"
     ]
    },
    {
     "name": "stdout",
     "output_type": "stream",
     "text": [
      "INFO:tensorflow:loss = 1.45118, step = 1\n"
     ]
    },
    {
     "name": "stderr",
     "output_type": "stream",
     "text": [
      "INFO:tensorflow:loss = 1.45118, step = 1\n"
     ]
    },
    {
     "name": "stdout",
     "output_type": "stream",
     "text": [
      "WARNING:tensorflow:From /usr/local/lib/python2.7/dist-packages/datalab_solutions/structured_data/trainer/util.py:333: string_to_index (from tensorflow.contrib.lookup.lookup_ops) is deprecated and will be removed after 2017-01-07.\n",
      "Instructions for updating:\n",
      "This op will be removed after the deprecation date. Please switch to string_to_index_table_from_tensor and call the lookup method of the returned table.\n"
     ]
    },
    {
     "name": "stderr",
     "output_type": "stream",
     "text": [
      "WARNING:tensorflow:From /usr/local/lib/python2.7/dist-packages/datalab_solutions/structured_data/trainer/util.py:333: string_to_index (from tensorflow.contrib.lookup.lookup_ops) is deprecated and will be removed after 2017-01-07.\n",
      "Instructions for updating:\n",
      "This op will be removed after the deprecation date. Please switch to string_to_index_table_from_tensor and call the lookup method of the returned table.\n"
     ]
    },
    {
     "name": "stdout",
     "output_type": "stream",
     "text": [
      "WARNING:tensorflow:From /usr/local/lib/python2.7/dist-packages/datalab_solutions/structured_data/trainer/task.py:167: index_to_string (from tensorflow.contrib.lookup.lookup_ops) is deprecated and will be removed after 2017-01-07.\n",
      "Instructions for updating:\n",
      "This op will be removed after the deprecation date. Please switch to index_to_string_table_from_tensor and call the lookup method of the returned table.\n"
     ]
    },
    {
     "name": "stderr",
     "output_type": "stream",
     "text": [
      "WARNING:tensorflow:From /usr/local/lib/python2.7/dist-packages/datalab_solutions/structured_data/trainer/task.py:167: index_to_string (from tensorflow.contrib.lookup.lookup_ops) is deprecated and will be removed after 2017-01-07.\n",
      "Instructions for updating:\n",
      "This op will be removed after the deprecation date. Please switch to index_to_string_table_from_tensor and call the lookup method of the returned table.\n"
     ]
    },
    {
     "name": "stdout",
     "output_type": "stream",
     "text": [
      "WARNING:tensorflow:From /usr/local/lib/python2.7/dist-packages/datalab_solutions/structured_data/trainer/task.py:181: index_to_string (from tensorflow.contrib.lookup.lookup_ops) is deprecated and will be removed after 2017-01-07.\n",
      "Instructions for updating:\n",
      "This op will be removed after the deprecation date. Please switch to index_to_string_table_from_tensor and call the lookup method of the returned table.\n"
     ]
    },
    {
     "name": "stderr",
     "output_type": "stream",
     "text": [
      "WARNING:tensorflow:From /usr/local/lib/python2.7/dist-packages/datalab_solutions/structured_data/trainer/task.py:181: index_to_string (from tensorflow.contrib.lookup.lookup_ops) is deprecated and will be removed after 2017-01-07.\n",
      "Instructions for updating:\n",
      "This op will be removed after the deprecation date. Please switch to index_to_string_table_from_tensor and call the lookup method of the returned table.\n"
     ]
    },
    {
     "name": "stdout",
     "output_type": "stream",
     "text": [
      "INFO:tensorflow:/content/Downloads/iris_notebook_workspace/training/intermediate_models/00000001-tmp/export is not in all_model_checkpoint_paths. Manually adding it.\n"
     ]
    },
    {
     "name": "stderr",
     "output_type": "stream",
     "text": [
      "INFO:tensorflow:/content/Downloads/iris_notebook_workspace/training/intermediate_models/00000001-tmp/export is not in all_model_checkpoint_paths. Manually adding it.\n"
     ]
    },
    {
     "name": "stdout",
     "output_type": "stream",
     "text": [
      "INFO:tensorflow:global_step/sec: 44.2898\n"
     ]
    },
    {
     "name": "stderr",
     "output_type": "stream",
     "text": [
      "INFO:tensorflow:global_step/sec: 44.2898\n"
     ]
    },
    {
     "name": "stdout",
     "output_type": "stream",
     "text": [
      "INFO:tensorflow:loss = 0.04501, step = 101\n"
     ]
    },
    {
     "name": "stderr",
     "output_type": "stream",
     "text": [
      "INFO:tensorflow:loss = 0.04501, step = 101\n"
     ]
    },
    {
     "name": "stdout",
     "output_type": "stream",
     "text": [
      "INFO:tensorflow:global_step/sec: 51.9535\n"
     ]
    },
    {
     "name": "stderr",
     "output_type": "stream",
     "text": [
      "INFO:tensorflow:global_step/sec: 51.9535\n"
     ]
    },
    {
     "name": "stdout",
     "output_type": "stream",
     "text": [
      "INFO:tensorflow:loss = 0.0479904, step = 201\n"
     ]
    },
    {
     "name": "stderr",
     "output_type": "stream",
     "text": [
      "INFO:tensorflow:loss = 0.0479904, step = 201\n"
     ]
    },
    {
     "name": "stdout",
     "output_type": "stream",
     "text": [
      "INFO:tensorflow:Saving checkpoints for 250 into /content/Downloads/iris_notebook_workspace/training/train/model.ckpt.\n"
     ]
    },
    {
     "name": "stderr",
     "output_type": "stream",
     "text": [
      "INFO:tensorflow:Saving checkpoints for 250 into /content/Downloads/iris_notebook_workspace/training/train/model.ckpt.\n"
     ]
    },
    {
     "name": "stdout",
     "output_type": "stream",
     "text": [
      "WARNING:tensorflow:From /usr/local/lib/python2.7/dist-packages/datalab_solutions/structured_data/trainer/util.py:333: string_to_index (from tensorflow.contrib.lookup.lookup_ops) is deprecated and will be removed after 2017-01-07.\n",
      "Instructions for updating:\n",
      "This op will be removed after the deprecation date. Please switch to string_to_index_table_from_tensor and call the lookup method of the returned table.\n"
     ]
    },
    {
     "name": "stderr",
     "output_type": "stream",
     "text": [
      "WARNING:tensorflow:From /usr/local/lib/python2.7/dist-packages/datalab_solutions/structured_data/trainer/util.py:333: string_to_index (from tensorflow.contrib.lookup.lookup_ops) is deprecated and will be removed after 2017-01-07.\n",
      "Instructions for updating:\n",
      "This op will be removed after the deprecation date. Please switch to string_to_index_table_from_tensor and call the lookup method of the returned table.\n"
     ]
    },
    {
     "name": "stdout",
     "output_type": "stream",
     "text": [
      "WARNING:tensorflow:From /usr/local/lib/python2.7/dist-packages/datalab_solutions/structured_data/trainer/task.py:167: index_to_string (from tensorflow.contrib.lookup.lookup_ops) is deprecated and will be removed after 2017-01-07.\n",
      "Instructions for updating:\n",
      "This op will be removed after the deprecation date. Please switch to index_to_string_table_from_tensor and call the lookup method of the returned table.\n"
     ]
    },
    {
     "name": "stderr",
     "output_type": "stream",
     "text": [
      "WARNING:tensorflow:From /usr/local/lib/python2.7/dist-packages/datalab_solutions/structured_data/trainer/task.py:167: index_to_string (from tensorflow.contrib.lookup.lookup_ops) is deprecated and will be removed after 2017-01-07.\n",
      "Instructions for updating:\n",
      "This op will be removed after the deprecation date. Please switch to index_to_string_table_from_tensor and call the lookup method of the returned table.\n"
     ]
    },
    {
     "name": "stdout",
     "output_type": "stream",
     "text": [
      "WARNING:tensorflow:From /usr/local/lib/python2.7/dist-packages/datalab_solutions/structured_data/trainer/task.py:181: index_to_string (from tensorflow.contrib.lookup.lookup_ops) is deprecated and will be removed after 2017-01-07.\n",
      "Instructions for updating:\n",
      "This op will be removed after the deprecation date. Please switch to index_to_string_table_from_tensor and call the lookup method of the returned table.\n"
     ]
    },
    {
     "name": "stderr",
     "output_type": "stream",
     "text": [
      "WARNING:tensorflow:From /usr/local/lib/python2.7/dist-packages/datalab_solutions/structured_data/trainer/task.py:181: index_to_string (from tensorflow.contrib.lookup.lookup_ops) is deprecated and will be removed after 2017-01-07.\n",
      "Instructions for updating:\n",
      "This op will be removed after the deprecation date. Please switch to index_to_string_table_from_tensor and call the lookup method of the returned table.\n"
     ]
    },
    {
     "name": "stdout",
     "output_type": "stream",
     "text": [
      "INFO:tensorflow:/content/Downloads/iris_notebook_workspace/training/intermediate_models/00000250-tmp/export is not in all_model_checkpoint_paths. Manually adding it.\n"
     ]
    },
    {
     "name": "stderr",
     "output_type": "stream",
     "text": [
      "INFO:tensorflow:/content/Downloads/iris_notebook_workspace/training/intermediate_models/00000250-tmp/export is not in all_model_checkpoint_paths. Manually adding it.\n"
     ]
    },
    {
     "name": "stdout",
     "output_type": "stream",
     "text": [
      "INFO:tensorflow:Loss for final step: 0.0374917.\n"
     ]
    },
    {
     "name": "stderr",
     "output_type": "stream",
     "text": [
      "INFO:tensorflow:Loss for final step: 0.0374917.\n"
     ]
    },
    {
     "name": "stdout",
     "output_type": "stream",
     "text": [
      "WARNING:tensorflow:From /usr/local/lib/python2.7/dist-packages/datalab_solutions/structured_data/trainer/util.py:333: string_to_index (from tensorflow.contrib.lookup.lookup_ops) is deprecated and will be removed after 2017-01-07.\n",
      "Instructions for updating:\n",
      "This op will be removed after the deprecation date. Please switch to string_to_index_table_from_tensor and call the lookup method of the returned table.\n"
     ]
    },
    {
     "name": "stderr",
     "output_type": "stream",
     "text": [
      "WARNING:tensorflow:From /usr/local/lib/python2.7/dist-packages/datalab_solutions/structured_data/trainer/util.py:333: string_to_index (from tensorflow.contrib.lookup.lookup_ops) is deprecated and will be removed after 2017-01-07.\n",
      "Instructions for updating:\n",
      "This op will be removed after the deprecation date. Please switch to string_to_index_table_from_tensor and call the lookup method of the returned table.\n"
     ]
    },
    {
     "name": "stdout",
     "output_type": "stream",
     "text": [
      "WARNING:tensorflow:From /usr/local/lib/python2.7/dist-packages/tensorflow/contrib/learn/python/learn/estimators/head.py:1362: scalar_summary (from tensorflow.python.ops.logging_ops) is deprecated and will be removed after 2016-11-30.\n",
      "Instructions for updating:\n",
      "Please switch to tf.summary.scalar. Note that tf.summary.scalar uses the node name instead of the tag. This means that TensorFlow will automatically de-duplicate summary names based on the scope they are created in. Also, passing a tensor or list of tags to a scalar summary op is no longer supported.\n"
     ]
    },
    {
     "name": "stderr",
     "output_type": "stream",
     "text": [
      "WARNING:tensorflow:From /usr/local/lib/python2.7/dist-packages/tensorflow/contrib/learn/python/learn/estimators/head.py:1362: scalar_summary (from tensorflow.python.ops.logging_ops) is deprecated and will be removed after 2016-11-30.\n",
      "Instructions for updating:\n",
      "Please switch to tf.summary.scalar. Note that tf.summary.scalar uses the node name instead of the tag. This means that TensorFlow will automatically de-duplicate summary names based on the scope they are created in. Also, passing a tensor or list of tags to a scalar summary op is no longer supported.\n"
     ]
    },
    {
     "name": "stdout",
     "output_type": "stream",
     "text": [
      "WARNING:tensorflow:Please specify metrics using MetricSpec. Using bare functions or (key, fn) tuples is deprecated and support for it will be removed on Oct 1, 2016.\n"
     ]
    },
    {
     "name": "stderr",
     "output_type": "stream",
     "text": [
      "WARNING:tensorflow:Please specify metrics using MetricSpec. Using bare functions or (key, fn) tuples is deprecated and support for it will be removed on Oct 1, 2016.\n"
     ]
    },
    {
     "name": "stdout",
     "output_type": "stream",
     "text": [
      "INFO:tensorflow:Starting evaluation at 2017-02-16-18:04:11\n"
     ]
    },
    {
     "name": "stderr",
     "output_type": "stream",
     "text": [
      "INFO:tensorflow:Starting evaluation at 2017-02-16-18:04:11\n"
     ]
    },
    {
     "name": "stdout",
     "output_type": "stream",
     "text": [
      "INFO:tensorflow:Evaluation [1/100]\n"
     ]
    },
    {
     "name": "stderr",
     "output_type": "stream",
     "text": [
      "INFO:tensorflow:Evaluation [1/100]\n"
     ]
    },
    {
     "name": "stdout",
     "output_type": "stream",
     "text": [
      "INFO:tensorflow:Evaluation [2/100]\n"
     ]
    },
    {
     "name": "stderr",
     "output_type": "stream",
     "text": [
      "INFO:tensorflow:Evaluation [2/100]\n"
     ]
    },
    {
     "name": "stdout",
     "output_type": "stream",
     "text": [
      "INFO:tensorflow:Evaluation [3/100]\n"
     ]
    },
    {
     "name": "stderr",
     "output_type": "stream",
     "text": [
      "INFO:tensorflow:Evaluation [3/100]\n"
     ]
    },
    {
     "name": "stdout",
     "output_type": "stream",
     "text": [
      "INFO:tensorflow:Evaluation [4/100]\n"
     ]
    },
    {
     "name": "stderr",
     "output_type": "stream",
     "text": [
      "INFO:tensorflow:Evaluation [4/100]\n"
     ]
    },
    {
     "name": "stdout",
     "output_type": "stream",
     "text": [
      "INFO:tensorflow:Evaluation [5/100]\n"
     ]
    },
    {
     "name": "stderr",
     "output_type": "stream",
     "text": [
      "INFO:tensorflow:Evaluation [5/100]\n"
     ]
    },
    {
     "name": "stdout",
     "output_type": "stream",
     "text": [
      "INFO:tensorflow:Evaluation [6/100]\n"
     ]
    },
    {
     "name": "stderr",
     "output_type": "stream",
     "text": [
      "INFO:tensorflow:Evaluation [6/100]\n"
     ]
    },
    {
     "name": "stdout",
     "output_type": "stream",
     "text": [
      "INFO:tensorflow:Evaluation [7/100]\n"
     ]
    },
    {
     "name": "stderr",
     "output_type": "stream",
     "text": [
      "INFO:tensorflow:Evaluation [7/100]\n"
     ]
    },
    {
     "name": "stdout",
     "output_type": "stream",
     "text": [
      "INFO:tensorflow:Evaluation [8/100]\n"
     ]
    },
    {
     "name": "stderr",
     "output_type": "stream",
     "text": [
      "INFO:tensorflow:Evaluation [8/100]\n"
     ]
    },
    {
     "name": "stdout",
     "output_type": "stream",
     "text": [
      "INFO:tensorflow:Evaluation [9/100]\n"
     ]
    },
    {
     "name": "stderr",
     "output_type": "stream",
     "text": [
      "INFO:tensorflow:Evaluation [9/100]\n"
     ]
    },
    {
     "name": "stdout",
     "output_type": "stream",
     "text": [
      "INFO:tensorflow:Evaluation [10/100]\n"
     ]
    },
    {
     "name": "stderr",
     "output_type": "stream",
     "text": [
      "INFO:tensorflow:Evaluation [10/100]\n"
     ]
    },
    {
     "name": "stdout",
     "output_type": "stream",
     "text": [
      "INFO:tensorflow:Evaluation [11/100]\n"
     ]
    },
    {
     "name": "stderr",
     "output_type": "stream",
     "text": [
      "INFO:tensorflow:Evaluation [11/100]\n"
     ]
    },
    {
     "name": "stdout",
     "output_type": "stream",
     "text": [
      "INFO:tensorflow:Evaluation [12/100]\n"
     ]
    },
    {
     "name": "stderr",
     "output_type": "stream",
     "text": [
      "INFO:tensorflow:Evaluation [12/100]\n"
     ]
    },
    {
     "name": "stdout",
     "output_type": "stream",
     "text": [
      "INFO:tensorflow:Evaluation [13/100]\n"
     ]
    },
    {
     "name": "stderr",
     "output_type": "stream",
     "text": [
      "INFO:tensorflow:Evaluation [13/100]\n"
     ]
    },
    {
     "name": "stdout",
     "output_type": "stream",
     "text": [
      "INFO:tensorflow:Evaluation [14/100]\n"
     ]
    },
    {
     "name": "stderr",
     "output_type": "stream",
     "text": [
      "INFO:tensorflow:Evaluation [14/100]\n"
     ]
    },
    {
     "name": "stdout",
     "output_type": "stream",
     "text": [
      "INFO:tensorflow:Evaluation [15/100]\n"
     ]
    },
    {
     "name": "stderr",
     "output_type": "stream",
     "text": [
      "INFO:tensorflow:Evaluation [15/100]\n"
     ]
    },
    {
     "name": "stdout",
     "output_type": "stream",
     "text": [
      "INFO:tensorflow:Evaluation [16/100]\n"
     ]
    },
    {
     "name": "stderr",
     "output_type": "stream",
     "text": [
      "INFO:tensorflow:Evaluation [16/100]\n"
     ]
    },
    {
     "name": "stdout",
     "output_type": "stream",
     "text": [
      "INFO:tensorflow:Evaluation [17/100]\n"
     ]
    },
    {
     "name": "stderr",
     "output_type": "stream",
     "text": [
      "INFO:tensorflow:Evaluation [17/100]\n"
     ]
    },
    {
     "name": "stdout",
     "output_type": "stream",
     "text": [
      "INFO:tensorflow:Evaluation [18/100]\n"
     ]
    },
    {
     "name": "stderr",
     "output_type": "stream",
     "text": [
      "INFO:tensorflow:Evaluation [18/100]\n"
     ]
    },
    {
     "name": "stdout",
     "output_type": "stream",
     "text": [
      "INFO:tensorflow:Evaluation [19/100]\n"
     ]
    },
    {
     "name": "stderr",
     "output_type": "stream",
     "text": [
      "INFO:tensorflow:Evaluation [19/100]\n"
     ]
    },
    {
     "name": "stdout",
     "output_type": "stream",
     "text": [
      "INFO:tensorflow:Evaluation [20/100]\n"
     ]
    },
    {
     "name": "stderr",
     "output_type": "stream",
     "text": [
      "INFO:tensorflow:Evaluation [20/100]\n"
     ]
    },
    {
     "name": "stdout",
     "output_type": "stream",
     "text": [
      "INFO:tensorflow:Evaluation [21/100]\n"
     ]
    },
    {
     "name": "stderr",
     "output_type": "stream",
     "text": [
      "INFO:tensorflow:Evaluation [21/100]\n"
     ]
    },
    {
     "name": "stdout",
     "output_type": "stream",
     "text": [
      "INFO:tensorflow:Evaluation [22/100]\n"
     ]
    },
    {
     "name": "stderr",
     "output_type": "stream",
     "text": [
      "INFO:tensorflow:Evaluation [22/100]\n"
     ]
    },
    {
     "name": "stdout",
     "output_type": "stream",
     "text": [
      "INFO:tensorflow:Evaluation [23/100]\n"
     ]
    },
    {
     "name": "stderr",
     "output_type": "stream",
     "text": [
      "INFO:tensorflow:Evaluation [23/100]\n"
     ]
    },
    {
     "name": "stdout",
     "output_type": "stream",
     "text": [
      "INFO:tensorflow:Evaluation [24/100]\n"
     ]
    },
    {
     "name": "stderr",
     "output_type": "stream",
     "text": [
      "INFO:tensorflow:Evaluation [24/100]\n"
     ]
    },
    {
     "name": "stdout",
     "output_type": "stream",
     "text": [
      "INFO:tensorflow:Evaluation [25/100]\n"
     ]
    },
    {
     "name": "stderr",
     "output_type": "stream",
     "text": [
      "INFO:tensorflow:Evaluation [25/100]\n"
     ]
    },
    {
     "name": "stdout",
     "output_type": "stream",
     "text": [
      "INFO:tensorflow:Evaluation [26/100]\n"
     ]
    },
    {
     "name": "stderr",
     "output_type": "stream",
     "text": [
      "INFO:tensorflow:Evaluation [26/100]\n"
     ]
    },
    {
     "name": "stdout",
     "output_type": "stream",
     "text": [
      "INFO:tensorflow:Evaluation [27/100]\n"
     ]
    },
    {
     "name": "stderr",
     "output_type": "stream",
     "text": [
      "INFO:tensorflow:Evaluation [27/100]\n"
     ]
    },
    {
     "name": "stdout",
     "output_type": "stream",
     "text": [
      "INFO:tensorflow:Evaluation [28/100]\n"
     ]
    },
    {
     "name": "stderr",
     "output_type": "stream",
     "text": [
      "INFO:tensorflow:Evaluation [28/100]\n"
     ]
    },
    {
     "name": "stdout",
     "output_type": "stream",
     "text": [
      "INFO:tensorflow:Evaluation [29/100]\n"
     ]
    },
    {
     "name": "stderr",
     "output_type": "stream",
     "text": [
      "INFO:tensorflow:Evaluation [29/100]\n"
     ]
    },
    {
     "name": "stdout",
     "output_type": "stream",
     "text": [
      "INFO:tensorflow:Evaluation [30/100]\n"
     ]
    },
    {
     "name": "stderr",
     "output_type": "stream",
     "text": [
      "INFO:tensorflow:Evaluation [30/100]\n"
     ]
    },
    {
     "name": "stdout",
     "output_type": "stream",
     "text": [
      "INFO:tensorflow:Evaluation [31/100]\n"
     ]
    },
    {
     "name": "stderr",
     "output_type": "stream",
     "text": [
      "INFO:tensorflow:Evaluation [31/100]\n"
     ]
    },
    {
     "name": "stdout",
     "output_type": "stream",
     "text": [
      "INFO:tensorflow:Evaluation [32/100]\n"
     ]
    },
    {
     "name": "stderr",
     "output_type": "stream",
     "text": [
      "INFO:tensorflow:Evaluation [32/100]\n"
     ]
    },
    {
     "name": "stdout",
     "output_type": "stream",
     "text": [
      "INFO:tensorflow:Evaluation [33/100]\n"
     ]
    },
    {
     "name": "stderr",
     "output_type": "stream",
     "text": [
      "INFO:tensorflow:Evaluation [33/100]\n"
     ]
    },
    {
     "name": "stdout",
     "output_type": "stream",
     "text": [
      "INFO:tensorflow:Evaluation [34/100]\n"
     ]
    },
    {
     "name": "stderr",
     "output_type": "stream",
     "text": [
      "INFO:tensorflow:Evaluation [34/100]\n"
     ]
    },
    {
     "name": "stdout",
     "output_type": "stream",
     "text": [
      "INFO:tensorflow:Evaluation [35/100]\n"
     ]
    },
    {
     "name": "stderr",
     "output_type": "stream",
     "text": [
      "INFO:tensorflow:Evaluation [35/100]\n"
     ]
    },
    {
     "name": "stdout",
     "output_type": "stream",
     "text": [
      "INFO:tensorflow:Evaluation [36/100]\n"
     ]
    },
    {
     "name": "stderr",
     "output_type": "stream",
     "text": [
      "INFO:tensorflow:Evaluation [36/100]\n"
     ]
    },
    {
     "name": "stdout",
     "output_type": "stream",
     "text": [
      "INFO:tensorflow:Evaluation [37/100]\n"
     ]
    },
    {
     "name": "stderr",
     "output_type": "stream",
     "text": [
      "INFO:tensorflow:Evaluation [37/100]\n"
     ]
    },
    {
     "name": "stdout",
     "output_type": "stream",
     "text": [
      "INFO:tensorflow:Evaluation [38/100]\n"
     ]
    },
    {
     "name": "stderr",
     "output_type": "stream",
     "text": [
      "INFO:tensorflow:Evaluation [38/100]\n"
     ]
    },
    {
     "name": "stdout",
     "output_type": "stream",
     "text": [
      "INFO:tensorflow:Evaluation [39/100]\n"
     ]
    },
    {
     "name": "stderr",
     "output_type": "stream",
     "text": [
      "INFO:tensorflow:Evaluation [39/100]\n"
     ]
    },
    {
     "name": "stdout",
     "output_type": "stream",
     "text": [
      "INFO:tensorflow:Evaluation [40/100]\n"
     ]
    },
    {
     "name": "stderr",
     "output_type": "stream",
     "text": [
      "INFO:tensorflow:Evaluation [40/100]\n"
     ]
    },
    {
     "name": "stdout",
     "output_type": "stream",
     "text": [
      "INFO:tensorflow:Evaluation [41/100]\n"
     ]
    },
    {
     "name": "stderr",
     "output_type": "stream",
     "text": [
      "INFO:tensorflow:Evaluation [41/100]\n"
     ]
    },
    {
     "name": "stdout",
     "output_type": "stream",
     "text": [
      "INFO:tensorflow:Evaluation [42/100]\n"
     ]
    },
    {
     "name": "stderr",
     "output_type": "stream",
     "text": [
      "INFO:tensorflow:Evaluation [42/100]\n"
     ]
    },
    {
     "name": "stdout",
     "output_type": "stream",
     "text": [
      "INFO:tensorflow:Evaluation [43/100]\n"
     ]
    },
    {
     "name": "stderr",
     "output_type": "stream",
     "text": [
      "INFO:tensorflow:Evaluation [43/100]\n"
     ]
    },
    {
     "name": "stdout",
     "output_type": "stream",
     "text": [
      "INFO:tensorflow:Evaluation [44/100]\n"
     ]
    },
    {
     "name": "stderr",
     "output_type": "stream",
     "text": [
      "INFO:tensorflow:Evaluation [44/100]\n"
     ]
    },
    {
     "name": "stdout",
     "output_type": "stream",
     "text": [
      "INFO:tensorflow:Evaluation [45/100]\n"
     ]
    },
    {
     "name": "stderr",
     "output_type": "stream",
     "text": [
      "INFO:tensorflow:Evaluation [45/100]\n"
     ]
    },
    {
     "name": "stdout",
     "output_type": "stream",
     "text": [
      "INFO:tensorflow:Evaluation [46/100]\n"
     ]
    },
    {
     "name": "stderr",
     "output_type": "stream",
     "text": [
      "INFO:tensorflow:Evaluation [46/100]\n"
     ]
    },
    {
     "name": "stdout",
     "output_type": "stream",
     "text": [
      "INFO:tensorflow:Evaluation [47/100]\n"
     ]
    },
    {
     "name": "stderr",
     "output_type": "stream",
     "text": [
      "INFO:tensorflow:Evaluation [47/100]\n"
     ]
    },
    {
     "name": "stdout",
     "output_type": "stream",
     "text": [
      "INFO:tensorflow:Evaluation [48/100]\n"
     ]
    },
    {
     "name": "stderr",
     "output_type": "stream",
     "text": [
      "INFO:tensorflow:Evaluation [48/100]\n"
     ]
    },
    {
     "name": "stdout",
     "output_type": "stream",
     "text": [
      "INFO:tensorflow:Evaluation [49/100]\n"
     ]
    },
    {
     "name": "stderr",
     "output_type": "stream",
     "text": [
      "INFO:tensorflow:Evaluation [49/100]\n"
     ]
    },
    {
     "name": "stdout",
     "output_type": "stream",
     "text": [
      "INFO:tensorflow:Evaluation [50/100]\n"
     ]
    },
    {
     "name": "stderr",
     "output_type": "stream",
     "text": [
      "INFO:tensorflow:Evaluation [50/100]\n"
     ]
    },
    {
     "name": "stdout",
     "output_type": "stream",
     "text": [
      "INFO:tensorflow:Evaluation [51/100]\n"
     ]
    },
    {
     "name": "stderr",
     "output_type": "stream",
     "text": [
      "INFO:tensorflow:Evaluation [51/100]\n"
     ]
    },
    {
     "name": "stdout",
     "output_type": "stream",
     "text": [
      "INFO:tensorflow:Evaluation [52/100]\n"
     ]
    },
    {
     "name": "stderr",
     "output_type": "stream",
     "text": [
      "INFO:tensorflow:Evaluation [52/100]\n"
     ]
    },
    {
     "name": "stdout",
     "output_type": "stream",
     "text": [
      "INFO:tensorflow:Evaluation [53/100]\n"
     ]
    },
    {
     "name": "stderr",
     "output_type": "stream",
     "text": [
      "INFO:tensorflow:Evaluation [53/100]\n"
     ]
    },
    {
     "name": "stdout",
     "output_type": "stream",
     "text": [
      "INFO:tensorflow:Evaluation [54/100]\n"
     ]
    },
    {
     "name": "stderr",
     "output_type": "stream",
     "text": [
      "INFO:tensorflow:Evaluation [54/100]\n"
     ]
    },
    {
     "name": "stdout",
     "output_type": "stream",
     "text": [
      "INFO:tensorflow:Evaluation [55/100]\n"
     ]
    },
    {
     "name": "stderr",
     "output_type": "stream",
     "text": [
      "INFO:tensorflow:Evaluation [55/100]\n"
     ]
    },
    {
     "name": "stdout",
     "output_type": "stream",
     "text": [
      "INFO:tensorflow:Evaluation [56/100]\n"
     ]
    },
    {
     "name": "stderr",
     "output_type": "stream",
     "text": [
      "INFO:tensorflow:Evaluation [56/100]\n"
     ]
    },
    {
     "name": "stdout",
     "output_type": "stream",
     "text": [
      "INFO:tensorflow:Evaluation [57/100]\n"
     ]
    },
    {
     "name": "stderr",
     "output_type": "stream",
     "text": [
      "INFO:tensorflow:Evaluation [57/100]\n"
     ]
    },
    {
     "name": "stdout",
     "output_type": "stream",
     "text": [
      "INFO:tensorflow:Evaluation [58/100]\n"
     ]
    },
    {
     "name": "stderr",
     "output_type": "stream",
     "text": [
      "INFO:tensorflow:Evaluation [58/100]\n"
     ]
    },
    {
     "name": "stdout",
     "output_type": "stream",
     "text": [
      "INFO:tensorflow:Evaluation [59/100]\n"
     ]
    },
    {
     "name": "stderr",
     "output_type": "stream",
     "text": [
      "INFO:tensorflow:Evaluation [59/100]\n"
     ]
    },
    {
     "name": "stdout",
     "output_type": "stream",
     "text": [
      "INFO:tensorflow:Evaluation [60/100]\n"
     ]
    },
    {
     "name": "stderr",
     "output_type": "stream",
     "text": [
      "INFO:tensorflow:Evaluation [60/100]\n"
     ]
    },
    {
     "name": "stdout",
     "output_type": "stream",
     "text": [
      "INFO:tensorflow:Evaluation [61/100]\n"
     ]
    },
    {
     "name": "stderr",
     "output_type": "stream",
     "text": [
      "INFO:tensorflow:Evaluation [61/100]\n"
     ]
    },
    {
     "name": "stdout",
     "output_type": "stream",
     "text": [
      "INFO:tensorflow:Evaluation [62/100]\n"
     ]
    },
    {
     "name": "stderr",
     "output_type": "stream",
     "text": [
      "INFO:tensorflow:Evaluation [62/100]\n"
     ]
    },
    {
     "name": "stdout",
     "output_type": "stream",
     "text": [
      "INFO:tensorflow:Evaluation [63/100]\n"
     ]
    },
    {
     "name": "stderr",
     "output_type": "stream",
     "text": [
      "INFO:tensorflow:Evaluation [63/100]\n"
     ]
    },
    {
     "name": "stdout",
     "output_type": "stream",
     "text": [
      "INFO:tensorflow:Evaluation [64/100]\n"
     ]
    },
    {
     "name": "stderr",
     "output_type": "stream",
     "text": [
      "INFO:tensorflow:Evaluation [64/100]\n"
     ]
    },
    {
     "name": "stdout",
     "output_type": "stream",
     "text": [
      "INFO:tensorflow:Evaluation [65/100]\n"
     ]
    },
    {
     "name": "stderr",
     "output_type": "stream",
     "text": [
      "INFO:tensorflow:Evaluation [65/100]\n"
     ]
    },
    {
     "name": "stdout",
     "output_type": "stream",
     "text": [
      "INFO:tensorflow:Evaluation [66/100]\n"
     ]
    },
    {
     "name": "stderr",
     "output_type": "stream",
     "text": [
      "INFO:tensorflow:Evaluation [66/100]\n"
     ]
    },
    {
     "name": "stdout",
     "output_type": "stream",
     "text": [
      "INFO:tensorflow:Evaluation [67/100]\n"
     ]
    },
    {
     "name": "stderr",
     "output_type": "stream",
     "text": [
      "INFO:tensorflow:Evaluation [67/100]\n"
     ]
    },
    {
     "name": "stdout",
     "output_type": "stream",
     "text": [
      "INFO:tensorflow:Evaluation [68/100]\n"
     ]
    },
    {
     "name": "stderr",
     "output_type": "stream",
     "text": [
      "INFO:tensorflow:Evaluation [68/100]\n"
     ]
    },
    {
     "name": "stdout",
     "output_type": "stream",
     "text": [
      "INFO:tensorflow:Evaluation [69/100]\n"
     ]
    },
    {
     "name": "stderr",
     "output_type": "stream",
     "text": [
      "INFO:tensorflow:Evaluation [69/100]\n"
     ]
    },
    {
     "name": "stdout",
     "output_type": "stream",
     "text": [
      "INFO:tensorflow:Evaluation [70/100]\n"
     ]
    },
    {
     "name": "stderr",
     "output_type": "stream",
     "text": [
      "INFO:tensorflow:Evaluation [70/100]\n"
     ]
    },
    {
     "name": "stdout",
     "output_type": "stream",
     "text": [
      "INFO:tensorflow:Evaluation [71/100]\n"
     ]
    },
    {
     "name": "stderr",
     "output_type": "stream",
     "text": [
      "INFO:tensorflow:Evaluation [71/100]\n"
     ]
    },
    {
     "name": "stdout",
     "output_type": "stream",
     "text": [
      "INFO:tensorflow:Evaluation [72/100]\n"
     ]
    },
    {
     "name": "stderr",
     "output_type": "stream",
     "text": [
      "INFO:tensorflow:Evaluation [72/100]\n"
     ]
    },
    {
     "name": "stdout",
     "output_type": "stream",
     "text": [
      "INFO:tensorflow:Evaluation [73/100]\n"
     ]
    },
    {
     "name": "stderr",
     "output_type": "stream",
     "text": [
      "INFO:tensorflow:Evaluation [73/100]\n"
     ]
    },
    {
     "name": "stdout",
     "output_type": "stream",
     "text": [
      "INFO:tensorflow:Evaluation [74/100]\n"
     ]
    },
    {
     "name": "stderr",
     "output_type": "stream",
     "text": [
      "INFO:tensorflow:Evaluation [74/100]\n"
     ]
    },
    {
     "name": "stdout",
     "output_type": "stream",
     "text": [
      "INFO:tensorflow:Evaluation [75/100]\n"
     ]
    },
    {
     "name": "stderr",
     "output_type": "stream",
     "text": [
      "INFO:tensorflow:Evaluation [75/100]\n"
     ]
    },
    {
     "name": "stdout",
     "output_type": "stream",
     "text": [
      "INFO:tensorflow:Evaluation [76/100]\n"
     ]
    },
    {
     "name": "stderr",
     "output_type": "stream",
     "text": [
      "INFO:tensorflow:Evaluation [76/100]\n"
     ]
    },
    {
     "name": "stdout",
     "output_type": "stream",
     "text": [
      "INFO:tensorflow:Evaluation [77/100]\n"
     ]
    },
    {
     "name": "stderr",
     "output_type": "stream",
     "text": [
      "INFO:tensorflow:Evaluation [77/100]\n"
     ]
    },
    {
     "name": "stdout",
     "output_type": "stream",
     "text": [
      "INFO:tensorflow:Evaluation [78/100]\n"
     ]
    },
    {
     "name": "stderr",
     "output_type": "stream",
     "text": [
      "INFO:tensorflow:Evaluation [78/100]\n"
     ]
    },
    {
     "name": "stdout",
     "output_type": "stream",
     "text": [
      "INFO:tensorflow:Evaluation [79/100]\n"
     ]
    },
    {
     "name": "stderr",
     "output_type": "stream",
     "text": [
      "INFO:tensorflow:Evaluation [79/100]\n"
     ]
    },
    {
     "name": "stdout",
     "output_type": "stream",
     "text": [
      "INFO:tensorflow:Evaluation [80/100]\n"
     ]
    },
    {
     "name": "stderr",
     "output_type": "stream",
     "text": [
      "INFO:tensorflow:Evaluation [80/100]\n"
     ]
    },
    {
     "name": "stdout",
     "output_type": "stream",
     "text": [
      "INFO:tensorflow:Evaluation [81/100]\n"
     ]
    },
    {
     "name": "stderr",
     "output_type": "stream",
     "text": [
      "INFO:tensorflow:Evaluation [81/100]\n"
     ]
    },
    {
     "name": "stdout",
     "output_type": "stream",
     "text": [
      "INFO:tensorflow:Evaluation [82/100]\n"
     ]
    },
    {
     "name": "stderr",
     "output_type": "stream",
     "text": [
      "INFO:tensorflow:Evaluation [82/100]\n"
     ]
    },
    {
     "name": "stdout",
     "output_type": "stream",
     "text": [
      "INFO:tensorflow:Evaluation [83/100]\n"
     ]
    },
    {
     "name": "stderr",
     "output_type": "stream",
     "text": [
      "INFO:tensorflow:Evaluation [83/100]\n"
     ]
    },
    {
     "name": "stdout",
     "output_type": "stream",
     "text": [
      "INFO:tensorflow:Evaluation [84/100]\n"
     ]
    },
    {
     "name": "stderr",
     "output_type": "stream",
     "text": [
      "INFO:tensorflow:Evaluation [84/100]\n"
     ]
    },
    {
     "name": "stdout",
     "output_type": "stream",
     "text": [
      "INFO:tensorflow:Evaluation [85/100]\n"
     ]
    },
    {
     "name": "stderr",
     "output_type": "stream",
     "text": [
      "INFO:tensorflow:Evaluation [85/100]\n"
     ]
    },
    {
     "name": "stdout",
     "output_type": "stream",
     "text": [
      "INFO:tensorflow:Evaluation [86/100]\n"
     ]
    },
    {
     "name": "stderr",
     "output_type": "stream",
     "text": [
      "INFO:tensorflow:Evaluation [86/100]\n"
     ]
    },
    {
     "name": "stdout",
     "output_type": "stream",
     "text": [
      "INFO:tensorflow:Evaluation [87/100]\n"
     ]
    },
    {
     "name": "stderr",
     "output_type": "stream",
     "text": [
      "INFO:tensorflow:Evaluation [87/100]\n"
     ]
    },
    {
     "name": "stdout",
     "output_type": "stream",
     "text": [
      "INFO:tensorflow:Evaluation [88/100]\n"
     ]
    },
    {
     "name": "stderr",
     "output_type": "stream",
     "text": [
      "INFO:tensorflow:Evaluation [88/100]\n"
     ]
    },
    {
     "name": "stdout",
     "output_type": "stream",
     "text": [
      "INFO:tensorflow:Evaluation [89/100]\n"
     ]
    },
    {
     "name": "stderr",
     "output_type": "stream",
     "text": [
      "INFO:tensorflow:Evaluation [89/100]\n"
     ]
    },
    {
     "name": "stdout",
     "output_type": "stream",
     "text": [
      "INFO:tensorflow:Evaluation [90/100]\n"
     ]
    },
    {
     "name": "stderr",
     "output_type": "stream",
     "text": [
      "INFO:tensorflow:Evaluation [90/100]\n"
     ]
    },
    {
     "name": "stdout",
     "output_type": "stream",
     "text": [
      "INFO:tensorflow:Evaluation [91/100]\n"
     ]
    },
    {
     "name": "stderr",
     "output_type": "stream",
     "text": [
      "INFO:tensorflow:Evaluation [91/100]\n"
     ]
    },
    {
     "name": "stdout",
     "output_type": "stream",
     "text": [
      "INFO:tensorflow:Evaluation [92/100]\n"
     ]
    },
    {
     "name": "stderr",
     "output_type": "stream",
     "text": [
      "INFO:tensorflow:Evaluation [92/100]\n"
     ]
    },
    {
     "name": "stdout",
     "output_type": "stream",
     "text": [
      "INFO:tensorflow:Evaluation [93/100]\n"
     ]
    },
    {
     "name": "stderr",
     "output_type": "stream",
     "text": [
      "INFO:tensorflow:Evaluation [93/100]\n"
     ]
    },
    {
     "name": "stdout",
     "output_type": "stream",
     "text": [
      "INFO:tensorflow:Evaluation [94/100]\n"
     ]
    },
    {
     "name": "stderr",
     "output_type": "stream",
     "text": [
      "INFO:tensorflow:Evaluation [94/100]\n"
     ]
    },
    {
     "name": "stdout",
     "output_type": "stream",
     "text": [
      "INFO:tensorflow:Evaluation [95/100]\n"
     ]
    },
    {
     "name": "stderr",
     "output_type": "stream",
     "text": [
      "INFO:tensorflow:Evaluation [95/100]\n"
     ]
    },
    {
     "name": "stdout",
     "output_type": "stream",
     "text": [
      "INFO:tensorflow:Evaluation [96/100]\n"
     ]
    },
    {
     "name": "stderr",
     "output_type": "stream",
     "text": [
      "INFO:tensorflow:Evaluation [96/100]\n"
     ]
    },
    {
     "name": "stdout",
     "output_type": "stream",
     "text": [
      "INFO:tensorflow:Evaluation [97/100]\n"
     ]
    },
    {
     "name": "stderr",
     "output_type": "stream",
     "text": [
      "INFO:tensorflow:Evaluation [97/100]\n"
     ]
    },
    {
     "name": "stdout",
     "output_type": "stream",
     "text": [
      "INFO:tensorflow:Evaluation [98/100]\n"
     ]
    },
    {
     "name": "stderr",
     "output_type": "stream",
     "text": [
      "INFO:tensorflow:Evaluation [98/100]\n"
     ]
    },
    {
     "name": "stdout",
     "output_type": "stream",
     "text": [
      "INFO:tensorflow:Evaluation [99/100]\n"
     ]
    },
    {
     "name": "stderr",
     "output_type": "stream",
     "text": [
      "INFO:tensorflow:Evaluation [99/100]\n"
     ]
    },
    {
     "name": "stdout",
     "output_type": "stream",
     "text": [
      "INFO:tensorflow:Evaluation [100/100]\n"
     ]
    },
    {
     "name": "stderr",
     "output_type": "stream",
     "text": [
      "INFO:tensorflow:Evaluation [100/100]\n"
     ]
    },
    {
     "name": "stdout",
     "output_type": "stream",
     "text": [
      "INFO:tensorflow:Finished evaluation at 2017-02-16-18:04:12\n"
     ]
    },
    {
     "name": "stderr",
     "output_type": "stream",
     "text": [
      "INFO:tensorflow:Finished evaluation at 2017-02-16-18:04:12\n"
     ]
    },
    {
     "name": "stdout",
     "output_type": "stream",
     "text": [
      "INFO:tensorflow:Saving dict for global step 250: accuracy = 0.9333, auc = 0.995554, global_step = 250, loss = 0.122177\n"
     ]
    },
    {
     "name": "stderr",
     "output_type": "stream",
     "text": [
      "INFO:tensorflow:Saving dict for global step 250: accuracy = 0.9333, auc = 0.995554, global_step = 250, loss = 0.122177\n"
     ]
    },
    {
     "name": "stdout",
     "output_type": "stream",
     "text": [
      "WARNING:tensorflow:Skipping summary for global_step, must be a float or np.float32.\n"
     ]
    },
    {
     "name": "stderr",
     "output_type": "stream",
     "text": [
      "WARNING:tensorflow:Skipping summary for global_step, must be a float or np.float32.\n"
     ]
    },
    {
     "name": "stdout",
     "output_type": "stream",
     "text": [
      "Local training done.\n"
     ]
    }
   ],
   "source": [
    "sd.local_train(\n",
    "  train_file_pattern=os.path.join(LOCAL_ROOT, 'train.*'),\n",
    "  eval_file_pattern=os.path.join(LOCAL_ROOT, 'eval.*'),\n",
    "  preprocess_output_dir=os.path.join(LOCAL_ROOT, 'preprocess'),\n",
    "  output_dir=os.path.join(LOCAL_ROOT, 'training'),\n",
    "  key_column='key',\n",
    "  model_type='dnn_classification',\n",
    "  top_n=3,\n",
    "  max_steps=250,\n",
    "  layer_sizes=[10, 8, 5]\n",
    ")"
   ]
  },
  {
   "cell_type": "markdown",
   "metadata": {},
   "source": [
    "Lets see if we can get a better accuracy. For this we need to pass a some transform configureation in the form of a json transfrom file. See the doc string of local_train for a description of the transforms supported."
   ]
  },
  {
   "cell_type": "code",
   "execution_count": 27,
   "metadata": {
    "collapsed": false
   },
   "outputs": [
    {
     "name": "stdout",
     "output_type": "stream",
     "text": [
      "Overwriting /content/Downloads/iris_notebook_workspace/transforms.json\n"
     ]
    }
   ],
   "source": [
    "%writefile {LOCAL_ROOT}/transforms.json\n",
    "{\n",
    "  \"sepal_length\": {\"transform\": \"scale\"},\n",
    "  \"sepal_width\": {\"transform\": \"scale\", \"value\": 4},\n",
    "  \"petal_length\": {\"transform\": \"scale\", \"default\": 0},\n",
    "  \"petal_width\": {\"transform\": \"scale\"},\n",
    "  \"key\": {\"transform\": \"key\"}\n",
    " }"
   ]
  },
  {
   "cell_type": "code",
   "execution_count": 28,
   "metadata": {
    "collapsed": true
   },
   "outputs": [],
   "source": [
    "!rm -fr {LOCAL_ROOT}/training"
   ]
  },
  {
   "cell_type": "code",
   "execution_count": 29,
   "metadata": {
    "codeCollapsed": false,
    "collapsed": false,
    "hiddenCell": false
   },
   "outputs": [
    {
     "name": "stdout",
     "output_type": "stream",
     "text": [
      "Starting local training.\n",
      "INFO:tensorflow:Using config: {'_save_checkpoints_secs': 600, '_num_ps_replicas': 0, '_keep_checkpoint_max': 5, '_tf_random_seed': None, '_task_type': None, '_environment': 'local', '_is_chief': True, '_cluster_spec': <tensorflow.python.training.server_lib.ClusterSpec object at 0x7f0bf46c1290>, '_tf_config': gpu_options {\n",
      "  per_process_gpu_memory_fraction: 1.0\n",
      "}\n",
      ", '_task_id': 0, '_save_summary_steps': 100, '_save_checkpoints_steps': None, '_evaluation_master': '', '_keep_checkpoint_every_n_hours': 10000, '_master': ''}\n"
     ]
    },
    {
     "name": "stderr",
     "output_type": "stream",
     "text": [
      "INFO:tensorflow:Using config: {'_save_checkpoints_secs': 600, '_num_ps_replicas': 0, '_keep_checkpoint_max': 5, '_tf_random_seed': None, '_task_type': None, '_environment': 'local', '_is_chief': True, '_cluster_spec': <tensorflow.python.training.server_lib.ClusterSpec object at 0x7f0bf46c1290>, '_tf_config': gpu_options {\n",
      "  per_process_gpu_memory_fraction: 1.0\n",
      "}\n",
      ", '_task_id': 0, '_save_summary_steps': 100, '_save_checkpoints_steps': None, '_evaluation_master': '', '_keep_checkpoint_every_n_hours': 10000, '_master': ''}\n"
     ]
    },
    {
     "name": "stdout",
     "output_type": "stream",
     "text": [
      "WARNING:tensorflow:From /usr/local/lib/python2.7/dist-packages/tensorflow/contrib/learn/python/learn/monitors.py:322: __init__ (from tensorflow.contrib.learn.python.learn.monitors) is deprecated and will be removed after 2016-12-05.\n",
      "Instructions for updating:\n",
      "Monitors are deprecated. Please use tf.train.SessionRunHook.\n"
     ]
    },
    {
     "name": "stderr",
     "output_type": "stream",
     "text": [
      "WARNING:tensorflow:From /usr/local/lib/python2.7/dist-packages/tensorflow/contrib/learn/python/learn/monitors.py:322: __init__ (from tensorflow.contrib.learn.python.learn.monitors) is deprecated and will be removed after 2016-12-05.\n",
      "Instructions for updating:\n",
      "Monitors are deprecated. Please use tf.train.SessionRunHook.\n"
     ]
    },
    {
     "name": "stdout",
     "output_type": "stream",
     "text": [
      "WARNING:tensorflow:From /usr/local/lib/python2.7/dist-packages/tensorflow/contrib/learn/python/learn/monitors.py:322: __init__ (from tensorflow.contrib.learn.python.learn.monitors) is deprecated and will be removed after 2016-12-05.\n",
      "Instructions for updating:\n",
      "Monitors are deprecated. Please use tf.train.SessionRunHook.\n"
     ]
    },
    {
     "name": "stderr",
     "output_type": "stream",
     "text": [
      "WARNING:tensorflow:From /usr/local/lib/python2.7/dist-packages/tensorflow/contrib/learn/python/learn/monitors.py:322: __init__ (from tensorflow.contrib.learn.python.learn.monitors) is deprecated and will be removed after 2016-12-05.\n",
      "Instructions for updating:\n",
      "Monitors are deprecated. Please use tf.train.SessionRunHook.\n"
     ]
    },
    {
     "name": "stdout",
     "output_type": "stream",
     "text": [
      "WARNING:tensorflow:From /usr/local/lib/python2.7/dist-packages/datalab_solutions/structured_data/trainer/util.py:333: string_to_index (from tensorflow.contrib.lookup.lookup_ops) is deprecated and will be removed after 2017-01-07.\n",
      "Instructions for updating:\n",
      "This op will be removed after the deprecation date. Please switch to string_to_index_table_from_tensor and call the lookup method of the returned table.\n"
     ]
    },
    {
     "name": "stderr",
     "output_type": "stream",
     "text": [
      "WARNING:tensorflow:From /usr/local/lib/python2.7/dist-packages/datalab_solutions/structured_data/trainer/util.py:333: string_to_index (from tensorflow.contrib.lookup.lookup_ops) is deprecated and will be removed after 2017-01-07.\n",
      "Instructions for updating:\n",
      "This op will be removed after the deprecation date. Please switch to string_to_index_table_from_tensor and call the lookup method of the returned table.\n"
     ]
    },
    {
     "name": "stdout",
     "output_type": "stream",
     "text": [
      "WARNING:tensorflow:From /usr/local/lib/python2.7/dist-packages/tensorflow/contrib/learn/python/learn/estimators/head.py:1362: scalar_summary (from tensorflow.python.ops.logging_ops) is deprecated and will be removed after 2016-11-30.\n",
      "Instructions for updating:\n",
      "Please switch to tf.summary.scalar. Note that tf.summary.scalar uses the node name instead of the tag. This means that TensorFlow will automatically de-duplicate summary names based on the scope they are created in. Also, passing a tensor or list of tags to a scalar summary op is no longer supported.\n"
     ]
    },
    {
     "name": "stderr",
     "output_type": "stream",
     "text": [
      "WARNING:tensorflow:From /usr/local/lib/python2.7/dist-packages/tensorflow/contrib/learn/python/learn/estimators/head.py:1362: scalar_summary (from tensorflow.python.ops.logging_ops) is deprecated and will be removed after 2016-11-30.\n",
      "Instructions for updating:\n",
      "Please switch to tf.summary.scalar. Note that tf.summary.scalar uses the node name instead of the tag. This means that TensorFlow will automatically de-duplicate summary names based on the scope they are created in. Also, passing a tensor or list of tags to a scalar summary op is no longer supported.\n"
     ]
    },
    {
     "name": "stdout",
     "output_type": "stream",
     "text": [
      "INFO:tensorflow:Create CheckpointSaverHook.\n"
     ]
    },
    {
     "name": "stderr",
     "output_type": "stream",
     "text": [
      "INFO:tensorflow:Create CheckpointSaverHook.\n"
     ]
    },
    {
     "name": "stdout",
     "output_type": "stream",
     "text": [
      "INFO:tensorflow:Saving checkpoints for 1 into /content/Downloads/iris_notebook_workspace/training/train/model.ckpt.\n"
     ]
    },
    {
     "name": "stderr",
     "output_type": "stream",
     "text": [
      "INFO:tensorflow:Saving checkpoints for 1 into /content/Downloads/iris_notebook_workspace/training/train/model.ckpt.\n"
     ]
    },
    {
     "name": "stdout",
     "output_type": "stream",
     "text": [
      "INFO:tensorflow:loss = 1.20939, step = 1\n"
     ]
    },
    {
     "name": "stderr",
     "output_type": "stream",
     "text": [
      "INFO:tensorflow:loss = 1.20939, step = 1\n"
     ]
    },
    {
     "name": "stdout",
     "output_type": "stream",
     "text": [
      "WARNING:tensorflow:From /usr/local/lib/python2.7/dist-packages/datalab_solutions/structured_data/trainer/util.py:333: string_to_index (from tensorflow.contrib.lookup.lookup_ops) is deprecated and will be removed after 2017-01-07.\n",
      "Instructions for updating:\n",
      "This op will be removed after the deprecation date. Please switch to string_to_index_table_from_tensor and call the lookup method of the returned table.\n"
     ]
    },
    {
     "name": "stderr",
     "output_type": "stream",
     "text": [
      "WARNING:tensorflow:From /usr/local/lib/python2.7/dist-packages/datalab_solutions/structured_data/trainer/util.py:333: string_to_index (from tensorflow.contrib.lookup.lookup_ops) is deprecated and will be removed after 2017-01-07.\n",
      "Instructions for updating:\n",
      "This op will be removed after the deprecation date. Please switch to string_to_index_table_from_tensor and call the lookup method of the returned table.\n"
     ]
    },
    {
     "name": "stdout",
     "output_type": "stream",
     "text": [
      "WARNING:tensorflow:From /usr/local/lib/python2.7/dist-packages/datalab_solutions/structured_data/trainer/task.py:167: index_to_string (from tensorflow.contrib.lookup.lookup_ops) is deprecated and will be removed after 2017-01-07.\n",
      "Instructions for updating:\n",
      "This op will be removed after the deprecation date. Please switch to index_to_string_table_from_tensor and call the lookup method of the returned table.\n"
     ]
    },
    {
     "name": "stderr",
     "output_type": "stream",
     "text": [
      "WARNING:tensorflow:From /usr/local/lib/python2.7/dist-packages/datalab_solutions/structured_data/trainer/task.py:167: index_to_string (from tensorflow.contrib.lookup.lookup_ops) is deprecated and will be removed after 2017-01-07.\n",
      "Instructions for updating:\n",
      "This op will be removed after the deprecation date. Please switch to index_to_string_table_from_tensor and call the lookup method of the returned table.\n"
     ]
    },
    {
     "name": "stdout",
     "output_type": "stream",
     "text": [
      "WARNING:tensorflow:From /usr/local/lib/python2.7/dist-packages/datalab_solutions/structured_data/trainer/task.py:181: index_to_string (from tensorflow.contrib.lookup.lookup_ops) is deprecated and will be removed after 2017-01-07.\n",
      "Instructions for updating:\n",
      "This op will be removed after the deprecation date. Please switch to index_to_string_table_from_tensor and call the lookup method of the returned table.\n"
     ]
    },
    {
     "name": "stderr",
     "output_type": "stream",
     "text": [
      "WARNING:tensorflow:From /usr/local/lib/python2.7/dist-packages/datalab_solutions/structured_data/trainer/task.py:181: index_to_string (from tensorflow.contrib.lookup.lookup_ops) is deprecated and will be removed after 2017-01-07.\n",
      "Instructions for updating:\n",
      "This op will be removed after the deprecation date. Please switch to index_to_string_table_from_tensor and call the lookup method of the returned table.\n"
     ]
    },
    {
     "name": "stdout",
     "output_type": "stream",
     "text": [
      "INFO:tensorflow:/content/Downloads/iris_notebook_workspace/training/intermediate_models/00000001-tmp/export is not in all_model_checkpoint_paths. Manually adding it.\n"
     ]
    },
    {
     "name": "stderr",
     "output_type": "stream",
     "text": [
      "INFO:tensorflow:/content/Downloads/iris_notebook_workspace/training/intermediate_models/00000001-tmp/export is not in all_model_checkpoint_paths. Manually adding it.\n"
     ]
    },
    {
     "name": "stdout",
     "output_type": "stream",
     "text": [
      "INFO:tensorflow:global_step/sec: 42.6108\n"
     ]
    },
    {
     "name": "stderr",
     "output_type": "stream",
     "text": [
      "INFO:tensorflow:global_step/sec: 42.6108\n"
     ]
    },
    {
     "name": "stdout",
     "output_type": "stream",
     "text": [
      "INFO:tensorflow:loss = 0.0441021, step = 101\n"
     ]
    },
    {
     "name": "stderr",
     "output_type": "stream",
     "text": [
      "INFO:tensorflow:loss = 0.0441021, step = 101\n"
     ]
    },
    {
     "name": "stdout",
     "output_type": "stream",
     "text": [
      "INFO:tensorflow:global_step/sec: 47.3656\n"
     ]
    },
    {
     "name": "stderr",
     "output_type": "stream",
     "text": [
      "INFO:tensorflow:global_step/sec: 47.3656\n"
     ]
    },
    {
     "name": "stdout",
     "output_type": "stream",
     "text": [
      "INFO:tensorflow:loss = 0.0374262, step = 201\n"
     ]
    },
    {
     "name": "stderr",
     "output_type": "stream",
     "text": [
      "INFO:tensorflow:loss = 0.0374262, step = 201\n"
     ]
    },
    {
     "name": "stdout",
     "output_type": "stream",
     "text": [
      "INFO:tensorflow:Saving checkpoints for 250 into /content/Downloads/iris_notebook_workspace/training/train/model.ckpt.\n"
     ]
    },
    {
     "name": "stderr",
     "output_type": "stream",
     "text": [
      "INFO:tensorflow:Saving checkpoints for 250 into /content/Downloads/iris_notebook_workspace/training/train/model.ckpt.\n"
     ]
    },
    {
     "name": "stdout",
     "output_type": "stream",
     "text": [
      "WARNING:tensorflow:From /usr/local/lib/python2.7/dist-packages/datalab_solutions/structured_data/trainer/util.py:333: string_to_index (from tensorflow.contrib.lookup.lookup_ops) is deprecated and will be removed after 2017-01-07.\n",
      "Instructions for updating:\n",
      "This op will be removed after the deprecation date. Please switch to string_to_index_table_from_tensor and call the lookup method of the returned table.\n"
     ]
    },
    {
     "name": "stderr",
     "output_type": "stream",
     "text": [
      "WARNING:tensorflow:From /usr/local/lib/python2.7/dist-packages/datalab_solutions/structured_data/trainer/util.py:333: string_to_index (from tensorflow.contrib.lookup.lookup_ops) is deprecated and will be removed after 2017-01-07.\n",
      "Instructions for updating:\n",
      "This op will be removed after the deprecation date. Please switch to string_to_index_table_from_tensor and call the lookup method of the returned table.\n"
     ]
    },
    {
     "name": "stdout",
     "output_type": "stream",
     "text": [
      "WARNING:tensorflow:From /usr/local/lib/python2.7/dist-packages/datalab_solutions/structured_data/trainer/task.py:167: index_to_string (from tensorflow.contrib.lookup.lookup_ops) is deprecated and will be removed after 2017-01-07.\n",
      "Instructions for updating:\n",
      "This op will be removed after the deprecation date. Please switch to index_to_string_table_from_tensor and call the lookup method of the returned table.\n"
     ]
    },
    {
     "name": "stderr",
     "output_type": "stream",
     "text": [
      "WARNING:tensorflow:From /usr/local/lib/python2.7/dist-packages/datalab_solutions/structured_data/trainer/task.py:167: index_to_string (from tensorflow.contrib.lookup.lookup_ops) is deprecated and will be removed after 2017-01-07.\n",
      "Instructions for updating:\n",
      "This op will be removed after the deprecation date. Please switch to index_to_string_table_from_tensor and call the lookup method of the returned table.\n"
     ]
    },
    {
     "name": "stdout",
     "output_type": "stream",
     "text": [
      "WARNING:tensorflow:From /usr/local/lib/python2.7/dist-packages/datalab_solutions/structured_data/trainer/task.py:181: index_to_string (from tensorflow.contrib.lookup.lookup_ops) is deprecated and will be removed after 2017-01-07.\n",
      "Instructions for updating:\n",
      "This op will be removed after the deprecation date. Please switch to index_to_string_table_from_tensor and call the lookup method of the returned table.\n"
     ]
    },
    {
     "name": "stderr",
     "output_type": "stream",
     "text": [
      "WARNING:tensorflow:From /usr/local/lib/python2.7/dist-packages/datalab_solutions/structured_data/trainer/task.py:181: index_to_string (from tensorflow.contrib.lookup.lookup_ops) is deprecated and will be removed after 2017-01-07.\n",
      "Instructions for updating:\n",
      "This op will be removed after the deprecation date. Please switch to index_to_string_table_from_tensor and call the lookup method of the returned table.\n"
     ]
    },
    {
     "name": "stdout",
     "output_type": "stream",
     "text": [
      "INFO:tensorflow:/content/Downloads/iris_notebook_workspace/training/intermediate_models/00000250-tmp/export is not in all_model_checkpoint_paths. Manually adding it.\n"
     ]
    },
    {
     "name": "stderr",
     "output_type": "stream",
     "text": [
      "INFO:tensorflow:/content/Downloads/iris_notebook_workspace/training/intermediate_models/00000250-tmp/export is not in all_model_checkpoint_paths. Manually adding it.\n"
     ]
    },
    {
     "name": "stdout",
     "output_type": "stream",
     "text": [
      "INFO:tensorflow:Loss for final step: 0.0282467.\n"
     ]
    },
    {
     "name": "stderr",
     "output_type": "stream",
     "text": [
      "INFO:tensorflow:Loss for final step: 0.0282467.\n"
     ]
    },
    {
     "name": "stdout",
     "output_type": "stream",
     "text": [
      "WARNING:tensorflow:From /usr/local/lib/python2.7/dist-packages/datalab_solutions/structured_data/trainer/util.py:333: string_to_index (from tensorflow.contrib.lookup.lookup_ops) is deprecated and will be removed after 2017-01-07.\n",
      "Instructions for updating:\n",
      "This op will be removed after the deprecation date. Please switch to string_to_index_table_from_tensor and call the lookup method of the returned table.\n"
     ]
    },
    {
     "name": "stderr",
     "output_type": "stream",
     "text": [
      "WARNING:tensorflow:From /usr/local/lib/python2.7/dist-packages/datalab_solutions/structured_data/trainer/util.py:333: string_to_index (from tensorflow.contrib.lookup.lookup_ops) is deprecated and will be removed after 2017-01-07.\n",
      "Instructions for updating:\n",
      "This op will be removed after the deprecation date. Please switch to string_to_index_table_from_tensor and call the lookup method of the returned table.\n"
     ]
    },
    {
     "name": "stdout",
     "output_type": "stream",
     "text": [
      "WARNING:tensorflow:From /usr/local/lib/python2.7/dist-packages/tensorflow/contrib/learn/python/learn/estimators/head.py:1362: scalar_summary (from tensorflow.python.ops.logging_ops) is deprecated and will be removed after 2016-11-30.\n",
      "Instructions for updating:\n",
      "Please switch to tf.summary.scalar. Note that tf.summary.scalar uses the node name instead of the tag. This means that TensorFlow will automatically de-duplicate summary names based on the scope they are created in. Also, passing a tensor or list of tags to a scalar summary op is no longer supported.\n"
     ]
    },
    {
     "name": "stderr",
     "output_type": "stream",
     "text": [
      "WARNING:tensorflow:From /usr/local/lib/python2.7/dist-packages/tensorflow/contrib/learn/python/learn/estimators/head.py:1362: scalar_summary (from tensorflow.python.ops.logging_ops) is deprecated and will be removed after 2016-11-30.\n",
      "Instructions for updating:\n",
      "Please switch to tf.summary.scalar. Note that tf.summary.scalar uses the node name instead of the tag. This means that TensorFlow will automatically de-duplicate summary names based on the scope they are created in. Also, passing a tensor or list of tags to a scalar summary op is no longer supported.\n"
     ]
    },
    {
     "name": "stdout",
     "output_type": "stream",
     "text": [
      "WARNING:tensorflow:Please specify metrics using MetricSpec. Using bare functions or (key, fn) tuples is deprecated and support for it will be removed on Oct 1, 2016.\n"
     ]
    },
    {
     "name": "stderr",
     "output_type": "stream",
     "text": [
      "WARNING:tensorflow:Please specify metrics using MetricSpec. Using bare functions or (key, fn) tuples is deprecated and support for it will be removed on Oct 1, 2016.\n"
     ]
    },
    {
     "name": "stdout",
     "output_type": "stream",
     "text": [
      "INFO:tensorflow:Starting evaluation at 2017-02-16-18:04:35\n"
     ]
    },
    {
     "name": "stderr",
     "output_type": "stream",
     "text": [
      "INFO:tensorflow:Starting evaluation at 2017-02-16-18:04:35\n"
     ]
    },
    {
     "name": "stdout",
     "output_type": "stream",
     "text": [
      "INFO:tensorflow:Evaluation [1/100]\n"
     ]
    },
    {
     "name": "stderr",
     "output_type": "stream",
     "text": [
      "INFO:tensorflow:Evaluation [1/100]\n"
     ]
    },
    {
     "name": "stdout",
     "output_type": "stream",
     "text": [
      "INFO:tensorflow:Evaluation [2/100]\n"
     ]
    },
    {
     "name": "stderr",
     "output_type": "stream",
     "text": [
      "INFO:tensorflow:Evaluation [2/100]\n"
     ]
    },
    {
     "name": "stdout",
     "output_type": "stream",
     "text": [
      "INFO:tensorflow:Evaluation [3/100]\n"
     ]
    },
    {
     "name": "stderr",
     "output_type": "stream",
     "text": [
      "INFO:tensorflow:Evaluation [3/100]\n"
     ]
    },
    {
     "name": "stdout",
     "output_type": "stream",
     "text": [
      "INFO:tensorflow:Evaluation [4/100]\n"
     ]
    },
    {
     "name": "stderr",
     "output_type": "stream",
     "text": [
      "INFO:tensorflow:Evaluation [4/100]\n"
     ]
    },
    {
     "name": "stdout",
     "output_type": "stream",
     "text": [
      "INFO:tensorflow:Evaluation [5/100]\n"
     ]
    },
    {
     "name": "stderr",
     "output_type": "stream",
     "text": [
      "INFO:tensorflow:Evaluation [5/100]\n"
     ]
    },
    {
     "name": "stdout",
     "output_type": "stream",
     "text": [
      "INFO:tensorflow:Evaluation [6/100]\n"
     ]
    },
    {
     "name": "stderr",
     "output_type": "stream",
     "text": [
      "INFO:tensorflow:Evaluation [6/100]\n"
     ]
    },
    {
     "name": "stdout",
     "output_type": "stream",
     "text": [
      "INFO:tensorflow:Evaluation [7/100]\n"
     ]
    },
    {
     "name": "stderr",
     "output_type": "stream",
     "text": [
      "INFO:tensorflow:Evaluation [7/100]\n"
     ]
    },
    {
     "name": "stdout",
     "output_type": "stream",
     "text": [
      "INFO:tensorflow:Evaluation [8/100]\n"
     ]
    },
    {
     "name": "stderr",
     "output_type": "stream",
     "text": [
      "INFO:tensorflow:Evaluation [8/100]\n"
     ]
    },
    {
     "name": "stdout",
     "output_type": "stream",
     "text": [
      "INFO:tensorflow:Evaluation [9/100]\n"
     ]
    },
    {
     "name": "stderr",
     "output_type": "stream",
     "text": [
      "INFO:tensorflow:Evaluation [9/100]\n"
     ]
    },
    {
     "name": "stdout",
     "output_type": "stream",
     "text": [
      "INFO:tensorflow:Evaluation [10/100]\n"
     ]
    },
    {
     "name": "stderr",
     "output_type": "stream",
     "text": [
      "INFO:tensorflow:Evaluation [10/100]\n"
     ]
    },
    {
     "name": "stdout",
     "output_type": "stream",
     "text": [
      "INFO:tensorflow:Evaluation [11/100]\n"
     ]
    },
    {
     "name": "stderr",
     "output_type": "stream",
     "text": [
      "INFO:tensorflow:Evaluation [11/100]\n"
     ]
    },
    {
     "name": "stdout",
     "output_type": "stream",
     "text": [
      "INFO:tensorflow:Evaluation [12/100]\n"
     ]
    },
    {
     "name": "stderr",
     "output_type": "stream",
     "text": [
      "INFO:tensorflow:Evaluation [12/100]\n"
     ]
    },
    {
     "name": "stdout",
     "output_type": "stream",
     "text": [
      "INFO:tensorflow:Evaluation [13/100]\n"
     ]
    },
    {
     "name": "stderr",
     "output_type": "stream",
     "text": [
      "INFO:tensorflow:Evaluation [13/100]\n"
     ]
    },
    {
     "name": "stdout",
     "output_type": "stream",
     "text": [
      "INFO:tensorflow:Evaluation [14/100]\n"
     ]
    },
    {
     "name": "stderr",
     "output_type": "stream",
     "text": [
      "INFO:tensorflow:Evaluation [14/100]\n"
     ]
    },
    {
     "name": "stdout",
     "output_type": "stream",
     "text": [
      "INFO:tensorflow:Evaluation [15/100]\n"
     ]
    },
    {
     "name": "stderr",
     "output_type": "stream",
     "text": [
      "INFO:tensorflow:Evaluation [15/100]\n"
     ]
    },
    {
     "name": "stdout",
     "output_type": "stream",
     "text": [
      "INFO:tensorflow:Evaluation [16/100]\n"
     ]
    },
    {
     "name": "stderr",
     "output_type": "stream",
     "text": [
      "INFO:tensorflow:Evaluation [16/100]\n"
     ]
    },
    {
     "name": "stdout",
     "output_type": "stream",
     "text": [
      "INFO:tensorflow:Evaluation [17/100]\n"
     ]
    },
    {
     "name": "stderr",
     "output_type": "stream",
     "text": [
      "INFO:tensorflow:Evaluation [17/100]\n"
     ]
    },
    {
     "name": "stdout",
     "output_type": "stream",
     "text": [
      "INFO:tensorflow:Evaluation [18/100]\n"
     ]
    },
    {
     "name": "stderr",
     "output_type": "stream",
     "text": [
      "INFO:tensorflow:Evaluation [18/100]\n"
     ]
    },
    {
     "name": "stdout",
     "output_type": "stream",
     "text": [
      "INFO:tensorflow:Evaluation [19/100]\n"
     ]
    },
    {
     "name": "stderr",
     "output_type": "stream",
     "text": [
      "INFO:tensorflow:Evaluation [19/100]\n"
     ]
    },
    {
     "name": "stdout",
     "output_type": "stream",
     "text": [
      "INFO:tensorflow:Evaluation [20/100]\n"
     ]
    },
    {
     "name": "stderr",
     "output_type": "stream",
     "text": [
      "INFO:tensorflow:Evaluation [20/100]\n"
     ]
    },
    {
     "name": "stdout",
     "output_type": "stream",
     "text": [
      "INFO:tensorflow:Evaluation [21/100]\n"
     ]
    },
    {
     "name": "stderr",
     "output_type": "stream",
     "text": [
      "INFO:tensorflow:Evaluation [21/100]\n"
     ]
    },
    {
     "name": "stdout",
     "output_type": "stream",
     "text": [
      "INFO:tensorflow:Evaluation [22/100]\n"
     ]
    },
    {
     "name": "stderr",
     "output_type": "stream",
     "text": [
      "INFO:tensorflow:Evaluation [22/100]\n"
     ]
    },
    {
     "name": "stdout",
     "output_type": "stream",
     "text": [
      "INFO:tensorflow:Evaluation [23/100]\n"
     ]
    },
    {
     "name": "stderr",
     "output_type": "stream",
     "text": [
      "INFO:tensorflow:Evaluation [23/100]\n"
     ]
    },
    {
     "name": "stdout",
     "output_type": "stream",
     "text": [
      "INFO:tensorflow:Evaluation [24/100]\n"
     ]
    },
    {
     "name": "stderr",
     "output_type": "stream",
     "text": [
      "INFO:tensorflow:Evaluation [24/100]\n"
     ]
    },
    {
     "name": "stdout",
     "output_type": "stream",
     "text": [
      "INFO:tensorflow:Evaluation [25/100]\n"
     ]
    },
    {
     "name": "stderr",
     "output_type": "stream",
     "text": [
      "INFO:tensorflow:Evaluation [25/100]\n"
     ]
    },
    {
     "name": "stdout",
     "output_type": "stream",
     "text": [
      "INFO:tensorflow:Evaluation [26/100]\n"
     ]
    },
    {
     "name": "stderr",
     "output_type": "stream",
     "text": [
      "INFO:tensorflow:Evaluation [26/100]\n"
     ]
    },
    {
     "name": "stdout",
     "output_type": "stream",
     "text": [
      "INFO:tensorflow:Evaluation [27/100]\n"
     ]
    },
    {
     "name": "stderr",
     "output_type": "stream",
     "text": [
      "INFO:tensorflow:Evaluation [27/100]\n"
     ]
    },
    {
     "name": "stdout",
     "output_type": "stream",
     "text": [
      "INFO:tensorflow:Evaluation [28/100]\n"
     ]
    },
    {
     "name": "stderr",
     "output_type": "stream",
     "text": [
      "INFO:tensorflow:Evaluation [28/100]\n"
     ]
    },
    {
     "name": "stdout",
     "output_type": "stream",
     "text": [
      "INFO:tensorflow:Evaluation [29/100]\n"
     ]
    },
    {
     "name": "stderr",
     "output_type": "stream",
     "text": [
      "INFO:tensorflow:Evaluation [29/100]\n"
     ]
    },
    {
     "name": "stdout",
     "output_type": "stream",
     "text": [
      "INFO:tensorflow:Evaluation [30/100]\n"
     ]
    },
    {
     "name": "stderr",
     "output_type": "stream",
     "text": [
      "INFO:tensorflow:Evaluation [30/100]\n"
     ]
    },
    {
     "name": "stdout",
     "output_type": "stream",
     "text": [
      "INFO:tensorflow:Evaluation [31/100]\n"
     ]
    },
    {
     "name": "stderr",
     "output_type": "stream",
     "text": [
      "INFO:tensorflow:Evaluation [31/100]\n"
     ]
    },
    {
     "name": "stdout",
     "output_type": "stream",
     "text": [
      "INFO:tensorflow:Evaluation [32/100]\n"
     ]
    },
    {
     "name": "stderr",
     "output_type": "stream",
     "text": [
      "INFO:tensorflow:Evaluation [32/100]\n"
     ]
    },
    {
     "name": "stdout",
     "output_type": "stream",
     "text": [
      "INFO:tensorflow:Evaluation [33/100]\n"
     ]
    },
    {
     "name": "stderr",
     "output_type": "stream",
     "text": [
      "INFO:tensorflow:Evaluation [33/100]\n"
     ]
    },
    {
     "name": "stdout",
     "output_type": "stream",
     "text": [
      "INFO:tensorflow:Evaluation [34/100]\n"
     ]
    },
    {
     "name": "stderr",
     "output_type": "stream",
     "text": [
      "INFO:tensorflow:Evaluation [34/100]\n"
     ]
    },
    {
     "name": "stdout",
     "output_type": "stream",
     "text": [
      "INFO:tensorflow:Evaluation [35/100]\n"
     ]
    },
    {
     "name": "stderr",
     "output_type": "stream",
     "text": [
      "INFO:tensorflow:Evaluation [35/100]\n"
     ]
    },
    {
     "name": "stdout",
     "output_type": "stream",
     "text": [
      "INFO:tensorflow:Evaluation [36/100]\n"
     ]
    },
    {
     "name": "stderr",
     "output_type": "stream",
     "text": [
      "INFO:tensorflow:Evaluation [36/100]\n"
     ]
    },
    {
     "name": "stdout",
     "output_type": "stream",
     "text": [
      "INFO:tensorflow:Evaluation [37/100]\n"
     ]
    },
    {
     "name": "stderr",
     "output_type": "stream",
     "text": [
      "INFO:tensorflow:Evaluation [37/100]\n"
     ]
    },
    {
     "name": "stdout",
     "output_type": "stream",
     "text": [
      "INFO:tensorflow:Evaluation [38/100]\n"
     ]
    },
    {
     "name": "stderr",
     "output_type": "stream",
     "text": [
      "INFO:tensorflow:Evaluation [38/100]\n"
     ]
    },
    {
     "name": "stdout",
     "output_type": "stream",
     "text": [
      "INFO:tensorflow:Evaluation [39/100]\n"
     ]
    },
    {
     "name": "stderr",
     "output_type": "stream",
     "text": [
      "INFO:tensorflow:Evaluation [39/100]\n"
     ]
    },
    {
     "name": "stdout",
     "output_type": "stream",
     "text": [
      "INFO:tensorflow:Evaluation [40/100]\n"
     ]
    },
    {
     "name": "stderr",
     "output_type": "stream",
     "text": [
      "INFO:tensorflow:Evaluation [40/100]\n"
     ]
    },
    {
     "name": "stdout",
     "output_type": "stream",
     "text": [
      "INFO:tensorflow:Evaluation [41/100]\n"
     ]
    },
    {
     "name": "stderr",
     "output_type": "stream",
     "text": [
      "INFO:tensorflow:Evaluation [41/100]\n"
     ]
    },
    {
     "name": "stdout",
     "output_type": "stream",
     "text": [
      "INFO:tensorflow:Evaluation [42/100]\n"
     ]
    },
    {
     "name": "stderr",
     "output_type": "stream",
     "text": [
      "INFO:tensorflow:Evaluation [42/100]\n"
     ]
    },
    {
     "name": "stdout",
     "output_type": "stream",
     "text": [
      "INFO:tensorflow:Evaluation [43/100]\n"
     ]
    },
    {
     "name": "stderr",
     "output_type": "stream",
     "text": [
      "INFO:tensorflow:Evaluation [43/100]\n"
     ]
    },
    {
     "name": "stdout",
     "output_type": "stream",
     "text": [
      "INFO:tensorflow:Evaluation [44/100]\n"
     ]
    },
    {
     "name": "stderr",
     "output_type": "stream",
     "text": [
      "INFO:tensorflow:Evaluation [44/100]\n"
     ]
    },
    {
     "name": "stdout",
     "output_type": "stream",
     "text": [
      "INFO:tensorflow:Evaluation [45/100]\n"
     ]
    },
    {
     "name": "stderr",
     "output_type": "stream",
     "text": [
      "INFO:tensorflow:Evaluation [45/100]\n"
     ]
    },
    {
     "name": "stdout",
     "output_type": "stream",
     "text": [
      "INFO:tensorflow:Evaluation [46/100]\n"
     ]
    },
    {
     "name": "stderr",
     "output_type": "stream",
     "text": [
      "INFO:tensorflow:Evaluation [46/100]\n"
     ]
    },
    {
     "name": "stdout",
     "output_type": "stream",
     "text": [
      "INFO:tensorflow:Evaluation [47/100]\n"
     ]
    },
    {
     "name": "stderr",
     "output_type": "stream",
     "text": [
      "INFO:tensorflow:Evaluation [47/100]\n"
     ]
    },
    {
     "name": "stdout",
     "output_type": "stream",
     "text": [
      "INFO:tensorflow:Evaluation [48/100]\n"
     ]
    },
    {
     "name": "stderr",
     "output_type": "stream",
     "text": [
      "INFO:tensorflow:Evaluation [48/100]\n"
     ]
    },
    {
     "name": "stdout",
     "output_type": "stream",
     "text": [
      "INFO:tensorflow:Evaluation [49/100]\n"
     ]
    },
    {
     "name": "stderr",
     "output_type": "stream",
     "text": [
      "INFO:tensorflow:Evaluation [49/100]\n"
     ]
    },
    {
     "name": "stdout",
     "output_type": "stream",
     "text": [
      "INFO:tensorflow:Evaluation [50/100]\n"
     ]
    },
    {
     "name": "stderr",
     "output_type": "stream",
     "text": [
      "INFO:tensorflow:Evaluation [50/100]\n"
     ]
    },
    {
     "name": "stdout",
     "output_type": "stream",
     "text": [
      "INFO:tensorflow:Evaluation [51/100]\n"
     ]
    },
    {
     "name": "stderr",
     "output_type": "stream",
     "text": [
      "INFO:tensorflow:Evaluation [51/100]\n"
     ]
    },
    {
     "name": "stdout",
     "output_type": "stream",
     "text": [
      "INFO:tensorflow:Evaluation [52/100]\n"
     ]
    },
    {
     "name": "stderr",
     "output_type": "stream",
     "text": [
      "INFO:tensorflow:Evaluation [52/100]\n"
     ]
    },
    {
     "name": "stdout",
     "output_type": "stream",
     "text": [
      "INFO:tensorflow:Evaluation [53/100]\n"
     ]
    },
    {
     "name": "stderr",
     "output_type": "stream",
     "text": [
      "INFO:tensorflow:Evaluation [53/100]\n"
     ]
    },
    {
     "name": "stdout",
     "output_type": "stream",
     "text": [
      "INFO:tensorflow:Evaluation [54/100]\n"
     ]
    },
    {
     "name": "stderr",
     "output_type": "stream",
     "text": [
      "INFO:tensorflow:Evaluation [54/100]\n"
     ]
    },
    {
     "name": "stdout",
     "output_type": "stream",
     "text": [
      "INFO:tensorflow:Evaluation [55/100]\n"
     ]
    },
    {
     "name": "stderr",
     "output_type": "stream",
     "text": [
      "INFO:tensorflow:Evaluation [55/100]\n"
     ]
    },
    {
     "name": "stdout",
     "output_type": "stream",
     "text": [
      "INFO:tensorflow:Evaluation [56/100]\n"
     ]
    },
    {
     "name": "stderr",
     "output_type": "stream",
     "text": [
      "INFO:tensorflow:Evaluation [56/100]\n"
     ]
    },
    {
     "name": "stdout",
     "output_type": "stream",
     "text": [
      "INFO:tensorflow:Evaluation [57/100]\n"
     ]
    },
    {
     "name": "stderr",
     "output_type": "stream",
     "text": [
      "INFO:tensorflow:Evaluation [57/100]\n"
     ]
    },
    {
     "name": "stdout",
     "output_type": "stream",
     "text": [
      "INFO:tensorflow:Evaluation [58/100]\n"
     ]
    },
    {
     "name": "stderr",
     "output_type": "stream",
     "text": [
      "INFO:tensorflow:Evaluation [58/100]\n"
     ]
    },
    {
     "name": "stdout",
     "output_type": "stream",
     "text": [
      "INFO:tensorflow:Evaluation [59/100]\n"
     ]
    },
    {
     "name": "stderr",
     "output_type": "stream",
     "text": [
      "INFO:tensorflow:Evaluation [59/100]\n"
     ]
    },
    {
     "name": "stdout",
     "output_type": "stream",
     "text": [
      "INFO:tensorflow:Evaluation [60/100]\n"
     ]
    },
    {
     "name": "stderr",
     "output_type": "stream",
     "text": [
      "INFO:tensorflow:Evaluation [60/100]\n"
     ]
    },
    {
     "name": "stdout",
     "output_type": "stream",
     "text": [
      "INFO:tensorflow:Evaluation [61/100]\n"
     ]
    },
    {
     "name": "stderr",
     "output_type": "stream",
     "text": [
      "INFO:tensorflow:Evaluation [61/100]\n"
     ]
    },
    {
     "name": "stdout",
     "output_type": "stream",
     "text": [
      "INFO:tensorflow:Evaluation [62/100]\n"
     ]
    },
    {
     "name": "stderr",
     "output_type": "stream",
     "text": [
      "INFO:tensorflow:Evaluation [62/100]\n"
     ]
    },
    {
     "name": "stdout",
     "output_type": "stream",
     "text": [
      "INFO:tensorflow:Evaluation [63/100]\n"
     ]
    },
    {
     "name": "stderr",
     "output_type": "stream",
     "text": [
      "INFO:tensorflow:Evaluation [63/100]\n"
     ]
    },
    {
     "name": "stdout",
     "output_type": "stream",
     "text": [
      "INFO:tensorflow:Evaluation [64/100]\n"
     ]
    },
    {
     "name": "stderr",
     "output_type": "stream",
     "text": [
      "INFO:tensorflow:Evaluation [64/100]\n"
     ]
    },
    {
     "name": "stdout",
     "output_type": "stream",
     "text": [
      "INFO:tensorflow:Evaluation [65/100]\n"
     ]
    },
    {
     "name": "stderr",
     "output_type": "stream",
     "text": [
      "INFO:tensorflow:Evaluation [65/100]\n"
     ]
    },
    {
     "name": "stdout",
     "output_type": "stream",
     "text": [
      "INFO:tensorflow:Evaluation [66/100]\n"
     ]
    },
    {
     "name": "stderr",
     "output_type": "stream",
     "text": [
      "INFO:tensorflow:Evaluation [66/100]\n"
     ]
    },
    {
     "name": "stdout",
     "output_type": "stream",
     "text": [
      "INFO:tensorflow:Evaluation [67/100]\n"
     ]
    },
    {
     "name": "stderr",
     "output_type": "stream",
     "text": [
      "INFO:tensorflow:Evaluation [67/100]\n"
     ]
    },
    {
     "name": "stdout",
     "output_type": "stream",
     "text": [
      "INFO:tensorflow:Evaluation [68/100]\n"
     ]
    },
    {
     "name": "stderr",
     "output_type": "stream",
     "text": [
      "INFO:tensorflow:Evaluation [68/100]\n"
     ]
    },
    {
     "name": "stdout",
     "output_type": "stream",
     "text": [
      "INFO:tensorflow:Evaluation [69/100]\n"
     ]
    },
    {
     "name": "stderr",
     "output_type": "stream",
     "text": [
      "INFO:tensorflow:Evaluation [69/100]\n"
     ]
    },
    {
     "name": "stdout",
     "output_type": "stream",
     "text": [
      "INFO:tensorflow:Evaluation [70/100]\n"
     ]
    },
    {
     "name": "stderr",
     "output_type": "stream",
     "text": [
      "INFO:tensorflow:Evaluation [70/100]\n"
     ]
    },
    {
     "name": "stdout",
     "output_type": "stream",
     "text": [
      "INFO:tensorflow:Evaluation [71/100]\n"
     ]
    },
    {
     "name": "stderr",
     "output_type": "stream",
     "text": [
      "INFO:tensorflow:Evaluation [71/100]\n"
     ]
    },
    {
     "name": "stdout",
     "output_type": "stream",
     "text": [
      "INFO:tensorflow:Evaluation [72/100]\n"
     ]
    },
    {
     "name": "stderr",
     "output_type": "stream",
     "text": [
      "INFO:tensorflow:Evaluation [72/100]\n"
     ]
    },
    {
     "name": "stdout",
     "output_type": "stream",
     "text": [
      "INFO:tensorflow:Evaluation [73/100]\n"
     ]
    },
    {
     "name": "stderr",
     "output_type": "stream",
     "text": [
      "INFO:tensorflow:Evaluation [73/100]\n"
     ]
    },
    {
     "name": "stdout",
     "output_type": "stream",
     "text": [
      "INFO:tensorflow:Evaluation [74/100]\n"
     ]
    },
    {
     "name": "stderr",
     "output_type": "stream",
     "text": [
      "INFO:tensorflow:Evaluation [74/100]\n"
     ]
    },
    {
     "name": "stdout",
     "output_type": "stream",
     "text": [
      "INFO:tensorflow:Evaluation [75/100]\n"
     ]
    },
    {
     "name": "stderr",
     "output_type": "stream",
     "text": [
      "INFO:tensorflow:Evaluation [75/100]\n"
     ]
    },
    {
     "name": "stdout",
     "output_type": "stream",
     "text": [
      "INFO:tensorflow:Evaluation [76/100]\n"
     ]
    },
    {
     "name": "stderr",
     "output_type": "stream",
     "text": [
      "INFO:tensorflow:Evaluation [76/100]\n"
     ]
    },
    {
     "name": "stdout",
     "output_type": "stream",
     "text": [
      "INFO:tensorflow:Evaluation [77/100]\n"
     ]
    },
    {
     "name": "stderr",
     "output_type": "stream",
     "text": [
      "INFO:tensorflow:Evaluation [77/100]\n"
     ]
    },
    {
     "name": "stdout",
     "output_type": "stream",
     "text": [
      "INFO:tensorflow:Evaluation [78/100]\n"
     ]
    },
    {
     "name": "stderr",
     "output_type": "stream",
     "text": [
      "INFO:tensorflow:Evaluation [78/100]\n"
     ]
    },
    {
     "name": "stdout",
     "output_type": "stream",
     "text": [
      "INFO:tensorflow:Evaluation [79/100]\n"
     ]
    },
    {
     "name": "stderr",
     "output_type": "stream",
     "text": [
      "INFO:tensorflow:Evaluation [79/100]\n"
     ]
    },
    {
     "name": "stdout",
     "output_type": "stream",
     "text": [
      "INFO:tensorflow:Evaluation [80/100]\n"
     ]
    },
    {
     "name": "stderr",
     "output_type": "stream",
     "text": [
      "INFO:tensorflow:Evaluation [80/100]\n"
     ]
    },
    {
     "name": "stdout",
     "output_type": "stream",
     "text": [
      "INFO:tensorflow:Evaluation [81/100]\n"
     ]
    },
    {
     "name": "stderr",
     "output_type": "stream",
     "text": [
      "INFO:tensorflow:Evaluation [81/100]\n"
     ]
    },
    {
     "name": "stdout",
     "output_type": "stream",
     "text": [
      "INFO:tensorflow:Evaluation [82/100]\n"
     ]
    },
    {
     "name": "stderr",
     "output_type": "stream",
     "text": [
      "INFO:tensorflow:Evaluation [82/100]\n"
     ]
    },
    {
     "name": "stdout",
     "output_type": "stream",
     "text": [
      "INFO:tensorflow:Evaluation [83/100]\n"
     ]
    },
    {
     "name": "stderr",
     "output_type": "stream",
     "text": [
      "INFO:tensorflow:Evaluation [83/100]\n"
     ]
    },
    {
     "name": "stdout",
     "output_type": "stream",
     "text": [
      "INFO:tensorflow:Evaluation [84/100]\n"
     ]
    },
    {
     "name": "stderr",
     "output_type": "stream",
     "text": [
      "INFO:tensorflow:Evaluation [84/100]\n"
     ]
    },
    {
     "name": "stdout",
     "output_type": "stream",
     "text": [
      "INFO:tensorflow:Evaluation [85/100]\n"
     ]
    },
    {
     "name": "stderr",
     "output_type": "stream",
     "text": [
      "INFO:tensorflow:Evaluation [85/100]\n"
     ]
    },
    {
     "name": "stdout",
     "output_type": "stream",
     "text": [
      "INFO:tensorflow:Evaluation [86/100]\n"
     ]
    },
    {
     "name": "stderr",
     "output_type": "stream",
     "text": [
      "INFO:tensorflow:Evaluation [86/100]\n"
     ]
    },
    {
     "name": "stdout",
     "output_type": "stream",
     "text": [
      "INFO:tensorflow:Evaluation [87/100]\n"
     ]
    },
    {
     "name": "stderr",
     "output_type": "stream",
     "text": [
      "INFO:tensorflow:Evaluation [87/100]\n"
     ]
    },
    {
     "name": "stdout",
     "output_type": "stream",
     "text": [
      "INFO:tensorflow:Evaluation [88/100]\n"
     ]
    },
    {
     "name": "stderr",
     "output_type": "stream",
     "text": [
      "INFO:tensorflow:Evaluation [88/100]\n"
     ]
    },
    {
     "name": "stdout",
     "output_type": "stream",
     "text": [
      "INFO:tensorflow:Evaluation [89/100]\n"
     ]
    },
    {
     "name": "stderr",
     "output_type": "stream",
     "text": [
      "INFO:tensorflow:Evaluation [89/100]\n"
     ]
    },
    {
     "name": "stdout",
     "output_type": "stream",
     "text": [
      "INFO:tensorflow:Evaluation [90/100]\n"
     ]
    },
    {
     "name": "stderr",
     "output_type": "stream",
     "text": [
      "INFO:tensorflow:Evaluation [90/100]\n"
     ]
    },
    {
     "name": "stdout",
     "output_type": "stream",
     "text": [
      "INFO:tensorflow:Evaluation [91/100]\n"
     ]
    },
    {
     "name": "stderr",
     "output_type": "stream",
     "text": [
      "INFO:tensorflow:Evaluation [91/100]\n"
     ]
    },
    {
     "name": "stdout",
     "output_type": "stream",
     "text": [
      "INFO:tensorflow:Evaluation [92/100]\n"
     ]
    },
    {
     "name": "stderr",
     "output_type": "stream",
     "text": [
      "INFO:tensorflow:Evaluation [92/100]\n"
     ]
    },
    {
     "name": "stdout",
     "output_type": "stream",
     "text": [
      "INFO:tensorflow:Evaluation [93/100]\n"
     ]
    },
    {
     "name": "stderr",
     "output_type": "stream",
     "text": [
      "INFO:tensorflow:Evaluation [93/100]\n"
     ]
    },
    {
     "name": "stdout",
     "output_type": "stream",
     "text": [
      "INFO:tensorflow:Evaluation [94/100]\n"
     ]
    },
    {
     "name": "stderr",
     "output_type": "stream",
     "text": [
      "INFO:tensorflow:Evaluation [94/100]\n"
     ]
    },
    {
     "name": "stdout",
     "output_type": "stream",
     "text": [
      "INFO:tensorflow:Evaluation [95/100]\n"
     ]
    },
    {
     "name": "stderr",
     "output_type": "stream",
     "text": [
      "INFO:tensorflow:Evaluation [95/100]\n"
     ]
    },
    {
     "name": "stdout",
     "output_type": "stream",
     "text": [
      "INFO:tensorflow:Evaluation [96/100]\n"
     ]
    },
    {
     "name": "stderr",
     "output_type": "stream",
     "text": [
      "INFO:tensorflow:Evaluation [96/100]\n"
     ]
    },
    {
     "name": "stdout",
     "output_type": "stream",
     "text": [
      "INFO:tensorflow:Evaluation [97/100]\n"
     ]
    },
    {
     "name": "stderr",
     "output_type": "stream",
     "text": [
      "INFO:tensorflow:Evaluation [97/100]\n"
     ]
    },
    {
     "name": "stdout",
     "output_type": "stream",
     "text": [
      "INFO:tensorflow:Evaluation [98/100]\n"
     ]
    },
    {
     "name": "stderr",
     "output_type": "stream",
     "text": [
      "INFO:tensorflow:Evaluation [98/100]\n"
     ]
    },
    {
     "name": "stdout",
     "output_type": "stream",
     "text": [
      "INFO:tensorflow:Evaluation [99/100]\n"
     ]
    },
    {
     "name": "stderr",
     "output_type": "stream",
     "text": [
      "INFO:tensorflow:Evaluation [99/100]\n"
     ]
    },
    {
     "name": "stdout",
     "output_type": "stream",
     "text": [
      "INFO:tensorflow:Evaluation [100/100]\n"
     ]
    },
    {
     "name": "stderr",
     "output_type": "stream",
     "text": [
      "INFO:tensorflow:Evaluation [100/100]\n"
     ]
    },
    {
     "name": "stdout",
     "output_type": "stream",
     "text": [
      "INFO:tensorflow:Finished evaluation at 2017-02-16-18:04:36\n"
     ]
    },
    {
     "name": "stderr",
     "output_type": "stream",
     "text": [
      "INFO:tensorflow:Finished evaluation at 2017-02-16-18:04:36\n"
     ]
    },
    {
     "name": "stdout",
     "output_type": "stream",
     "text": [
      "INFO:tensorflow:Saving dict for global step 250: accuracy = 0.8666, auc = 0.987772, global_step = 250, loss = 0.396829\n"
     ]
    },
    {
     "name": "stderr",
     "output_type": "stream",
     "text": [
      "INFO:tensorflow:Saving dict for global step 250: accuracy = 0.8666, auc = 0.987772, global_step = 250, loss = 0.396829\n"
     ]
    },
    {
     "name": "stdout",
     "output_type": "stream",
     "text": [
      "WARNING:tensorflow:Skipping summary for global_step, must be a float or np.float32.\n"
     ]
    },
    {
     "name": "stderr",
     "output_type": "stream",
     "text": [
      "WARNING:tensorflow:Skipping summary for global_step, must be a float or np.float32.\n"
     ]
    },
    {
     "name": "stdout",
     "output_type": "stream",
     "text": [
      "Local training done.\n"
     ]
    }
   ],
   "source": [
    "sd.local_train(\n",
    "  train_file_pattern=os.path.join(LOCAL_ROOT, 'train.*'),\n",
    "  eval_file_pattern=os.path.join(LOCAL_ROOT, 'eval.*'),\n",
    "  preprocess_output_dir=os.path.join(LOCAL_ROOT, 'preprocess'),\n",
    "  output_dir=os.path.join(LOCAL_ROOT, 'training'),\n",
    "  transforms_file=os.path.join(LOCAL_ROOT, 'transforms.json'),\n",
    "  model_type='dnn_classification',\n",
    "  top_n=3,\n",
    "  max_steps=250,\n",
    "  layer_sizes=[10, 8, 5]\n",
    ")\n"
   ]
  },
  {
   "cell_type": "markdown",
   "metadata": {},
   "source": [
    "We gained ~0.1 accuracy by just scaling the numbers! Try playing with other transforms. The output of training contains some folders. The final model used for prediction is saved in {LOCAL_ROOT}/training/model"
   ]
  },
  {
   "cell_type": "code",
   "execution_count": 31,
   "metadata": {
    "collapsed": false
   },
   "outputs": [
    {
     "name": "stdout",
     "output_type": "stream",
     "text": [
      "/content/Downloads/iris_notebook_workspace/training/intermediate_models:\r\n",
      "00000001  00000250\r\n",
      "\r\n",
      "/content/Downloads/iris_notebook_workspace/training/model:\r\n",
      "checkpoint\t\t    export.index  schema.json\t   vocab_flower.csv\r\n",
      "export.data-00000-of-00001  export.meta   transforms.json\r\n",
      "\r\n",
      "/content/Downloads/iris_notebook_workspace/training/train:\r\n",
      "checkpoint\t\t\t\t     model.ckpt-1.index\r\n",
      "eval\t\t\t\t\t     model.ckpt-1.meta\r\n",
      "events.out.tfevents.1487268268.5fd6f503cb2d  model.ckpt-250.data-00000-of-00001\r\n",
      "graph.pbtxt\t\t\t\t     model.ckpt-250.index\r\n",
      "model.ckpt-1.data-00000-of-00001\t     model.ckpt-250.meta\r\n"
     ]
    }
   ],
   "source": [
    "!ls {LOCAL_ROOT}/training/*"
   ]
  },
  {
   "cell_type": "markdown",
   "metadata": {},
   "source": [
    "<a name=\"local_prediction\"></a>\n",
    "Local prediction\n",
    "================"
   ]
  },
  {
   "cell_type": "markdown",
   "metadata": {},
   "source": [
    "Local predict uses the model produced by training. The input data can be a csv string or Pandas DataFrame, but the schema must match the data set used for training. The target column is optional. As this was a classification problem, a probability is computed for each target label. As top_n=3 was used, the 3 labels associated with the 3 largest probabilities are returned by the model."
   ]
  },
  {
   "cell_type": "code",
   "execution_count": 35,
   "metadata": {
    "collapsed": false
   },
   "outputs": [
    {
     "name": "stdout",
     "output_type": "stream",
     "text": [
      "Starting local prediction.\n",
      "Local prediction done.\n"
     ]
    },
    {
     "data": {
      "text/html": [
       "<div>\n",
       "<table border=\"1\" class=\"dataframe\">\n",
       "  <thead>\n",
       "    <tr style=\"text-align: right;\">\n",
       "      <th></th>\n",
       "      <th>key_from_input</th>\n",
       "      <th>target_from_input</th>\n",
       "      <th>top_1_label</th>\n",
       "      <th>top_1_score</th>\n",
       "      <th>top_2_label</th>\n",
       "      <th>top_2_score</th>\n",
       "      <th>top_3_label</th>\n",
       "      <th>top_3_score</th>\n",
       "    </tr>\n",
       "  </thead>\n",
       "  <tbody>\n",
       "    <tr>\n",
       "      <th>0</th>\n",
       "      <td>101.0</td>\n",
       "      <td>Iris-virginica</td>\n",
       "      <td>Iris-virginica</td>\n",
       "      <td>0.999545</td>\n",
       "      <td>Iris-setosa</td>\n",
       "      <td>0.000312</td>\n",
       "      <td>Iris-versicolor</td>\n",
       "      <td>1.438035e-04</td>\n",
       "    </tr>\n",
       "    <tr>\n",
       "      <th>1</th>\n",
       "      <td>107.0</td>\n",
       "      <td>Iris-virginica</td>\n",
       "      <td>Iris-versicolor</td>\n",
       "      <td>0.889288</td>\n",
       "      <td>Iris-virginica</td>\n",
       "      <td>0.110672</td>\n",
       "      <td>Iris-setosa</td>\n",
       "      <td>4.058492e-05</td>\n",
       "    </tr>\n",
       "    <tr>\n",
       "      <th>2</th>\n",
       "      <td>100.0</td>\n",
       "      <td>Iris-versicolor</td>\n",
       "      <td>Iris-versicolor</td>\n",
       "      <td>0.999998</td>\n",
       "      <td>Iris-virginica</td>\n",
       "      <td>0.000002</td>\n",
       "      <td>Iris-setosa</td>\n",
       "      <td>8.128809e-08</td>\n",
       "    </tr>\n",
       "    <tr>\n",
       "      <th>3</th>\n",
       "      <td>70.0</td>\n",
       "      <td>Iris-versicolor</td>\n",
       "      <td>Iris-versicolor</td>\n",
       "      <td>0.999998</td>\n",
       "      <td>Iris-virginica</td>\n",
       "      <td>0.000002</td>\n",
       "      <td>Iris-setosa</td>\n",
       "      <td>6.455824e-08</td>\n",
       "    </tr>\n",
       "    <tr>\n",
       "      <th>4</th>\n",
       "      <td>13.0</td>\n",
       "      <td>Iris-setosa</td>\n",
       "      <td>Iris-setosa</td>\n",
       "      <td>0.999959</td>\n",
       "      <td>Iris-virginica</td>\n",
       "      <td>0.000041</td>\n",
       "      <td>Iris-versicolor</td>\n",
       "      <td>2.726339e-10</td>\n",
       "    </tr>\n",
       "    <tr>\n",
       "      <th>5</th>\n",
       "      <td>11.0</td>\n",
       "      <td>Iris-setosa</td>\n",
       "      <td>Iris-setosa</td>\n",
       "      <td>0.999797</td>\n",
       "      <td>Iris-virginica</td>\n",
       "      <td>0.000203</td>\n",
       "      <td>Iris-versicolor</td>\n",
       "      <td>7.502829e-12</td>\n",
       "    </tr>\n",
       "  </tbody>\n",
       "</table>\n",
       "</div>"
      ],
      "text/plain": [
       "   key_from_input target_from_input      top_1_label  top_1_score  \\\n",
       "0           101.0    Iris-virginica   Iris-virginica     0.999545   \n",
       "1           107.0    Iris-virginica  Iris-versicolor     0.889288   \n",
       "2           100.0   Iris-versicolor  Iris-versicolor     0.999998   \n",
       "3            70.0   Iris-versicolor  Iris-versicolor     0.999998   \n",
       "4            13.0       Iris-setosa      Iris-setosa     0.999959   \n",
       "5            11.0       Iris-setosa      Iris-setosa     0.999797   \n",
       "\n",
       "      top_2_label  top_2_score      top_3_label  top_3_score\\n  \n",
       "0     Iris-setosa     0.000312  Iris-versicolor   1.438035e-04  \n",
       "1  Iris-virginica     0.110672      Iris-setosa   4.058492e-05  \n",
       "2  Iris-virginica     0.000002      Iris-setosa   8.128809e-08  \n",
       "3  Iris-virginica     0.000002      Iris-setosa   6.455824e-08  \n",
       "4  Iris-virginica     0.000041  Iris-versicolor   2.726339e-10  \n",
       "5  Iris-virginica     0.000203  Iris-versicolor   7.502829e-12  "
      ]
     },
     "execution_count": 35,
     "metadata": {},
     "output_type": "execute_result"
    }
   ],
   "source": [
    "sd.local_predict(\n",
    "  model_dir=os.path.join(LOCAL_ROOT, 'training/model'),\n",
    "  data=['Iris-virginica,101,6.3,3.3,6,2.5',\n",
    "        'Iris-virginica,107,4.9,2.5,4.5,1.7',\n",
    "        'Iris-versicolor,100,5.7,2.8,4.1,1.3',\n",
    "        'Iris-versicolor,70,5.6,2.5,3.9,1.1',\n",
    "        'Iris-setosa,13,4.8,3,1.4,0.1',\n",
    "        'Iris-setosa,11,5.4,3.7,1.5,0.2']\n",
    ")"
   ]
  },
  {
   "cell_type": "code",
   "execution_count": 36,
   "metadata": {
    "collapsed": false
   },
   "outputs": [
    {
     "name": "stdout",
     "output_type": "stream",
     "text": [
      "Starting local prediction.\n",
      "Local prediction done.\n"
     ]
    },
    {
     "data": {
      "text/html": [
       "<div>\n",
       "<table border=\"1\" class=\"dataframe\">\n",
       "  <thead>\n",
       "    <tr style=\"text-align: right;\">\n",
       "      <th></th>\n",
       "      <th>key_from_input</th>\n",
       "      <th>target_from_input</th>\n",
       "      <th>top_1_label</th>\n",
       "      <th>top_1_score</th>\n",
       "      <th>top_2_label</th>\n",
       "      <th>top_2_score</th>\n",
       "      <th>top_3_label</th>\n",
       "      <th>top_3_score</th>\n",
       "    </tr>\n",
       "  </thead>\n",
       "  <tbody>\n",
       "    <tr>\n",
       "      <th>0</th>\n",
       "      <td>101.0</td>\n",
       "      <td>UNKNOWN</td>\n",
       "      <td>Iris-virginica</td>\n",
       "      <td>0.999545</td>\n",
       "      <td>Iris-setosa</td>\n",
       "      <td>0.000312</td>\n",
       "      <td>Iris-versicolor</td>\n",
       "      <td>1.438035e-04</td>\n",
       "    </tr>\n",
       "    <tr>\n",
       "      <th>1</th>\n",
       "      <td>107.0</td>\n",
       "      <td>UNKNOWN</td>\n",
       "      <td>Iris-versicolor</td>\n",
       "      <td>0.889288</td>\n",
       "      <td>Iris-virginica</td>\n",
       "      <td>0.110672</td>\n",
       "      <td>Iris-setosa</td>\n",
       "      <td>4.058489e-05</td>\n",
       "    </tr>\n",
       "    <tr>\n",
       "      <th>2</th>\n",
       "      <td>100.0</td>\n",
       "      <td>UNKNOWN</td>\n",
       "      <td>Iris-versicolor</td>\n",
       "      <td>0.999998</td>\n",
       "      <td>Iris-virginica</td>\n",
       "      <td>0.000002</td>\n",
       "      <td>Iris-setosa</td>\n",
       "      <td>8.128824e-08</td>\n",
       "    </tr>\n",
       "  </tbody>\n",
       "</table>\n",
       "</div>"
      ],
      "text/plain": [
       "   key_from_input target_from_input      top_1_label  top_1_score  \\\n",
       "0           101.0           UNKNOWN   Iris-virginica     0.999545   \n",
       "1           107.0           UNKNOWN  Iris-versicolor     0.889288   \n",
       "2           100.0           UNKNOWN  Iris-versicolor     0.999998   \n",
       "\n",
       "      top_2_label  top_2_score      top_3_label  top_3_score\\n  \n",
       "0     Iris-setosa     0.000312  Iris-versicolor   1.438035e-04  \n",
       "1  Iris-virginica     0.110672      Iris-setosa   4.058489e-05  \n",
       "2  Iris-virginica     0.000002      Iris-setosa   8.128824e-08  "
      ]
     },
     "execution_count": 36,
     "metadata": {},
     "output_type": "execute_result"
    }
   ],
   "source": [
    "import pandas as pd\n",
    "sd.local_predict(\n",
    "  model_dir=os.path.join(LOCAL_ROOT, 'training/model'),\n",
    "  data=pd.DataFrame(\n",
    "    [[101,6.3,3.3,6,2.5],\n",
    "     [107,4.9,2.5,4.5,1.7],\n",
    "     [100,5.7,2.8,4.1,1.3]])\n",
    ")"
   ]
  },
  {
   "cell_type": "markdown",
   "metadata": {},
   "source": [
    "<a name=\"local_batch_prediction\"></a>\n",
    "Local batch prediction\n",
    "============"
   ]
  },
  {
   "cell_type": "markdown",
   "metadata": {},
   "source": [
    "Local batch prediction runs prediction on batched input data. This is ideal if the input dataset is very large or you have limited avaliable main memeory. However, for trully large datasets, it is better to run batch prediction using the cloudml services. Two output formats are supported, csv and json. The output may also be shardded."
   ]
  },
  {
   "cell_type": "code",
   "execution_count": 37,
   "metadata": {
    "collapsed": true
   },
   "outputs": [],
   "source": [
    "!rm -fr {LOCAL_ROOT}/predict_out"
   ]
  },
  {
   "cell_type": "code",
   "execution_count": 38,
   "metadata": {
    "collapsed": false
   },
   "outputs": [
    {
     "name": "stdout",
     "output_type": "stream",
     "text": [
      "Starting local batch prediction.\n",
      "Local batch prediction done.\n"
     ]
    }
   ],
   "source": [
    "sd.local_batch_predict(\n",
    "  model_dir=os.path.join(LOCAL_ROOT, 'training/model'),\n",
    "  prediction_input_file=os.path.join(LOCAL_ROOT, 'eval.*'),\n",
    "  output_dir=os.path.join(LOCAL_ROOT, 'predict_out'),\n",
    "  output_format='csv'\n",
    ")"
   ]
  },
  {
   "cell_type": "code",
   "execution_count": 39,
   "metadata": {
    "collapsed": false
   },
   "outputs": [
    {
     "name": "stdout",
     "output_type": "stream",
     "text": [
      "csv_header.txt\terrors-00000-of-00001.txt  predictions-00000-of-00001.csv\r\n"
     ]
    }
   ],
   "source": [
    "!ls {LOCAL_ROOT}/predict_out"
   ]
  },
  {
   "cell_type": "code",
   "execution_count": 40,
   "metadata": {
    "collapsed": false
   },
   "outputs": [
    {
     "name": "stdout",
     "output_type": "stream",
     "text": [
      "cat: /content/Downloads/iris_notebook_workspace/predict_outt/csv_header.txt: No such file or directory\r\n"
     ]
    }
   ],
   "source": [
    "!cat {LOCAL_ROOT}/predict_outt/csv_header.txt"
   ]
  },
  {
   "cell_type": "code",
   "execution_count": 41,
   "metadata": {
    "collapsed": true
   },
   "outputs": [],
   "source": [
    "!cat {LOCAL_ROOT}/predict_out/errors*"
   ]
  },
  {
   "cell_type": "code",
   "execution_count": 42,
   "metadata": {
    "collapsed": false
   },
   "outputs": [
    {
     "name": "stdout",
     "output_type": "stream",
     "text": [
      "107.0,Iris-virginica,Iris-versicolor,0.889287769794,Iris-virginica,0.110671639442,Iris-setosa,4.05849204981e-05\r\n",
      "100.0,Iris-versicolor,Iris-versicolor,0.999997615814,Iris-virginica,2.31809622164e-06,Iris-setosa,8.1288085596e-08\r\n",
      "99.0,Iris-versicolor,Iris-versicolor,0.999921917915,Iris-setosa,6.98285657563e-05,Iris-virginica,8.22619495011e-06\r\n",
      "13.0,Iris-setosa,Iris-setosa,0.999958634377,Iris-virginica,4.14181049564e-05,Iris-versicolor,2.72633859932e-10\r\n",
      "70.0,Iris-versicolor,Iris-versicolor,0.99999833107,Iris-virginica,1.65954145359e-06,Iris-setosa,6.45582360903e-08\r\n",
      "11.0,Iris-setosa,Iris-setosa,0.999796688557,Iris-virginica,0.000203307528864,Iris-versicolor,7.50282908718e-12\r\n",
      "37.0,Iris-setosa,Iris-setosa,0.999752342701,Iris-virginica,0.000247678079177,Iris-versicolor,1.77684447017e-11\r\n",
      "69.0,Iris-versicolor,Iris-virginica,0.908735275269,Iris-versicolor,0.0912584960461,Iris-setosa,6.1514342633e-06\r\n",
      "40.0,Iris-setosa,Iris-setosa,0.999814212322,Iris-virginica,0.00018581673794,Iris-versicolor,5.93376823371e-12\r\n",
      "101.0,Iris-virginica,Iris-virginica,0.999544560909,Iris-setosa,0.000311580690322,Iris-versicolor,0.00014380349603\r\n"
     ]
    }
   ],
   "source": [
    "!head {LOCAL_ROOT}/predict_out/predictions-00000*"
   ]
  },
  {
   "cell_type": "code",
   "execution_count": 43,
   "metadata": {
    "collapsed": true
   },
   "outputs": [],
   "source": [
    "!rm -fr {LOCAL_ROOT}/predict_out"
   ]
  },
  {
   "cell_type": "code",
   "execution_count": 44,
   "metadata": {
    "collapsed": false
   },
   "outputs": [
    {
     "name": "stdout",
     "output_type": "stream",
     "text": [
      "Starting local batch prediction.\n",
      "Local batch prediction done.\n"
     ]
    }
   ],
   "source": [
    "sd.local_batch_predict(\n",
    "  model_dir=os.path.join(LOCAL_ROOT, 'training/model'),\n",
    "  prediction_input_file=os.path.join(LOCAL_ROOT, 'predict.*'),\n",
    "  output_dir=os.path.join(LOCAL_ROOT, 'predict_out'),\n",
    "  output_format='json'\n",
    ")"
   ]
  },
  {
   "cell_type": "code",
   "execution_count": 45,
   "metadata": {
    "collapsed": false
   },
   "outputs": [
    {
     "name": "stdout",
     "output_type": "stream",
     "text": [
      "errors-00000-of-00001.txt  predictions-00000-of-00001.json\r\n"
     ]
    }
   ],
   "source": [
    "!ls {LOCAL_ROOT}/predict_out"
   ]
  },
  {
   "cell_type": "code",
   "execution_count": 46,
   "metadata": {
    "collapsed": false
   },
   "outputs": [
    {
     "name": "stdout",
     "output_type": "stream",
     "text": [
      "{\"top_2_label\": \"Iris-virginica\",\"top_3_score\": 4.0584920498076826e-05,\"top_1_label\": \"Iris-versicolor\",\"top_2_score\": 0.11067163944244385,\"top_3_label\": \"Iris-setosa\",\"target_from_input\": \"UNKNOWN\",\"top_1_score\": 0.8892877697944641,\"key_from_input\": 107.0}\r\n",
      "{\"top_2_label\": \"Iris-virginica\",\"top_3_score\": 8.128808559604295e-08,\"top_1_label\": \"Iris-versicolor\",\"top_2_score\": 2.318096221642918e-06,\"top_3_label\": \"Iris-setosa\",\"target_from_input\": \"UNKNOWN\",\"top_1_score\": 0.999997615814209,\"key_from_input\": 100.0}\r\n",
      "{\"top_2_label\": \"Iris-setosa\",\"top_3_score\": 8.226194950111676e-06,\"top_1_label\": \"Iris-versicolor\",\"top_2_score\": 6.982856575632468e-05,\"top_3_label\": \"Iris-virginica\",\"target_from_input\": \"UNKNOWN\",\"top_1_score\": 0.9999219179153442,\"key_from_input\": 99.0}\r\n",
      "{\"top_2_label\": \"Iris-virginica\",\"top_3_score\": 2.7263385993236966e-10,\"top_1_label\": \"Iris-setosa\",\"top_2_score\": 4.14181049563922e-05,\"top_3_label\": \"Iris-versicolor\",\"target_from_input\": \"UNKNOWN\",\"top_1_score\": 0.9999586343765259,\"key_from_input\": 13.0}\r\n",
      "{\"top_2_label\": \"Iris-virginica\",\"top_3_score\": 6.455823609030631e-08,\"top_1_label\": \"Iris-versicolor\",\"top_2_score\": 1.6595414535913733e-06,\"top_3_label\": \"Iris-setosa\",\"target_from_input\": \"UNKNOWN\",\"top_1_score\": 0.9999983310699463,\"key_from_input\": 70.0}\r\n",
      "{\"top_2_label\": \"Iris-virginica\",\"top_3_score\": 7.502829087180363e-12,\"top_1_label\": \"Iris-setosa\",\"top_2_score\": 0.000203307528863661,\"top_3_label\": \"Iris-versicolor\",\"target_from_input\": \"UNKNOWN\",\"top_1_score\": 0.9997966885566711,\"key_from_input\": 11.0}\r\n",
      "{\"top_2_label\": \"Iris-virginica\",\"top_3_score\": 1.7768444701693475e-11,\"top_1_label\": \"Iris-setosa\",\"top_2_score\": 0.00024767807917669415,\"top_3_label\": \"Iris-versicolor\",\"target_from_input\": \"UNKNOWN\",\"top_1_score\": 0.9997523427009583,\"key_from_input\": 37.0}\r\n",
      "{\"top_2_label\": \"Iris-versicolor\",\"top_3_score\": 6.1514342633017804e-06,\"top_1_label\": \"Iris-virginica\",\"top_2_score\": 0.09125849604606628,\"top_3_label\": \"Iris-setosa\",\"target_from_input\": \"UNKNOWN\",\"top_1_score\": 0.9087352752685547,\"key_from_input\": 69.0}\r\n",
      "{\"top_2_label\": \"Iris-virginica\",\"top_3_score\": 5.933768233712389e-12,\"top_1_label\": \"Iris-setosa\",\"top_2_score\": 0.00018581673793960363,\"top_3_label\": \"Iris-versicolor\",\"target_from_input\": \"UNKNOWN\",\"top_1_score\": 0.9998142123222351,\"key_from_input\": 40.0}\r\n",
      "{\"top_2_label\": \"Iris-setosa\",\"top_3_score\": 0.0001438034960301593,\"top_1_label\": \"Iris-virginica\",\"top_2_score\": 0.00031158069032244384,\"top_3_label\": \"Iris-versicolor\",\"target_from_input\": \"UNKNOWN\",\"top_1_score\": 0.9995445609092712,\"key_from_input\": 101.0}\r\n"
     ]
    }
   ],
   "source": [
    "!head {LOCAL_ROOT}/predict_out/predictions-00000*"
   ]
  },
  {
   "cell_type": "markdown",
   "metadata": {},
   "source": [
    "<a name=\"cloud_preprocessing\"></a>\n",
    "Cloud preprocessing from csv files\n",
    "====\n"
   ]
  },
  {
   "cell_type": "markdown",
   "metadata": {},
   "source": [
    "First, lets move our local fiels to gcs"
   ]
  },
  {
   "cell_type": "code",
   "execution_count": 47,
   "metadata": {
    "collapsed": false
   },
   "outputs": [
    {
     "name": "stdout",
     "output_type": "stream",
     "text": [
      "Copying file:///content/Downloads/iris_notebook_workspace/eval.csv [Content-Type=text/csv]...\n",
      "Copying file:///content/Downloads/iris_notebook_workspace/predict.csv [Content-Type=text/csv]...\n",
      "Copying file:///content/Downloads/iris_notebook_workspace/train.csv [Content-Type=text/csv]...\n",
      "- [3 files][  5.3 KiB/  5.3 KiB]                                                \n",
      "Operation completed over 3 objects/5.3 KiB.                                      \n",
      "Copying file:///content/Downloads/iris_notebook_workspace/schema.json [Content-Type=application/json]...\n",
      "/ [1 files][  573.0 B/  573.0 B]                                                \n",
      "Operation completed over 1 objects/573.0 B.                                      \n"
     ]
    }
   ],
   "source": [
    "!gsutil cp {LOCAL_ROOT}/*.csv {CLOUD_ROOT}\n",
    "!gsutil cp {LOCAL_ROOT}/schema.json {CLOUD_ROOT}/schema.json"
   ]
  },
  {
   "cell_type": "code",
   "execution_count": 48,
   "metadata": {
    "collapsed": false
   },
   "outputs": [
    {
     "name": "stdout",
     "output_type": "stream",
     "text": [
      "Removing gs://cloud-ml-dev_bdt/iris_notebook_workspace/preprocess/numerical_analysis.json#1487207337317074...\n",
      "Removing gs://cloud-ml-dev_bdt/iris_notebook_workspace/preprocess/schema.json#1487207340401000...\n",
      "Removing gs://cloud-ml-dev_bdt/iris_notebook_workspace/preprocess/vocab_flower.csv#1487207339892668...\n",
      "/ [3 objects]                                                                   \n",
      "Operation completed over 3 objects.                                              \n"
     ]
    }
   ],
   "source": [
    "!gsutil rm -r {CLOUD_ROOT}/preprocess"
   ]
  },
  {
   "cell_type": "code",
   "execution_count": 49,
   "metadata": {
    "collapsed": false
   },
   "outputs": [
    {
     "name": "stdout",
     "output_type": "stream",
     "text": [
      "Starting cloud preprocessing.\n",
      "Track BigQuery status at\n",
      "https://bigquery.cloud.google.com/queries/cloud-ml-dev\n",
      "Running numerical analysis...done.\n",
      "Running categorical analysis...done.\n",
      "Cloud preprocessing done.\n"
     ]
    }
   ],
   "source": [
    "sd.cloud_preprocess(\n",
    "  input_file_pattern=os.path.join(CLOUD_ROOT, 'train.*'),\n",
    "  output_dir=os.path.join(CLOUD_ROOT, 'preprocess'),\n",
    "  schema_file=os.path.join(CLOUD_ROOT, 'schema.json'),\n",
    ")"
   ]
  },
  {
   "cell_type": "code",
   "execution_count": 50,
   "metadata": {
    "collapsed": false
   },
   "outputs": [
    {
     "name": "stdout",
     "output_type": "stream",
     "text": [
      "gs://cloud-ml-dev_bdt/iris_notebook_workspace/preprocess/numerical_analysis.json\r\n",
      "gs://cloud-ml-dev_bdt/iris_notebook_workspace/preprocess/schema.json\r\n",
      "gs://cloud-ml-dev_bdt/iris_notebook_workspace/preprocess/vocab_flower.csv\r\n"
     ]
    }
   ],
   "source": [
    "!gsutil ls {CLOUD_ROOT}/preprocess"
   ]
  },
  {
   "cell_type": "code",
   "execution_count": 51,
   "metadata": {
    "collapsed": false
   },
   "outputs": [
    {
     "name": "stdout",
     "output_type": "stream",
     "text": [
      "{\r\n",
      "  \"sepal_width\": {\r\n",
      "    \"max\": 4.4000000000000004,\r\n",
      "    \"mean\": 3.050833333333332,\r\n",
      "    \"min\": 2.0\r\n",
      "  },\r\n",
      "  \"petal_width\": {\r\n",
      "    \"max\": 2.5,\r\n",
      "    \"mean\": 1.2324999999999995,\r\n",
      "    \"min\": 0.10000000000000001\r\n",
      "  },\r\n",
      "  \"sepal_length\": {\r\n",
      "    \"max\": 7.9000000000000004,\r\n",
      "    \"mean\": 5.8675000000000024,\r\n",
      "    \"min\": 4.2999999999999998\r\n",
      "  },\r\n",
      "  \"key\": {\r\n",
      "    \"max\": 150.0,\r\n",
      "    \"mean\": 76.733333333333334,\r\n",
      "    \"min\": 1.0\r\n",
      "  },\r\n",
      "  \"petal_length\": {\r\n",
      "    \"max\": 6.9000000000000004,\r\n",
      "    \"mean\": 3.8308333333333349,\r\n",
      "    \"min\": 1.1000000000000001\r\n",
      "  }\r\n",
      "}"
     ]
    }
   ],
   "source": [
    "!gsutil cat {CLOUD_ROOT}/preprocess/numerical_analysis.json"
   ]
  },
  {
   "cell_type": "code",
   "execution_count": 52,
   "metadata": {
    "collapsed": false
   },
   "outputs": [
    {
     "name": "stdout",
     "output_type": "stream",
     "text": [
      "Iris-setosa\r\n",
      "Iris-versicolor\r\n",
      "Iris-virginica\r\n"
     ]
    }
   ],
   "source": [
    "!gsutil cat {CLOUD_ROOT}/preprocess/vocab_flower.csv"
   ]
  },
  {
   "cell_type": "markdown",
   "metadata": {},
   "source": [
    "<a name=\"cloud_training\"></a>\n",
    "Cloud Training\n",
    "==========="
   ]
  },
  {
   "cell_type": "markdown",
   "metadata": {},
   "source": [
    "For cloud training, all input files must be placed on GCS. The functino cloud_train builds the trainer, uploads it to GCS, and submits a job request to the CloudML service."
   ]
  },
  {
   "cell_type": "code",
   "execution_count": 53,
   "metadata": {
    "collapsed": false
   },
   "outputs": [
    {
     "name": "stdout",
     "output_type": "stream",
     "text": [
      "Copying file:///content/Downloads/iris_notebook_workspace/transforms.json [Content-Type=application/json]...\n",
      "/ [1 files][  226.0 B/  226.0 B]                                                \n",
      "Operation completed over 1 objects/226.0 B.                                      \n"
     ]
    }
   ],
   "source": [
    "!gsutil cp {LOCAL_ROOT}/transforms.json {CLOUD_ROOT}/transforms.json"
   ]
  },
  {
   "cell_type": "code",
   "execution_count": 54,
   "metadata": {
    "collapsed": false
   },
   "outputs": [
    {
     "name": "stdout",
     "output_type": "stream",
     "text": [
      "Removing gs://cloud-ml-dev_bdt/iris_notebook_workspace/training/intermediate_models/#1487207431981791...\n",
      "Removing gs://cloud-ml-dev_bdt/iris_notebook_workspace/training/intermediate_models/00000000-tmp/#1487207432261000...\n",
      "Removing gs://cloud-ml-dev_bdt/iris_notebook_workspace/training/intermediate_models/00000000-tmp/checkpoint#1487207438976000...\n",
      "Removing gs://cloud-ml-dev_bdt/iris_notebook_workspace/training/intermediate_models/00000000-tmp/export#1487207433317000...\n",
      "/ [4 objects]                                                                   \n",
      "==> NOTE: You are performing a sequence of gsutil operations that may\n",
      "run significantly faster if you instead use gsutil -m -o ... Please\n",
      "see the -m section under \"gsutil help options\" for further information\n",
      "about when gsutil -m can be advantageous.\n",
      "\n",
      "Removing gs://cloud-ml-dev_bdt/iris_notebook_workspace/training/intermediate_models/00000000-tmp/export.meta#1487207440462000...\n",
      "Removing gs://cloud-ml-dev_bdt/iris_notebook_workspace/training/intermediate_models/00000001/#1487207664591000...\n",
      "Removing gs://cloud-ml-dev_bdt/iris_notebook_workspace/training/intermediate_models/00000001/checkpoint#1487207665024000...\n",
      "Removing gs://cloud-ml-dev_bdt/iris_notebook_workspace/training/intermediate_models/00000001/export#1487207665443806...\n",
      "Removing gs://cloud-ml-dev_bdt/iris_notebook_workspace/training/intermediate_models/00000001/export.meta#1487207665848000...\n",
      "Removing gs://cloud-ml-dev_bdt/iris_notebook_workspace/training/intermediate_models/00000500/#1487208193161000...\n",
      "Removing gs://cloud-ml-dev_bdt/iris_notebook_workspace/training/intermediate_models/00000500/checkpoint#1487208193900000...\n",
      "Removing gs://cloud-ml-dev_bdt/iris_notebook_workspace/training/intermediate_models/00000500/export#1487208194377000...\n",
      "Removing gs://cloud-ml-dev_bdt/iris_notebook_workspace/training/intermediate_models/00000500/export.meta#1487208194717000...\n",
      "Removing gs://cloud-ml-dev_bdt/iris_notebook_workspace/training/model/#1487208198173000...\n",
      "Removing gs://cloud-ml-dev_bdt/iris_notebook_workspace/training/model/checkpoint#1487208196774000...\n",
      "Removing gs://cloud-ml-dev_bdt/iris_notebook_workspace/training/model/export#1487208197390000...\n",
      "Removing gs://cloud-ml-dev_bdt/iris_notebook_workspace/training/model/export.meta#1487208197865596...\n",
      "Removing gs://cloud-ml-dev_bdt/iris_notebook_workspace/training/model/schema.json#1487208199376116...\n",
      "Removing gs://cloud-ml-dev_bdt/iris_notebook_workspace/training/model/transforms.json#1487208198785408...\n",
      "Removing gs://cloud-ml-dev_bdt/iris_notebook_workspace/training/model/vocab_flower.csv#1487208200118000...\n",
      "Removing gs://cloud-ml-dev_bdt/iris_notebook_workspace/training/staging/sd.tar.gz#1487207610573070...\n",
      "Removing gs://cloud-ml-dev_bdt/iris_notebook_workspace/training/train/#1487207422126000...\n",
      "Removing gs://cloud-ml-dev_bdt/iris_notebook_workspace/training/train/checkpoint#1487208185330948...\n",
      "Removing gs://cloud-ml-dev_bdt/iris_notebook_workspace/training/train/eval/#1487208245984000...\n",
      "Removing gs://cloud-ml-dev_bdt/iris_notebook_workspace/training/train/eval/events.out.tfevents.1487208246.master-fc036cc9a8-0-xx8cd#1487208248038000...\n",
      "Removing gs://cloud-ml-dev_bdt/iris_notebook_workspace/training/train/events.out.tfevents.1487207422.master-e6d1035b12-0-4prdr#1487207426161000...\n",
      "Removing gs://cloud-ml-dev_bdt/iris_notebook_workspace/training/train/events.out.tfevents.1487207651.master-fc036cc9a8-0-xx8cd#1487208183515000...\n",
      "Removing gs://cloud-ml-dev_bdt/iris_notebook_workspace/training/train/graph.pbtxt#1487207654796000...\n",
      "Removing gs://cloud-ml-dev_bdt/iris_notebook_workspace/training/train/model.ckpt-0-00000-of-00001#1487207426940000...\n",
      "Removing gs://cloud-ml-dev_bdt/iris_notebook_workspace/training/train/model.ckpt-0.meta#1487207428808000...\n",
      "Removing gs://cloud-ml-dev_bdt/iris_notebook_workspace/training/train/model.ckpt-1-00000-of-00001#1487207657056000...\n",
      "Removing gs://cloud-ml-dev_bdt/iris_notebook_workspace/training/train/model.ckpt-1.meta#1487207658904000...\n",
      "Removing gs://cloud-ml-dev_bdt/iris_notebook_workspace/training/train/model.ckpt-500-00000-of-00001#1487208184321000...\n",
      "Removing gs://cloud-ml-dev_bdt/iris_notebook_workspace/training/train/model.ckpt-500.meta#1487208186376000...\n",
      "/ [34 objects]                                                                  \n",
      "==> NOTE: You are performing a sequence of gsutil operations that may\n",
      "run significantly faster if you instead use gsutil -m -o ... Please\n",
      "see the -m section under \"gsutil help options\" for further information\n",
      "about when gsutil -m can be advantageous.\n",
      "\n",
      "\n",
      "Operation completed over 34 objects.                                             \n"
     ]
    }
   ],
   "source": [
    "!gsutil rm -r {CLOUD_ROOT}/training"
   ]
  },
  {
   "cell_type": "code",
   "execution_count": 55,
   "metadata": {
    "collapsed": false
   },
   "outputs": [
    {
     "name": "stdout",
     "output_type": "stream",
     "text": [
      "Building package and uploading to gs://cloud-ml-dev_bdt/iris_notebook_workspace/training/staging/sd.tar.gz\n"
     ]
    },
    {
     "data": {
      "text/html": [
       "Job Request Sent:<br /><pre>{\n",
       "  \"package_uris\": [\n",
       "    \"gs://cloud-ml-dev_bdt/iris_notebook_workspace/training/staging/sd.tar.gz\",\n",
       "    \"gs://cloud-datalab/deploy/tf/tensorflow-0.12.0rc1-cp27-none-linux_x86_64.whl\"\n",
       "  ],\n",
       "  \"args\": [\n",
       "    \"--train_data_paths=gs://cloud-ml-dev_bdt/iris_notebook_workspace/train.cs*\",\n",
       "    \"--eval_data_paths=gs://cloud-ml-dev_bdt/iris_notebook_workspace/eval.cs*\",\n",
       "    \"--output_path=gs://cloud-ml-dev_bdt/iris_notebook_workspace/training\",\n",
       "    \"--preprocess_output_dir=gs://cloud-ml-dev_bdt/iris_notebook_workspace/preprocess\",\n",
       "    \"--transforms_file=gs://cloud-ml-dev_bdt/iris_notebook_workspace/transforms.json\",\n",
       "    \"--model_type=dnn_classification\",\n",
       "    \"--max_steps=500\",\n",
       "    \"--layer_size1=10\",\n",
       "    \"--layer_size2=10\",\n",
       "    \"--layer_size3=5\",\n",
       "    \"--top_n=3\"\n",
       "  ],\n",
       "  \"python_module\": \"datalab_solutions.structured_data.trainer.task\",\n",
       "  \"region\": \"us-central1\",\n",
       "  \"scale_tier\": \"BASIC\"\n",
       "}</pre><p>Click <a href=\"https://console.developers.google.com/ml/jobs?project=cloud-ml-dev\" target=\"_blank\">here</a> to track the training job structured_data_train_170216_180612.</p><br/>"
      ]
     },
     "metadata": {},
     "output_type": "display_data"
    }
   ],
   "source": [
    "sd.cloud_train(\n",
    "  train_file_pattern=os.path.join(CLOUD_ROOT, 'train.cs*'),\n",
    "  eval_file_pattern=os.path.join(CLOUD_ROOT, 'eval.cs*'),\n",
    "  preprocess_output_dir=os.path.join(CLOUD_ROOT, 'preprocess'),\n",
    "  output_dir=os.path.join(CLOUD_ROOT, 'training'),\n",
    "  transforms_file=os.path.join(CLOUD_ROOT, 'transforms.json'),\n",
    "  model_type='dnn_classification',\n",
    "  top_n=3,\n",
    "  max_steps=200,\n",
    "  layer_sizes=[10, 10, 5],\n",
    "  region='us-central1',\n",
    "  scale_tier='BASIC'\n",
    ")"
   ]
  },
  {
   "cell_type": "markdown",
   "metadata": {},
   "source": [
    "Before running the next steps, follow the above link and wait ~10 minutes for training to finish."
   ]
  },
  {
   "cell_type": "code",
   "execution_count": 51,
   "metadata": {
    "collapsed": false
   },
   "outputs": [
    {
     "name": "stdout",
     "output_type": "stream",
     "text": [
      "CommandException: One or more URLs matched no objects.\r\n"
     ]
    }
   ],
   "source": [
    "!gsutil ls {CLOUD_ROOT}/training/model"
   ]
  },
  {
   "cell_type": "markdown",
   "metadata": {},
   "source": [
    "<a name=\"cloud_online_prediction\"></a>\n",
    "CloudML online prediction\n",
    "========================"
   ]
  },
  {
   "cell_type": "markdown",
   "metadata": {},
   "source": [
    "After training a model, it can be depolyed and requests can be sent to it. We first have to create the model, and its version.\n"
   ]
  },
  {
   "cell_type": "code",
   "execution_count": 58,
   "metadata": {
    "collapsed": true
   },
   "outputs": [],
   "source": [
    "MODEL_NAME = 'irismodeldatalab'\n",
    "MODEL_VERSION = 'v1'"
   ]
  },
  {
   "cell_type": "markdown",
   "metadata": {},
   "source": [
    "First, delete any model that might already exist. Then create it."
   ]
  },
  {
   "cell_type": "code",
   "execution_count": 59,
   "metadata": {
    "collapsed": false
   },
   "outputs": [
    {
     "name": "stdout",
     "output_type": "stream",
     "text": [
      "Deleting version [v1]......done.\n",
      "Deleting model [irismodeldatalab]...done.\n"
     ]
    }
   ],
   "source": [
    "!gcloud beta ml versions delete {MODEL_VERSION} --model {MODEL_NAME}\n",
    "!gcloud beta ml models delete {MODEL_NAME}"
   ]
  },
  {
   "cell_type": "code",
   "execution_count": 60,
   "metadata": {
    "collapsed": false
   },
   "outputs": [
    {
     "name": "stdout",
     "output_type": "stream",
     "text": [
      "\u001b[1;33mWARNING:\u001b[0m `--regions` flag will soon be required. Please explicitly specify a region. Using [us-central1] by default.\n",
      "Creating version (this might take a few minutes)......done.\n"
     ]
    }
   ],
   "source": [
    "!gcloud beta ml models create {MODEL_NAME} \n",
    "!gcloud beta ml versions create {MODEL_VERSION} --model {MODEL_NAME} --origin {CLOUD_ROOT}/training/model/"
   ]
  },
  {
   "cell_type": "code",
   "execution_count": 61,
   "metadata": {
    "collapsed": false
   },
   "outputs": [
    {
     "data": {
      "text/html": [
       "<div>\n",
       "<table border=\"1\" class=\"dataframe\">\n",
       "  <thead>\n",
       "    <tr style=\"text-align: right;\">\n",
       "      <th></th>\n",
       "      <th>key_from_input</th>\n",
       "      <th>target_from_input</th>\n",
       "      <th>top_1_label</th>\n",
       "      <th>top_1_score</th>\n",
       "      <th>top_2_label</th>\n",
       "      <th>top_2_score</th>\n",
       "      <th>top_3_label</th>\n",
       "      <th>top_3_score</th>\n",
       "    </tr>\n",
       "  </thead>\n",
       "  <tbody>\n",
       "    <tr>\n",
       "      <th>0</th>\n",
       "      <td>101</td>\n",
       "      <td>Iris-virginica</td>\n",
       "      <td>Iris-virginica</td>\n",
       "      <td>0.999999</td>\n",
       "      <td>Iris-versicolor</td>\n",
       "      <td>9.0152e-07</td>\n",
       "      <td>Iris-setosa</td>\n",
       "      <td>3.97261e-07</td>\n",
       "    </tr>\n",
       "    <tr>\n",
       "      <th>1</th>\n",
       "      <td>107</td>\n",
       "      <td>Iris-virginica</td>\n",
       "      <td>Iris-versicolor</td>\n",
       "      <td>1</td>\n",
       "      <td>Iris-setosa</td>\n",
       "      <td>1.67642e-07</td>\n",
       "      <td>Iris-virginica</td>\n",
       "      <td>3.85901e-12</td>\n",
       "    </tr>\n",
       "    <tr>\n",
       "      <th>2</th>\n",
       "      <td>100</td>\n",
       "      <td>Iris-versicolor</td>\n",
       "      <td>Iris-versicolor</td>\n",
       "      <td>0.999994</td>\n",
       "      <td>Iris-setosa</td>\n",
       "      <td>6.26385e-06</td>\n",
       "      <td>Iris-virginica</td>\n",
       "      <td>1.17661e-11</td>\n",
       "    </tr>\n",
       "    <tr>\n",
       "      <th>3</th>\n",
       "      <td>70</td>\n",
       "      <td>Iris-versicolor</td>\n",
       "      <td>Iris-versicolor</td>\n",
       "      <td>0.999998</td>\n",
       "      <td>Iris-setosa</td>\n",
       "      <td>1.9581e-06</td>\n",
       "      <td>Iris-virginica</td>\n",
       "      <td>4.88492e-14</td>\n",
       "    </tr>\n",
       "    <tr>\n",
       "      <th>4</th>\n",
       "      <td>13</td>\n",
       "      <td>Iris-setosa</td>\n",
       "      <td>Iris-setosa</td>\n",
       "      <td>0.999994</td>\n",
       "      <td>Iris-versicolor</td>\n",
       "      <td>6.33532e-06</td>\n",
       "      <td>Iris-virginica</td>\n",
       "      <td>4.753e-27</td>\n",
       "    </tr>\n",
       "    <tr>\n",
       "      <th>5</th>\n",
       "      <td>11</td>\n",
       "      <td>Iris-setosa</td>\n",
       "      <td>Iris-setosa</td>\n",
       "      <td>0.999986</td>\n",
       "      <td>Iris-versicolor</td>\n",
       "      <td>1.43062e-05</td>\n",
       "      <td>Iris-virginica</td>\n",
       "      <td>4.43863e-24</td>\n",
       "    </tr>\n",
       "  </tbody>\n",
       "</table>\n",
       "</div>"
      ],
      "text/plain": [
       "  key_from_input target_from_input      top_1_label top_1_score  \\\n",
       "0            101    Iris-virginica   Iris-virginica    0.999999   \n",
       "1            107    Iris-virginica  Iris-versicolor           1   \n",
       "2            100   Iris-versicolor  Iris-versicolor    0.999994   \n",
       "3             70   Iris-versicolor  Iris-versicolor    0.999998   \n",
       "4             13       Iris-setosa      Iris-setosa    0.999994   \n",
       "5             11       Iris-setosa      Iris-setosa    0.999986   \n",
       "\n",
       "       top_2_label  top_2_score     top_3_label  top_3_score  \n",
       "0  Iris-versicolor   9.0152e-07     Iris-setosa  3.97261e-07  \n",
       "1      Iris-setosa  1.67642e-07  Iris-virginica  3.85901e-12  \n",
       "2      Iris-setosa  6.26385e-06  Iris-virginica  1.17661e-11  \n",
       "3      Iris-setosa   1.9581e-06  Iris-virginica  4.88492e-14  \n",
       "4  Iris-versicolor  6.33532e-06  Iris-virginica    4.753e-27  \n",
       "5  Iris-versicolor  1.43062e-05  Iris-virginica  4.43863e-24  "
      ]
     },
     "execution_count": 61,
     "metadata": {},
     "output_type": "execute_result"
    }
   ],
   "source": [
    "sd.cloud_predict(\n",
    "  model_name=MODEL_NAME,\n",
    "  model_version=MODEL_VERSION,\n",
    "  data=['Iris-virginica,101,6.3,3.3,6,2.5',\n",
    "        'Iris-virginica,107,4.9,2.5,4.5,1.7',\n",
    "        'Iris-versicolor,100,5.7,2.8,4.1,1.3',\n",
    "        'Iris-versicolor,70,5.6,2.5,3.9,1.1',\n",
    "        'Iris-setosa,13,4.8,3,1.4,0.1',\n",
    "        'Iris-setosa,11,5.4,3.7,1.5,0.2']\n",
    ")\n",
    "\n"
   ]
  },
  {
   "cell_type": "markdown",
   "metadata": {},
   "source": [
    "<a name=\"cloud_batch_prediction\"></a>\n",
    "CloudML Batch prediction\n",
    "====="
   ]
  },
  {
   "cell_type": "code",
   "execution_count": 62,
   "metadata": {
    "collapsed": false
   },
   "outputs": [
    {
     "name": "stdout",
     "output_type": "stream",
     "text": [
      "Removing gs://cloud-ml-dev_bdt/iris_notebook_workspace/predict_out/errors-00000-of-00001.txt#1487209151187113...\n",
      "Removing gs://cloud-ml-dev_bdt/iris_notebook_workspace/predict_out/predictions-00000-of-00003.json#1487209160543887...\n",
      "Removing gs://cloud-ml-dev_bdt/iris_notebook_workspace/predict_out/predictions-00001-of-00003.json#1487209160540000...\n",
      "Removing gs://cloud-ml-dev_bdt/iris_notebook_workspace/predict_out/predictions-00002-of-00003.json#1487209160517000...\n",
      "/ [4 objects]                                                                   \n",
      "==> NOTE: You are performing a sequence of gsutil operations that may\n",
      "run significantly faster if you instead use gsutil -m -o ... Please\n",
      "see the -m section under \"gsutil help options\" for further information\n",
      "about when gsutil -m can be advantageous.\n",
      "\n",
      "Removing gs://cloud-ml-dev_bdt/iris_notebook_workspace/predict_out/staging/sd.tar.gz#1487208871850000...\n",
      "Removing gs://cloud-ml-dev_bdt/iris_notebook_workspace/predict_out/tmp/staging/structured-data-batch-prediction-20170216013432.1487208873.163659/dataflow_python_sdk.tar#1487208879507000...\n",
      "Removing gs://cloud-ml-dev_bdt/iris_notebook_workspace/predict_out/tmp/staging/structured-data-batch-prediction-20170216013432.1487208873.163659/extra_packages.txt#1487208876216000...\n",
      "Removing gs://cloud-ml-dev_bdt/iris_notebook_workspace/predict_out/tmp/staging/structured-data-batch-prediction-20170216013432.1487208873.163659/sd.tar.gz#1487208875989000...\n",
      "/ [8 objects]                                                                   \n",
      "Operation completed over 8 objects.                                              \n"
     ]
    }
   ],
   "source": [
    "!gsutil rm -fr {CLOUD_ROOT}/predict_out"
   ]
  },
  {
   "cell_type": "code",
   "execution_count": 63,
   "metadata": {
    "collapsed": false
   },
   "outputs": [
    {
     "name": "stdout",
     "output_type": "stream",
     "text": [
      "Building package and uploading to gs://cloud-ml-dev_bdt/iris_notebook_workspace/predict_out/staging/sd.tar.gz\n",
      "Starting cloud batch prediction.\n",
      "Dataflow Job submitted, see Job structured-data-batch-prediction-20170216183002 at https://console.developers.google.com/dataflow?project=cloud-ml-dev\n"
     ]
    },
    {
     "name": "stderr",
     "output_type": "stream",
     "text": [
      "/usr/local/lib/python2.7/dist-packages/apache_beam/coders/typecoders.py:136: UserWarning:\n",
      "\n",
      "Using fallback coder for typehint: Any.\n",
      "\n",
      "WARNING:root:The .whl package \"%s\" is provided in --extra_package. This functionality is not officially supported. Since wheel packages are binary distributions, this package must be binary-compatible with the worker environment (e.g. Python 2.7 running on an x64 Linux host).\n"
     ]
    },
    {
     "name": "stdout",
     "output_type": "stream",
     "text": [
      "See above link for job status.\n"
     ]
    }
   ],
   "source": [
    "sd.cloud_batch_predict(\n",
    "  model_dir=os.path.join(CLOUD_ROOT, 'training/model'),\n",
    "  prediction_input_file=os.path.join(CLOUD_ROOT, 'predict.cs*'),\n",
    "  output_dir=os.path.join(CLOUD_ROOT, 'predict_out'),\n",
    "  output_format='json'\n",
    ")"
   ]
  },
  {
   "cell_type": "code",
   "execution_count": 64,
   "metadata": {
    "collapsed": false
   },
   "outputs": [
    {
     "name": "stdout",
     "output_type": "stream",
     "text": [
      "gs://cloud-ml-dev_bdt/iris_notebook_workspace/predict_out/errors-00000-of-00001.txt\r\n",
      "gs://cloud-ml-dev_bdt/iris_notebook_workspace/predict_out/predictions-00000-of-00003.json\r\n",
      "gs://cloud-ml-dev_bdt/iris_notebook_workspace/predict_out/predictions-00001-of-00003.json\r\n",
      "gs://cloud-ml-dev_bdt/iris_notebook_workspace/predict_out/predictions-00002-of-00003.json\r\n",
      "gs://cloud-ml-dev_bdt/iris_notebook_workspace/predict_out/staging/\r\n",
      "gs://cloud-ml-dev_bdt/iris_notebook_workspace/predict_out/tmp/\r\n"
     ]
    }
   ],
   "source": [
    "!gsutil ls {CLOUD_ROOT}/predict_out"
   ]
  },
  {
   "cell_type": "code",
   "execution_count": 65,
   "metadata": {
    "collapsed": false
   },
   "outputs": [
    {
     "name": "stdout",
     "output_type": "stream",
     "text": [
      "{\"top_2_label\": \"Iris-versicolor\",\"top_3_score\": 2.7073538711279963e-28,\"top_1_label\": \"Iris-setosa\",\"top_2_score\": 9.062246704161225e-07,\"top_3_label\": \"Iris-virginica\",\"target_from_input\": \"UNKNOWN\",\"top_1_score\": 0.9999990463256836,\"key_from_input\": 39.0}\r\n",
      "{\"top_2_label\": \"Iris-setosa\",\"top_3_score\": 1.2465641852088538e-09,\"top_1_label\": \"Iris-versicolor\",\"top_2_score\": 2.2545395950146485e-06,\"top_3_label\": \"Iris-virginica\",\"target_from_input\": \"UNKNOWN\",\"top_1_score\": 0.9999977350234985,\"key_from_input\": 74.0}\r\n",
      "{\"top_2_label\": \"Iris-setosa\",\"top_3_score\": 2.1816017742315452e-11,\"top_1_label\": \"Iris-versicolor\",\"top_2_score\": 2.725559716054704e-05,\"top_3_label\": \"Iris-virginica\",\"target_from_input\": \"UNKNOWN\",\"top_1_score\": 0.9999727010726929,\"key_from_input\": 97.0}\r\n",
      "{\"top_2_label\": \"Iris-versicolor\",\"top_3_score\": 7.099441847090751e-26,\"top_1_label\": \"Iris-setosa\",\"top_2_score\": 7.856107913539745e-06,\"top_3_label\": \"Iris-virginica\",\"target_from_input\": \"UNKNOWN\",\"top_1_score\": 0.9999921321868896,\"key_from_input\": 50.0}\r\n",
      "{\"top_2_label\": \"Iris-setosa\",\"top_3_score\": 6.719199415611277e-12,\"top_1_label\": \"Iris-versicolor\",\"top_2_score\": 2.6249285838275682e-06,\"top_3_label\": \"Iris-virginica\",\"target_from_input\": \"UNKNOWN\",\"top_1_score\": 0.9999973773956299,\"key_from_input\": 95.0}\r\n",
      "{\"top_2_label\": \"Iris-versicolor\",\"top_3_score\": 4.0040022377508195e-22,\"top_1_label\": \"Iris-setosa\",\"top_2_score\": 2.3511325707659125e-05,\"top_3_label\": \"Iris-virginica\",\"target_from_input\": \"UNKNOWN\",\"top_1_score\": 0.9999765157699585,\"key_from_input\": 44.0}\r\n",
      "{\"top_2_label\": \"Iris-versicolor\",\"top_3_score\": 3.9663525797095645e-09,\"top_1_label\": \"Iris-virginica\",\"top_2_score\": 9.169951908916119e-09,\"top_3_label\": \"Iris-setosa\",\"target_from_input\": \"UNKNOWN\",\"top_1_score\": 1.0,\"key_from_input\": 123.0}\r\n",
      "{\"top_2_label\": \"Iris-versicolor\",\"top_3_score\": 4.647689771499249e-28,\"top_1_label\": \"Iris-setosa\",\"top_2_score\": 1.4594603747752899e-08,\"top_3_label\": \"Iris-virginica\",\"target_from_input\": \"UNKNOWN\",\"top_1_score\": 1.0,\"key_from_input\": 23.0}\r\n",
      "{\"top_2_label\": \"Iris-setosa\",\"top_3_score\": 1.3679648525055654e-08,\"top_1_label\": \"Iris-versicolor\",\"top_2_score\": 3.4827160106942756e-06,\"top_3_label\": \"Iris-virginica\",\"target_from_input\": \"UNKNOWN\",\"top_1_score\": 0.999996542930603,\"key_from_input\": 59.0}\r\n",
      "{\"top_2_label\": \"Iris-versicolor\",\"top_3_score\": 6.520930924125423e-07,\"top_1_label\": \"Iris-virginica\",\"top_2_score\": 1.4768651226404472e-06,\"top_3_label\": \"Iris-setosa\",\"target_from_input\": \"UNKNOWN\",\"top_1_score\": 0.9999978542327881,\"key_from_input\": 148.0}\r\n"
     ]
    }
   ],
   "source": [
    "!gsutil cat {CLOUD_ROOT}/predict_out/predictions-00000-*"
   ]
  },
  {
   "cell_type": "code",
   "execution_count": null,
   "metadata": {
    "collapsed": true
   },
   "outputs": [],
   "source": []
  }
 ],
 "metadata": {
  "kernelspec": {
   "display_name": "Python 2",
   "language": "python",
   "name": "python2"
  },
  "language_info": {
   "codemirror_mode": {
    "name": "ipython",
    "version": 2
   },
   "file_extension": ".py",
   "mimetype": "text/x-python",
   "name": "python",
   "nbconvert_exporter": "python",
   "pygments_lexer": "ipython2",
   "version": "2.7.9"
  }
 },
 "nbformat": 4,
 "nbformat_minor": 2
}
