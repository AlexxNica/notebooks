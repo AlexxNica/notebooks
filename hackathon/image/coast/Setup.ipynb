{
 "cells": [
  {
   "cell_type": "markdown",
   "metadata": {},
   "source": [
    "### Project Setup\n",
    "Make sure you do the following:\n",
    "\n",
    "1. Set your project using \"%projects set my-project-id\"\n",
    "2. Your cloud project needs to have Machine Learning, BigQuery, and DataFlow API enabled.\n",
    "3. Run \"!gcloud beta ml init-project -q\" to initialize ML for your project. Note that you don't need to do this in the near future.\n",
    "4. Prepare a GCS bucket."
   ]
  },
  {
   "cell_type": "code",
   "execution_count": 1,
   "metadata": {
    "collapsed": true
   },
   "outputs": [],
   "source": [
    "bucket = 'gs://' + datalab_project_id() + '-coast'"
   ]
  },
  {
   "cell_type": "code",
   "execution_count": 2,
   "metadata": {
    "collapsed": false
   },
   "outputs": [
    {
     "name": "stdout",
     "output_type": "stream",
     "text": [
      "Creating gs://bradley-playground-coast/...\n",
      "ServiceException: 409 Bucket bradley-playground-coast already exists.\n"
     ]
    }
   ],
   "source": [
    "!gsutil mb $bucket"
   ]
  },
  {
   "cell_type": "markdown",
   "metadata": {},
   "source": [
    "### Data Preparation\n",
    "\n",
    "All data is under gs://cloud-datalab/sampledata/coast. Load the data from CSV files to Bigquery table."
   ]
  },
  {
   "cell_type": "code",
   "execution_count": 49,
   "metadata": {
    "collapsed": false
   },
   "outputs": [
    {
     "data": {
      "text/plain": [
       "Job bradley-playground/job_f0RY6iyDFJmwc0clk-XPtsRHkCg completed"
      ]
     },
     "execution_count": 49,
     "metadata": {},
     "output_type": "execute_result"
    }
   ],
   "source": [
    "import datalab.bigquery as bq\n",
    "\n",
    "# Create the dataset\n",
    "bq.Dataset('coast').create()\n",
    "\n",
    "schema = [\n",
    "  {'name':'image_url', 'type': 'STRING'},\n",
    "  {'name':'label', 'type': 'STRING'},\n",
    "]\n",
    "\n",
    "# Create the table\n",
    "train_table = bq.Table('coast.train').create(schema=schema, overwrite=True)\n",
    "train_table.load('gs://bradley-playground-coast/train8000.csv', mode='overwrite', source_format='csv')\n",
    "eval_table = bq.Table('coast.eval').create(schema=schema, overwrite=True)\n",
    "eval_table.load('gs://bradley-playground-coast/eval3713.csv', mode='overwrite', source_format='csv')"
   ]
  },
  {
   "cell_type": "code",
   "execution_count": 50,
   "metadata": {
    "collapsed": false
   },
   "outputs": [
    {
     "data": {
      "text/html": [
       "\n",
       "    <div class=\"bqtv\" id=\"6_148719478129\"><table><tr><th>image_url</th><th>label</th></tr><tr><td>gs://tamucc_coastline/esi_images/IMG_3820_SecDE_Spr12.jpg</td><td>1</td></tr><tr><td>gs://tamucc_coastline/esi_images/IMG_1074_SecABD_Sum12_Pt1.JPG</td><td>1</td></tr><tr><td>gs://tamucc_coastline/esi_images/IMG_1077_SecABD_Sum12_Pt1.JPG</td><td>1</td></tr><tr><td>gs://tamucc_coastline/esi_images/IMG_1079_SecABD_Sum12_Pt1.JPG</td><td>1</td></tr><tr><td>gs://tamucc_coastline/esi_images/IMG_1081_SecABD_Sum12_Pt1.JPG</td><td>1</td></tr><tr><td>gs://tamucc_coastline/esi_images/IMG_1084_SecABD_Sum12_Pt1.JPG</td><td>1</td></tr><tr><td>gs://tamucc_coastline/esi_images/IMG_1086_SecABD_Sum12_Pt1.JPG</td><td>1</td></tr><tr><td>gs://tamucc_coastline/esi_images/IMG_1088_SecABD_Sum12_Pt1.JPG</td><td>1</td></tr><tr><td>gs://tamucc_coastline/esi_images/IMG_0348_SecABD_Sum12_Pt1.JPG</td><td>1</td></tr><tr><td>gs://tamucc_coastline/esi_images/IMG_0411_SecABD_Sum12_Pt1.JPG</td><td>1</td></tr><tr><td>gs://tamucc_coastline/esi_images/IMG_0324_SecABD_Sum12_Pt1.JPG</td><td>1</td></tr><tr><td>gs://tamucc_coastline/esi_images/IMG_0321_SecABD_Sum12_Pt1.JPG</td><td>1</td></tr><tr><td>gs://tamucc_coastline/esi_images/IMG_0413_SecABD_Sum12_Pt1.JPG</td><td>1</td></tr><tr><td>gs://tamucc_coastline/esi_images/IMG_0418_SecABD_Sum12_Pt1.JPG</td><td>1</td></tr><tr><td>gs://tamucc_coastline/esi_images/IMG_1072_SecABD_Sum12_Pt1.JPG</td><td>1</td></tr><tr><td>gs://tamucc_coastline/esi_images/IMG_2958_SecABD_Sum12_Pt1.JPG</td><td>1</td></tr><tr><td>gs://tamucc_coastline/esi_images/IMG_2961_SecABD_Sum12_Pt1.JPG</td><td>1</td></tr><tr><td>gs://tamucc_coastline/esi_images/IMG_2963_SecABD_Sum12_Pt1.JPG</td><td>1</td></tr><tr><td>gs://tamucc_coastline/esi_images/IMG_0250_SecABD_Sum12_Pt1.JPG</td><td>1</td></tr><tr><td>gs://tamucc_coastline/esi_images/IMG_0232_SecABD_Sum12_Pt1.JPG</td><td>1</td></tr><tr><td>gs://tamucc_coastline/esi_images/IMG_0239_SecABD_Sum12_Pt1.JPG</td><td>1</td></tr><tr><td>gs://tamucc_coastline/esi_images/IMG_0242_SecABD_Sum12_Pt1.JPG</td><td>1</td></tr><tr><td>gs://tamucc_coastline/esi_images/IMG_0276_SecABD_Sum12_Pt1.JPG</td><td>1</td></tr><tr><td>gs://tamucc_coastline/esi_images/IMG_0278_SecABD_Sum12_Pt1.JPG</td><td>1</td></tr><tr><td>gs://tamucc_coastline/esi_images/IMG_0285_SecABD_Sum12_Pt1.JPG</td><td>1</td></tr></table></div>\n",
       "    <br />(rows: 8000, time: 0.6s,   530KB processed, job: job_M8vYVPH4d5FkN0izmmM8Fl8seIM)<br />\n",
       "    <script>\n",
       "\n",
       "      require.config({\n",
       "        paths: {\n",
       "          d3: '//cdnjs.cloudflare.com/ajax/libs/d3/3.4.13/d3',\n",
       "          plotly: 'https://cdn.plot.ly/plotly-1.5.1.min.js?noext',\n",
       "          jquery: '//ajax.googleapis.com/ajax/libs/jquery/2.0.0/jquery.min'\n",
       "        },\n",
       "        map: {\n",
       "          '*': {\n",
       "            datalab: 'nbextensions/gcpdatalab'\n",
       "          }\n",
       "        },\n",
       "        shim: {\n",
       "          plotly: {\n",
       "            deps: ['d3', 'jquery'],\n",
       "            exports: 'plotly'\n",
       "          }\n",
       "        }\n",
       "      });\n",
       "\n",
       "      require(['datalab/charting', 'datalab/element!6_148719478129', 'base/js/events',\n",
       "          'datalab/style!/nbextensions/gcpdatalab/charting.css'],\n",
       "        function(charts, dom, events) {\n",
       "          charts.render('gcharts', dom, events, 'paged_table', [], {\"rows\": [{\"c\": [{\"v\": \"gs://tamucc_coastline/esi_images/IMG_3820_SecDE_Spr12.jpg\"}, {\"v\": \"1\"}]}, {\"c\": [{\"v\": \"gs://tamucc_coastline/esi_images/IMG_1074_SecABD_Sum12_Pt1.JPG\"}, {\"v\": \"1\"}]}, {\"c\": [{\"v\": \"gs://tamucc_coastline/esi_images/IMG_1077_SecABD_Sum12_Pt1.JPG\"}, {\"v\": \"1\"}]}, {\"c\": [{\"v\": \"gs://tamucc_coastline/esi_images/IMG_1079_SecABD_Sum12_Pt1.JPG\"}, {\"v\": \"1\"}]}, {\"c\": [{\"v\": \"gs://tamucc_coastline/esi_images/IMG_1081_SecABD_Sum12_Pt1.JPG\"}, {\"v\": \"1\"}]}, {\"c\": [{\"v\": \"gs://tamucc_coastline/esi_images/IMG_1084_SecABD_Sum12_Pt1.JPG\"}, {\"v\": \"1\"}]}, {\"c\": [{\"v\": \"gs://tamucc_coastline/esi_images/IMG_1086_SecABD_Sum12_Pt1.JPG\"}, {\"v\": \"1\"}]}, {\"c\": [{\"v\": \"gs://tamucc_coastline/esi_images/IMG_1088_SecABD_Sum12_Pt1.JPG\"}, {\"v\": \"1\"}]}, {\"c\": [{\"v\": \"gs://tamucc_coastline/esi_images/IMG_0348_SecABD_Sum12_Pt1.JPG\"}, {\"v\": \"1\"}]}, {\"c\": [{\"v\": \"gs://tamucc_coastline/esi_images/IMG_0411_SecABD_Sum12_Pt1.JPG\"}, {\"v\": \"1\"}]}, {\"c\": [{\"v\": \"gs://tamucc_coastline/esi_images/IMG_0324_SecABD_Sum12_Pt1.JPG\"}, {\"v\": \"1\"}]}, {\"c\": [{\"v\": \"gs://tamucc_coastline/esi_images/IMG_0321_SecABD_Sum12_Pt1.JPG\"}, {\"v\": \"1\"}]}, {\"c\": [{\"v\": \"gs://tamucc_coastline/esi_images/IMG_0413_SecABD_Sum12_Pt1.JPG\"}, {\"v\": \"1\"}]}, {\"c\": [{\"v\": \"gs://tamucc_coastline/esi_images/IMG_0418_SecABD_Sum12_Pt1.JPG\"}, {\"v\": \"1\"}]}, {\"c\": [{\"v\": \"gs://tamucc_coastline/esi_images/IMG_1072_SecABD_Sum12_Pt1.JPG\"}, {\"v\": \"1\"}]}, {\"c\": [{\"v\": \"gs://tamucc_coastline/esi_images/IMG_2958_SecABD_Sum12_Pt1.JPG\"}, {\"v\": \"1\"}]}, {\"c\": [{\"v\": \"gs://tamucc_coastline/esi_images/IMG_2961_SecABD_Sum12_Pt1.JPG\"}, {\"v\": \"1\"}]}, {\"c\": [{\"v\": \"gs://tamucc_coastline/esi_images/IMG_2963_SecABD_Sum12_Pt1.JPG\"}, {\"v\": \"1\"}]}, {\"c\": [{\"v\": \"gs://tamucc_coastline/esi_images/IMG_0250_SecABD_Sum12_Pt1.JPG\"}, {\"v\": \"1\"}]}, {\"c\": [{\"v\": \"gs://tamucc_coastline/esi_images/IMG_0232_SecABD_Sum12_Pt1.JPG\"}, {\"v\": \"1\"}]}, {\"c\": [{\"v\": \"gs://tamucc_coastline/esi_images/IMG_0239_SecABD_Sum12_Pt1.JPG\"}, {\"v\": \"1\"}]}, {\"c\": [{\"v\": \"gs://tamucc_coastline/esi_images/IMG_0242_SecABD_Sum12_Pt1.JPG\"}, {\"v\": \"1\"}]}, {\"c\": [{\"v\": \"gs://tamucc_coastline/esi_images/IMG_0276_SecABD_Sum12_Pt1.JPG\"}, {\"v\": \"1\"}]}, {\"c\": [{\"v\": \"gs://tamucc_coastline/esi_images/IMG_0278_SecABD_Sum12_Pt1.JPG\"}, {\"v\": \"1\"}]}, {\"c\": [{\"v\": \"gs://tamucc_coastline/esi_images/IMG_0285_SecABD_Sum12_Pt1.JPG\"}, {\"v\": \"1\"}]}], \"cols\": [{\"type\": \"string\", \"id\": \"image_url\", \"label\": \"image_url\"}, {\"type\": \"string\", \"id\": \"label\", \"label\": \"label\"}]},\n",
       "            {\n",
       "              pageSize: 25,\n",
       "              cssClassNames:  {\n",
       "                tableRow: 'gchart-table-row',\n",
       "                headerRow: 'gchart-table-headerrow',\n",
       "                oddTableRow: 'gchart-table-oddrow',\n",
       "                selectedTableRow: 'gchart-table-selectedrow',\n",
       "                hoverTableRow: 'gchart-table-hoverrow',\n",
       "                tableCell: 'gchart-table-cell',\n",
       "                headerCell: 'gchart-table-headercell',\n",
       "                rowNumberCell: 'gchart-table-rownumcell'\n",
       "              }\n",
       "            },\n",
       "            {source_index: 5, fields: 'image_url,label'},\n",
       "            0,\n",
       "            8000);\n",
       "        }\n",
       "      );\n",
       "    </script>\n",
       "  "
      ],
      "text/plain": [
       "QueryResultsTable job_M8vYVPH4d5FkN0izmmM8Fl8seIM"
      ]
     },
     "execution_count": 50,
     "metadata": {},
     "output_type": "execute_result"
    }
   ],
   "source": [
    "%%sql\n",
    "SELECT image_url, label FROM coast.train"
   ]
  },
  {
   "cell_type": "markdown",
   "metadata": {},
   "source": [
    "### Explore Your Data\n",
    "\n",
    "Sample the data to around 1000 instances for visualization. Our data is very simple, so we simply draw histogram on the labels and compare training and eval data.\n",
    "\n",
    "You will find that training/eval data labels distribution does not match completely --- it is an intentional bug."
   ]
  },
  {
   "cell_type": "code",
   "execution_count": 53,
   "metadata": {
    "collapsed": false
   },
   "outputs": [],
   "source": [
    "from datalab.mlalpha import *\n",
    "ds_train = BigQueryDataSet('coast.train')\n",
    "ds_eval = BigQueryDataSet('coast.eval')\n",
    "\n",
    "df_train = ds_train.sample(1000)\n",
    "df_eval = ds_eval.sample(1000)"
   ]
  },
  {
   "cell_type": "code",
   "execution_count": 58,
   "metadata": {
    "collapsed": false
   },
   "outputs": [
    {
     "data": {
      "text/plain": [
       "<matplotlib.axes._subplots.AxesSubplot at 0x7f66907cc5d0>"
      ]
     },
     "execution_count": 58,
     "metadata": {},
     "output_type": "execute_result"
    },
    {
     "data": {
      "image/png": "[encoded data removed]",
      "text/plain": [
       "<matplotlib.figure.Figure at 0x7f66906d2c50>"
      ]
     },
     "metadata": {},
     "output_type": "display_data"
    }
   ],
   "source": [
    "df_train.label.value_counts().plot(kind='bar')"
   ]
  },
  {
   "cell_type": "code",
   "execution_count": 57,
   "metadata": {
    "collapsed": false
   },
   "outputs": [
    {
     "data": {
      "text/plain": [
       "<matplotlib.axes._subplots.AxesSubplot at 0x7f66906e4410>"
      ]
     },
     "execution_count": 57,
     "metadata": {},
     "output_type": "execute_result"
    },
    {
     "data": {
      "image/png": "[encoded data removed]",
      "text/plain": [
       "<matplotlib.figure.Figure at 0x7f6691d54510>"
      ]
     },
     "metadata": {},
     "output_type": "display_data"
    }
   ],
   "source": [
    "df_eval.label.value_counts().plot(kind='bar')"
   ]
  },
  {
   "cell_type": "code",
   "execution_count": null,
   "metadata": {
    "collapsed": true
   },
   "outputs": [],
   "source": []
  }
 ],
 "metadata": {
  "kernelspec": {
   "display_name": "Python 2",
   "language": "python",
   "name": "python2"
  },
  "language_info": {
   "codemirror_mode": {
    "name": "ipython",
    "version": 2
   },
   "file_extension": ".py",
   "mimetype": "text/x-python",
   "name": "python",
   "nbconvert_exporter": "python",
   "pygments_lexer": "ipython2",
   "version": "2.7.9"
  }
 },
 "nbformat": 4,
 "nbformat_minor": 2
}
