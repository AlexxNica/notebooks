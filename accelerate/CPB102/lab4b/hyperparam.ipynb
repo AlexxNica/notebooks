{
 "cells": [
  {
   "cell_type": "markdown",
   "metadata": {},
   "source": [
    "<h1> Hyperparameter tuning </h1>\n",
    "\n",
    "This notebook is Lab4b of CPB 102, Google's course on Machine Learning using Cloud ML.\n",
    "\n",
    "This notebook builds on Lab 4a, adding hyperparameter tuning to the feature engineering done in that lab.  To save time, we will start from the preprocessed output of Lab 4a."
   ]
  },
  {
   "cell_type": "code",
   "execution_count": 5,
   "metadata": {
    "collapsed": false
   },
   "outputs": [
    {
     "name": "stdout",
     "output_type": "stream",
     "text": [
      "0.11.0rc0\n",
      "gs://cloud-ml/sdk/cloudml-0.1.6-alpha.dataflow.tar.gz\n"
     ]
    }
   ],
   "source": [
    "import google.cloud.ml as ml\n",
    "import tensorflow as tf\n",
    "print tf.__version__\n",
    "print ml.sdk_location"
   ]
  },
  {
   "cell_type": "markdown",
   "metadata": {},
   "source": [
    "<h2> Environment variables for project and bucket </h2>\n",
    "\n",
    "Change the cell below to reflect your Project ID and bucket name. See Lab 3a for setup instructions."
   ]
  },
  {
   "cell_type": "code",
   "execution_count": 2,
   "metadata": {
    "collapsed": true
   },
   "outputs": [],
   "source": [
    "import os\n",
    "PROJECT = 'cloud-training-demos'    # CHANGE THIS\n",
    "BUCKET = 'cloud-training-demos-ml'  # CHANGE THIS\n",
    "\n",
    "os.environ['PROJECT'] = PROJECT # for bash\n",
    "os.environ['BUCKET'] = BUCKET # for bash"
   ]
  },
  {
   "cell_type": "markdown",
   "metadata": {},
   "source": [
    "<h1> Retreiving preprocessed data </h1>\n",
    "\n",
    "To save time, we'll go off the preprocessed data from Lab4a. To save time, let's start off by copying my Lab4a results (which I carried out on 10m row dataset -- in Lab 4a, you ran it on just 20,000 records).\n",
    "\n",
    "Tuning is carried out over a segment of the training data (you should not use the validation data for this)."
   ]
  },
  {
   "cell_type": "code",
   "execution_count": 4,
   "metadata": {
    "collapsed": false
   },
   "outputs": [
    {
     "name": "stderr",
     "output_type": "stream",
     "text": [
      "CommandException: 1 files/objects could not be removed.\n",
      "Copying gs://cloud-training-demos-ml/taxifare/taxi_preproc4a_full/metadata.yaml [Content-Type=text/plain]...\n",
      "/ [0 files][    0.0 B/  2.4 KiB]                                                \r",
      "/ [1 files][  2.4 KiB/  2.4 KiB]                                                \r\n",
      "Operation completed over 1 objects/2.4 KiB.                                      \n",
      "Copying gs://cloud-training-demos-ml/taxifare/taxi_preproc4a_full/features_train-00005-of-00301.tfrecord.gz...\n",
      "/ [0/10 files][    0.0 B/446.9 MiB]   0% Done                                   \r",
      "Copying gs://cloud-training-demos-ml/taxifare/taxi_preproc4a_full/features_train-00006-of-00301.tfrecord.gz...\n",
      "/ [0/10 files][    0.0 B/446.9 MiB]   0% Done                                   \r",
      "Copying gs://cloud-training-demos-ml/taxifare/taxi_preproc4a_full/features_train-00008-of-00301.tfrecord.gz...\n",
      "Copying gs://cloud-training-demos-ml/taxifare/taxi_preproc4a_full/features_train-00007-of-00301.tfrecord.gz...\n",
      "Copying gs://cloud-training-demos-ml/taxifare/taxi_preproc4a_full/features_train-00000-of-00301.tfrecord.gz...\n",
      "/ [0/10 files][    0.0 B/446.9 MiB]   0% Done                                   \r",
      "/ [0/10 files][    0.0 B/446.9 MiB]   0% Done                                   \r",
      "/ [0/10 files][    0.0 B/446.9 MiB]   0% Done                                   \r",
      "Copying gs://cloud-training-demos-ml/taxifare/taxi_preproc4a_full/features_train-00009-of-00301.tfrecord.gz...\n",
      "/ [0/10 files][    0.0 B/446.9 MiB]   0% Done                                   \r",
      "/ [0/10 files][    0.0 B/446.9 MiB]   0% Done                                   \r",
      "/ [0/10 files][    0.0 B/446.9 MiB]   0% Done                                   \r",
      "/ [0/10 files][    0.0 B/446.9 MiB]   0% Done                                   \r",
      "/ [0/10 files][    0.0 B/446.9 MiB]   0% Done                                   \r",
      "/ [1/10 files][ 22.9 MiB/446.9 MiB]   5% Done                                   \r",
      "/ [2/10 files][ 23.8 MiB/446.9 MiB]   5% Done                                   \r",
      "/ [3/10 files][ 76.7 MiB/446.9 MiB]  17% Done                                   \r",
      "/ [4/10 files][129.6 MiB/446.9 MiB]  29% Done                                   \r",
      "/ [5/10 files][182.5 MiB/446.9 MiB]  40% Done                                   \r",
      "/ [6/10 files][235.5 MiB/446.9 MiB]  52% Done                                   \r",
      "/ [7/10 files][288.3 MiB/446.9 MiB]  64% Done                                   \r",
      "/ [8/10 files][341.2 MiB/446.9 MiB]  76% Done                                   \r",
      "/ [8/10 files][394.0 MiB/446.9 MiB]  88% Done                                   \r",
      "-\r",
      "- [9/10 files][446.9 MiB/446.9 MiB]  99% Done                                   \r",
      "- [10/10 files][446.9 MiB/446.9 MiB] 100% Done                                  \r\n",
      "Operation completed over 10 objects/446.9 MiB.                                   \n",
      "Copying gs://cloud-training-demos-ml/taxifare/taxi_preproc4a_full/features_train-00022-of-00301.tfrecord.gz...\n",
      "Copying gs://cloud-training-demos-ml/taxifare/taxi_preproc4a_full/features_train-00020-of-00301.tfrecord.gz...\n",
      "Copying gs://cloud-training-demos-ml/taxifare/taxi_preproc4a_full/features_train-00021-of-00301.tfrecord.gz...\n",
      "/ [0/10 files][    0.0 B/477.6 MiB]   0% Done                                   \r",
      "/ [0/10 files][    0.0 B/477.6 MiB]   0% Done                                   \r",
      "/ [0/10 files][    0.0 B/477.6 MiB]   0% Done                                   \r",
      "Copying gs://cloud-training-demos-ml/taxifare/taxi_preproc4a_full/features_train-00025-of-00301.tfrecord.gz...\n",
      "Copying gs://cloud-training-demos-ml/taxifare/taxi_preproc4a_full/features_train-00026-of-00301.tfrecord.gz...\n",
      "/ [0/10 files][    0.0 B/477.6 MiB]   0% Done                                   \r",
      "/ [0/10 files][    0.0 B/477.6 MiB]   0% Done                                   \r",
      "Copying gs://cloud-training-demos-ml/taxifare/taxi_preproc4a_full/features_train-00023-of-00301.tfrecord.gz...\n",
      "/ [0/10 files][    0.0 B/477.6 MiB]   0% Done                                   \r",
      "Copying gs://cloud-training-demos-ml/taxifare/taxi_preproc4a_full/features_train-00028-of-00301.tfrecord.gz...\n",
      "/ [0/10 files][    0.0 B/477.6 MiB]   0% Done                                   \r",
      "Copying gs://cloud-training-demos-ml/taxifare/taxi_preproc4a_full/features_train-00024-of-00301.tfrecord.gz...\n",
      "/ [0/10 files][    0.0 B/477.6 MiB]   0% Done                                   \r",
      "Copying gs://cloud-training-demos-ml/taxifare/taxi_preproc4a_full/features_train-00027-of-00301.tfrecord.gz...\n",
      "/ [0/10 files][    0.0 B/477.6 MiB]   0% Done                                   \r",
      "Copying gs://cloud-training-demos-ml/taxifare/taxi_preproc4a_full/features_train-00029-of-00301.tfrecord.gz...\n",
      "/ [0/10 files][    0.0 B/477.6 MiB]   0% Done                                   \r",
      "/ [1/10 files][ 52.9 MiB/477.6 MiB]  11% Done                                   \r",
      "/ [2/10 files][105.8 MiB/477.6 MiB]  22% Done                                   \r",
      "/ [3/10 files][107.3 MiB/477.6 MiB]  22% Done                                   \r",
      "/ [4/10 files][160.2 MiB/477.6 MiB]  33% Done                                   \r",
      "/ [5/10 files][213.1 MiB/477.6 MiB]  44% Done                                   \r",
      "/ [6/10 files][266.0 MiB/477.6 MiB]  55% Done                                   \r",
      "/ [7/10 files][318.9 MiB/477.6 MiB]  66% Done                                   \r",
      "/ [8/10 files][371.8 MiB/477.6 MiB]  77% Done                                   \r",
      "/ [9/10 files][424.7 MiB/477.6 MiB]  88% Done                                   \r",
      "/ [10/10 files][477.6 MiB/477.6 MiB] 100% Done                                  \r\n",
      "Operation completed over 10 objects/477.6 MiB.                                   \n"
     ]
    }
   ],
   "source": [
    "%bash\n",
    "SOURCE=gs://cloud-training-demos-ml/taxifare/taxi_preproc4a_full\n",
    "gsutil -m rm -rf gs://$BUCKET/taxifare/taxi_preproc4b/\n",
    "gsutil cp $SOURCE/metadata.yaml gs://$BUCKET/taxifare/taxi_preproc4b/metadata.yaml\n",
    "for file in features_train-0000* features_train-0002*; do\n",
    "    gsutil -m cp $SOURCE/$file gs://$BUCKET/taxifare/taxi_preproc4b/\n",
    "done"
   ]
  },
  {
   "cell_type": "markdown",
   "metadata": {},
   "source": [
    "<h2> Modify TensorFlow code </h2>\n",
    "\n",
    "We want to make the number of buckets and the number of hidden nodes an optimizable parameter.\n",
    "In order to do this, we have to get them from the command-line.\n",
    "\n",
    "This shows all the code that now references the number_buckets hyperparameter."
   ]
  },
  {
   "cell_type": "code",
   "execution_count": 5,
   "metadata": {
    "collapsed": false
   },
   "outputs": [
    {
     "name": "stdout",
     "output_type": "stream",
     "text": [
      "taxifare/trainer/task.py-  parser.add_argument('--metadata_path', type=str)\n",
      "taxifare/trainer/task.py-  parser.add_argument('--output_path', type=str)\n",
      "taxifare/trainer/task.py-  parser.add_argument('--max_steps', type=int, default=2000)\n",
      "taxifare/trainer/task.py:  parser.add_argument('--number_buckets', type=int, default=5)\n",
      "taxifare/trainer/task.py-  parser.add_argument('--hidden_layer1_size', type=int, default=256)\n",
      "taxifare/trainer/task.py-  parser.add_argument('--batch_size', type=int, default=128)\n",
      "taxifare/trainer/task.py-  parser.add_argument('--learning_rate', type=float, default=0.01)\n",
      "--\n",
      "taxifare/trainer/task.py-  HYPERPARAMS['hidden_layer1_size'] = args.hidden_layer1_size\n",
      "taxifare/trainer/task.py-  HYPERPARAMS['hidden_layer2_size'] = args.hidden_layer1_size / 2\n",
      "taxifare/trainer/task.py-  HYPERPARAMS['hidden_layer3_size'] = args.hidden_layer1_size / 4\n",
      "taxifare/trainer/task.py:  HYPERPARAMS['number_buckets'] = args.number_buckets\n",
      "taxifare/trainer/task.py-  \n",
      "taxifare/trainer/task.py-  args.output_path = os.path.join(args.output_path, trial_id)\n",
      "taxifare/trainer/task.py-  logging.info(\"start trial %s outputs in %s\", trial_id, args.output_path)\n",
      "--\n",
      "taxifare/trainer/task.py-  'hidden_layer1_size': 300,\n",
      "taxifare/trainer/task.py-  'hidden_layer2_size': 200,\n",
      "taxifare/trainer/task.py-  'hidden_layer3_size': 100,\n",
      "taxifare/trainer/task.py:  'number_buckets': 5\n",
      "taxifare/trainer/task.py-}\n",
      "taxifare/trainer/task.py-EVAL_SET_SIZE = 2767\n",
      "taxifare/trainer/task.py-EVAL_INTERVAL_SECS = 30\n",
      "--\n",
      "taxifare/trainer/taxifare.py-      input_data = tf.placeholder(tf.string, name='input', shape=(None,))\n",
      "taxifare/trainer/taxifare.py-    parsed = features.FeatureMetadata.parse_features(metadata, input_data)\n",
      "taxifare/trainer/taxifare.py-\n",
      "taxifare/trainer/taxifare.py:    NUMBUCKETS = hyperparams['number_buckets']\n",
      "taxifare/trainer/taxifare.py-\n",
      "taxifare/trainer/taxifare.py-    # [batchsize, 1] \n",
      "taxifare/trainer/taxifare.py-    plat = parsed['plat']\n",
      "--\n",
      "taxifare/trainer/taxifare.py-\n",
      "taxifare/trainer/taxifare.py-def inference(inputs, metadata, hyperparams):\n",
      "taxifare/trainer/taxifare.py-  # input_size = metadata.features['inputs']['size']\n",
      "taxifare/trainer/taxifare.py:  NUMBUCKETS = hyperparams['number_buckets']\n",
      "taxifare/trainer/taxifare.py-  input_size = 6 + (NUMBUCKETS**2) * 2 + (NUMBUCKETS**4) + 4\n",
      "taxifare/trainer/taxifare.py-  output_size = metadata.features['fare_amount']['size']\n",
      "taxifare/trainer/taxifare.py-\n"
     ]
    }
   ],
   "source": [
    "%bash\n",
    "grep -3 number_buckets taxifare/trainer/*.py"
   ]
  },
  {
   "cell_type": "markdown",
   "metadata": {},
   "source": [
    "We also have to add a summary metric named <b>training/hptuning/metric</b> to the TensorFlow graph."
   ]
  },
  {
   "cell_type": "code",
   "execution_count": 6,
   "metadata": {
    "collapsed": false
   },
   "outputs": [
    {
     "name": "stdout",
     "output_type": "stream",
     "text": [
      "      global_step = tf.Variable(0, name='global_step', trainable=False)\n",
      "\n",
      "    tf.scalar_summary('rmse', rmse_op)\n",
      "    tf.scalar_summary('training/hptuning/metric', rmse_op)\n",
      "    summary = tf.merge_all_summaries() # make sure all scalar summaries are produced\n",
      "\n",
      "    saver = tf.train.Saver()\n"
     ]
    }
   ],
   "source": [
    "%bash\n",
    "grep -3 hptuning taxifare/trainer/task.py"
   ]
  },
  {
   "cell_type": "markdown",
   "metadata": {},
   "source": [
    "<h2> Train once </h2>\n",
    "\n",
    "Here, we package up the code and train as normal."
   ]
  },
  {
   "cell_type": "code",
   "execution_count": 7,
   "metadata": {
    "collapsed": false
   },
   "outputs": [
    {
     "name": "stdout",
     "output_type": "stream",
     "text": [
      "taxifare/\n",
      "taxifare/PKG-INFO\n",
      "taxifare/setup.cfg\n",
      "taxifare/setup.py\n",
      "taxifare/trainer/\n",
      "taxifare/trainer/__init__.py\n",
      "taxifare/trainer/task.py\n",
      "taxifare/trainer/taxifare.py\n",
      "taxifare/trainer.egg-info/\n",
      "taxifare/trainer.egg-info/dependency_links.txt\n",
      "taxifare/trainer.egg-info/PKG-INFO\n",
      "taxifare/trainer.egg-info/SOURCES.txt\n",
      "taxifare/trainer.egg-info/top_level.txt\n"
     ]
    },
    {
     "name": "stderr",
     "output_type": "stream",
     "text": [
      "Copying file://taxifare.tar.gz [Content-Type=application/x-tar]...\n",
      "/ [0 files][    0.0 B/  7.2 KiB]                                                \r",
      "/ [1 files][  7.2 KiB/  7.2 KiB]                                                \r\n",
      "Operation completed over 1 objects/7.2 KiB.                                      \n"
     ]
    }
   ],
   "source": [
    "%bash\n",
    "rm -rf taxifare.tar.gz taxi_trained\n",
    "tar cvfz taxifare.tar.gz taxifare\n",
    "gsutil cp taxifare.tar.gz gs://$BUCKET/taxifare/source4b/taxifare.tar.gz"
   ]
  },
  {
   "cell_type": "code",
   "execution_count": null,
   "metadata": {
    "collapsed": false
   },
   "outputs": [],
   "source": [
    "%bash\n",
    "gsutil -m cp -R gs://$BUCKET/taxifare/taxi_preproc4b /content/training-data-analyst/CPB102/lab4b"
   ]
  },
  {
   "cell_type": "code",
   "execution_count": null,
   "metadata": {
    "collapsed": false
   },
   "outputs": [
    {
     "data": {
      "text/html": [
       "<p>Job Running...</p>"
      ]
     },
     "metadata": {},
     "output_type": "display_data"
    },
    {
     "data": {
      "text/html": [
       "<a href=\"/_nocachecontent/master\" target=\"_blank\">master log</a>&nbsp;&nbsp;"
      ]
     },
     "metadata": {},
     "output_type": "display_data"
    },
    {
     "data": {
      "text/html": [
       "master: INFO:root:Step 200: loss = 8.97 (0.004 sec)<br/>master: <br/>master: INFO:root:Final rmse after 200 steps = 10.321<br/>master: INFO:root:Done training.<br/>master: plat  =  [128, 1]<br/>master: latdist  =  [128, 1]<br/>master: pickup  =  [128, 4]<br/>master: pickupdropoff  =  [128, 16]<br/>master: inputs= [128, 34]<br/>master: plat  =  [128, 1]<br/>master: latdist  =  [128, 1]<br/>master: pickup  =  [128, 4]<br/>master: pickupdropoff  =  [128, 16]<br/>master: inputs= [128, 34]<br/>master: plat  =  [None, 1]<br/>master: latdist  =  [None, 1]<br/>master: pickup  =  [None, 4]<br/>master: pickupdropoff  =  [None, 16]<br/>master: inputs= [None, 34]<br/>master: "
      ]
     },
     "metadata": {},
     "output_type": "display_data"
    },
    {
     "data": {
      "text/html": [
       "<p>Job Finished.</p>"
      ]
     },
     "metadata": {},
     "output_type": "display_data"
    }
   ],
   "source": [
    "%%mlalpha train\n",
    "package_uris: /content/training-data-analyst/CPB102/lab4b/taxifare.tar.gz\n",
    "python_module: trainer.task\n",
    "scale_tier: BASIC\n",
    "region: us-central1\n",
    "args:\n",
    "  train_data_paths: /content/training-data-analyst/CPB102/lab4b/taxi_preproc4b/features_train-0000*\n",
    "  eval_data_paths:  /content/training-data-analyst/CPB102/lab4b/taxi_preproc4b/features_train-0002*\n",
    "  metadata_path: /content/training-data-analyst/CPB102/lab4b/taxi_preproc4b/metadata.yaml\n",
    "  output_path: /content/training-data-analyst/CPB102/lab4b/taxi_trained\n",
    "  max_steps: 200\n",
    "  hidden_layer1_size: 8\n",
    "  number_buckets: 2\n",
    "  learning_rate: 0.01\n",
    "  batch_size: 128"
   ]
  },
  {
   "cell_type": "code",
   "execution_count": 1,
   "metadata": {
    "collapsed": false
   },
   "outputs": [
    {
     "data": {
      "text/html": [
       "<div id=\"ca256a50-09db-4aa0-82ac-6c636b5e6c84\" style=\"height: 525px; width: 100%;\" class=\"plotly-graph-div\"></div><script type=\"text/javascript\">require([\"plotly\"], function(Plotly) { window.PLOTLYENV=window.PLOTLYENV || {};window.PLOTLYENV.BASE_URL=\"https://plot.ly\";Plotly.newPlot(\"ca256a50-09db-4aa0-82ac-6c636b5e6c84\", [{\"y\": [10.38461971282959], \"x\": [200], \"type\": \"scatter\", \"name\": \"training/hptuning/metric-/content/training-data-analyst/CPB102/lab4b/taxi_trained/eval\"}, {\"y\": [], \"x\": [], \"type\": \"scatter\", \"name\": \"accuracy-/content/training-data-analyst/CPB102/lab4b/taxi_trained/eval\"}], {\"title\": \"training/hptuning/metric,accuracy\", \"xaxis\": {\"title\": \"step\"}, \"yaxis\": {\"title\": \"training/hptuning/metric,accuracy\"}}, {\"linkText\": \"Export to plot.ly\", \"showLink\": true})});</script>"
      ],
      "text/plain": [
       "<IPython.core.display.HTML object>"
      ]
     },
     "metadata": {},
     "output_type": "display_data"
    }
   ],
   "source": [
    "%mlalpha summary --dir /content/training-data-analyst/CPB102/lab4b/taxi_trained/eval --name training/hptuning/metric accuracy --step"
   ]
  },
  {
   "cell_type": "markdown",
   "metadata": {},
   "source": [
    "<h2> Hyperparameter tuning </h2>\n",
    "\n",
    "Now, we carry out the training, but this time on the cloud, and this time with some hyperparameters"
   ]
  },
  {
   "cell_type": "code",
   "execution_count": 14,
   "metadata": {
    "collapsed": false
   },
   "outputs": [
    {
     "name": "stdout",
     "output_type": "stream",
     "text": [
      "CommandException: 1 files/objects could not be removed.\r\n"
     ]
    }
   ],
   "source": [
    "!gsutil -m -q rm -r gs://$BUCKET/taxifare/taxi_trained4b"
   ]
  },
  {
   "cell_type": "code",
   "execution_count": null,
   "metadata": {
    "collapsed": true
   },
   "outputs": [],
   "source": [
    "# set up parameters for mlapha command.\n",
    "package_uris = 'gs://' + BUCKET + '/taxifare/source4b/taxifare.tar.gz'\n",
    "train_data_paths = 'gs://' + BUCKET + '/taxifare/taxi_preproc4b/features_train-0000*'\n",
    "eval_data_paths = 'gs://' + BUCKET + '/taxifare/taxi_preproc4b/features_train-0002*'\n",
    "metadata_path = 'gs://' + BUCKET + '/taxifare/taxi_preproc4b/metadata.yaml'\n",
    "output_path = 'gs://' + BUCKET + '/taxifare/taxi_trained4b'"
   ]
  },
  {
   "cell_type": "code",
   "execution_count": 15,
   "metadata": {
    "collapsed": false
   },
   "outputs": [
    {
     "data": {
      "text/html": [
       "<p>Job \"trainer_task_161009_041512\" was submitted successfully.<br/>Run \"%mlalpha jobs --name trainer_task_161009_041512\" to view the status of the job.</p><p>Click <a href=\"https://console.developers.google.com/logs/viewer?project=cloud-training-demos&resource=ml.googleapis.com%2Fjob_id%2Ftrainer_task_161009_041512\" target=\"_blank\">here</a> to view cloud log. <br/>Start TensorBoard by running \"%tensorboard start --logdir=&lt;YourLogDir&gt;\".</p>"
      ],
      "text/plain": [
       "<IPython.core.display.HTML object>"
      ]
     },
     "execution_count": 15,
     "metadata": {},
     "output_type": "execute_result"
    }
   ],
   "source": [
    "%%mlalpha train --cloud\n",
    "package_uris: $package_uris\n",
    "python_module: trainer.task\n",
    "scale_tier: BASIC\n",
    "region: us-central1\n",
    "args:\n",
    "  train_data_paths: $train_data_paths\n",
    "  eval_data_paths: $eval_data_paths\n",
    "  metadata_path: $metadata_path\n",
    "  output_path: $output_path\n",
    "  max_steps: 2500\n",
    "hyperparameters:\n",
    "  goal: MINIMIZE\n",
    "  max_trials: 100\n",
    "  max_parallel_trials: 3\n",
    "  params:\n",
    "    - parameter_name: hidden_layer1_size\n",
    "      type: INTEGER\n",
    "      min_value: 128\n",
    "      max_value: 256\n",
    "      scale_type: UNIT_LINEAR_SCALE  \n",
    "    - parameter_name: number_buckets\n",
    "      type: INTEGER\n",
    "      min_value: 10\n",
    "      max_value: 25\n",
    "      scale_type: UNIT_LINEAR_SCALE  \n",
    "    - parameter_name: batch_size\n",
    "      type: DISCRETE\n",
    "      discrete_values: [128, 256, 512, 1024]  \n",
    "    - parameter_name: learning_rate\n",
    "      type: DOUBLE\n",
    "      min_value: 0.001\n",
    "      max_value: 0.1\n",
    "      scale_type: UNIT_LOG_SCALE  "
   ]
  },
  {
   "cell_type": "code",
   "execution_count": 20,
   "metadata": {
    "collapsed": false
   },
   "outputs": [
    {
     "data": {
      "text/html": [
       "<pre>createTime: '2016-10-08T00:00:24Z'\n",
       "endTime: '2016-10-08T03:08:16Z'\n",
       "jobId: trainer_task_161008_000023\n",
       "startTime: '2016-10-08T00:00:27Z'\n",
       "state: SUCCEEDED\n",
       "trainingInput:\n",
       "  args: [--train_data_paths, 'gs://cloud-training-demos-ml/taxifare/taxi_preproc4b/features_train-0000*',\n",
       "    --metadata_path, 'gs://cloud-training-demos-ml/taxifare/taxi_preproc4b/metadata.yaml',\n",
       "    --max_steps, '2500', --output_path, 'gs://cloud-training-demos-ml/taxifare/taxi_trained4b',\n",
       "    --eval_data_paths, 'gs://cloud-training-demos-ml/taxifare/taxi_preproc4b/features_train-0002*']\n",
       "  hyperparameters:\n",
       "    goal: MINIMIZE\n",
       "    maxParallelTrials: 3\n",
       "    maxTrials: 3\n",
       "    params:\n",
       "    - {maxValue: 256, minValue: 128, parameterName: hidden_layer1_size, scaleType: UNIT_LINEAR_SCALE,\n",
       "      type: INTEGER}\n",
       "    - {maxValue: 25, minValue: 10, parameterName: number_buckets, scaleType: UNIT_LINEAR_SCALE,\n",
       "      type: INTEGER}\n",
       "    - discreteValues: [128, 256, 512, 1024]\n",
       "      parameterName: batch_size\n",
       "      type: DISCRETE\n",
       "    - {maxValue: 0.1, minValue: 0.001, parameterName: learning_rate, scaleType: UNIT_LOG_SCALE,\n",
       "      type: DOUBLE}\n",
       "  packageUris: ['gs://cloud-training-demos-ml/taxifare/source4b/taxifare.tar.gz']\n",
       "  pythonModule: trainer.task\n",
       "  region: us-central1\n",
       "trainingOutput:\n",
       "  completedTrialCount: '3'\n",
       "  trials:\n",
       "  - hyperparameters: {batch_size: '256', hidden_layer1_size: '250', learning_rate: '0.012153404658055044',\n",
       "      number_buckets: '11'}\n",
       "    trialId: '3'\n",
       "  - hyperparameters: {batch_size: '1024', hidden_layer1_size: '133', learning_rate: '0.021715662701859713',\n",
       "      number_buckets: '12'}\n",
       "    trialId: '2'\n",
       "  - finalMetric: {objectiveValue: 9.18968296051, trainingStep: '11184'}\n",
       "    hyperparameters: {batch_size: '512', hidden_layer1_size: '147', learning_rate: '0.046980740433373969',\n",
       "      number_buckets: '19'}\n",
       "    trialId: '1'\n",
       "</pre>"
      ],
      "text/plain": [
       "<IPython.core.display.HTML object>"
      ]
     },
     "execution_count": 20,
     "metadata": {},
     "output_type": "execute_result"
    }
   ],
   "source": [
    "%mlalpha jobs --name  trainer_task_161008_000023"
   ]
  },
  {
   "cell_type": "markdown",
   "metadata": {},
   "source": [
    "<h2> Final training </h2>\n",
    "\n",
    "Use the hyperparameter training to retrain on full dataset and create the final model."
   ]
  },
  {
   "cell_type": "code",
   "execution_count": 1,
   "metadata": {
    "collapsed": false
   },
   "outputs": [
    {
     "name": "stdout",
     "output_type": "stream",
     "text": [
      "gs://cloud-training-demos-ml/taxifare/taxi_preproc4a_full/features_eval-00000-of-00196.tfrecord.gz\r\n",
      "gs://cloud-training-demos-ml/taxifare/taxi_preproc4a_full/features_eval-00001-of-00196.tfrecord.gz\r\n",
      "gs://cloud-training-demos-ml/taxifare/taxi_preproc4a_full/features_eval-00002-of-00196.tfrecord.gz\r\n",
      "gs://cloud-training-demos-ml/taxifare/taxi_preproc4a_full/features_eval-00003-of-00196.tfrecord.gz\r\n",
      "gs://cloud-training-demos-ml/taxifare/taxi_preproc4a_full/features_eval-00004-of-00196.tfrecord.gz\r\n"
     ]
    }
   ],
   "source": [
    "!gsutil ls gs://$BUCKET/taxifare/taxi_preproc4a_full | head -5"
   ]
  },
  {
   "cell_type": "code",
   "execution_count": 21,
   "metadata": {
    "collapsed": false
   },
   "outputs": [
    {
     "name": "stdout",
     "output_type": "stream",
     "text": [
      "\n",
      "\n",
      "Updates are available for some Cloud SDK components.  To install them,\n",
      "please run:\n",
      "  $ gcloud components update\n",
      "\n",
      "CommandException: 1 files/objects could not be removed.\n"
     ]
    }
   ],
   "source": [
    "!gsutil -m -q rm -r gs://$BUCKET/taxifare/taxi_trained4b_final"
   ]
  },
  {
   "cell_type": "code",
   "execution_count": null,
   "metadata": {
    "collapsed": true
   },
   "outputs": [],
   "source": [
    "# set up parameters for mlapha command.\n",
    "package_uris = 'gs://' + BUCKET + '/taxifare/source4b/taxifare.tar.gz'\n",
    "train_data_paths = 'gs://' + BUCKET + '/taxifare/taxi_preproc4a_full//features_train-*'\n",
    "eval_data_paths = 'gs://' + BUCKET + '/taxifare/taxi_preproc4a_full/features_eval-*'\n",
    "metadata_path = 'gs://' + BUCKET + '/taxifare/taxi_preproc4a_full/metadata.yaml'\n",
    "output_path = 'gs://' + BUCKET + '/taxifare/taxi_trained4b_final'"
   ]
  },
  {
   "cell_type": "code",
   "execution_count": null,
   "metadata": {
    "collapsed": false
   },
   "outputs": [
    {
     "data": {
      "text/html": [
       "<p>Job Running...</p>"
      ]
     },
     "metadata": {},
     "output_type": "display_data"
    },
    {
     "data": {
      "text/html": [
       "<a href=\"/_nocachecontent/master\" target=\"_blank\">master log</a>&nbsp;&nbsp;"
      ]
     },
     "metadata": {},
     "output_type": "display_data"
    },
    {
     "data": {
      "text/html": [
       "master: INFO:root:Eval, step 72: rmse = 5.145<br/>master: <br/>master: INFO:root:Eval, step 73: rmse = 6.284<br/>master: <br/>master: INFO:root:Eval, step 74: rmse = 7.242<br/>master: <br/>master: INFO:root:Eval, step 76: rmse = 5.110<br/>master: <br/>master: INFO:root:Eval, step 77: rmse = 6.312<br/>master: <br/>master: INFO:root:Eval, step 78: rmse = 7.686<br/>master: <br/>master: INFO:root:Eval, step 79: rmse = 7.149<br/>master: <br/>master: INFO:root:Eval, step 80: rmse = 4.992<br/>master: <br/>master: INFO:root:Eval, step 81: rmse = 5.924<br/>master: <br/>master: INFO:root:Eval, step 82: rmse = 6.059<br/>master: "
      ]
     },
     "metadata": {},
     "output_type": "display_data"
    }
   ],
   "source": [
    "%%mlalpha train --cloud\n",
    "package_uris:  $package_uris\n",
    "python_module: trainer.task\n",
    "scale_tier: BASIC\n",
    "region: us-central1\n",
    "args:\n",
    "  train_data_paths: $train_data_paths\n",
    "  eval_data_paths: $eval_data_paths\n",
    "  metadata_path: $metadata_path\n",
    "  output_path: $output_path\n",
    "  max_steps: 2500\n",
    "  hidden_layer1_size: 147\n",
    "  number_buckets: 19\n",
    "  learning_rate: 0.047\n",
    "  batch_size: 512"
   ]
  },
  {
   "cell_type": "markdown",
   "metadata": {},
   "source": [
    "Copyright 2016 Google Inc. Licensed under the Apache License, Version 2.0 (the \"License\"); you may not use this file except in compliance with the License. You may obtain a copy of the License at http://www.apache.org/licenses/LICENSE-2.0 Unless required by applicable law or agreed to in writing, software distributed under the License is distributed on an \"AS IS\" BASIS, WITHOUT WARRANTIES OR CONDITIONS OF ANY KIND, either express or implied. See the License for the specific language governing permissions and limitations under the License"
   ]
  }
 ],
 "metadata": {
  "kernelspec": {
   "display_name": "Python 2",
   "language": "python",
   "name": "python2"
  },
  "language_info": {
   "codemirror_mode": {
    "name": "ipython",
    "version": 2
   },
   "file_extension": ".py",
   "mimetype": "text/x-python",
   "name": "python",
   "nbconvert_exporter": "python",
   "pygments_lexer": "ipython2",
   "version": "2.7.9"
  }
 },
 "nbformat": 4,
 "nbformat_minor": 0
}
