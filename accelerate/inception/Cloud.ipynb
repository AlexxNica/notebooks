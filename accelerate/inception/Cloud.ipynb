{
 "cells": [
  {
   "cell_type": "markdown",
   "metadata": {},
   "source": [
    "# Order of magnitude faster training for image classification: Part II\n",
    "\n",
    "### _Transfer learning using Inception Package - Cloud Run Experience_\n",
    "This notebook continues the codifies the capabilities discussed in this [blog post](http://localhost:8081/). In a nutshell, it uses the pre-trained inception model as a starting point and then uses transfer learning to train it further on additional, customer-specific images. For explanation, simple flower images are used. Compared to training from scratch, the time and costs are drastically reduced.\n",
    "\n",
    "This notebook does preprocessing, training and prediction by calling CloudML API instead of running them in the Datalab container.  The purpose of local work is to do some initial prototyping and debugging on small scale data - often by taking a suitable (say 0.1 - 1%) sample of the full data. The same basic steps can then be repeated with much larger datasets in cloud."
   ]
  },
  {
   "cell_type": "markdown",
   "metadata": {},
   "source": [
    "## Setup \n",
    "\n",
    "First run the following steps only if you are running Datalab from your local desktop or laptop (not running Datalab from a GCE VM):\n",
    "\n",
    "1. Make sure you have a GCP project which is enabled for Machine Learning API and Dataflow API.\n",
    "2. Sign in with Datalab on the top right corner.\n",
    "3. Run \"%projects set [project-id]\" to set the default project in Datalab.\n",
    "4. Run \"!gcloud config set project [project-id]\"\n",
    "\n",
    "Then, regardless of where you run Datalab, please run:\n",
    "\n",
    "!gcloud beta ml init-project -q"
   ]
  },
  {
   "cell_type": "code",
   "execution_count": 3,
   "metadata": {
    "collapsed": false
   },
   "outputs": [
    {
     "name": "stdout",
     "output_type": "stream",
     "text": [
      "Added serviceAccount:cloud-ml-service@datalab-beta-golden-83755.iam.gserviceaccount.com as an Editor to project 'datalab-beta-golden'.\r\n"
     ]
    }
   ],
   "source": [
    "!gcloud beta ml init-project -q"
   ]
  },
  {
   "cell_type": "code",
   "execution_count": 1,
   "metadata": {
    "collapsed": true
   },
   "outputs": [],
   "source": [
    "bucket = 'gs://' + datalab_project_id() + '-lab'\n",
    "preprocess_dir = bucket + '/flowerpreprocessed'\n",
    "model_dir = bucket + '/flowermodel'"
   ]
  },
  {
   "cell_type": "code",
   "execution_count": 3,
   "metadata": {
    "collapsed": false
   },
   "outputs": [
    {
     "name": "stdout",
     "output_type": "stream",
     "text": [
      "Creating gs://bradley-playground-lab/...\r\n"
     ]
    }
   ],
   "source": [
    "!gsutil mb $bucket"
   ]
  },
  {
   "cell_type": "markdown",
   "metadata": {},
   "source": [
    "## Preprocess\n",
    "Preprocessing uses a Dataflow pipeline to convert the image format, resize images, and run the converted image through a pre-trained model to get the features or embeddings. You can also do this step using alternate technologies like Spark or plain Python code if you like. \n",
    "The %%ml preprocess command simplifies this task. Check out the parameters shown using --usage flag first and then run the command."
   ]
  },
  {
   "cell_type": "markdown",
   "metadata": {},
   "source": [
    "If you hit \"PERMISSION_DENIED\" when running the following cell, you need to enable Cloud DataFlow API (url is shown in error message). \n",
    "\n",
    "The DataFlow job usually takes about 20 min to complete."
   ]
  },
  {
   "cell_type": "code",
   "execution_count": 4,
   "metadata": {
    "collapsed": false
   },
   "outputs": [
    {
     "name": "stderr",
     "output_type": "stream",
     "text": [
      "WARNING:root:The .whl package \"%s\" is provided in --extra_package. This functionality is not officially supported. Since wheel packages are binary distributions, this package must be binary-compatible with the worker environment (e.g. Python 2.7 running on an x64 Linux host).\n"
     ]
    },
    {
     "data": {
      "text/html": [
       "Job submitted.<p>Click <a href=\"https://console.developers.google.com/dataflow?project=bradley-playground\" target=\"_blank\">here</a> to track preprocessing job. <br/>"
      ]
     },
     "metadata": {},
     "output_type": "display_data"
    }
   ],
   "source": [
    "%ml preprocess --package gs://cloud-datalab/packages/inception-0.1.tar.gz --cloud\n",
    "input_csvs:\n",
    "  - gs://cloud-datalab/sampledata/flower/train1000.csv\n",
    "output_dir: $preprocess_dir\n",
    "pipeline_option:\n",
    "  num_workers: 8"
   ]
  },
  {
   "cell_type": "markdown",
   "metadata": {},
   "source": [
    "## Train\n",
    "Note that the command remains the same as that in the \"local\" version. Added option `--cloud` ensures that it is run using CloudML"
   ]
  },
  {
   "cell_type": "code",
   "execution_count": 3,
   "metadata": {
    "collapsed": false
   },
   "outputs": [
    {
     "data": {
      "text/html": [
       "Job submitted.<p>Click <a href=\"https://console.developers.google.com/logs/viewer?project=bradley-playground&resource=ml.googleapis.com%2Fjob_id%2Finception_train_170125_184344\" target=\"_blank\">here</a> to view cloud log. <br/>"
      ]
     },
     "metadata": {},
     "output_type": "display_data"
    }
   ],
   "source": [
    "%ml train --package gs://cloud-datalab/packages/inception-0.1.tar.gz --cloud\n",
    "input_dir: $preprocess_dir\n",
    "region: us-central1\n",
    "max_steps: 1000\n",
    "batch_size: 100\n",
    "output_dir: $model_dir"
   ]
  },
  {
   "cell_type": "markdown",
   "metadata": {},
   "source": [
    "## Predict\n",
    "Deploy the model and run online predictions. For now you need to append \"/model\" to the model dir. The deployment takes about 2 ~ 5 minutes. "
   ]
  },
  {
   "cell_type": "code",
   "execution_count": null,
   "metadata": {
    "collapsed": false
   },
   "outputs": [
    {
     "name": "stdout",
     "output_type": "stream",
     "text": [
      "Waiting for job projects/bradley-playground/operations/create_inception_beta1-1485370491806...\n"
     ]
    }
   ],
   "source": [
    "%mlalpha deploy --name inception.beta1 --path $model_dir"
   ]
  },
  {
   "cell_type": "markdown",
   "metadata": {},
   "source": [
    "Online prediction is currently in alpha, it helps to ensure a warm start if the first call fails."
   ]
  },
  {
   "cell_type": "code",
   "execution_count": null,
   "metadata": {
    "collapsed": false
   },
   "outputs": [],
   "source": [
    "%ml predict --package gs://cloud-datalab/packages/inception-0.1.tar.gz --cloud\n",
    "image_files: \n",
    "  - gs://cloud-ml-data/img/flower_photos/daisy/15207766_fc2f1d692c_n.jpg\n",
    "  - gs://cloud-ml-data/img/flower_photos/tulips/6876631336_54bf150990.jpg\n",
    "model_id: inception.beta1"
   ]
  },
  {
   "cell_type": "code",
   "execution_count": 8,
   "metadata": {
    "collapsed": false
   },
   "outputs": [
    {
     "data": {
      "text/html": [
       "<table><tr><th>deploymentUri</th><th>lastUseTime</th><th>name</th><th>isDefault</th><th>createTime</th></tr><tr><td>gs://datalab-beta-golden-lab/flowermodel/model</td><td>2017-01-24T19:52:46Z</td><td>projects/datalab-beta-golden/models/inception/versions/beta1</td><td>True</td><td>2017-01-24T19:38:14Z</td></tr></table>"
      ],
      "text/plain": [
       "<IPython.core.display.HTML object>"
      ]
     },
     "execution_count": 8,
     "metadata": {},
     "output_type": "execute_result"
    }
   ],
   "source": [
    "%mlalpha model --name inception"
   ]
  },
  {
   "cell_type": "code",
   "execution_count": null,
   "metadata": {
    "collapsed": true
   },
   "outputs": [],
   "source": []
  }
 ],
 "metadata": {
  "kernelspec": {
   "display_name": "Python 2",
   "language": "python",
   "name": "python2"
  },
  "language_info": {
   "codemirror_mode": {
    "name": "ipython",
    "version": 2
   },
   "file_extension": ".py",
   "mimetype": "text/x-python",
   "name": "python",
   "nbconvert_exporter": "python",
   "pygments_lexer": "ipython2",
   "version": "2.7.9"
  }
 },
 "nbformat": 4,
 "nbformat_minor": 2
}
