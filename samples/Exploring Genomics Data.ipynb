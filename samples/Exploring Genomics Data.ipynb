{
 "cells": [
  {
   "cell_type": "markdown",
   "metadata": {},
   "source": [
    "# Exploring Genomic Data\n",
    "\n",
    "This notebook demonstrates working with genetic variant data stored as publicly accessible Google BigQuery datasets.\n",
    "\n",
    "Specifically, we will work with the [Illumina Platinum Genomes](https://cloud.google.com/genomics/data/platinum-genomes) data. The source data was originally in [VCF format](http://vcftools.sourceforge.net/VCF-poster.pdf), which was imported to [Google Genomics](https://cloud.google.com/genomics/) and exported to BigQuery.\n",
    "\n",
    "If you want to explore other genomics samples, see https://github.com/googlegenomics/datalab-examples. You can import them into your Google Cloud Datalab instance by uploading them from the notebook list page."
   ]
  },
  {
   "cell_type": "code",
   "execution_count": 1,
   "metadata": {
    "collapsed": false
   },
   "outputs": [],
   "source": [
    "import google.datalab.bigquery as bq"
   ]
  },
  {
   "cell_type": "markdown",
   "metadata": {},
   "source": [
    "## Variants"
   ]
  },
  {
   "cell_type": "markdown",
   "metadata": {},
   "source": [
    "Let's start with a little bit of genomics nomenclature:\n",
    "\n",
    " * **Variant**: A region of the genome that has been identified as differing from the reference genome.\n",
    " * **Non-variant Segment**: A region of the genome that matches the reference genome. \n",
    " * **Reference Name**: The name of a reference segment of DNA. Typically, this is a chromosome, but it may be other named regions from a reference genome.\n",
    " * **Reference Bases**: The A's, C's, T's, and G's comprising the DNA of the reference genome at the site of variation.\n",
    " * **Alternate Bases**: The A's, C's, T's, and G's comprising the DNA actually found at the site of variation for the sample(s) sequenced.\n",
    " * **SNP**: A [single nucleotide polymorphism](https://en.wikipedia.org/wiki/Single-nucleotide_polymorphism) is a DNA sequence variation in which a single nucleotide — A, T, C or G — in the genome (or other shared sequence) differs between members of a biological species or paired chromosomes.\n"
   ]
  },
  {
   "cell_type": "code",
   "execution_count": 2,
   "metadata": {
    "collapsed": false
   },
   "outputs": [
    {
     "data": {
      "text/plain": [
       "261285806"
      ]
     },
     "execution_count": 2,
     "metadata": {},
     "output_type": "execute_result"
    }
   ],
   "source": [
    "variants = bq.Table('genomics-public-data.platinum_genomes.variants')\n",
    "variants.length"
   ]
  },
  {
   "cell_type": "markdown",
   "metadata": {},
   "source": [
    "Wow, that's a lot of records!  For a detailed description of the schema, see [Understanding the BigQuery Variants Table Schema](https://cloud.google.com/genomics/v1/bigquery-variants-schema)."
   ]
  },
  {
   "cell_type": "markdown",
   "metadata": {},
   "source": [
    "## SNPs"
   ]
  },
  {
   "cell_type": "markdown",
   "metadata": {},
   "source": [
    "Next, let's take a look at a few SNPs in our data.  As mentioned in the nomenclature, SNPs are a particular kind of genetic variant. Let's create an SQL statement that can list all variant records for a single base change:"
   ]
  },
  {
   "cell_type": "code",
   "execution_count": 3,
   "metadata": {
    "collapsed": false
   },
   "outputs": [],
   "source": [
    "%%bq query --name single_base\n",
    "SELECT\n",
    "  reference_name,\n",
    "  start,\n",
    "  reference_bases,\n",
    "  alternate_bases\n",
    "FROM\n",
    "  `genomics-public-data.platinum_genomes.variants`\n",
    "WHERE\n",
    "  reference_bases IN ('A','C','G','T') AND\n",
    "  ARRAY_LENGTH(alternate_bases) = 1\n",
    "LIMIT 100"
   ]
  },
  {
   "cell_type": "code",
   "execution_count": 4,
   "metadata": {
    "collapsed": false
   },
   "outputs": [
    {
     "data": {
      "text/html": [
       "\n",
       "    <div class=\"bqtv\" id=\"1_148884861426\"><table><tr><th>reference_name</th><th>start</th><th>reference_bases</th><th>alternate_bases</th></tr><tr><td>chr13</td><td>55705238</td><td>A</td><td>['C']</td></tr><tr><td>chr6</td><td>87341707</td><td>A</td><td>['C']</td></tr><tr><td>chr9</td><td>135065442</td><td>A</td><td>['C']</td></tr><tr><td>chr3</td><td>172106165</td><td>A</td><td>['G']</td></tr><tr><td>chr1</td><td>236345163</td><td>A</td><td>['G']</td></tr><tr><td>chr14</td><td>97175506</td><td>A</td><td>['G']</td></tr><tr><td>chr2</td><td>160217510</td><td>A</td><td>['G']</td></tr><tr><td>chr5</td><td>133727302</td><td>A</td><td>['G']</td></tr><tr><td>chr2</td><td>130951580</td><td>A</td><td>['G']</td></tr><tr><td>chr6</td><td>93866087</td><td>A</td><td>['G']</td></tr><tr><td>chr8</td><td>55417271</td><td>A</td><td>['G']</td></tr><tr><td>chr5</td><td>23130840</td><td>A</td><td>['G']</td></tr><tr><td>chr1</td><td>195554304</td><td>A</td><td>['G']</td></tr><tr><td>chr11</td><td>6141497</td><td>A</td><td>['G']</td></tr><tr><td>chr12</td><td>38015193</td><td>A</td><td>['G']</td></tr><tr><td>chr6</td><td>7423271</td><td>A</td><td>['G']</td></tr><tr><td>chr4</td><td>146456188</td><td>A</td><td>['G']</td></tr><tr><td>chr5</td><td>35870587</td><td>A</td><td>['G']</td></tr><tr><td>chr5</td><td>2578034</td><td>A</td><td>['G']</td></tr><tr><td>chr3</td><td>49026325</td><td>A</td><td>['T']</td></tr><tr><td>chr18</td><td>31403838</td><td>A</td><td>['T']</td></tr><tr><td>chr7</td><td>32113497</td><td>A</td><td>['T']</td></tr><tr><td>chr7</td><td>23822179</td><td>A</td><td>['T']</td></tr><tr><td>chr1</td><td>39505431</td><td>C</td><td>['A']</td></tr><tr><td>chrX</td><td>3515518</td><td>C</td><td>['A']</td></tr></table></div>\n",
       "    <br />(rows: 100, time: 0.6s, cached, job: job_6ThkJiu7kjuyGN7tfISCqxRnpas)<br />\n",
       "    <script>\n",
       "\n",
       "      require.config({\n",
       "        paths: {\n",
       "          d3: '//cdnjs.cloudflare.com/ajax/libs/d3/3.4.13/d3',\n",
       "          plotly: 'https://cdn.plot.ly/plotly-1.5.1.min.js?noext',\n",
       "          jquery: '//ajax.googleapis.com/ajax/libs/jquery/2.0.0/jquery.min'\n",
       "        },\n",
       "        map: {\n",
       "          '*': {\n",
       "            datalab: 'nbextensions/gcpdatalab'\n",
       "          }\n",
       "        },\n",
       "        shim: {\n",
       "          plotly: {\n",
       "            deps: ['d3', 'jquery'],\n",
       "            exports: 'plotly'\n",
       "          }\n",
       "        }\n",
       "      });\n",
       "\n",
       "      require(['datalab/charting', 'datalab/element!1_148884861426', 'base/js/events',\n",
       "          'datalab/style!/nbextensions/gcpdatalab/charting.css'],\n",
       "        function(charts, dom, events) {\n",
       "          charts.render('gcharts', dom, events, 'paged_table', [], {\"rows\": [{\"c\": [{\"v\": \"chr13\"}, {\"v\": 55705238}, {\"v\": \"A\"}, {\"v\": [\"C\"]}]}, {\"c\": [{\"v\": \"chr6\"}, {\"v\": 87341707}, {\"v\": \"A\"}, {\"v\": [\"C\"]}]}, {\"c\": [{\"v\": \"chr9\"}, {\"v\": 135065442}, {\"v\": \"A\"}, {\"v\": [\"C\"]}]}, {\"c\": [{\"v\": \"chr3\"}, {\"v\": 172106165}, {\"v\": \"A\"}, {\"v\": [\"G\"]}]}, {\"c\": [{\"v\": \"chr1\"}, {\"v\": 236345163}, {\"v\": \"A\"}, {\"v\": [\"G\"]}]}, {\"c\": [{\"v\": \"chr14\"}, {\"v\": 97175506}, {\"v\": \"A\"}, {\"v\": [\"G\"]}]}, {\"c\": [{\"v\": \"chr2\"}, {\"v\": 160217510}, {\"v\": \"A\"}, {\"v\": [\"G\"]}]}, {\"c\": [{\"v\": \"chr5\"}, {\"v\": 133727302}, {\"v\": \"A\"}, {\"v\": [\"G\"]}]}, {\"c\": [{\"v\": \"chr2\"}, {\"v\": 130951580}, {\"v\": \"A\"}, {\"v\": [\"G\"]}]}, {\"c\": [{\"v\": \"chr6\"}, {\"v\": 93866087}, {\"v\": \"A\"}, {\"v\": [\"G\"]}]}, {\"c\": [{\"v\": \"chr8\"}, {\"v\": 55417271}, {\"v\": \"A\"}, {\"v\": [\"G\"]}]}, {\"c\": [{\"v\": \"chr5\"}, {\"v\": 23130840}, {\"v\": \"A\"}, {\"v\": [\"G\"]}]}, {\"c\": [{\"v\": \"chr1\"}, {\"v\": 195554304}, {\"v\": \"A\"}, {\"v\": [\"G\"]}]}, {\"c\": [{\"v\": \"chr11\"}, {\"v\": 6141497}, {\"v\": \"A\"}, {\"v\": [\"G\"]}]}, {\"c\": [{\"v\": \"chr12\"}, {\"v\": 38015193}, {\"v\": \"A\"}, {\"v\": [\"G\"]}]}, {\"c\": [{\"v\": \"chr6\"}, {\"v\": 7423271}, {\"v\": \"A\"}, {\"v\": [\"G\"]}]}, {\"c\": [{\"v\": \"chr4\"}, {\"v\": 146456188}, {\"v\": \"A\"}, {\"v\": [\"G\"]}]}, {\"c\": [{\"v\": \"chr5\"}, {\"v\": 35870587}, {\"v\": \"A\"}, {\"v\": [\"G\"]}]}, {\"c\": [{\"v\": \"chr5\"}, {\"v\": 2578034}, {\"v\": \"A\"}, {\"v\": [\"G\"]}]}, {\"c\": [{\"v\": \"chr3\"}, {\"v\": 49026325}, {\"v\": \"A\"}, {\"v\": [\"T\"]}]}, {\"c\": [{\"v\": \"chr18\"}, {\"v\": 31403838}, {\"v\": \"A\"}, {\"v\": [\"T\"]}]}, {\"c\": [{\"v\": \"chr7\"}, {\"v\": 32113497}, {\"v\": \"A\"}, {\"v\": [\"T\"]}]}, {\"c\": [{\"v\": \"chr7\"}, {\"v\": 23822179}, {\"v\": \"A\"}, {\"v\": [\"T\"]}]}, {\"c\": [{\"v\": \"chr1\"}, {\"v\": 39505431}, {\"v\": \"C\"}, {\"v\": [\"A\"]}]}, {\"c\": [{\"v\": \"chrX\"}, {\"v\": 3515518}, {\"v\": \"C\"}, {\"v\": [\"A\"]}]}], \"cols\": [{\"type\": \"string\", \"id\": \"reference_name\", \"label\": \"reference_name\"}, {\"type\": \"number\", \"id\": \"start\", \"label\": \"start\"}, {\"type\": \"string\", \"id\": \"reference_bases\", \"label\": \"reference_bases\"}, {\"type\": \"string\", \"id\": \"alternate_bases\", \"label\": \"alternate_bases\"}]},\n",
       "            {\n",
       "              pageSize: 25,\n",
       "              cssClassNames:  {\n",
       "                tableRow: 'gchart-table-row',\n",
       "                headerRow: 'gchart-table-headerrow',\n",
       "                oddTableRow: 'gchart-table-oddrow',\n",
       "                selectedTableRow: 'gchart-table-selectedrow',\n",
       "                hoverTableRow: 'gchart-table-hoverrow',\n",
       "                tableCell: 'gchart-table-cell',\n",
       "                headerCell: 'gchart-table-headercell',\n",
       "                rowNumberCell: 'gchart-table-rownumcell'\n",
       "              }\n",
       "            },\n",
       "            {source_index: 0, fields: 'reference_name,start,reference_bases,alternate_bases'},\n",
       "            0,\n",
       "            100);\n",
       "        }\n",
       "      );\n",
       "    </script>\n",
       "  "
      ],
      "text/plain": [
       "QueryResultsTable job_6ThkJiu7kjuyGN7tfISCqxRnpas"
      ]
     },
     "execution_count": 4,
     "metadata": {},
     "output_type": "execute_result"
    }
   ],
   "source": [
    "%bq execute --query single_base"
   ]
  },
  {
   "cell_type": "markdown",
   "metadata": {},
   "source": [
    "## Transition/Transversion Ratio"
   ]
  },
  {
   "cell_type": "markdown",
   "metadata": {},
   "source": [
    "A SNP can be further classified as either a [transition](https://en.wikipedia.org/wiki/Transition_%28genetics%29) or a [transversion](https://en.wikipedia.org/wiki/Transversion). The ratio of transitions to transversions (TiTv ratio) in humans is observed to be approximately 2.1, but this is not uniform across the genome. Let's take a closer look by computing the TiTv ratio in contiguous regions of 100,000 base pairs."
   ]
  },
  {
   "cell_type": "code",
   "execution_count": 5,
   "metadata": {
    "collapsed": false
   },
   "outputs": [],
   "source": [
    "%%bq query --name snps\n",
    "SELECT\n",
    "  reference_name,\n",
    "  reference_bases,\n",
    "  alternate_bases,\n",
    "  CAST(FLOOR(start / 100000) AS INT64) AS windows,\n",
    "  CONCAT(reference_bases, CONCAT(CAST('->' AS STRING), ARRAY_TO_STRING(alternate_bases, ''))) AS mutation,\n",
    "  ARRAY_LENGTH(alternate_bases) AS num_alts\n",
    "FROM\n",
    "  `genomics-public-data.platinum_genomes.variants`\n",
    "WHERE reference_name IN (\"1\", \"chr1\")\n",
    "  # Limit to bi-allelic SNP variants\n",
    "  AND reference_bases IN ('A','C','G','T')\n",
    "  AND ARRAY_LENGTH(alternate_bases) = 1"
   ]
  },
  {
   "cell_type": "markdown",
   "metadata": {},
   "source": [
    "We've updated the above query to include the \"window\" in which the SNP resides, and added a new field called \"mutation\"."
   ]
  },
  {
   "cell_type": "code",
   "execution_count": 6,
   "metadata": {
    "collapsed": false
   },
   "outputs": [
    {
     "data": {
      "text/html": [
       "\n",
       "    <div class=\"bqtv\" id=\"2_148884861758\"><table><tr><th>reference_name</th><th>reference_bases</th><th>alternate_bases</th><th>windows</th><th>mutation</th><th>num_alts</th></tr><tr><td>chr1</td><td>A</td><td>['G']</td><td>1062</td><td>A-&gt;G</td><td>1</td></tr><tr><td>chr1</td><td>A</td><td>['G']</td><td>1203</td><td>A-&gt;G</td><td>1</td></tr><tr><td>chr1</td><td>C</td><td>['T']</td><td>2020</td><td>C-&gt;T</td><td>1</td></tr><tr><td>chr1</td><td>C</td><td>['A']</td><td>2372</td><td>C-&gt;A</td><td>1</td></tr><tr><td>chr1</td><td>G</td><td>['A']</td><td>2244</td><td>G-&gt;A</td><td>1</td></tr><tr><td>chr1</td><td>G</td><td>['C']</td><td>31</td><td>G-&gt;C</td><td>1</td></tr><tr><td>chr1</td><td>G</td><td>['T']</td><td>219</td><td>G-&gt;T</td><td>1</td></tr><tr><td>chr1</td><td>G</td><td>['A']</td><td>1142</td><td>G-&gt;A</td><td>1</td></tr><tr><td>chr1</td><td>G</td><td>['A']</td><td>58</td><td>G-&gt;A</td><td>1</td></tr><tr><td>chr1</td><td>T</td><td>['A']</td><td>2259</td><td>T-&gt;A</td><td>1</td></tr></table></div>\n",
       "    <br />(rows: 10, time: 1.5s,     4GB processed, job: job_F7w9isHGHamer5Ts_Hgb1ykt6R8)<br />\n",
       "    <script>\n",
       "\n",
       "      require.config({\n",
       "        paths: {\n",
       "          d3: '//cdnjs.cloudflare.com/ajax/libs/d3/3.4.13/d3',\n",
       "          plotly: 'https://cdn.plot.ly/plotly-1.5.1.min.js?noext',\n",
       "          jquery: '//ajax.googleapis.com/ajax/libs/jquery/2.0.0/jquery.min'\n",
       "        },\n",
       "        map: {\n",
       "          '*': {\n",
       "            datalab: 'nbextensions/gcpdatalab'\n",
       "          }\n",
       "        },\n",
       "        shim: {\n",
       "          plotly: {\n",
       "            deps: ['d3', 'jquery'],\n",
       "            exports: 'plotly'\n",
       "          }\n",
       "        }\n",
       "      });\n",
       "\n",
       "      require(['datalab/charting', 'datalab/element!2_148884861758', 'base/js/events',\n",
       "          'datalab/style!/nbextensions/gcpdatalab/charting.css'],\n",
       "        function(charts, dom, events) {\n",
       "          charts.render('gcharts', dom, events, 'table', [], {\"rows\": [{\"c\": [{\"v\": \"chr1\"}, {\"v\": \"A\"}, {\"v\": [\"G\"]}, {\"v\": 1062}, {\"v\": \"A->G\"}, {\"v\": 1}]}, {\"c\": [{\"v\": \"chr1\"}, {\"v\": \"A\"}, {\"v\": [\"G\"]}, {\"v\": 1203}, {\"v\": \"A->G\"}, {\"v\": 1}]}, {\"c\": [{\"v\": \"chr1\"}, {\"v\": \"C\"}, {\"v\": [\"T\"]}, {\"v\": 2020}, {\"v\": \"C->T\"}, {\"v\": 1}]}, {\"c\": [{\"v\": \"chr1\"}, {\"v\": \"C\"}, {\"v\": [\"A\"]}, {\"v\": 2372}, {\"v\": \"C->A\"}, {\"v\": 1}]}, {\"c\": [{\"v\": \"chr1\"}, {\"v\": \"G\"}, {\"v\": [\"A\"]}, {\"v\": 2244}, {\"v\": \"G->A\"}, {\"v\": 1}]}, {\"c\": [{\"v\": \"chr1\"}, {\"v\": \"G\"}, {\"v\": [\"C\"]}, {\"v\": 31}, {\"v\": \"G->C\"}, {\"v\": 1}]}, {\"c\": [{\"v\": \"chr1\"}, {\"v\": \"G\"}, {\"v\": [\"T\"]}, {\"v\": 219}, {\"v\": \"G->T\"}, {\"v\": 1}]}, {\"c\": [{\"v\": \"chr1\"}, {\"v\": \"G\"}, {\"v\": [\"A\"]}, {\"v\": 1142}, {\"v\": \"G->A\"}, {\"v\": 1}]}, {\"c\": [{\"v\": \"chr1\"}, {\"v\": \"G\"}, {\"v\": [\"A\"]}, {\"v\": 58}, {\"v\": \"G->A\"}, {\"v\": 1}]}, {\"c\": [{\"v\": \"chr1\"}, {\"v\": \"T\"}, {\"v\": [\"A\"]}, {\"v\": 2259}, {\"v\": \"T->A\"}, {\"v\": 1}]}], \"cols\": [{\"type\": \"string\", \"id\": \"reference_name\", \"label\": \"reference_name\"}, {\"type\": \"string\", \"id\": \"reference_bases\", \"label\": \"reference_bases\"}, {\"type\": \"string\", \"id\": \"alternate_bases\", \"label\": \"alternate_bases\"}, {\"type\": \"number\", \"id\": \"windows\", \"label\": \"windows\"}, {\"type\": \"string\", \"id\": \"mutation\", \"label\": \"mutation\"}, {\"type\": \"number\", \"id\": \"num_alts\", \"label\": \"num_alts\"}]},\n",
       "            {\n",
       "              pageSize: 25,\n",
       "              cssClassNames:  {\n",
       "                tableRow: 'gchart-table-row',\n",
       "                headerRow: 'gchart-table-headerrow',\n",
       "                oddTableRow: 'gchart-table-oddrow',\n",
       "                selectedTableRow: 'gchart-table-selectedrow',\n",
       "                hoverTableRow: 'gchart-table-hoverrow',\n",
       "                tableCell: 'gchart-table-cell',\n",
       "                headerCell: 'gchart-table-headercell',\n",
       "                rowNumberCell: 'gchart-table-rownumcell'\n",
       "              }\n",
       "            },\n",
       "            {source_index: 1, fields: 'reference_name,reference_bases,alternate_bases,windows,mutation,num_alts'},\n",
       "            0,\n",
       "            10);\n",
       "        }\n",
       "      );\n",
       "    </script>\n",
       "  "
      ],
      "text/plain": [
       "QueryResultsTable job_F7w9isHGHamer5Ts_Hgb1ykt6R8"
      ]
     },
     "execution_count": 6,
     "metadata": {},
     "output_type": "execute_result"
    }
   ],
   "source": [
    "%bq sample -q snps --count 10"
   ]
  },
  {
   "cell_type": "markdown",
   "metadata": {},
   "source": [
    "Next we group and classify the SNPs within their windows."
   ]
  },
  {
   "cell_type": "code",
   "execution_count": 7,
   "metadata": {
    "collapsed": true
   },
   "outputs": [],
   "source": [
    "%%bq query --name windows --subqueries snps\n",
    "SELECT\n",
    "  reference_name,\n",
    "  windows AS win,\n",
    "  COUNTIF(mutation IN ('A->G', 'G->A', 'C->T', 'T->C')) AS transitions,\n",
    "  COUNTIF(mutation IN ('A->C', 'C->A', 'G->T', 'T->G',\n",
    "                       'A->T', 'T->A', 'C->G', 'G->C')) AS transversions,\n",
    "  COUNT(mutation) AS num_variants_in_window\n",
    "  FROM snps\n",
    "GROUP BY\n",
    "  reference_name,\n",
    "  win"
   ]
  },
  {
   "cell_type": "code",
   "execution_count": 8,
   "metadata": {
    "collapsed": false
   },
   "outputs": [
    {
     "data": {
      "text/html": [
       "\n",
       "    <div class=\"bqtv\" id=\"3_148884862437\"><table><tr><th>reference_name</th><th>win</th><th>transitions</th><th>transversions</th><th>num_variants_in_window</th></tr><tr><td>chr1</td><td>1893</td><td>103</td><td>64</td><td>183</td></tr><tr><td>chr1</td><td>691</td><td>130</td><td>89</td><td>235</td></tr><tr><td>chr1</td><td>1071</td><td>139</td><td>108</td><td>262</td></tr><tr><td>chr1</td><td>1560</td><td>144</td><td>108</td><td>266</td></tr><tr><td>chr1</td><td>1132</td><td>164</td><td>115</td><td>294</td></tr><tr><td>chr1</td><td>250</td><td>137</td><td>142</td><td>303</td></tr><tr><td>chr1</td><td>2029</td><td>245</td><td>164</td><td>439</td></tr><tr><td>chr1</td><td>68</td><td>194</td><td>176</td><td>406</td></tr><tr><td>chr1</td><td>2005</td><td>238</td><td>180</td><td>455</td></tr><tr><td>chr1</td><td>1615</td><td>371</td><td>227</td><td>609</td></tr></table></div>\n",
       "    <br />(rows: 10, time: 4.8s,     4GB processed, job: job_2EkOE9dx4nB82TP5mvzdof3TObA)<br />\n",
       "    <script>\n",
       "\n",
       "      require.config({\n",
       "        paths: {\n",
       "          d3: '//cdnjs.cloudflare.com/ajax/libs/d3/3.4.13/d3',\n",
       "          plotly: 'https://cdn.plot.ly/plotly-1.5.1.min.js?noext',\n",
       "          jquery: '//ajax.googleapis.com/ajax/libs/jquery/2.0.0/jquery.min'\n",
       "        },\n",
       "        map: {\n",
       "          '*': {\n",
       "            datalab: 'nbextensions/gcpdatalab'\n",
       "          }\n",
       "        },\n",
       "        shim: {\n",
       "          plotly: {\n",
       "            deps: ['d3', 'jquery'],\n",
       "            exports: 'plotly'\n",
       "          }\n",
       "        }\n",
       "      });\n",
       "\n",
       "      require(['datalab/charting', 'datalab/element!3_148884862437', 'base/js/events',\n",
       "          'datalab/style!/nbextensions/gcpdatalab/charting.css'],\n",
       "        function(charts, dom, events) {\n",
       "          charts.render('gcharts', dom, events, 'table', [], {\"rows\": [{\"c\": [{\"v\": \"chr1\"}, {\"v\": 1893}, {\"v\": 103}, {\"v\": 64}, {\"v\": 183}]}, {\"c\": [{\"v\": \"chr1\"}, {\"v\": 691}, {\"v\": 130}, {\"v\": 89}, {\"v\": 235}]}, {\"c\": [{\"v\": \"chr1\"}, {\"v\": 1071}, {\"v\": 139}, {\"v\": 108}, {\"v\": 262}]}, {\"c\": [{\"v\": \"chr1\"}, {\"v\": 1560}, {\"v\": 144}, {\"v\": 108}, {\"v\": 266}]}, {\"c\": [{\"v\": \"chr1\"}, {\"v\": 1132}, {\"v\": 164}, {\"v\": 115}, {\"v\": 294}]}, {\"c\": [{\"v\": \"chr1\"}, {\"v\": 250}, {\"v\": 137}, {\"v\": 142}, {\"v\": 303}]}, {\"c\": [{\"v\": \"chr1\"}, {\"v\": 2029}, {\"v\": 245}, {\"v\": 164}, {\"v\": 439}]}, {\"c\": [{\"v\": \"chr1\"}, {\"v\": 68}, {\"v\": 194}, {\"v\": 176}, {\"v\": 406}]}, {\"c\": [{\"v\": \"chr1\"}, {\"v\": 2005}, {\"v\": 238}, {\"v\": 180}, {\"v\": 455}]}, {\"c\": [{\"v\": \"chr1\"}, {\"v\": 1615}, {\"v\": 371}, {\"v\": 227}, {\"v\": 609}]}], \"cols\": [{\"type\": \"string\", \"id\": \"reference_name\", \"label\": \"reference_name\"}, {\"type\": \"number\", \"id\": \"win\", \"label\": \"win\"}, {\"type\": \"number\", \"id\": \"transitions\", \"label\": \"transitions\"}, {\"type\": \"number\", \"id\": \"transversions\", \"label\": \"transversions\"}, {\"type\": \"number\", \"id\": \"num_variants_in_window\", \"label\": \"num_variants_in_window\"}]},\n",
       "            {\n",
       "              pageSize: 25,\n",
       "              cssClassNames:  {\n",
       "                tableRow: 'gchart-table-row',\n",
       "                headerRow: 'gchart-table-headerrow',\n",
       "                oddTableRow: 'gchart-table-oddrow',\n",
       "                selectedTableRow: 'gchart-table-selectedrow',\n",
       "                hoverTableRow: 'gchart-table-hoverrow',\n",
       "                tableCell: 'gchart-table-cell',\n",
       "                headerCell: 'gchart-table-headercell',\n",
       "                rowNumberCell: 'gchart-table-rownumcell'\n",
       "              }\n",
       "            },\n",
       "            {source_index: 2, fields: 'reference_name,win,transitions,transversions,num_variants_in_window'},\n",
       "            0,\n",
       "            10);\n",
       "        }\n",
       "      );\n",
       "    </script>\n",
       "  "
      ],
      "text/plain": [
       "QueryResultsTable job_2EkOE9dx4nB82TP5mvzdof3TObA"
      ]
     },
     "execution_count": 8,
     "metadata": {},
     "output_type": "execute_result"
    }
   ],
   "source": [
    "%bq sample -q windows --count 10"
   ]
  },
  {
   "cell_type": "markdown",
   "metadata": {},
   "source": [
    "And finally, we compute the per-window TiTv ratio."
   ]
  },
  {
   "cell_type": "code",
   "execution_count": null,
   "metadata": {
    "collapsed": false
   },
   "outputs": [],
   "source": [
    "%%bq query --name titv --subqueries snps windows\n",
    "SELECT\n",
    "  reference_name,\n",
    "  win * 100000 AS window_start,\n",
    "  transitions,\n",
    "  transversions,\n",
    "  transitions/transversions AS titv,\n",
    "  num_variants_in_window\n",
    "FROM windows\n",
    "ORDER BY\n",
    "    window_start"
   ]
  },
  {
   "cell_type": "code",
   "execution_count": null,
   "metadata": {
    "collapsed": false
   },
   "outputs": [],
   "source": [
    "%bq sample -q titv --count 10"
   ]
  },
  {
   "cell_type": "code",
   "execution_count": null,
   "metadata": {
    "collapsed": false
   },
   "outputs": [],
   "source": [
    "titvRatios = titv.execute(output_options=bq.QueryOutput.dataframe()).result()\n",
    "titvRatios[:5]"
   ]
  },
  {
   "cell_type": "markdown",
   "metadata": {},
   "source": [
    "## Visualization"
   ]
  },
  {
   "cell_type": "markdown",
   "metadata": {},
   "source": [
    "Now we can take the ratios and plot them by genomic position to see how the ratio varies depending upon where it was computed within the chromosome. By default, this plot shows chromosome 1 with its gap in the center of the data corresponding to its [metacentric contromere](https://en.wikipedia.org/wiki/Centromere#Metacentric)."
   ]
  },
  {
   "cell_type": "code",
   "execution_count": null,
   "metadata": {
    "collapsed": false
   },
   "outputs": [],
   "source": [
    "import seaborn as sns\n",
    "import matplotlib.pyplot as plt\n",
    "\n",
    "g = sns.lmplot(x='window_start',\n",
    "               y='titv',\n",
    "               data = titvRatios,\n",
    "               size = 8,\n",
    "               aspect = 2,\n",
    "               scatter_kws = { 'color': 'black', 'alpha': 0.4 },\n",
    "               line_kws = { 'color': 'blue', 'alpha': 0.5, 'lw': 4 },\n",
    "               lowess = True)\n",
    "plt.xlabel('Genomic Position', fontsize = 14)  \n",
    "plt.ylabel('Ti/Tv Ratio', fontsize = 14)\n",
    "plt.title('Ti/Tv Ratio computed on %d base pair windows for %s' % (window_size, chromosome),\n",
    "          fontsize = 18)\n",
    "if chromosome == ['1', 'chr1']:\n",
    "  plt.annotate('Centromere', xy = (1.3e8, 1.5), xytext = (1.5e8, 3), size = 14,\n",
    "               arrowprops=dict(facecolor='black', shrink=0.05))"
   ]
  },
  {
   "cell_type": "code",
   "execution_count": null,
   "metadata": {
    "collapsed": true
   },
   "outputs": [],
   "source": []
  },
  {
   "cell_type": "code",
   "execution_count": null,
   "metadata": {
    "collapsed": true
   },
   "outputs": [],
   "source": []
  }
 ],
 "metadata": {
  "kernelspec": {
   "display_name": "Python 2",
   "language": "python",
   "name": "python2"
  },
  "language_info": {
   "codemirror_mode": {
    "name": "ipython",
    "version": 2
   },
   "file_extension": ".py",
   "mimetype": "text/x-python",
   "name": "python",
   "nbconvert_exporter": "python",
   "pygments_lexer": "ipython2",
   "version": "2.7.9"
  }
 },
 "nbformat": 4,
 "nbformat_minor": 0
}
