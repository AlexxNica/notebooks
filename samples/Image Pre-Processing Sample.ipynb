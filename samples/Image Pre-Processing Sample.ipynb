{
 "cells": [
  {
   "cell_type": "code",
   "execution_count": 1,
   "metadata": {
    "collapsed": false
   },
   "outputs": [
    {
     "name": "stdout",
     "output_type": "stream",
     "text": [
      "Processing /content/cloudml.tar.gz\n",
      "Collecting oauth2client==2.2.0 (from cloudml==0.1.2)\n",
      "Collecting six>=1.10.0 (from cloudml==0.1.2)\n",
      "  Using cached six-1.10.0-py2.py3-none-any.whl\n",
      "Collecting protobuf>=3.0.0b2.post2 (from cloudml==0.1.2)\n",
      "  Using cached protobuf-3.0.0-py2.py3-none-any.whl\n",
      "Collecting google-cloud-dataflow>=0.4.0 (from cloudml==0.1.2)\n",
      "Collecting bs4>=0.0.1 (from cloudml==0.1.2)\n",
      "Collecting numpy>=1.10.4 (from cloudml==0.1.2)\n",
      "  Using cached numpy-1.11.1-cp27-cp27mu-manylinux1_x86_64.whl\n",
      "Collecting pillow>=3.2.0 (from cloudml==0.1.2)\n",
      "  Using cached Pillow-3.3.1-cp27-cp27mu-manylinux1_x86_64.whl\n",
      "Collecting dpkt>=1.8.7 (from cloudml==0.1.2)\n",
      "  Using cached dpkt-1.8.8-py2-none-any.whl\n",
      "Collecting nltk>=3.2.1 (from cloudml==0.1.2)\n",
      "Collecting httplib2>=0.9.1 (from oauth2client==2.2.0->cloudml==0.1.2)\n",
      "Collecting rsa>=3.1.4 (from oauth2client==2.2.0->cloudml==0.1.2)\n",
      "  Using cached rsa-3.4.2-py2.py3-none-any.whl\n",
      "Collecting pyasn1>=0.1.7 (from oauth2client==2.2.0->cloudml==0.1.2)\n",
      "  Using cached pyasn1-0.1.9-py2.py3-none-any.whl\n",
      "Collecting pyasn1-modules>=0.0.5 (from oauth2client==2.2.0->cloudml==0.1.2)\n",
      "  Using cached pyasn1_modules-0.0.8-py2.py3-none-any.whl\n",
      "Collecting setuptools (from protobuf>=3.0.0b2.post2->cloudml==0.1.2)\n",
      "  Using cached setuptools-26.1.1-py2.py3-none-any.whl\n",
      "Collecting google-apitools>=0.5.2 (from google-cloud-dataflow>=0.4.0->cloudml==0.1.2)\n",
      "  Using cached google_apitools-0.5.4-py2-none-any.whl\n",
      "Collecting dill>=0.2.5 (from google-cloud-dataflow>=0.4.0->cloudml==0.1.2)\n",
      "Collecting protorpc>=0.9.1 (from google-cloud-dataflow>=0.4.0->cloudml==0.1.2)\n",
      "  Using cached protorpc-0.11.1-py2-none-any.whl\n",
      "Collecting mock>=1.0.1 (from google-cloud-dataflow>=0.4.0->cloudml==0.1.2)\n",
      "  Using cached mock-2.0.0-py2.py3-none-any.whl\n",
      "Collecting avro>=1.7.7 (from google-cloud-dataflow>=0.4.0->cloudml==0.1.2)\n",
      "Collecting python-gflags>=2.0 (from google-cloud-dataflow>=0.4.0->cloudml==0.1.2)\n",
      "Collecting pyyaml>=3.10 (from google-cloud-dataflow>=0.4.0->cloudml==0.1.2)\n",
      "Collecting beautifulsoup4 (from bs4>=0.0.1->cloudml==0.1.2)\n",
      "  Using cached beautifulsoup4-4.5.1-py2-none-any.whl\n",
      "Collecting funcsigs>=1; python_version < \"3.3\" (from mock>=1.0.1->google-cloud-dataflow>=0.4.0->cloudml==0.1.2)\n",
      "  Using cached funcsigs-1.0.2-py2.py3-none-any.whl\n",
      "Collecting pbr>=0.11 (from mock>=1.0.1->google-cloud-dataflow>=0.4.0->cloudml==0.1.2)\n",
      "  Using cached pbr-1.10.0-py2.py3-none-any.whl\n",
      "Installing collected packages: httplib2, pyasn1, rsa, pyasn1-modules, six, oauth2client, setuptools, protobuf, google-apitools, dill, protorpc, funcsigs, pbr, mock, avro, python-gflags, pyyaml, google-cloud-dataflow, beautifulsoup4, bs4, numpy, pillow, dpkt, nltk, cloudml\n",
      "  Found existing installation: httplib2 0.9.2\n",
      "    Uninstalling httplib2-0.9.2:\n",
      "      Successfully uninstalled httplib2-0.9.2\n",
      "  Found existing installation: pyasn1 0.1.9\n",
      "    Uninstalling pyasn1-0.1.9:\n",
      "      Successfully uninstalled pyasn1-0.1.9\n",
      "  Found existing installation: rsa 3.4.2\n",
      "    Uninstalling rsa-3.4.2:\n",
      "      Successfully uninstalled rsa-3.4.2\n",
      "  Found existing installation: pyasn1-modules 0.0.8\n",
      "    Uninstalling pyasn1-modules-0.0.8:\n",
      "      Successfully uninstalled pyasn1-modules-0.0.8\n",
      "  Found existing installation: six 1.10.0\n",
      "    Uninstalling six-1.10.0:\n",
      "      Successfully uninstalled six-1.10.0\n",
      "  Found existing installation: oauth2client 2.2.0\n",
      "    Uninstalling oauth2client-2.2.0:\n",
      "      Successfully uninstalled oauth2client-2.2.0\n",
      "  Found existing installation: setuptools 26.1.1\n",
      "    Uninstalling setuptools-26.1.1:\n",
      "      Successfully uninstalled setuptools-26.1.1\n",
      "  Found existing installation: protobuf 3.0.0\n",
      "    Uninstalling protobuf-3.0.0:\n",
      "      Successfully uninstalled protobuf-3.0.0\n",
      "  Found existing installation: google-apitools 0.5.4\n",
      "    Uninstalling google-apitools-0.5.4:\n",
      "      Successfully uninstalled google-apitools-0.5.4\n",
      "  Found existing installation: dill 0.2.5\n",
      "    Uninstalling dill-0.2.5:\n",
      "      Successfully uninstalled dill-0.2.5\n",
      "  Found existing installation: protorpc 0.11.1\n",
      "    Uninstalling protorpc-0.11.1:\n",
      "      Successfully uninstalled protorpc-0.11.1\n",
      "  Found existing installation: funcsigs 1.0.2\n",
      "    Uninstalling funcsigs-1.0.2:\n",
      "      Successfully uninstalled funcsigs-1.0.2\n",
      "  Found existing installation: pbr 1.10.0\n",
      "    Uninstalling pbr-1.10.0:\n",
      "      Successfully uninstalled pbr-1.10.0\n",
      "  Found existing installation: mock 2.0.0\n",
      "    Uninstalling mock-2.0.0:\n",
      "      Successfully uninstalled mock-2.0.0\n",
      "  Found existing installation: avro 1.8.1\n",
      "    Uninstalling avro-1.8.1:\n",
      "      Successfully uninstalled avro-1.8.1\n",
      "  Found existing installation: python-gflags 3.0.6\n",
      "    Uninstalling python-gflags-3.0.6:\n",
      "      Successfully uninstalled python-gflags-3.0.6\n",
      "  Found existing installation: PyYAML 3.12\n",
      "    Uninstalling PyYAML-3.12:\n",
      "      Successfully uninstalled PyYAML-3.12\n",
      "  Found existing installation: google-cloud-dataflow 0.4.1\n",
      "    Uninstalling google-cloud-dataflow-0.4.1:\n",
      "      Successfully uninstalled google-cloud-dataflow-0.4.1\n",
      "  Found existing installation: beautifulsoup4 4.5.1\n",
      "    Uninstalling beautifulsoup4-4.5.1:\n",
      "      Successfully uninstalled beautifulsoup4-4.5.1\n",
      "  Found existing installation: bs4 0.0.1\n",
      "    Uninstalling bs4-0.0.1:\n",
      "      Successfully uninstalled bs4-0.0.1\n",
      "  Found existing installation: numpy 1.11.1\n",
      "    Uninstalling numpy-1.11.1:\n",
      "      Successfully uninstalled numpy-1.11.1\n",
      "  Found existing installation: Pillow 3.3.1\n",
      "    Uninstalling Pillow-3.3.1:\n",
      "      Successfully uninstalled Pillow-3.3.1\n",
      "  Found existing installation: dpkt 1.8.8\n",
      "    Uninstalling dpkt-1.8.8:\n",
      "      Successfully uninstalled dpkt-1.8.8\n",
      "  Found existing installation: nltk 3.2.1\n",
      "    Uninstalling nltk-3.2.1:\n",
      "      Successfully uninstalled nltk-3.2.1\n",
      "  Found existing installation: cloudml 0.1.2\n",
      "    Uninstalling cloudml-0.1.2:\n",
      "      Successfully uninstalled cloudml-0.1.2\n",
      "  Running setup.py install for cloudml ... \u001b[?25l-\b \bdone\n",
      "\u001b[?25hSuccessfully installed avro-1.8.1 beautifulsoup4-4.5.1 bs4-0.0.1 cloudml-0.1.2 dill-0.2.5 dpkt-1.8.8 funcsigs-1.0.2 google-apitools-0.5.4 google-cloud-dataflow-0.4.1 httplib2-0.9.2 mock-2.0.0 nltk-3.2.1 numpy-1.11.1 oauth2client-2.2.0 pbr-1.10.0 pillow-3.3.1 protobuf-3.0.0 protorpc-0.11.1 pyasn1-0.1.9 pyasn1-modules-0.0.8 python-gflags-3.0.6 pyyaml-3.12 rsa-3.4.2 setuptools-26.1.1 six-1.10.0\n"
     ]
    }
   ],
   "source": [
    "! pip install --force --upgrade /content/cloudml.tar.gz"
   ]
  },
  {
   "cell_type": "code",
   "execution_count": 1,
   "metadata": {
    "collapsed": false
   },
   "outputs": [],
   "source": [
    "import apache_beam as beam\n",
    "import os\n",
    "import google.cloud.ml as ml\n",
    "import google.cloud.ml.features as features\n",
    "import google.cloud.ml.io as io\n",
    "IMAGES_FILE = 'gs://cloud-ml-data/img/small_flower_photos_tst/small_data.csv'\n",
    "SAVE_DIR = None  # add your own local/cloud bucket uri here if images are going to be saved\n",
    "# gs://uri/to/your/bucket/ or /path/to/my/dir"
   ]
  },
  {
   "cell_type": "markdown",
   "metadata": {},
   "source": [
    "First we define the fields of our dataset. In this case, it only a label and a path to an image (or image bytes).\n",
    "\n",
    "Optionally save pre-processed images locally or on the cloud"
   ]
  },
  {
   "cell_type": "code",
   "execution_count": 2,
   "metadata": {
    "collapsed": false
   },
   "outputs": [],
   "source": [
    "class ImageDatasetFeatures(object):\n",
    "  \"\"\"Class that defines the features in the NYTaxiDataset.\"\"\"\n",
    "\n",
    "  csv_columns = ('image_uri', 'label')\n",
    "\n",
    "  target = features.target('label').classification()\n",
    "  raw_img = features.image('image_uri').image(grayscale=True, target_size=(200,200), \n",
    "                                              keep_aspect_ratio=True,\n",
    "                                              save_dir=SAVE_DIR)"
   ]
  },
  {
   "cell_type": "markdown",
   "metadata": {},
   "source": [
    "Then we define our preprocess wrapper. Basically feeds data into ml.Preprocess and prints metadata"
   ]
  },
  {
   "cell_type": "code",
   "execution_count": 3,
   "metadata": {
    "collapsed": true
   },
   "outputs": [],
   "source": [
    "def preprocess(pipeline, training_path):\n",
    "  feature_set = ImageDatasetFeatures()\n",
    "  # read the data\n",
    "  train = pipeline | beam.Read(\n",
    "      'ReadTrainingData',\n",
    "      beam.io.TextFileSource(\n",
    "          training_path,\n",
    "          strip_trailing_newlines=True,\n",
    "          coder=io.CsvCoder.from_feature_set(feature_set,\n",
    "                                             feature_set.csv_columns)))\n",
    "  # run preprocess\n",
    "  (metadata, train_features) = (train | ml.Preprocess('Preprocess',\n",
    "                                                      feature_set))\n",
    "  # print metadata info\n",
    "  metadata |= beam.Map('print meta', print_fn_metadata)\n",
    "  return metadata, train_features\n",
    "\n",
    "def print_fn_metadata(values):\n",
    "  print values\n",
    "  return values"
   ]
  },
  {
   "cell_type": "markdown",
   "metadata": {},
   "source": [
    "We then create a pipeline and run it, expecting the metadata to be printed out"
   ]
  },
  {
   "cell_type": "code",
   "execution_count": 4,
   "metadata": {
    "collapsed": false
   },
   "outputs": [
    {
     "name": "stdout",
     "output_type": "stream",
     "text": [
      "{'stats': {'labels': 1}, 'features': {'raw_img': {'dtype': 'float', 'type': 'dense', 'name': 'raw_img', 'columns': ['image_uri'], 'size': 1}, 'target': {'dtype': 'int64', 'type': 'dense', 'name': 'target', 'columns': ['label'], 'size': 1}}, 'columns': {'image_uri': {'image': {'keep_aspect_ratio': True, 'save_format': 'JPEG', 'grayscale': True, 'resize_method': 1, 'is_base64_str': False, 'target_size': (200, 200), 'save_dir': 'gs://cloud-ml-data/img/image_preprocessing_sample/processed/'}, 'type': 'image', 'name': 'image_uri', 'transform': 'image'}, 'label': {'items': {'daisy': 0}, 'type': 'target', 'name': 'label', 'scenario': 'discrete', 'transform': 'lookup'}}}\n"
     ]
    },
    {
     "data": {
      "text/plain": [
       "<apache_beam.runners.direct_runner.DirectPipelineResult at 0x7f14600acf90>"
      ]
     },
     "execution_count": 4,
     "metadata": {},
     "output_type": "execute_result"
    }
   ],
   "source": [
    "pipeline = beam.Pipeline('DirectPipelineRunner')\n",
    "metadata_path, traning_path = preprocess(pipeline, IMAGES_FILE)\n",
    "pipeline.run()"
   ]
  },
  {
   "cell_type": "markdown",
   "metadata": {},
   "source": [
    "If specified a path, visit the google cloud bucket, or your local directory after running to see result preprocessed images "
   ]
  }
 ],
 "metadata": {
  "kernelspec": {
   "display_name": "Python 2",
   "language": "python",
   "name": "python2"
  },
  "language_info": {
   "codemirror_mode": {
    "name": "ipython",
    "version": 2
   },
   "file_extension": ".py",
   "mimetype": "text/x-python",
   "name": "python",
   "nbconvert_exporter": "python",
   "pygments_lexer": "ipython2",
   "version": "2.7.9"
  }
 },
 "nbformat": 4,
 "nbformat_minor": 1
}
