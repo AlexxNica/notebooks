{
 "cells": [
  {
   "cell_type": "markdown",
   "metadata": {},
   "source": [
    "# Final Remarks\n",
    "\n",
    "In this series of notebooks, you downloaded and analyzed a dataset on movie ratings. Within the datalab notebook interface, you interactively discovered artifacts of the dataset. We ran a simple script for addressing the artifacts and preprocessed the data. Finally, we used a TensorFlow model called WALS for building a collaborative filtering latent factor model. "
   ]
  },
  {
   "cell_type": "markdown",
   "metadata": {},
   "source": [
    "# Next Steps\n",
    "\n",
    "The error of our WALS model is not that great. The next step would be to run the WALS model again with different parameters (for the model dimension, the regularization factor, etc). Also, experiment with row and column weights.\n",
    "\n",
    "Our model did not use two interesting part of the Movielens data: timestamps on each movie ratings, and movie genre information. Each  movie is soft clustered into a collection of very generic genres (Action, Comedy, Western, etc). It might be interesting to first cluster the movies using the genre information (or by any other method) and building a WALS model for each cluster. Then the ratings from each cluster model can be combined somehow to produce a final rating. There is lots of room for innovation in prediction movie ratings! "
   ]
  },
  {
   "cell_type": "markdown",
   "metadata": {},
   "source": [
    "# Cleaning Up\n",
    "\n",
    "**When you're finished, shut down the managed VM you used for Cloud Datalab to avoid incurring costs.** Feel free to delete everythin in the embeddingModel and the Movielens data files."
   ]
  },
  {
   "cell_type": "code",
   "execution_count": 1,
   "metadata": {
    "collapsed": false
   },
   "outputs": [
    {
     "name": "stdout",
     "output_type": "stream",
     "text": [
      "\n",
      "Copyright 2016, Google, Inc.\n",
      "Licensed under the Apache License, Version 2.0 (the \"License\");\n",
      "you may not use this file except in compliance with the License.\n",
      "You may obtain a copy of the License at\n",
      "http://www.apache.org/licenses/LICENSE-2.0\n",
      "Unless required by applicable law or agreed to in writing, software\n",
      "distributed under the License is distributed on an \"AS IS\" BASIS,\n",
      "WITHOUT WARRANTIES OR CONDITIONS OF ANY KIND, either express or implied.\n",
      "See the License for the specific language governing permissions and\n",
      "limitations under the License.\n",
      "\n"
     ]
    }
   ],
   "source": [
    "print '''\n",
    "Copyright 2016, Google, Inc.\n",
    "Licensed under the Apache License, Version 2.0 (the \"License\");\n",
    "you may not use this file except in compliance with the License.\n",
    "You may obtain a copy of the License at\n",
    "http://www.apache.org/licenses/LICENSE-2.0\n",
    "Unless required by applicable law or agreed to in writing, software\n",
    "distributed under the License is distributed on an \"AS IS\" BASIS,\n",
    "WITHOUT WARRANTIES OR CONDITIONS OF ANY KIND, either express or implied.\n",
    "See the License for the specific language governing permissions and\n",
    "limitations under the License.\n",
    "'''"
   ]
  },
  {
   "cell_type": "code",
   "execution_count": null,
   "metadata": {
    "collapsed": true
   },
   "outputs": [],
   "source": []
  }
 ],
 "metadata": {
  "kernelspec": {
   "display_name": "Python 2",
   "language": "python",
   "name": "python2"
  },
  "language_info": {
   "codemirror_mode": {
    "name": "ipython",
    "version": 2
   },
   "file_extension": ".py",
   "mimetype": "text/x-python",
   "name": "python",
   "nbconvert_exporter": "python",
   "pygments_lexer": "ipython2",
   "version": "2.7.9"
  }
 },
 "nbformat": 4,
 "nbformat_minor": 1
}
