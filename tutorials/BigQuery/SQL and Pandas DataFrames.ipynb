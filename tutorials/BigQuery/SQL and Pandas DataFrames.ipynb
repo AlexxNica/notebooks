{
 "cells": [
  {
   "cell_type": "markdown",
   "metadata": {},
   "source": [
    "# SQL and Pandas DataFrames\n",
    "\n",
    "Google Cloud Datalab allows you to use SQL to interact with Google BigQuery. However, SQL is just the starting point. Cloud Datalab enables you to do is combine the power of declarative SQL with imperative code (Python) to perform interesting data analysis, visualization, and transformation tasks.\n",
    "\n",
    "You can use a number of Python data analysis, data wrangling, and visualization libraries, such as `numpy`, `pandas`, `matplotlib`, and many others. Several of these libraries build on top of a `DataFrame` object.\n",
    "\n",
    "This notebook shows how to easily integrate these capabilites together in a single notebook. This functionality is provided by the BigQuery APIs, so the first step is, of course, to import the module along with pandas."
   ]
  },
  {
   "cell_type": "code",
   "execution_count": 20,
   "metadata": {
    "collapsed": true
   },
   "outputs": [],
   "source": [
    "import datalab.bigquery as bq\n",
    "import pandas as pd"
   ]
  },
  {
   "cell_type": "markdown",
   "metadata": {},
   "source": [
    "# From SQL to DataFrames\n",
    "\n",
    "This is straightforward. Define some SQL, execute it, and get a reference to the results in the form of a `DataFrame`."
   ]
  },
  {
   "cell_type": "code",
   "execution_count": 21,
   "metadata": {
    "collapsed": false
   },
   "outputs": [],
   "source": [
    "%%sql --module requests\n",
    "SELECT timestamp, latency, endpoint\n",
    "FROM [cloud-datalab-samples:httplogs.logs_20140615]\n",
    "WHERE endpoint = 'Popular' OR endpoint = 'Recent'"
   ]
  },
  {
   "cell_type": "code",
   "execution_count": 22,
   "metadata": {
    "collapsed": false
   },
   "outputs": [
    {
     "data": {
      "text/html": [
       "\n",
       "    <div class=\"bqtv\" id=\"2_146281557057\"><table><tr><th>timestamp</th><th>latency</th><th>endpoint</th></tr><tr><td>2014-06-15 07:00:01.514197</td><td>22</td><td>Popular</td></tr><tr><td>2014-06-15 07:00:01.700211</td><td>21</td><td>Popular</td></tr><tr><td>2014-06-15 07:00:01.973441</td><td>21</td><td>Popular</td></tr><tr><td>2014-06-15 07:00:02.043231</td><td>21</td><td>Popular</td></tr><tr><td>2014-06-15 07:00:02.288373</td><td>21</td><td>Popular</td></tr></table></div>\n",
       "    <br />(rows: 5, time: 0.3s, cached, job: job_wdaC09ME9PFwl5cMDZctSHg5V90)<br />\n",
       "    <script>\n",
       "      require(['datalab/charting', 'datalab/element!2_146281557057', 'base/js/events',\n",
       "          'datalab/style!/nbextensions/gcpdatalab/charting.css'],\n",
       "        function(charts, dom, events) {\n",
       "          charts.render('gcharts', dom, events, 'table', [], {\"rows\": [{\"c\": [{\"v\": \"2014-06-15T07:00:01.514197\"}, {\"v\": 22}, {\"v\": \"Popular\"}]}, {\"c\": [{\"v\": \"2014-06-15T07:00:01.700211\"}, {\"v\": 21}, {\"v\": \"Popular\"}]}, {\"c\": [{\"v\": \"2014-06-15T07:00:01.973441\"}, {\"v\": 21}, {\"v\": \"Popular\"}]}, {\"c\": [{\"v\": \"2014-06-15T07:00:02.043231\"}, {\"v\": 21}, {\"v\": \"Popular\"}]}, {\"c\": [{\"v\": \"2014-06-15T07:00:02.288373\"}, {\"v\": 21}, {\"v\": \"Popular\"}]}], \"cols\": [{\"type\": \"datetime\", \"id\": \"timestamp\", \"label\": \"timestamp\"}, {\"type\": \"number\", \"id\": \"latency\", \"label\": \"latency\"}, {\"type\": \"string\", \"id\": \"endpoint\", \"label\": \"endpoint\"}]},\n",
       "            {\n",
       "              pageSize: 25,\n",
       "              cssClassNames:  {\n",
       "                tableRow: 'gchart-table-row',\n",
       "                headerRow: 'gchart-table-headerrow',\n",
       "                oddTableRow: 'gchart-table-oddrow',\n",
       "                selectedTableRow: 'gchart-table-selectedrow',\n",
       "                hoverTableRow: 'gchart-table-hoverrow',\n",
       "                tableCell: 'gchart-table-cell',\n",
       "                headerCell: 'gchart-table-headercell',\n",
       "                rowNumberCell: 'gchart-table-rownumcell'\n",
       "              }\n",
       "            },\n",
       "            {source_index: 0, fields: 'timestamp,latency,endpoint'},\n",
       "            0,\n",
       "            5);\n",
       "        }\n",
       "      );\n",
       "    </script>\n",
       "  "
      ],
      "text/plain": [
       "QueryResultsTable job_wdaC09ME9PFwl5cMDZctSHg5V90"
      ]
     },
     "execution_count": 22,
     "metadata": {},
     "output_type": "execute_result"
    }
   ],
   "source": [
    "%%bigquery sample --count 5 --query requests"
   ]
  },
  {
   "cell_type": "markdown",
   "metadata": {},
   "source": [
    "# Working with DataFrames"
   ]
  },
  {
   "cell_type": "markdown",
   "metadata": {},
   "source": [
    "The code below constructs a BigQuery `Query` instance, executes the query, and converts the results into a `DataFrame`."
   ]
  },
  {
   "cell_type": "code",
   "execution_count": 23,
   "metadata": {
    "collapsed": false
   },
   "outputs": [
    {
     "data": {
      "text/plain": [
       "8392"
      ]
     },
     "execution_count": 23,
     "metadata": {},
     "output_type": "execute_result"
    }
   ],
   "source": [
    "df = bq.Query(requests).to_dataframe()\n",
    "len(df)"
   ]
  },
  {
   "cell_type": "markdown",
   "metadata": {},
   "source": [
    "## Data Manipulation"
   ]
  },
  {
   "cell_type": "markdown",
   "metadata": {},
   "source": [
    "The resulting `DataFrame` can be further transformed, sliced, projected, and inspected using the extensive set of APIs available on the class. Let's print out the first five rows."
   ]
  },
  {
   "cell_type": "code",
   "execution_count": 24,
   "metadata": {
    "collapsed": false
   },
   "outputs": [
    {
     "data": {
      "text/html": [
       "<div>\n",
       "<table border=\"1\" class=\"dataframe\">\n",
       "  <thead>\n",
       "    <tr style=\"text-align: right;\">\n",
       "      <th></th>\n",
       "      <th>timestamp</th>\n",
       "      <th>latency</th>\n",
       "      <th>endpoint</th>\n",
       "    </tr>\n",
       "  </thead>\n",
       "  <tbody>\n",
       "    <tr>\n",
       "      <th>0</th>\n",
       "      <td>2014-06-15 07:00:01.514197</td>\n",
       "      <td>22</td>\n",
       "      <td>Popular</td>\n",
       "    </tr>\n",
       "    <tr>\n",
       "      <th>1</th>\n",
       "      <td>2014-06-15 07:00:01.700211</td>\n",
       "      <td>21</td>\n",
       "      <td>Popular</td>\n",
       "    </tr>\n",
       "    <tr>\n",
       "      <th>2</th>\n",
       "      <td>2014-06-15 07:00:01.973441</td>\n",
       "      <td>21</td>\n",
       "      <td>Popular</td>\n",
       "    </tr>\n",
       "    <tr>\n",
       "      <th>3</th>\n",
       "      <td>2014-06-15 07:00:02.043231</td>\n",
       "      <td>21</td>\n",
       "      <td>Popular</td>\n",
       "    </tr>\n",
       "    <tr>\n",
       "      <th>4</th>\n",
       "      <td>2014-06-15 07:00:02.288373</td>\n",
       "      <td>21</td>\n",
       "      <td>Popular</td>\n",
       "    </tr>\n",
       "  </tbody>\n",
       "</table>\n",
       "</div>"
      ],
      "text/plain": [
       "                   timestamp  latency endpoint\n",
       "0 2014-06-15 07:00:01.514197       22  Popular\n",
       "1 2014-06-15 07:00:01.700211       21  Popular\n",
       "2 2014-06-15 07:00:01.973441       21  Popular\n",
       "3 2014-06-15 07:00:02.043231       21  Popular\n",
       "4 2014-06-15 07:00:02.288373       21  Popular"
      ]
     },
     "execution_count": 24,
     "metadata": {},
     "output_type": "execute_result"
    }
   ],
   "source": [
    "df.head(5)"
   ]
  },
  {
   "cell_type": "markdown",
   "metadata": {},
   "source": [
    "Or it can be inspected for schema,"
   ]
  },
  {
   "cell_type": "code",
   "execution_count": 25,
   "metadata": {
    "collapsed": false
   },
   "outputs": [
    {
     "data": {
      "text/plain": [
       "timestamp    datetime64[ns]\n",
       "latency               int64\n",
       "endpoint             object\n",
       "dtype: object"
      ]
     },
     "execution_count": 25,
     "metadata": {},
     "output_type": "execute_result"
    }
   ],
   "source": [
    "df.dtypes"
   ]
  },
  {
   "cell_type": "markdown",
   "metadata": {},
   "source": [
    "or further transformed locally, for example to perform grouping,"
   ]
  },
  {
   "cell_type": "code",
   "execution_count": 26,
   "metadata": {
    "collapsed": false
   },
   "outputs": [
    {
     "data": {
      "text/html": [
       "<div>\n",
       "<table border=\"1\" class=\"dataframe\">\n",
       "  <thead>\n",
       "    <tr style=\"text-align: right;\">\n",
       "      <th></th>\n",
       "      <th>latency</th>\n",
       "      <th>timestamp</th>\n",
       "    </tr>\n",
       "    <tr>\n",
       "      <th>endpoint</th>\n",
       "      <th></th>\n",
       "      <th></th>\n",
       "    </tr>\n",
       "  </thead>\n",
       "  <tbody>\n",
       "    <tr>\n",
       "      <th>Popular</th>\n",
       "      <td>int64</td>\n",
       "      <td>NaT</td>\n",
       "    </tr>\n",
       "    <tr>\n",
       "      <th>Recent</th>\n",
       "      <td>int64</td>\n",
       "      <td>NaT</td>\n",
       "    </tr>\n",
       "  </tbody>\n",
       "</table>\n",
       "</div>"
      ],
      "text/plain": [
       "         latency timestamp\n",
       "endpoint                  \n",
       "Popular    int64       NaT\n",
       "Recent     int64       NaT"
      ]
     },
     "execution_count": 26,
     "metadata": {},
     "output_type": "execute_result"
    }
   ],
   "source": [
    "groups = df.groupby('endpoint')\n",
    "groups.dtypes"
   ]
  },
  {
   "cell_type": "code",
   "execution_count": 27,
   "metadata": {
    "collapsed": false
   },
   "outputs": [
    {
     "name": "stdout",
     "output_type": "stream",
     "text": [
      "Popular - 7658 items\n",
      "                   timestamp  latency endpoint\n",
      "0 2014-06-15 07:00:01.514197       22  Popular\n",
      "1 2014-06-15 07:00:01.700211       21  Popular\n",
      "2 2014-06-15 07:00:01.973441       21  Popular\n",
      "\n",
      "Recent - 734 items\n",
      "                    timestamp  latency endpoint\n",
      "15 2014-06-15 07:02:21.453438      427   Recent\n",
      "21 2014-06-15 07:03:48.191783      331   Recent\n",
      "25 2014-06-15 07:04:57.352634      317   Recent\n",
      "\n"
     ]
    }
   ],
   "source": [
    "for name, df_group in groups:\n",
    "  print '%s - %d items' % (name, len(df_group))\n",
    "  print df_group.head(3)\n",
    "  print"
   ]
  },
  {
   "cell_type": "markdown",
   "metadata": {},
   "source": [
    "and then analyze a dimension per group,"
   ]
  },
  {
   "cell_type": "code",
   "execution_count": 28,
   "metadata": {
    "collapsed": false
   },
   "outputs": [
    {
     "data": {
      "text/plain": [
       "endpoint       \n",
       "Popular   count     7658.000000\n",
       "          mean       274.439018\n",
       "          std        187.050788\n",
       "          min          2.000000\n",
       "          25%        132.000000\n",
       "          50%        313.000000\n",
       "          75%        392.000000\n",
       "          max       6443.000000\n",
       "Recent    count      734.000000\n",
       "          mean       246.268392\n",
       "          std        690.888990\n",
       "          min          2.000000\n",
       "          25%        184.250000\n",
       "          50%        229.000000\n",
       "          75%        288.000000\n",
       "          max      18715.000000\n",
       "dtype: float64"
      ]
     },
     "execution_count": 28,
     "metadata": {},
     "output_type": "execute_result"
    }
   ],
   "source": [
    "groups['latency'].describe()"
   ]
  },
  {
   "cell_type": "markdown",
   "metadata": {},
   "source": [
    "or even run a set of custom aggregation functions."
   ]
  },
  {
   "cell_type": "code",
   "execution_count": 29,
   "metadata": {
    "collapsed": false
   },
   "outputs": [
    {
     "data": {
      "text/html": [
       "<div>\n",
       "<table border=\"1\" class=\"dataframe\">\n",
       "  <thead>\n",
       "    <tr style=\"text-align: right;\">\n",
       "      <th></th>\n",
       "      <th>unique</th>\n",
       "      <th>list</th>\n",
       "    </tr>\n",
       "    <tr>\n",
       "      <th>endpoint</th>\n",
       "      <th></th>\n",
       "      <th></th>\n",
       "    </tr>\n",
       "  </thead>\n",
       "  <tbody>\n",
       "    <tr>\n",
       "      <th>Popular</th>\n",
       "      <td>[2, 3, 4, 5, 6, 7, 8, 9, 11, 15, 19, 20, 21, 2...</td>\n",
       "      <td>[22, 21, 21, 21, 21, 316, 402, 405, 126, 351, ...</td>\n",
       "    </tr>\n",
       "    <tr>\n",
       "      <th>Recent</th>\n",
       "      <td>[2, 3, 4, 5, 6, 10, 21, 22, 23, 24, 29, 31, 35...</td>\n",
       "      <td>[427, 331, 317, 329, 75, 231, 197, 293, 187, 2...</td>\n",
       "    </tr>\n",
       "  </tbody>\n",
       "</table>\n",
       "</div>"
      ],
      "text/plain": [
       "                                                     unique  \\\n",
       "endpoint                                                      \n",
       "Popular   [2, 3, 4, 5, 6, 7, 8, 9, 11, 15, 19, 20, 21, 2...   \n",
       "Recent    [2, 3, 4, 5, 6, 10, 21, 22, 23, 24, 29, 31, 35...   \n",
       "\n",
       "                                                       list  \n",
       "endpoint                                                     \n",
       "Popular   [22, 21, 21, 21, 21, 316, 402, 405, 126, 351, ...  \n",
       "Recent    [427, 331, 317, 329, 75, 231, 197, 293, 187, 2...  "
      ]
     },
     "execution_count": 29,
     "metadata": {},
     "output_type": "execute_result"
    }
   ],
   "source": [
    "def unique(x):\n",
    "  return sorted(set(list(x)))\n",
    "\n",
    "groups['latency'].agg({ 'list': lambda x: list(x), 'unique': lambda x: unique(x) })"
   ]
  },
  {
   "cell_type": "markdown",
   "metadata": {},
   "source": [
    "## Data Visualization\n",
    "\n",
    "DataFrame provides built-in visualization capabilities using `matplotlib`."
   ]
  },
  {
   "cell_type": "markdown",
   "metadata": {},
   "source": [
    "**Conversion to TimeSeries Data**\n",
    "\n",
    "Our DataFrame instance contains timestamps, latencies, and endpoints. Let's reshape this DataFrame so that each endpoint is a column, that is, an independent series. The timestamp, itself, will be the index row. For timestamps for which one of the endpoints has no data point, we'll use the previous value."
   ]
  },
  {
   "cell_type": "code",
   "execution_count": 30,
   "metadata": {
    "collapsed": false
   },
   "outputs": [
    {
     "data": {
      "text/html": [
       "<div>\n",
       "<table border=\"1\" class=\"dataframe\">\n",
       "  <thead>\n",
       "    <tr style=\"text-align: right;\">\n",
       "      <th>endpoint</th>\n",
       "      <th>Popular</th>\n",
       "      <th>Recent</th>\n",
       "    </tr>\n",
       "    <tr>\n",
       "      <th>timestamp</th>\n",
       "      <th></th>\n",
       "      <th></th>\n",
       "    </tr>\n",
       "  </thead>\n",
       "  <tbody>\n",
       "    <tr>\n",
       "      <th>2014-06-15 07:00:20.649279</th>\n",
       "      <td>177.0</td>\n",
       "      <td>427.0</td>\n",
       "    </tr>\n",
       "    <tr>\n",
       "      <th>2014-06-15 07:00:54.666471</th>\n",
       "      <td>352.0</td>\n",
       "      <td>427.0</td>\n",
       "    </tr>\n",
       "    <tr>\n",
       "      <th>2014-06-15 07:01:28.139716</th>\n",
       "      <td>471.0</td>\n",
       "      <td>427.0</td>\n",
       "    </tr>\n",
       "    <tr>\n",
       "      <th>2014-06-15 07:01:33.672656</th>\n",
       "      <td>394.0</td>\n",
       "      <td>427.0</td>\n",
       "    </tr>\n",
       "    <tr>\n",
       "      <th>2014-06-15 07:01:37.050927</th>\n",
       "      <td>321.0</td>\n",
       "      <td>427.0</td>\n",
       "    </tr>\n",
       "    <tr>\n",
       "      <th>2014-06-15 07:02:21.453438</th>\n",
       "      <td>390.0</td>\n",
       "      <td>427.0</td>\n",
       "    </tr>\n",
       "    <tr>\n",
       "      <th>2014-06-15 07:02:31.533299</th>\n",
       "      <td>390.0</td>\n",
       "      <td>331.0</td>\n",
       "    </tr>\n",
       "    <tr>\n",
       "      <th>2014-06-15 07:02:51.365249</th>\n",
       "      <td>130.0</td>\n",
       "      <td>331.0</td>\n",
       "    </tr>\n",
       "    <tr>\n",
       "      <th>2014-06-15 07:02:57.402798</th>\n",
       "      <td>121.0</td>\n",
       "      <td>331.0</td>\n",
       "    </tr>\n",
       "    <tr>\n",
       "      <th>2014-06-15 07:02:57.703736</th>\n",
       "      <td>139.0</td>\n",
       "      <td>331.0</td>\n",
       "    </tr>\n",
       "  </tbody>\n",
       "</table>\n",
       "</div>"
      ],
      "text/plain": [
       "endpoint                    Popular  Recent\n",
       "timestamp                                  \n",
       "2014-06-15 07:00:20.649279    177.0   427.0\n",
       "2014-06-15 07:00:54.666471    352.0   427.0\n",
       "2014-06-15 07:01:28.139716    471.0   427.0\n",
       "2014-06-15 07:01:33.672656    394.0   427.0\n",
       "2014-06-15 07:01:37.050927    321.0   427.0\n",
       "2014-06-15 07:02:21.453438    390.0   427.0\n",
       "2014-06-15 07:02:31.533299    390.0   331.0\n",
       "2014-06-15 07:02:51.365249    130.0   331.0\n",
       "2014-06-15 07:02:57.402798    121.0   331.0\n",
       "2014-06-15 07:02:57.703736    139.0   331.0"
      ]
     },
     "execution_count": 30,
     "metadata": {},
     "output_type": "execute_result"
    }
   ],
   "source": [
    "df_series = df.pivot(index='timestamp', columns='endpoint', values='latency').fillna(method = 'backfill')\n",
    "df_series[10:20]"
   ]
  },
  {
   "cell_type": "code",
   "execution_count": 31,
   "metadata": {
    "collapsed": false
   },
   "outputs": [
    {
     "data": {
      "text/plain": [
       "8392"
      ]
     },
     "execution_count": 31,
     "metadata": {},
     "output_type": "execute_result"
    }
   ],
   "source": [
    "len(df_series)"
   ]
  },
  {
   "cell_type": "code",
   "execution_count": 32,
   "metadata": {
    "collapsed": false
   },
   "outputs": [
    {
     "data": {
      "text/plain": [
       "<matplotlib.axes._subplots.AxesSubplot at 0x7fe79b8a7d50>"
      ]
     },
     "execution_count": 32,
     "metadata": {},
     "output_type": "execute_result"
    },
    {
     "data": {
      "image/png": "[encoded data removed]",
      "text/plain": [
       "<matplotlib.figure.Figure at 0x7fe79b7378d0>"
      ]
     },
     "metadata": {},
     "output_type": "display_data"
    }
   ],
   "source": [
    "df_series.plot(logy = True)"
   ]
  },
  {
   "cell_type": "markdown",
   "metadata": {},
   "source": [
    "**Resampling**\n",
    "\n",
    "The plot above is not meaningful. Our time-series data is taken arbitrary timestamps, whenever a request was processed. It is irregularly spaced, and there are a large number of data points. DataFrames provide the ability to resample a time-series into more meaningful time windows."
   ]
  },
  {
   "cell_type": "code",
   "execution_count": 33,
   "metadata": {
    "collapsed": false
   },
   "outputs": [
    {
     "data": {
      "text/plain": [
       "<matplotlib.axes._subplots.AxesSubplot at 0x7fe79b599e90>"
      ]
     },
     "execution_count": 33,
     "metadata": {},
     "output_type": "execute_result"
    },
    {
     "data": {
      "image/png": "[encoded data removed]",
      "text/plain": [
       "<matplotlib.figure.Figure at 0x7fe79b6d6dd0>"
      ]
     },
     "metadata": {},
     "output_type": "display_data"
    }
   ],
   "source": [
    "df_series.resample(rule='10min').mean().plot(logy = True)"
   ]
  },
  {
   "cell_type": "markdown",
   "metadata": {},
   "source": [
    "# Looking Ahead\n",
    "\n",
    "Python pandas provide an extensive toolbox of capabilities for working with data. Cloud Datalab combines the power of BigQuery and DataFrames.\n",
    "\n",
    "Subsequent notebooks cover additional SQL capabilities that you to use the full power of BigQuery, allowing you to run queries close to your entire dataset before bringing a useful subset of data into the notebook."
   ]
  }
 ],
 "metadata": {
  "kernelspec": {
   "display_name": "Python 2",
   "language": "python",
   "name": "python2"
  },
  "language_info": {
   "codemirror_mode": {
    "name": "ipython",
    "version": 2
   },
   "file_extension": ".py",
   "mimetype": "text/x-python",
   "name": "python",
   "nbconvert_exporter": "python",
   "pygments_lexer": "ipython2",
   "version": "2.7.9"
  }
 },
 "nbformat": 4,
 "nbformat_minor": 0
}
