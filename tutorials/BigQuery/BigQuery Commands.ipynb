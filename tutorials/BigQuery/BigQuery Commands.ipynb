{
 "cells": [
  {
   "cell_type": "markdown",
   "metadata": {},
   "source": [
    "# BigQuery Commands\n",
    "\n",
    "Google Cloud Datalab provides a first class experience for working with Google BigQuery for both adhoc, exploratory work as well as pipeline development. In addition to authoring and executing SQL queries, you'll likely want to inspect DataSets, Tables, and their Schema, and also sample data.\n",
    "\n",
    "This notebook introduces various BigQuery commands that Cloud Datalab brings into the notebook environment.\n",
    "\n",
    "You've already seen the use of `%%sql` in the [Hello BigQuery](Hello BigQuery.ipynb) notebook. The BigQuery commands are invoked using `%%bigquery`."
   ]
  },
  {
   "cell_type": "markdown",
   "metadata": {},
   "source": [
    "## Commands, literally\n",
    "\n",
    "You can think of `%%bigquery` as your command line interface to BigQuery. These commands take arguments, including `--help`, in the same manner as other shell commands. Lets start by looking at help."
   ]
  },
  {
   "cell_type": "code",
   "execution_count": 1,
   "metadata": {
    "collapsed": false
   },
   "outputs": [
    {
     "name": "stdout",
     "output_type": "stream",
     "text": [
      "usage: bigquery [-h]\n",
      "                {sample,create,delete,dryrun,udf,execute,pipeline,table,schema,datasets,tables,extract,load}\n",
      "                ...\n",
      "\n",
      "Execute various BigQuery-related operations. Use \"%bigquery <command> -h\" for\n",
      "help on a specific command.\n",
      "\n",
      "positional arguments:\n",
      "  {sample,create,delete,dryrun,udf,execute,pipeline,table,schema,datasets,tables,extract,load}\n",
      "                        commands\n",
      "    sample              Display a sample of the results of a BigQuery SQL\n",
      "                        query. The cell can optionally contain arguments for\n",
      "                        expanding variables in the query, if -q/--query was\n",
      "                        used, or it can contain SQL for a query.\n",
      "    create              Create a dataset or table.\n",
      "    delete              Delete a dataset or table.\n",
      "    dryrun              Execute a dry run of a BigQuery query and display\n",
      "                        approximate usage statistics\n",
      "    udf                 Create a named Javascript BigQuery UDF\n",
      "    execute             Execute a BigQuery SQL query and optionally send the\n",
      "                        results to a named table. The cell can optionally\n",
      "                        contain arguments for expanding variables in the\n",
      "                        query.\n",
      "    pipeline            Define a deployable pipeline based on a BigQuery\n",
      "                        query. The cell can optionally contain arguments for\n",
      "                        expanding variables in the query.\n",
      "    table               View a BigQuery table.\n",
      "    schema              View a BigQuery table or view schema.\n",
      "    datasets            List the datasets in a BigQuery project.\n",
      "    tables              List the tables in a BigQuery project or dataset.\n",
      "    extract             Extract BigQuery query results or table to GCS.\n",
      "    load                Load data from GCS into a BigQuery table.\n",
      "\n",
      "optional arguments:\n",
      "  -h, --help            show this help message and exit\n"
     ]
    }
   ],
   "source": [
    "%bigquery --help"
   ]
  },
  {
   "cell_type": "markdown",
   "metadata": {},
   "source": [
    "You can get help on any of the individual commands as follows:"
   ]
  },
  {
   "cell_type": "code",
   "execution_count": 2,
   "metadata": {
    "collapsed": false
   },
   "outputs": [
    {
     "name": "stdout",
     "output_type": "stream",
     "text": [
      "usage: bigquery tables [-h] [-p PROJECT] [-d DATASET] [-f FILTER]\n",
      "\n",
      "optional arguments:\n",
      "  -h, --help            show this help message and exit\n",
      "  -p PROJECT, --project PROJECT\n",
      "                        The project whose tables should be listed\n",
      "  -d DATASET, --dataset DATASET\n",
      "                        The dataset to restrict to\n",
      "  -f FILTER, --filter FILTER\n",
      "                        Optional wildcard filter string used to limit the\n",
      "                        results\n"
     ]
    }
   ],
   "source": [
    "%bigquery tables --help"
   ]
  },
  {
   "cell_type": "markdown",
   "metadata": {},
   "source": [
    "# Listing BigQuery Resources\n",
    "\n",
    "The first thing you might decide to do is list datasets and tables contained within a specified project or the default project you're running this Cloud Datalab environment in.\n",
    "\n",
    "Note that you will be able to list and use any BigQuery dataset that has been shared with the project (its service account) that you are running Cloud Datalab in."
   ]
  },
  {
   "cell_type": "code",
   "execution_count": 3,
   "metadata": {
    "collapsed": false
   },
   "outputs": [
    {
     "data": {
      "text/html": [
       "<ul><li>cloud-datalab-samples:appenginelogs</li><li>cloud-datalab-samples:carprices</li><li>cloud-datalab-samples:httplogs</li></ul>"
      ],
      "text/plain": [
       "<IPython.core.display.HTML object>"
      ]
     },
     "execution_count": 3,
     "metadata": {},
     "output_type": "execute_result"
    }
   ],
   "source": [
    "%bigquery datasets --project cloud-datalab-samples"
   ]
  },
  {
   "cell_type": "code",
   "execution_count": 4,
   "metadata": {
    "collapsed": false
   },
   "outputs": [
    {
     "data": {
      "text/html": [
       "<ul><li>cloud-datalab-samples:httplogs.logs_20140615</li><li>cloud-datalab-samples:httplogs.logs_20140616</li><li>cloud-datalab-samples:httplogs.logs_20140617</li><li>cloud-datalab-samples:httplogs.logs_20140618</li><li>cloud-datalab-samples:httplogs.logs_20140619</li><li>cloud-datalab-samples:httplogs.logs_20140620</li></ul>"
      ],
      "text/plain": [
       "<IPython.core.display.HTML object>"
      ]
     },
     "execution_count": 4,
     "metadata": {},
     "output_type": "execute_result"
    }
   ],
   "source": [
    "%bigquery tables --dataset cloud-datalab-samples:httplogs"
   ]
  },
  {
   "cell_type": "markdown",
   "metadata": {},
   "source": [
    "# Exploring Data\n",
    "\n",
    "Once you've found a table or set of tables to work with, its simple to retrieve its schema or some sampling of rows to understand the data you're working with."
   ]
  },
  {
   "cell_type": "markdown",
   "metadata": {},
   "source": [
    "## Schema"
   ]
  },
  {
   "cell_type": "code",
   "execution_count": 5,
   "metadata": {
    "collapsed": false
   },
   "outputs": [
    {
     "data": {
      "text/html": [
       "\n",
       "    <div class=\"bqsv\" id=\"1_146281507835\"></div>\n",
       "    <script>\n",
       "      require(['datalab/bigquery', 'datalab/element!1_146281507835',\n",
       "          'datalab/style!/nbextensions/gcpdatalab/bigquery.css'],\n",
       "        function(bq, dom) {\n",
       "          bq.renderSchema(dom, [{\"type\": \"TIMESTAMP\", \"name\": \"timestamp\"}, {\"type\": \"INTEGER\", \"name\": \"latency\"}, {\"type\": \"INTEGER\", \"name\": \"status\"}, {\"type\": \"STRING\", \"name\": \"method\"}, {\"type\": \"STRING\", \"name\": \"endpoint\"}]);\n",
       "        }\n",
       "      );\n",
       "    </script>\n",
       "    "
      ],
      "text/plain": [
       "<IPython.core.display.HTML object>"
      ]
     },
     "execution_count": 5,
     "metadata": {},
     "output_type": "execute_result"
    }
   ],
   "source": [
    "%bigquery schema --table cloud-datalab-samples:httplogs.logs_20140615"
   ]
  },
  {
   "cell_type": "markdown",
   "metadata": {},
   "source": [
    "## Sample Data"
   ]
  },
  {
   "cell_type": "code",
   "execution_count": 6,
   "metadata": {
    "collapsed": false
   },
   "outputs": [
    {
     "name": "stdout",
     "output_type": "stream",
     "text": [
      "usage: bigquery sample [-h] [-q QUERY | -t TABLE | -v VIEW] [-c COUNT]\n",
      "                       [-m {limit,random,hashed,sorted}] [-p PERCENT]\n",
      "                       [-f FIELD] [-o {ascending,descending}] [-P] [--verbose]\n",
      "\n",
      "optional arguments:\n",
      "  -h, --help            show this help message and exit\n",
      "  -q QUERY, --query QUERY\n",
      "                        the name of the query to sample\n",
      "  -t TABLE, --table TABLE\n",
      "                        the name of the table to sample\n",
      "  -v VIEW, --view VIEW  the name of the view to sample\n",
      "  -c COUNT, --count COUNT\n",
      "                        The number of rows to limit to, if sampling\n",
      "  -m {limit,random,hashed,sorted}, --method {limit,random,hashed,sorted}\n",
      "                        The type of sampling to use\n",
      "  -p PERCENT, --percent PERCENT\n",
      "                        For random or hashed sampling, what percentage to\n",
      "                        sample from\n",
      "  -f FIELD, --field FIELD\n",
      "                        The field to use for sorted or hashed sampling\n",
      "  -o {ascending,descending}, --order {ascending,descending}\n",
      "                        The sort order to use for sorted sampling\n",
      "  -P, --profile         Generate an interactive profile of the data\n",
      "  --verbose             Show the expanded SQL that is being executed\n"
     ]
    }
   ],
   "source": [
    "%bigquery sample --help"
   ]
  },
  {
   "cell_type": "markdown",
   "metadata": {},
   "source": [
    "As you can see, Cloud Datalab allows you to sample a specified count of rows using various sampling strategies, including random sampling or hashing. Let's try retrieving a couple of samples."
   ]
  },
  {
   "cell_type": "code",
   "execution_count": 7,
   "metadata": {
    "collapsed": false
   },
   "outputs": [
    {
     "data": {
      "text/html": [
       "\n",
       "    <div class=\"bqtv\" id=\"2_146281508067\"><table><tr><th>timestamp</th><th>latency</th><th>status</th><th>method</th><th>endpoint</th></tr><tr><td>2014-06-15 07:00:00.003772</td><td>122</td><td>200</td><td>GET</td><td>Interact3</td></tr><tr><td>2014-06-15 07:00:00.428897</td><td>144</td><td>200</td><td>GET</td><td>Interact3</td></tr><tr><td>2014-06-15 07:00:00.536486</td><td>48</td><td>200</td><td>GET</td><td>Interact3</td></tr><tr><td>2014-06-15 07:00:00.652760</td><td>28</td><td>405</td><td>GET</td><td>Interact2</td></tr><tr><td>2014-06-15 07:00:00.670100</td><td>103</td><td>200</td><td>GET</td><td>Interact3</td></tr></table></div>\n",
       "    <br />(rows: 5, time: 1.1s,    24MB processed, job: job_S514R4Bpl3gHBgoutTgFFXsz5kI)<br />\n",
       "    <script>\n",
       "      require(['datalab/charting', 'datalab/element!2_146281508067', 'base/js/events',\n",
       "          'datalab/style!/nbextensions/gcpdatalab/charting.css'],\n",
       "        function(charts, dom, events) {\n",
       "          charts.render('gcharts', dom, events, 'table', [], {\"rows\": [{\"c\": [{\"v\": \"2014-06-15T07:00:00.003772\"}, {\"v\": 122}, {\"v\": 200}, {\"v\": \"GET\"}, {\"v\": \"Interact3\"}]}, {\"c\": [{\"v\": \"2014-06-15T07:00:00.428897\"}, {\"v\": 144}, {\"v\": 200}, {\"v\": \"GET\"}, {\"v\": \"Interact3\"}]}, {\"c\": [{\"v\": \"2014-06-15T07:00:00.536486\"}, {\"v\": 48}, {\"v\": 200}, {\"v\": \"GET\"}, {\"v\": \"Interact3\"}]}, {\"c\": [{\"v\": \"2014-06-15T07:00:00.652760\"}, {\"v\": 28}, {\"v\": 405}, {\"v\": \"GET\"}, {\"v\": \"Interact2\"}]}, {\"c\": [{\"v\": \"2014-06-15T07:00:00.670100\"}, {\"v\": 103}, {\"v\": 200}, {\"v\": \"GET\"}, {\"v\": \"Interact3\"}]}], \"cols\": [{\"type\": \"datetime\", \"id\": \"timestamp\", \"label\": \"timestamp\"}, {\"type\": \"number\", \"id\": \"latency\", \"label\": \"latency\"}, {\"type\": \"number\", \"id\": \"status\", \"label\": \"status\"}, {\"type\": \"string\", \"id\": \"method\", \"label\": \"method\"}, {\"type\": \"string\", \"id\": \"endpoint\", \"label\": \"endpoint\"}]},\n",
       "            {\n",
       "              pageSize: 25,\n",
       "              cssClassNames:  {\n",
       "                tableRow: 'gchart-table-row',\n",
       "                headerRow: 'gchart-table-headerrow',\n",
       "                oddTableRow: 'gchart-table-oddrow',\n",
       "                selectedTableRow: 'gchart-table-selectedrow',\n",
       "                hoverTableRow: 'gchart-table-hoverrow',\n",
       "                tableCell: 'gchart-table-cell',\n",
       "                headerCell: 'gchart-table-headercell',\n",
       "                rowNumberCell: 'gchart-table-rownumcell'\n",
       "              }\n",
       "            },\n",
       "            {source_index: 0, fields: 'timestamp,latency,status,method,endpoint'},\n",
       "            0,\n",
       "            5);\n",
       "        }\n",
       "      );\n",
       "    </script>\n",
       "  "
      ],
      "text/plain": [
       "QueryResultsTable job_S514R4Bpl3gHBgoutTgFFXsz5kI"
      ]
     },
     "execution_count": 7,
     "metadata": {},
     "output_type": "execute_result"
    }
   ],
   "source": [
    "%bigquery sample --table cloud-datalab-samples:httplogs.logs_20140615 --count 5"
   ]
  },
  {
   "cell_type": "code",
   "execution_count": 8,
   "metadata": {
    "collapsed": false
   },
   "outputs": [
    {
     "data": {
      "text/html": [
       "\n",
       "    <div class=\"bqtv\" id=\"3_146281508451\"><table><tr><th>timestamp</th><th>latency</th><th>status</th><th>method</th><th>endpoint</th></tr><tr><td>2014-06-15 07:00:05.449186</td><td>6</td><td>302</td><td>GET</td><td>Other</td></tr><tr><td>2014-06-15 07:00:05.908400</td><td>5</td><td>302</td><td>GET</td><td>Other</td></tr><tr><td>2014-06-15 07:00:09.078710</td><td>30</td><td>405</td><td>GET</td><td>Interact2</td></tr><tr><td>2014-06-15 07:00:18.609836</td><td>28</td><td>200</td><td>GET</td><td>Other</td></tr><tr><td>2014-06-15 07:00:18.861028</td><td>119</td><td>200</td><td>GET</td><td>Other</td></tr><tr><td>2014-06-15 07:00:25.316129</td><td>712</td><td>200</td><td>GET</td><td>Interact3</td></tr><tr><td>2014-06-15 07:00:28.423380</td><td>211</td><td>404</td><td>GET</td><td>Other</td></tr><tr><td>2014-06-15 07:00:46.074430</td><td>501</td><td>200</td><td>GET</td><td>Other</td></tr><tr><td>2014-06-15 07:00:51.734565</td><td>124</td><td>200</td><td>GET</td><td>Other</td></tr><tr><td>2014-06-15 07:00:53.029076</td><td>121</td><td>405</td><td>GET</td><td>Interact2</td></tr></table></div>\n",
       "    <br />(rows: 10, time: 0.9s,    24MB processed, job: job_AdPomIwVhL6Hhwe_jlsrI0Bl1ko)<br />\n",
       "    <script>\n",
       "      require(['datalab/charting', 'datalab/element!3_146281508451', 'base/js/events',\n",
       "          'datalab/style!/nbextensions/gcpdatalab/charting.css'],\n",
       "        function(charts, dom, events) {\n",
       "          charts.render('gcharts', dom, events, 'table', [], {\"rows\": [{\"c\": [{\"v\": \"2014-06-15T07:00:05.449186\"}, {\"v\": 6}, {\"v\": 302}, {\"v\": \"GET\"}, {\"v\": \"Other\"}]}, {\"c\": [{\"v\": \"2014-06-15T07:00:05.908400\"}, {\"v\": 5}, {\"v\": 302}, {\"v\": \"GET\"}, {\"v\": \"Other\"}]}, {\"c\": [{\"v\": \"2014-06-15T07:00:09.078710\"}, {\"v\": 30}, {\"v\": 405}, {\"v\": \"GET\"}, {\"v\": \"Interact2\"}]}, {\"c\": [{\"v\": \"2014-06-15T07:00:18.609836\"}, {\"v\": 28}, {\"v\": 200}, {\"v\": \"GET\"}, {\"v\": \"Other\"}]}, {\"c\": [{\"v\": \"2014-06-15T07:00:18.861028\"}, {\"v\": 119}, {\"v\": 200}, {\"v\": \"GET\"}, {\"v\": \"Other\"}]}, {\"c\": [{\"v\": \"2014-06-15T07:00:25.316129\"}, {\"v\": 712}, {\"v\": 200}, {\"v\": \"GET\"}, {\"v\": \"Interact3\"}]}, {\"c\": [{\"v\": \"2014-06-15T07:00:28.423380\"}, {\"v\": 211}, {\"v\": 404}, {\"v\": \"GET\"}, {\"v\": \"Other\"}]}, {\"c\": [{\"v\": \"2014-06-15T07:00:46.074430\"}, {\"v\": 501}, {\"v\": 200}, {\"v\": \"GET\"}, {\"v\": \"Other\"}]}, {\"c\": [{\"v\": \"2014-06-15T07:00:51.734565\"}, {\"v\": 124}, {\"v\": 200}, {\"v\": \"GET\"}, {\"v\": \"Other\"}]}, {\"c\": [{\"v\": \"2014-06-15T07:00:53.029076\"}, {\"v\": 121}, {\"v\": 405}, {\"v\": \"GET\"}, {\"v\": \"Interact2\"}]}], \"cols\": [{\"type\": \"datetime\", \"id\": \"timestamp\", \"label\": \"timestamp\"}, {\"type\": \"number\", \"id\": \"latency\", \"label\": \"latency\"}, {\"type\": \"number\", \"id\": \"status\", \"label\": \"status\"}, {\"type\": \"string\", \"id\": \"method\", \"label\": \"method\"}, {\"type\": \"string\", \"id\": \"endpoint\", \"label\": \"endpoint\"}]},\n",
       "            {\n",
       "              pageSize: 25,\n",
       "              cssClassNames:  {\n",
       "                tableRow: 'gchart-table-row',\n",
       "                headerRow: 'gchart-table-headerrow',\n",
       "                oddTableRow: 'gchart-table-oddrow',\n",
       "                selectedTableRow: 'gchart-table-selectedrow',\n",
       "                hoverTableRow: 'gchart-table-hoverrow',\n",
       "                tableCell: 'gchart-table-cell',\n",
       "                headerCell: 'gchart-table-headercell',\n",
       "                rowNumberCell: 'gchart-table-rownumcell'\n",
       "              }\n",
       "            },\n",
       "            {source_index: 1, fields: 'timestamp,latency,status,method,endpoint'},\n",
       "            0,\n",
       "            10);\n",
       "        }\n",
       "      );\n",
       "    </script>\n",
       "  "
      ],
      "text/plain": [
       "QueryResultsTable job_AdPomIwVhL6Hhwe_jlsrI0Bl1ko"
      ]
     },
     "execution_count": 8,
     "metadata": {},
     "output_type": "execute_result"
    }
   ],
   "source": [
    "%bigquery sample --table cloud-datalab-samples:httplogs.logs_20140615 --count 10 --field timestamp --method hashed"
   ]
  },
  {
   "cell_type": "markdown",
   "metadata": {},
   "source": [
    "# Querying Data\n",
    "\n",
    "Of course, since, querying BigQuery data using SQL is the primary scenario, it's always handy to have the BigQuery SQL reference. Cloud Datalab makes this easy to access by providing a direct link to the [query reference](https://cloud.google.com/bigquery/query-reference) via the Help button on the top toolbar.\n",
    "\n",
    "Lets see an example of this."
   ]
  },
  {
   "cell_type": "code",
   "execution_count": 9,
   "metadata": {
    "collapsed": false
   },
   "outputs": [
    {
     "data": {
      "text/html": [
       "\n",
       "    <div class=\"bqtv\" id=\"4_146281508880\"><table><tr><th>timestamp</th><th>latency</th></tr><tr><td>2014-06-15 10:15:06.354093</td><td>13500918</td></tr><tr><td>2014-06-15 09:15:04.571911</td><td>13500391</td></tr><tr><td>2014-06-15 10:00:05.264877</td><td>13500340</td></tr><tr><td>2014-06-15 09:45:04.873233</td><td>13500166</td></tr><tr><td>2014-06-15 09:30:07.401665</td><td>13500118</td></tr><tr><td>2014-06-16 00:01:45.311564</td><td>1197339</td></tr><tr><td>2014-06-15 15:17:12.987435</td><td>136467</td></tr><tr><td>2014-06-15 15:16:33.290520</td><td>130296</td></tr><tr><td>2014-06-15 15:15:56.727494</td><td>121277</td></tr><tr><td>2014-06-15 15:15:58.259215</td><td>97192</td></tr></table></div>\n",
       "    <br />(rows: 10, time: 2.3s,    10MB processed, job: job_bSFZ4La8r2vVWX5iV1jufVErfEw)<br />\n",
       "    <script>\n",
       "      require(['datalab/charting', 'datalab/element!4_146281508880', 'base/js/events',\n",
       "          'datalab/style!/nbextensions/gcpdatalab/charting.css'],\n",
       "        function(charts, dom, events) {\n",
       "          charts.render('gcharts', dom, events, 'table', [], {\"rows\": [{\"c\": [{\"v\": \"2014-06-15T10:15:06.354093\"}, {\"v\": 13500918}]}, {\"c\": [{\"v\": \"2014-06-15T09:15:04.571911\"}, {\"v\": 13500391}]}, {\"c\": [{\"v\": \"2014-06-15T10:00:05.264877\"}, {\"v\": 13500340}]}, {\"c\": [{\"v\": \"2014-06-15T09:45:04.873233\"}, {\"v\": 13500166}]}, {\"c\": [{\"v\": \"2014-06-15T09:30:07.401665\"}, {\"v\": 13500118}]}, {\"c\": [{\"v\": \"2014-06-16T00:01:45.311564\"}, {\"v\": 1197339}]}, {\"c\": [{\"v\": \"2014-06-15T15:17:12.987435\"}, {\"v\": 136467}]}, {\"c\": [{\"v\": \"2014-06-15T15:16:33.290520\"}, {\"v\": 130296}]}, {\"c\": [{\"v\": \"2014-06-15T15:15:56.727494\"}, {\"v\": 121277}]}, {\"c\": [{\"v\": \"2014-06-15T15:15:58.259215\"}, {\"v\": 97192}]}], \"cols\": [{\"type\": \"datetime\", \"id\": \"timestamp\", \"label\": \"timestamp\"}, {\"type\": \"number\", \"id\": \"latency\", \"label\": \"latency\"}]},\n",
       "            {\n",
       "              pageSize: 25,\n",
       "              cssClassNames:  {\n",
       "                tableRow: 'gchart-table-row',\n",
       "                headerRow: 'gchart-table-headerrow',\n",
       "                oddTableRow: 'gchart-table-oddrow',\n",
       "                selectedTableRow: 'gchart-table-selectedrow',\n",
       "                hoverTableRow: 'gchart-table-hoverrow',\n",
       "                tableCell: 'gchart-table-cell',\n",
       "                headerCell: 'gchart-table-headercell',\n",
       "                rowNumberCell: 'gchart-table-rownumcell'\n",
       "              }\n",
       "            },\n",
       "            {source_index: 2, fields: 'timestamp,latency'},\n",
       "            0,\n",
       "            10);\n",
       "        }\n",
       "      );\n",
       "    </script>\n",
       "  "
      ],
      "text/plain": [
       "QueryResultsTable job_bSFZ4La8r2vVWX5iV1jufVErfEw"
      ]
     },
     "execution_count": 9,
     "metadata": {},
     "output_type": "execute_result"
    }
   ],
   "source": [
    "%%sql\n",
    "SELECT timestamp, latency\n",
    "FROM [cloud-datalab-samples:httplogs.logs_20140615]\n",
    "ORDER BY latency DESC\n",
    "LIMIT 10"
   ]
  },
  {
   "cell_type": "markdown",
   "metadata": {},
   "source": [
    "That was a simple query. Now, let's do something a bit more interesting: let's compute the 50th percentile, 95th percentile, and 99th percentile latencies for request processing.\n",
    "\n",
    "BigQuery makes this effortless with its built-in statistical and analytics functions, such as `QUANTILES` and `NTH`."
   ]
  },
  {
   "cell_type": "code",
   "execution_count": 10,
   "metadata": {
    "collapsed": false
   },
   "outputs": [
    {
     "data": {
      "text/html": [
       "\n",
       "    <div class=\"bqtv\" id=\"5_146281509148\"><table><tr><th>latency_50th_percentile</th><th>latency_95th_percentile</th><th>latency_99th_percentile</th></tr><tr><td>81</td><td>462</td><td>15204</td></tr></table></div>\n",
       "    <br />(rows: 1, time: 0.9s,     5MB processed, job: job_BbO6Go84G4RCeP3bDkTqBUl6Fig)<br />\n",
       "    <script>\n",
       "      require(['datalab/charting', 'datalab/element!5_146281509148', 'base/js/events',\n",
       "          'datalab/style!/nbextensions/gcpdatalab/charting.css'],\n",
       "        function(charts, dom, events) {\n",
       "          charts.render('gcharts', dom, events, 'table', [], {\"rows\": [{\"c\": [{\"v\": 81}, {\"v\": 462}, {\"v\": 15204}]}], \"cols\": [{\"type\": \"number\", \"id\": \"latency_50th_percentile\", \"label\": \"latency_50th_percentile\"}, {\"type\": \"number\", \"id\": \"latency_95th_percentile\", \"label\": \"latency_95th_percentile\"}, {\"type\": \"number\", \"id\": \"latency_99th_percentile\", \"label\": \"latency_99th_percentile\"}]},\n",
       "            {\n",
       "              pageSize: 25,\n",
       "              cssClassNames:  {\n",
       "                tableRow: 'gchart-table-row',\n",
       "                headerRow: 'gchart-table-headerrow',\n",
       "                oddTableRow: 'gchart-table-oddrow',\n",
       "                selectedTableRow: 'gchart-table-selectedrow',\n",
       "                hoverTableRow: 'gchart-table-hoverrow',\n",
       "                tableCell: 'gchart-table-cell',\n",
       "                headerCell: 'gchart-table-headercell',\n",
       "                rowNumberCell: 'gchart-table-rownumcell'\n",
       "              }\n",
       "            },\n",
       "            {source_index: 3, fields: 'latency_50th_percentile,latency_95th_percentile,latency_99th_percentile'},\n",
       "            0,\n",
       "            1);\n",
       "        }\n",
       "      );\n",
       "    </script>\n",
       "  "
      ],
      "text/plain": [
       "QueryResultsTable job_BbO6Go84G4RCeP3bDkTqBUl6Fig"
      ]
     },
     "execution_count": 10,
     "metadata": {},
     "output_type": "execute_result"
    }
   ],
   "source": [
    "%%sql\n",
    "SELECT\n",
    "  NTH(50, quantiles) AS latency_50th_percentile,\n",
    "  NTH(95, quantiles) AS latency_95th_percentile,\n",
    "  NTH(99, quantiles) AS latency_99th_percentile\n",
    "FROM (\n",
    "  SELECT QUANTILES(latency, 100) AS quantiles\n",
    "  FROM [cloud-datalab-samples:httplogs.logs_20140615]\n",
    ")"
   ]
  },
  {
   "cell_type": "markdown",
   "metadata": {},
   "source": [
    "# Visualizing Data\n",
    "\n",
    "Beyond tables, it almost always interesting to be able to visualize the data to get a more meaningful view of aggregates, trends and patterns.\n",
    "\n",
    "Let's write another query, also using `QUANTILES`. This time, the `ROW_NUMBER` function will be used to also include a row number in the output data representing the percentile, using the number as the chart's x-axis value. In order to reference this SQL query in the chart, it is converted into a SQL module via the `--module` argument. This module can then be passed to the chart by referencing its name. The chart will execute the contained query."
   ]
  },
  {
   "cell_type": "code",
   "execution_count": 11,
   "metadata": {
    "collapsed": false
   },
   "outputs": [],
   "source": [
    "%%sql --module data\n",
    "SELECT ROW_NUMBER() OVER (ORDER BY time) AS percentile, time\n",
    "FROM (\n",
    "  SELECT QUANTILES(LOG10(latency), 50) AS time\n",
    "  FROM [cloud-datalab-samples:httplogs.logs_20140615]\n",
    ")"
   ]
  },
  {
   "cell_type": "code",
   "execution_count": 12,
   "metadata": {
    "collapsed": false
   },
   "outputs": [
    {
     "data": {
      "text/html": [
       "\n",
       "    <div class=\"bqgc-container\">\n",
       "      \n",
       "      <div class=\"bqgc \" id=\"6_146281509238\">\n",
       "      </div>\n",
       "    </div>\n",
       "    <script>\n",
       "\n",
       "      require.config({\n",
       "        paths: {\n",
       "          d3: '//cdnjs.cloudflare.com/ajax/libs/d3/3.4.13/d3',\n",
       "          plotly: 'https://cdn.plot.ly/plotly-1.5.1.min.js?noext',\n",
       "          jquery: '//ajax.googleapis.com/ajax/libs/jquery/2.0.0/jquery.min'\n",
       "        },\n",
       "        map: {\n",
       "          '*': {\n",
       "            datalab: 'nbextensions/gcpdatalab'\n",
       "          }\n",
       "        },\n",
       "        shim: {\n",
       "          plotly: {\n",
       "            deps: ['d3', 'jquery'],\n",
       "            exports: 'plotly'\n",
       "          }\n",
       "        }\n",
       "      });\n",
       "\n",
       "      require(['datalab/charting',\n",
       "               'datalab/element!6_146281509238',\n",
       "               'base/js/events',\n",
       "               'datalab/style!/nbextensions/gcpdatalab/charting.css'\n",
       "              ],\n",
       "        function(charts, dom, events) {\n",
       "          charts.render(\n",
       "              'gcharts',\n",
       "              dom,\n",
       "              events,\n",
       "              'columns',\n",
       "              [],\n",
       "              {\"rows\": [{\"c\": [{\"v\": 1}, {\"v\": -Infinity}]}, {\"c\": [{\"v\": 2}, {\"v\": 0.47712125471966244}]}, {\"c\": [{\"v\": 3}, {\"v\": 1.041392685158225}]}, {\"c\": [{\"v\": 4}, {\"v\": 1.2787536009528289}]}, {\"c\": [{\"v\": 5}, {\"v\": 1.3424226808222062}]}, {\"c\": [{\"v\": 6}, {\"v\": 1.3617278360175928}]}, {\"c\": [{\"v\": 7}, {\"v\": 1.414973347970818}]}, {\"c\": [{\"v\": 8}, {\"v\": 1.4313637641589874}]}, {\"c\": [{\"v\": 9}, {\"v\": 1.4471580313422192}]}, {\"c\": [{\"v\": 10}, {\"v\": 1.462397997898956}]}, {\"c\": [{\"v\": 11}, {\"v\": 1.4913616938342726}]}, {\"c\": [{\"v\": 12}, {\"v\": 1.5185139398778875}]}, {\"c\": [{\"v\": 13}, {\"v\": 1.5314789170422551}]}, {\"c\": [{\"v\": 14}, {\"v\": 1.5440680443502757}]}, {\"c\": [{\"v\": 15}, {\"v\": 1.5563025007672873}]}, {\"c\": [{\"v\": 16}, {\"v\": 1.5797835966168101}]}, {\"c\": [{\"v\": 17}, {\"v\": 1.591064607026499}]}, {\"c\": [{\"v\": 18}, {\"v\": 1.6232492903979006}]}, {\"c\": [{\"v\": 19}, {\"v\": 1.6532125137753437}]}, {\"c\": [{\"v\": 20}, {\"v\": 1.6812412373755872}]}, {\"c\": [{\"v\": 21}, {\"v\": 1.7075701760979363}]}, {\"c\": [{\"v\": 22}, {\"v\": 1.7481880270062005}]}, {\"c\": [{\"v\": 23}, {\"v\": 1.8129133566428555}]}, {\"c\": [{\"v\": 24}, {\"v\": 1.863322860120456}]}, {\"c\": [{\"v\": 25}, {\"v\": 1.8976270912904414}]}, {\"c\": [{\"v\": 26}, {\"v\": 1.9344984512435677}]}, {\"c\": [{\"v\": 27}, {\"v\": 1.9731278535996986}]}, {\"c\": [{\"v\": 28}, {\"v\": 1.99563519459755}]}, {\"c\": [{\"v\": 29}, {\"v\": 2.0086001717619175}]}, {\"c\": [{\"v\": 30}, {\"v\": 2.0253058652647704}]}, {\"c\": [{\"v\": 31}, {\"v\": 2.0453229787866576}]}, {\"c\": [{\"v\": 32}, {\"v\": 2.0644579892269186}]}, {\"c\": [{\"v\": 33}, {\"v\": 2.08278537031645}]}, {\"c\": [{\"v\": 34}, {\"v\": 2.089905111439398}]}, {\"c\": [{\"v\": 35}, {\"v\": 2.1172712956557644}]}, {\"c\": [{\"v\": 36}, {\"v\": 2.1522883443830563}]}, {\"c\": [{\"v\": 37}, {\"v\": 2.1760912590556813}]}, {\"c\": [{\"v\": 38}, {\"v\": 2.1903316981702914}]}, {\"c\": [{\"v\": 39}, {\"v\": 2.2013971243204513}]}, {\"c\": [{\"v\": 40}, {\"v\": 2.225309281725863}]}, {\"c\": [{\"v\": 41}, {\"v\": 2.2576785748691846}]}, {\"c\": [{\"v\": 42}, {\"v\": 2.292256071356476}]}, {\"c\": [{\"v\": 43}, {\"v\": 2.3283796034387376}]}, {\"c\": [{\"v\": 44}, {\"v\": 2.374748346010104}]}, {\"c\": [{\"v\": 45}, {\"v\": 2.429752280002408}]}, {\"c\": [{\"v\": 46}, {\"v\": 2.5024271199844326}]}, {\"c\": [{\"v\": 47}, {\"v\": 2.5921767573958667}]}, {\"c\": [{\"v\": 48}, {\"v\": 2.7299742856995555}]}, {\"c\": [{\"v\": 49}, {\"v\": 3.246498580795801}]}, {\"c\": [{\"v\": 50}, {\"v\": 7.130363299515732}]}], \"cols\": [{\"type\": \"number\", \"id\": \"percentile\", \"label\": \"percentile\"}, {\"type\": \"number\", \"id\": \"time\", \"label\": \"time\"}]},\n",
       "              {},\n",
       "              {\"fields\": \"percentile,time\", \"source_index\": 4, \"name\": 4},\n",
       "              0,\n",
       "              50);\n",
       "          }\n",
       "        );\n",
       "    </script>\n",
       "  "
      ],
      "text/plain": [
       "<IPython.core.display.HTML object>"
      ]
     },
     "execution_count": 12,
     "metadata": {},
     "output_type": "execute_result"
    },
    {
     "data": {
      "image/png": "[encoded data removed]"
     },
     "metadata": {
      "source_id": "6_146281509238"
     },
     "output_type": "display_data"
    }
   ],
   "source": [
    "%chart columns --data data --fields percentile,time"
   ]
  },
  {
   "cell_type": "markdown",
   "metadata": {
    "collapsed": true
   },
   "source": [
    "# Looking Ahead\n",
    "\n",
    "There are other commands, such as those that import (load) and export (extract) data or that create pipelines or transform data to build **ETL pipelines**.\n",
    "\n",
    "Cloud Datalab allows creating **parameterized queries**, which can be modified using variables defined interactively in the notebook  or through pipeline commands during deployment. Queries can be declared and validated one step at a time to create **composite SQL queries** that harness the full power of BigQuery SQL while managing authoring complexity.\n",
    "\n",
    "All of these BigQuery commands are implemented on top of **Python BigQuery APIs** (in the `gcp.bigquery` Python module). This implementation not only allows you to write arbitrary code and logic while working with BigQuery data, but also lets you integrate SQL and Python, and the Python data analysis libraries such as pandas and matplotlib, to perform sophisticated and custom data analysis and visualization tasks.\n",
    "\n",
    "These topics are covered in other BigQuery tutorial notebooks that are included with Cloud Datalab."
   ]
  }
 ],
 "metadata": {
  "kernelspec": {
   "display_name": "Python 2",
   "language": "python",
   "name": "python2"
  },
  "language_info": {
   "codemirror_mode": {
    "name": "ipython",
    "version": 2
   },
   "file_extension": ".py",
   "mimetype": "text/x-python",
   "name": "python",
   "nbconvert_exporter": "python",
   "pygments_lexer": "ipython2",
   "version": "2.7.9"
  }
 },
 "nbformat": 4,
 "nbformat_minor": 0
}
