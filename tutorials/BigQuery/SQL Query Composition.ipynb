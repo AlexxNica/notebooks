{
 "cells": [
  {
   "cell_type": "markdown",
   "metadata": {},
   "source": [
    "# SQL Query Composition\n",
    "\n",
    "This notebook builds on previous notebooks that illustrate relatively simple SQL queries (queries with a single `SELECT` statement to retrieve and analyze BigQuery data). This notebooks illustrates how Google BigQuery allows you to use nested queries to create complex queries that successively filter or slice/dice results or perform joins in a single query issued to the service. Constructing these complex queries can often be made easier when done step-by-step.\n",
    "\n",
    "This notebook introduces a pattern for developing queries independently, and then stitching them together to construct a complete solution."
   ]
  },
  {
   "cell_type": "markdown",
   "metadata": {},
   "source": [
    "## Scenario\n",
    "\n",
    "As in other sample notebooks, this notebook will build on the HTTP logs dataset. The goal is to build a latency distribution curve of requests. This helps visualize the latency pattern of a web server.\n",
    "\n",
    "**Preface on Notebook Content**\n",
    "\n",
    "Although query composition through step-by-step building is intrinsically iterative, this notebook solution represents a snapshot of the final state. For illustrarive purposes, each step of the iteration is broken out into separate sections, but it's unlikely you'll do the same in a real-task scenario."
   ]
  },
  {
   "cell_type": "code",
   "execution_count": 1,
   "metadata": {
    "collapsed": true
   },
   "outputs": [],
   "source": [
    "import datalab.bigquery as bq"
   ]
  },
  {
   "cell_type": "markdown",
   "metadata": {},
   "source": [
    "# Step 1 - Inspecting Latencies\n",
    "\n",
    "The first step is to get an initial slice of the data we're working with with a very basic query."
   ]
  },
  {
   "cell_type": "code",
   "execution_count": 2,
   "metadata": {
    "collapsed": false
   },
   "outputs": [
    {
     "data": {
      "text/html": [
       "\n",
       "    <div class=\"bqtv\" id=\"1_146281575355\"><table><tr><th>latency</th></tr><tr><td>427</td></tr><tr><td>331</td></tr><tr><td>317</td></tr><tr><td>329</td></tr><tr><td>75</td></tr><tr><td>231</td></tr><tr><td>197</td></tr><tr><td>293</td></tr><tr><td>187</td></tr><tr><td>226</td></tr></table></div>\n",
       "    <br />(rows: 10, time: 1.0s,    10MB processed, job: job_vh_2XP65gHhyVVB3pF6Ueiy_CXo)<br />\n",
       "    <script>\n",
       "      require(['datalab/charting', 'datalab/element!1_146281575355', 'base/js/events',\n",
       "          'datalab/style!/nbextensions/gcpdatalab/charting.css'],\n",
       "        function(charts, dom, events) {\n",
       "          charts.render('gcharts', dom, events, 'table', [], {\"rows\": [{\"c\": [{\"v\": 427}]}, {\"c\": [{\"v\": 331}]}, {\"c\": [{\"v\": 317}]}, {\"c\": [{\"v\": 329}]}, {\"c\": [{\"v\": 75}]}, {\"c\": [{\"v\": 231}]}, {\"c\": [{\"v\": 197}]}, {\"c\": [{\"v\": 293}]}, {\"c\": [{\"v\": 187}]}, {\"c\": [{\"v\": 226}]}], \"cols\": [{\"type\": \"number\", \"id\": \"latency\", \"label\": \"latency\"}]},\n",
       "            {\n",
       "              pageSize: 25,\n",
       "              cssClassNames:  {\n",
       "                tableRow: 'gchart-table-row',\n",
       "                headerRow: 'gchart-table-headerrow',\n",
       "                oddTableRow: 'gchart-table-oddrow',\n",
       "                selectedTableRow: 'gchart-table-selectedrow',\n",
       "                hoverTableRow: 'gchart-table-hoverrow',\n",
       "                tableCell: 'gchart-table-cell',\n",
       "                headerCell: 'gchart-table-headercell',\n",
       "                rowNumberCell: 'gchart-table-rownumcell'\n",
       "              }\n",
       "            },\n",
       "            {source_index: 0, fields: 'latency'},\n",
       "            0,\n",
       "            10);\n",
       "        }\n",
       "      );\n",
       "    </script>\n",
       "  "
      ],
      "text/plain": [
       "QueryResultsTable job_vh_2XP65gHhyVVB3pF6Ueiy_CXo"
      ]
     },
     "execution_count": 2,
     "metadata": {},
     "output_type": "execute_result"
    }
   ],
   "source": [
    "%%sql\n",
    "SELECT latency FROM [cloud-datalab-samples:httplogs.logs_20140615] WHERE endpoint = 'Recent' LIMIT 10"
   ]
  },
  {
   "cell_type": "code",
   "execution_count": 3,
   "metadata": {
    "collapsed": false
   },
   "outputs": [
    {
     "data": {
      "text/html": [
       "\n",
       "    <div class=\"bqtv\" id=\"2_146281575587\"><table><tr><th>min</th><th>max</th><th>count</th></tr><tr><td>2</td><td>18715</td><td>734</td></tr></table></div>\n",
       "    <br />(rows: 1, time: 0.7s,    10MB processed, job: job_hWOaBTfTzK_mzXtF8o8XNdQynpY)<br />\n",
       "    <script>\n",
       "      require(['datalab/charting', 'datalab/element!2_146281575587', 'base/js/events',\n",
       "          'datalab/style!/nbextensions/gcpdatalab/charting.css'],\n",
       "        function(charts, dom, events) {\n",
       "          charts.render('gcharts', dom, events, 'table', [], {\"rows\": [{\"c\": [{\"v\": 2}, {\"v\": 18715}, {\"v\": 734}]}], \"cols\": [{\"type\": \"number\", \"id\": \"min\", \"label\": \"min\"}, {\"type\": \"number\", \"id\": \"max\", \"label\": \"max\"}, {\"type\": \"number\", \"id\": \"count\", \"label\": \"count\"}]},\n",
       "            {\n",
       "              pageSize: 25,\n",
       "              cssClassNames:  {\n",
       "                tableRow: 'gchart-table-row',\n",
       "                headerRow: 'gchart-table-headerrow',\n",
       "                oddTableRow: 'gchart-table-oddrow',\n",
       "                selectedTableRow: 'gchart-table-selectedrow',\n",
       "                hoverTableRow: 'gchart-table-hoverrow',\n",
       "                tableCell: 'gchart-table-cell',\n",
       "                headerCell: 'gchart-table-headercell',\n",
       "                rowNumberCell: 'gchart-table-rownumcell'\n",
       "              }\n",
       "            },\n",
       "            {source_index: 1, fields: 'min,max,count'},\n",
       "            0,\n",
       "            1);\n",
       "        }\n",
       "      );\n",
       "    </script>\n",
       "  "
      ],
      "text/plain": [
       "QueryResultsTable job_hWOaBTfTzK_mzXtF8o8XNdQynpY"
      ]
     },
     "execution_count": 3,
     "metadata": {},
     "output_type": "execute_result"
    }
   ],
   "source": [
    "%%sql\n",
    "SELECT MIN(latency) AS min, MAX(latency) AS max, COUNT(latency) AS count\n",
    "FROM [cloud-datalab-samples:httplogs.logs_20140615]\n",
    "WHERE endpoint = 'Recent'"
   ]
  },
  {
   "cell_type": "markdown",
   "metadata": {},
   "source": [
    "# Step 2 - Bucketing Latencies\n",
    "\n",
    "Clearly, latencies are discrete numbers (milliseconds) over a wide range. One way to deal with this is to bucket them into groups."
   ]
  },
  {
   "cell_type": "code",
   "execution_count": 4,
   "metadata": {
    "collapsed": false
   },
   "outputs": [],
   "source": [
    "%%sql --module latency\n",
    "SELECT INTEGER(latency / 25) * 25 AS latency, COUNT(latency) AS requests\n",
    "FROM [cloud-datalab-samples:httplogs.logs_20140615]\n",
    "WHERE endpoint = 'Recent'\n",
    "GROUP BY latency\n",
    "ORDER BY latency"
   ]
  },
  {
   "cell_type": "code",
   "execution_count": 5,
   "metadata": {
    "collapsed": false
   },
   "outputs": [
    {
     "data": {
      "text/html": [
       "\n",
       "    <div class=\"bqtv\" id=\"3_146281575852\"><table><tr><th>latency</th><th>requests</th></tr><tr><td>0</td><td>66</td></tr><tr><td>25</td><td>4</td></tr><tr><td>50</td><td>12</td></tr><tr><td>75</td><td>45</td></tr><tr><td>100</td><td>28</td></tr><tr><td>125</td><td>9</td></tr><tr><td>150</td><td>4</td></tr><tr><td>175</td><td>76</td></tr><tr><td>200</td><td>100</td></tr><tr><td>225</td><td>104</td></tr><tr><td>250</td><td>80</td></tr><tr><td>275</td><td>46</td></tr><tr><td>300</td><td>40</td></tr><tr><td>325</td><td>46</td></tr><tr><td>350</td><td>26</td></tr><tr><td>375</td><td>26</td></tr><tr><td>400</td><td>9</td></tr><tr><td>425</td><td>4</td></tr><tr><td>450</td><td>4</td></tr><tr><td>500</td><td>2</td></tr><tr><td>550</td><td>1</td></tr><tr><td>600</td><td>1</td></tr><tr><td>18700</td><td>1</td></tr></table></div>\n",
       "    <br />(rows: 23, time: 0.8s,    10MB processed, job: job_01iap04gpHTfDEnm3tO29csZJJw)<br />\n",
       "    <script>\n",
       "      require(['datalab/charting', 'datalab/element!3_146281575852', 'base/js/events',\n",
       "          'datalab/style!/nbextensions/gcpdatalab/charting.css'],\n",
       "        function(charts, dom, events) {\n",
       "          charts.render('gcharts', dom, events, 'table', [], {\"rows\": [{\"c\": [{\"v\": 0}, {\"v\": 66}]}, {\"c\": [{\"v\": 25}, {\"v\": 4}]}, {\"c\": [{\"v\": 50}, {\"v\": 12}]}, {\"c\": [{\"v\": 75}, {\"v\": 45}]}, {\"c\": [{\"v\": 100}, {\"v\": 28}]}, {\"c\": [{\"v\": 125}, {\"v\": 9}]}, {\"c\": [{\"v\": 150}, {\"v\": 4}]}, {\"c\": [{\"v\": 175}, {\"v\": 76}]}, {\"c\": [{\"v\": 200}, {\"v\": 100}]}, {\"c\": [{\"v\": 225}, {\"v\": 104}]}, {\"c\": [{\"v\": 250}, {\"v\": 80}]}, {\"c\": [{\"v\": 275}, {\"v\": 46}]}, {\"c\": [{\"v\": 300}, {\"v\": 40}]}, {\"c\": [{\"v\": 325}, {\"v\": 46}]}, {\"c\": [{\"v\": 350}, {\"v\": 26}]}, {\"c\": [{\"v\": 375}, {\"v\": 26}]}, {\"c\": [{\"v\": 400}, {\"v\": 9}]}, {\"c\": [{\"v\": 425}, {\"v\": 4}]}, {\"c\": [{\"v\": 450}, {\"v\": 4}]}, {\"c\": [{\"v\": 500}, {\"v\": 2}]}, {\"c\": [{\"v\": 550}, {\"v\": 1}]}, {\"c\": [{\"v\": 600}, {\"v\": 1}]}, {\"c\": [{\"v\": 18700}, {\"v\": 1}]}], \"cols\": [{\"type\": \"number\", \"id\": \"latency\", \"label\": \"latency\"}, {\"type\": \"number\", \"id\": \"requests\", \"label\": \"requests\"}]},\n",
       "            {\n",
       "              pageSize: 25,\n",
       "              cssClassNames:  {\n",
       "                tableRow: 'gchart-table-row',\n",
       "                headerRow: 'gchart-table-headerrow',\n",
       "                oddTableRow: 'gchart-table-oddrow',\n",
       "                selectedTableRow: 'gchart-table-selectedrow',\n",
       "                hoverTableRow: 'gchart-table-hoverrow',\n",
       "                tableCell: 'gchart-table-cell',\n",
       "                headerCell: 'gchart-table-headercell',\n",
       "                rowNumberCell: 'gchart-table-rownumcell'\n",
       "              }\n",
       "            },\n",
       "            {source_index: 2, fields: 'latency,requests'},\n",
       "            0,\n",
       "            23);\n",
       "        }\n",
       "      );\n",
       "    </script>\n",
       "  "
      ],
      "text/plain": [
       "QueryResultsTable job_01iap04gpHTfDEnm3tO29csZJJw"
      ]
     },
     "execution_count": 5,
     "metadata": {},
     "output_type": "execute_result"
    }
   ],
   "source": [
    "%bigquery execute --query latency"
   ]
  },
  {
   "cell_type": "code",
   "execution_count": 6,
   "metadata": {
    "collapsed": false
   },
   "outputs": [
    {
     "data": {
      "text/plain": [
       "<matplotlib.axes._subplots.AxesSubplot at 0x7f703f22dd90>"
      ]
     },
     "execution_count": 6,
     "metadata": {},
     "output_type": "execute_result"
    },
    {
     "data": {
      "image/png": "[encoded data removed]",
      "text/plain": [
       "<matplotlib.figure.Figure at 0x7f703f2365d0>"
      ]
     },
     "metadata": {},
     "output_type": "display_data"
    }
   ],
   "source": [
    "bq.Query(latency).to_dataframe().set_index('latency').plot(kind='bar')"
   ]
  },
  {
   "cell_type": "markdown",
   "metadata": {},
   "source": [
    "# Step 3 - Latency Distribution\n",
    "\n",
    "In this step, we want to determine the percentage of requests that fall within each bucket. In order to compute percentages, we need to issue a count query to determine counts, then use the buckets along with counts to produce percentage values."
   ]
  },
  {
   "cell_type": "code",
   "execution_count": 7,
   "metadata": {
    "collapsed": false
   },
   "outputs": [],
   "source": [
    "%%sql --module latency\n",
    "\n",
    "DEFINE QUERY buckets\n",
    "  SELECT INTEGER(latency / 25) * 25 AS latency, COUNT(latency) AS requests\n",
    "  FROM [cloud-datalab-samples:httplogs.logs_20140615]\n",
    "  WHERE endpoint = 'Recent'\n",
    "  GROUP BY latency\n",
    "  ORDER BY latency\n",
    "\n",
    "DEFINE QUERY stats\n",
    "  SELECT COUNT(latency) AS total\n",
    "  FROM [cloud-datalab-samples:httplogs.logs_20140615]\n",
    "  WHERE endpoint = 'Recent'\n",
    "\n",
    "SELECT bucket.latency AS latency,\n",
    "       bucket.requests AS requests,\n",
    "       bucket.requests * 100 / stats.total AS percent\n",
    "FROM $buckets AS bucket CROSS JOIN $stats AS stats\n",
    "ORDER BY latency"
   ]
  },
  {
   "cell_type": "markdown",
   "metadata": {},
   "source": [
    "Notice that the first query was named`buckets` and the second was named `stats`, and these were referenced in the third query as `$buckets` and `$stats`, which uses the parameter syntax seen earlier to parameterize queries to pass in Python variables.\n",
    "\n",
    "The third query was left as anonymous, and is treated as the _main_ query within the SQL module named `latency`. We can inspect the fully composed SQL represented by the module by creating a `Query` object and printing its `sql` property."
   ]
  },
  {
   "cell_type": "code",
   "execution_count": 8,
   "metadata": {
    "collapsed": false
   },
   "outputs": [
    {
     "name": "stdout",
     "output_type": "stream",
     "text": [
      "SELECT bucket.latency AS latency,\n",
      "       bucket.requests AS requests,\n",
      "       bucket.requests * 100 / stats.total AS percent\n",
      "FROM (SELECT INTEGER(latency / 25) * 25 AS latency, COUNT(latency) AS requests\n",
      "  FROM [cloud-datalab-samples:httplogs.logs_20140615]\n",
      "  WHERE endpoint = 'Recent'\n",
      "  GROUP BY latency\n",
      "  ORDER BY latency) AS bucket CROSS JOIN (SELECT COUNT(latency) AS total\n",
      "  FROM [cloud-datalab-samples:httplogs.logs_20140615]\n",
      "  WHERE endpoint = 'Recent') AS stats\n",
      "ORDER BY latency\n"
     ]
    }
   ],
   "source": [
    "latency_distribution = bq.Query(latency)\n",
    "print latency_distribution.sql"
   ]
  },
  {
   "cell_type": "markdown",
   "metadata": {},
   "source": [
    "Notice that the `buckets` and `stats` queries have been inlined as nested queries and used in a `JOIN`. The resulting SQL represents a single query that is issued and executed in BigQuery."
   ]
  },
  {
   "cell_type": "code",
   "execution_count": 9,
   "metadata": {
    "collapsed": false
   },
   "outputs": [
    {
     "data": {
      "text/html": [
       "\n",
       "    <div class=\"bqtv\" id=\"4_146281576606\"><table><tr><th>latency</th><th>requests</th><th>percent</th></tr><tr><td>0</td><td>66</td><td>8.99182561308</td></tr><tr><td>25</td><td>4</td><td>0.544959128065</td></tr><tr><td>50</td><td>12</td><td>1.6348773842</td></tr><tr><td>75</td><td>45</td><td>6.13079019074</td></tr><tr><td>100</td><td>28</td><td>3.81471389646</td></tr><tr><td>125</td><td>9</td><td>1.22615803815</td></tr><tr><td>150</td><td>4</td><td>0.544959128065</td></tr><tr><td>175</td><td>76</td><td>10.3542234332</td></tr><tr><td>200</td><td>100</td><td>13.6239782016</td></tr><tr><td>225</td><td>104</td><td>14.1689373297</td></tr><tr><td>250</td><td>80</td><td>10.8991825613</td></tr><tr><td>275</td><td>46</td><td>6.26702997275</td></tr><tr><td>300</td><td>40</td><td>5.44959128065</td></tr><tr><td>325</td><td>46</td><td>6.26702997275</td></tr><tr><td>350</td><td>26</td><td>3.54223433243</td></tr><tr><td>375</td><td>26</td><td>3.54223433243</td></tr><tr><td>400</td><td>9</td><td>1.22615803815</td></tr><tr><td>425</td><td>4</td><td>0.544959128065</td></tr><tr><td>450</td><td>4</td><td>0.544959128065</td></tr><tr><td>500</td><td>2</td><td>0.272479564033</td></tr><tr><td>550</td><td>1</td><td>0.136239782016</td></tr><tr><td>600</td><td>1</td><td>0.136239782016</td></tr><tr><td>18700</td><td>1</td><td>0.136239782016</td></tr></table></div>\n",
       "    <br />(rows: 23, time: 3.0s,    10MB processed, job: job_zpKjhmCSKzd7QmSaA1xwZBuBZaE)<br />\n",
       "    <script>\n",
       "      require(['datalab/charting', 'datalab/element!4_146281576606', 'base/js/events',\n",
       "          'datalab/style!/nbextensions/gcpdatalab/charting.css'],\n",
       "        function(charts, dom, events) {\n",
       "          charts.render('gcharts', dom, events, 'table', [], {\"rows\": [{\"c\": [{\"v\": 0}, {\"v\": 66}, {\"v\": 8.991825613079019}]}, {\"c\": [{\"v\": 25}, {\"v\": 4}, {\"v\": 0.5449591280653951}]}, {\"c\": [{\"v\": 50}, {\"v\": 12}, {\"v\": 1.6348773841961852}]}, {\"c\": [{\"v\": 75}, {\"v\": 45}, {\"v\": 6.130790190735695}]}, {\"c\": [{\"v\": 100}, {\"v\": 28}, {\"v\": 3.8147138964577656}]}, {\"c\": [{\"v\": 125}, {\"v\": 9}, {\"v\": 1.2261580381471389}]}, {\"c\": [{\"v\": 150}, {\"v\": 4}, {\"v\": 0.5449591280653951}]}, {\"c\": [{\"v\": 175}, {\"v\": 76}, {\"v\": 10.354223433242506}]}, {\"c\": [{\"v\": 200}, {\"v\": 100}, {\"v\": 13.623978201634877}]}, {\"c\": [{\"v\": 225}, {\"v\": 104}, {\"v\": 14.168937329700272}]}, {\"c\": [{\"v\": 250}, {\"v\": 80}, {\"v\": 10.899182561307901}]}, {\"c\": [{\"v\": 275}, {\"v\": 46}, {\"v\": 6.267029972752043}]}, {\"c\": [{\"v\": 300}, {\"v\": 40}, {\"v\": 5.449591280653951}]}, {\"c\": [{\"v\": 325}, {\"v\": 46}, {\"v\": 6.267029972752043}]}, {\"c\": [{\"v\": 350}, {\"v\": 26}, {\"v\": 3.542234332425068}]}, {\"c\": [{\"v\": 375}, {\"v\": 26}, {\"v\": 3.542234332425068}]}, {\"c\": [{\"v\": 400}, {\"v\": 9}, {\"v\": 1.2261580381471389}]}, {\"c\": [{\"v\": 425}, {\"v\": 4}, {\"v\": 0.5449591280653951}]}, {\"c\": [{\"v\": 450}, {\"v\": 4}, {\"v\": 0.5449591280653951}]}, {\"c\": [{\"v\": 500}, {\"v\": 2}, {\"v\": 0.2724795640326976}]}, {\"c\": [{\"v\": 550}, {\"v\": 1}, {\"v\": 0.1362397820163488}]}, {\"c\": [{\"v\": 600}, {\"v\": 1}, {\"v\": 0.1362397820163488}]}, {\"c\": [{\"v\": 18700}, {\"v\": 1}, {\"v\": 0.1362397820163488}]}], \"cols\": [{\"type\": \"number\", \"id\": \"latency\", \"label\": \"latency\"}, {\"type\": \"number\", \"id\": \"requests\", \"label\": \"requests\"}, {\"type\": \"number\", \"id\": \"percent\", \"label\": \"percent\"}]},\n",
       "            {\n",
       "              pageSize: 25,\n",
       "              cssClassNames:  {\n",
       "                tableRow: 'gchart-table-row',\n",
       "                headerRow: 'gchart-table-headerrow',\n",
       "                oddTableRow: 'gchart-table-oddrow',\n",
       "                selectedTableRow: 'gchart-table-selectedrow',\n",
       "                hoverTableRow: 'gchart-table-hoverrow',\n",
       "                tableCell: 'gchart-table-cell',\n",
       "                headerCell: 'gchart-table-headercell',\n",
       "                rowNumberCell: 'gchart-table-rownumcell'\n",
       "              }\n",
       "            },\n",
       "            {source_index: 3, fields: 'latency,requests,percent'},\n",
       "            0,\n",
       "            23);\n",
       "        }\n",
       "      );\n",
       "    </script>\n",
       "  "
      ],
      "text/plain": [
       "QueryResultsTable job_zpKjhmCSKzd7QmSaA1xwZBuBZaE"
      ]
     },
     "execution_count": 9,
     "metadata": {},
     "output_type": "execute_result"
    }
   ],
   "source": [
    "latency_distribution.results()"
   ]
  },
  {
   "cell_type": "code",
   "execution_count": 10,
   "metadata": {
    "collapsed": false
   },
   "outputs": [
    {
     "data": {
      "text/plain": [
       "<matplotlib.axes._subplots.AxesSubplot at 0x7f703d03b990>"
      ]
     },
     "execution_count": 10,
     "metadata": {},
     "output_type": "execute_result"
    },
    {
     "data": {
      "image/png": "[encoded data removed]",
      "text/plain": [
       "<matplotlib.figure.Figure at 0x7f703d0cb990>"
      ]
     },
     "metadata": {},
     "output_type": "display_data"
    }
   ],
   "source": [
    "latency_distribution.to_dataframe().drop(['requests'], axis = 1).set_index('latency').plot(logx = True)"
   ]
  },
  {
   "cell_type": "markdown",
   "metadata": {},
   "source": [
    "# Looking Ahead\n",
    "\n",
    "Composing queries one step at a time and validating the results along the way (by either executing or sampling indermediate queries) allows you to build sophisticated queries while containing the complexity.\n",
    "\n",
    "Look at some of the BigQuery samples for more examples."
   ]
  }
 ],
 "metadata": {
  "kernelspec": {
   "display_name": "Python 2",
   "language": "python",
   "name": "python2"
  },
  "language_info": {
   "codemirror_mode": {
    "name": "ipython",
    "version": 2
   },
   "file_extension": ".py",
   "mimetype": "text/x-python",
   "name": "python",
   "nbconvert_exporter": "python",
   "pygments_lexer": "ipython2",
   "version": "2.7.9"
  }
 },
 "nbformat": 4,
 "nbformat_minor": 0
}
