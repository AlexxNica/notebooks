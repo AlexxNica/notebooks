{
 "cells": [
  {
   "cell_type": "markdown",
   "metadata": {},
   "source": [
    "### Hyperparameter Tuning\n",
    "\n",
    "CloudML service supports hyperparams tuning. Any program args exposed from your training program can be tuned. To do so, in the cloud run input, add \"hyperparameters\" section."
   ]
  },
  {
   "cell_type": "code",
   "execution_count": 2,
   "metadata": {
    "collapsed": true
   },
   "outputs": [],
   "source": [
    "import os\n",
    "\n",
    "bucket = 'gs://' + datalab_project_id() + '-sampledata'\n",
    "package_path = os.path.join(bucket, 'iris', 'model', 'trainer-0.3.tar.gz')\n",
    "train_data_path = os.path.join(bucket, 'iris', 'preprocessed', 'features_train')\n",
    "eval_data_path = os.path.join(bucket, 'iris', 'preprocessed', 'features_eval')\n",
    "metadata_path = os.path.join(bucket, 'iris', 'preprocessed', 'metadata.yaml')\n",
    "output_path = os.path.join(bucket, 'iris', 'hptuning')\n",
    "summary_dir_pattern = os.path.join(bucket, 'iris', 'hptuning', '*', 'summaries')\n",
    "eval_dir_pattern = os.path.join(bucket, 'iris', 'hptuning', '*', 'eval')"
   ]
  },
  {
   "cell_type": "markdown",
   "metadata": {},
   "source": [
    "The following sample shows 2 hyperparams \"hidden\" and \"learning_rate\". We will submit 12 runs with various parameter values (the CloudML service will set those values in each trial)."
   ]
  },
  {
   "cell_type": "code",
   "execution_count": 3,
   "metadata": {
    "collapsed": false
   },
   "outputs": [
    {
     "data": {
      "text/html": [
       "<p>Job \"trainer_task_160831_193615\" was submitted successfully.<br/>Run \"%ml jobs --name trainer_task_160831_193615\" to view the status of the job.</p><p>Click <a href=\"https://console.developers.google.com/logs/viewer?project=cloud-ml-test-automated&resource=ml.googleapis.com%2Fjob_id%2Ftrainer_task_160831_193615\" target=\"_blank\">here</a> to view cloud log. <br/>Start TensorBoard by running \"%tensorboard start --logdir=&lt;YourLogDir&gt;\".</p>"
      ],
      "text/plain": [
       "<IPython.core.display.HTML object>"
      ]
     },
     "execution_count": 3,
     "metadata": {},
     "output_type": "execute_result"
    }
   ],
   "source": [
    "%ml train --cloud\n",
    "package_uris: $package_path\n",
    "python_module: trainer.task\n",
    "scale_tier: STANDARD_1\n",
    "region: us-central1\n",
    "args:\n",
    "  train_data_paths:\n",
    "    - $train_data_path\n",
    "  eval_data_paths:\n",
    "    - $eval_data_path\n",
    "  metadata_path: $metadata_path\n",
    "  output_path: $output_path\n",
    "hyperparameters:\n",
    "  goal: MAXIMIZE\n",
    "  max_trials: 15\n",
    "  max_parallel_trials: 3\n",
    "  params:\n",
    "    - parameter_name: hidden\n",
    "      type: INTEGER\n",
    "      min_value: 10\n",
    "      max_value: 50\n",
    "      scale_type: UNIT_LINEAR_SCALE\n",
    "    - parameter_name: learning_rate\n",
    "      type: DOUBLE\n",
    "      min_value: 0.0001\n",
    "      max_value: 0.1\n",
    "      scale_type: UNIT_LOG_SCALE      "
   ]
  },
  {
   "cell_type": "markdown",
   "metadata": {},
   "source": [
    "The training results will show in \"trainingOutput\" field of the job. Initially it is empty, but once some trials finish, they will show up."
   ]
  },
  {
   "cell_type": "code",
   "execution_count": 8,
   "metadata": {
    "collapsed": false
   },
   "outputs": [
    {
     "data": {
      "text/html": [
       "<pre>createTime: '2016-08-31T19:36:15.000Z'\n",
       "jobId: trainer_task_160831_193615\n",
       "startTime: '2016-08-31T19:36:16.000Z'\n",
       "state: RUNNING\n",
       "trainingInput:\n",
       "  args: [--train_data_paths, 'gs://cloud-ml-test-automated-sampledata/iris/preprocessed/features_train',\n",
       "    --metadata_path, 'gs://cloud-ml-test-automated-sampledata/iris/preprocessed/metadata.yaml',\n",
       "    --output_path, 'gs://cloud-ml-test-automated-sampledata/iris/hptuning', --eval_data_paths,\n",
       "    'gs://cloud-ml-test-automated-sampledata/iris/preprocessed/features_eval']\n",
       "  hyperparameters:\n",
       "    goal: MAXIMIZE\n",
       "    maxParallelTrials: 3\n",
       "    maxTrials: 15\n",
       "    params:\n",
       "    - {maxValue: 50, minValue: 10, parameterName: hidden, scaleType: UNIT_LINEAR_SCALE,\n",
       "      type: INTEGER}\n",
       "    - {maxValue: 0.1, minValue: 0.0001, parameterName: learning_rate, scaleType: UNIT_LOG_SCALE,\n",
       "      type: DOUBLE}\n",
       "  packageUris: ['gs://cloud-ml-test-automated-sampledata/iris/model/trainer-0.3.tar.gz']\n",
       "  pythonModule: trainer.task\n",
       "  region: us-central1\n",
       "  scaleTier: STANDARD_1\n",
       "trainingOutput:\n",
       "  completedTrialCount: '12'\n",
       "  trials:\n",
       "  - finalMetric: {objectiveValue: 0.9375, trainingStep: '2002'}\n",
       "    hyperparameters: {hidden: '40', learning_rate: '0.009329003677578605'}\n",
       "    trialId: '1'\n",
       "  - finalMetric: {objectiveValue: 0.9375, trainingStep: '2008'}\n",
       "    hyperparameters: {hidden: '50', learning_rate: '0.0033048126510636638'}\n",
       "    trialId: '7'\n",
       "  - finalMetric: {objectiveValue: 0.9375, trainingStep: '2006'}\n",
       "    hyperparameters: {hidden: '50', learning_rate: '0.0069425358680606768'}\n",
       "    trialId: '8'\n",
       "  - finalMetric: {objectiveValue: 0.9375, trainingStep: '2006'}\n",
       "    hyperparameters: {hidden: '50', learning_rate: '0.0043978008126605815'}\n",
       "    trialId: '9'\n",
       "  - finalMetric: {objectiveValue: 0.9375, trainingStep: '2004'}\n",
       "    hyperparameters: {hidden: '44', learning_rate: '0.0052294441226604631'}\n",
       "    trialId: '10'\n",
       "  - finalMetric: {objectiveValue: 0.9375, trainingStep: '2003'}\n",
       "    hyperparameters: {hidden: '33', learning_rate: '0.0057514617879105652'}\n",
       "    trialId: '11'\n",
       "  - finalMetric: {objectiveValue: 0.9375, trainingStep: '2003'}\n",
       "    hyperparameters: {hidden: '42', learning_rate: '0.0039918872536428215'}\n",
       "    trialId: '12'\n",
       "  - finalMetric: {objectiveValue: 0.875, trainingStep: '2008'}\n",
       "    hyperparameters: {hidden: '10', learning_rate: '0.092115112311975667'}\n",
       "    trialId: '3'\n",
       "  - finalMetric: {objectiveValue: 0.875, trainingStep: '2003'}\n",
       "    hyperparameters: {hidden: '50', learning_rate: '0.099349920392032276'}\n",
       "    trialId: '4'\n",
       "  - finalMetric: {objectiveValue: 0.875, trainingStep: '2007'}\n",
       "    hyperparameters: {hidden: '39', learning_rate: '0.098851016206826681'}\n",
       "    trialId: '5'\n",
       "  - finalMetric: {objectiveValue: 0.875, trainingStep: '2003'}\n",
       "    hyperparameters: {hidden: '50', learning_rate: '0.00010164760556094304'}\n",
       "    trialId: '6'\n",
       "  - finalMetric: {objectiveValue: 0.6875, trainingStep: '2006'}\n",
       "    hyperparameters: {hidden: '10', learning_rate: '0.00010568338799583186'}\n",
       "    trialId: '2'\n",
       "</pre>"
      ],
      "text/plain": [
       "<IPython.core.display.HTML object>"
      ]
     },
     "execution_count": 8,
     "metadata": {},
     "output_type": "execute_result"
    }
   ],
   "source": [
    "%ml jobs --name trainer_task_160831_193615"
   ]
  },
  {
   "cell_type": "markdown",
   "metadata": {},
   "source": [
    "Once some jobs are finished, we can check their events. It takes a while because all data is in GCS but not local."
   ]
  },
  {
   "cell_type": "code",
   "execution_count": 3,
   "metadata": {
    "collapsed": false
   },
   "outputs": [
    {
     "data": {
      "text/html": [
       "<div id=\"2d8154da-554e-4433-bf87-9f677602bad6\" style=\"height: 525px; width: 100%;\" class=\"plotly-graph-div\"></div><script type=\"text/javascript\">require([\"plotly\"], function(Plotly) { window.PLOTLYENV=window.PLOTLYENV || {};window.PLOTLYENV.BASE_URL=\"https://plot.ly\";Plotly.newPlot(\"2d8154da-554e-4433-bf87-9f677602bad6\", [{\"y\": [0.8257647752761841, 0.11006012558937073, 0.11191938817501068, 0.06301321089267731, 0.07964120805263519, 0.04939080774784088, 0.031248431652784348, 0.018080441281199455, 0.01393957994878292], \"x\": [0, 100, 200, 300, 400, 500, 1300, 1800, 1900], \"type\": \"scatter\", \"name\": \"loss-dir12/trial:5/learning_rate:0.09885/hidden:39\"}, {\"y\": [0.273754745721817, 0.3676726222038269, 0.25373777747154236], \"x\": [300, 500, 800], \"type\": \"scatter\", \"name\": \"loss-dir5/trial:1/learning_rate:0.00933/hidden:40\"}, {\"y\": [1.0431342124938965, 1.0033026933670044, 1.0391180515289307, 1.0381929874420166, 1.0312137603759766, 1.0224065780639648], \"x\": [0, 100, 400, 500, 1300, 1900], \"type\": \"scatter\", \"name\": \"loss-dir11/trial:2/learning_rate:0.00011/hidden:10\"}, {\"y\": [0.7662691473960876, 0.28892695903778076, 0.2717573046684265, 0.2057773470878601, 0.16592936217784882], \"x\": [100, 700, 900, 1100, 1900], \"type\": \"scatter\", \"name\": \"loss-dir9/trial:13/learning_rate:0.00631/hidden:37\"}, {\"y\": [1.1116297245025635, 0.6991890668869019, 0.5743054747581482, 0.31790870428085327, 0.2744978666305542, 0.35780924558639526, 0.3350037932395935, 0.2707458734512329], \"x\": [0, 100, 500, 600, 900, 1500, 1700, 1800], \"type\": \"scatter\", \"name\": \"loss-dir6/trial:10/learning_rate:0.00523/hidden:44\"}, {\"y\": [1.2073441743850708, 0.6221896409988403, 0.634026825428009, 0.3991575241088867, 0.24264073371887207], \"x\": [0, 100, 300, 700, 900], \"type\": \"scatter\", \"name\": \"loss-dir1/trial:11/learning_rate:0.00575/hidden:33\"}, {\"y\": [1.1755311489105225, 0.6248895525932312, 0.4856232702732086, 0.30409741401672363, 0.2585322856903076, 0.1098419725894928], \"x\": [0, 100, 200, 1000, 1200, 1400], \"type\": \"scatter\", \"name\": \"loss-dir10/trial:8/learning_rate:0.00694/hidden:50\"}, {\"y\": [0.6908519864082336, 0.44984501600265503, 0.3538641035556793, 0.4082048535346985, 0.29256966710090637, 0.20786407589912415], \"x\": [100, 400, 700, 900, 1800, 1900], \"type\": \"scatter\", \"name\": \"loss-dir2/trial:9/learning_rate:0.00440/hidden:50\"}, {\"y\": [0.17990222573280334, 0.1124936044216156, 0.040698274970054626], \"x\": [100, 700, 1300], \"type\": \"scatter\", \"name\": \"loss-dir13/trial:4/learning_rate:0.09935/hidden:50\"}, {\"y\": [1.0721865892410278, 0.416298508644104, 0.49066361784935, 0.30052655935287476, 0.2993982434272766, 0.2364245057106018], \"x\": [0, 100, 200, 600, 800, 900], \"type\": \"scatter\", \"name\": \"loss-dir15/trial:14/learning_rate:0.00978/hidden:33\"}, {\"y\": [1.459806203842163, 1.0544353723526, 0.8556165099143982, 0.7545256614685059, 0.4449916183948517], \"x\": [0, 100, 200, 300, 900], \"type\": \"scatter\", \"name\": \"loss-dir3/trial:12/learning_rate:0.00399/hidden:42\"}, {\"y\": [0.9431245923042297, 0.14178475737571716, 0.14220260083675385, 0.07836958020925522, 0.10284643620252609, 0.11163163930177689], \"x\": [0, 100, 200, 300, 400, 1000], \"type\": \"scatter\", \"name\": \"loss-dir4/trial:3/learning_rate:0.09212/hidden:10\"}, {\"y\": [1.2457369565963745, 0.8173681497573853, 0.7466741800308228, 0.6246368885040283, 0.6965104341506958], \"x\": [0, 100, 200, 300, 400], \"type\": \"scatter\", \"name\": \"loss-dir7/trial:7/learning_rate:0.00330/hidden:50\"}, {\"y\": [0.9263752698898315, 0.5106634497642517, 0.37355539202690125, 0.34615248441696167, 0.39548951387405396, 0.22015026211738586, 0.31935951113700867, 0.1529892086982727], \"x\": [0, 100, 200, 400, 500, 600, 700, 1800], \"type\": \"scatter\", \"name\": \"loss-dir14/trial:15/learning_rate:0.01065/hidden:21\"}, {\"y\": [1.0417076349258423, 1.1867306232452393, 1.1052908897399902, 1.1181429624557495, 1.1433334350585938, 0.862227201461792, 1.0003697872161865, 0.9878101944923401], \"x\": [0, 100, 200, 300, 700, 1300, 1400, 1500], \"type\": \"scatter\", \"name\": \"loss-dir8/trial:6/learning_rate:0.00010/hidden:50\"}], {\"title\": \"loss\", \"xaxis\": {\"title\": \"step\"}, \"yaxis\": {\"title\": \"loss\"}}, {\"linkText\": \"Export to plot.ly\", \"showLink\": true})});</script>"
      ],
      "text/plain": [
       "<IPython.core.display.HTML object>"
      ]
     },
     "metadata": {},
     "output_type": "display_data"
    }
   ],
   "source": [
    "%ml summary --dir $summary_dir_pattern --name loss --step"
   ]
  },
  {
   "cell_type": "code",
   "execution_count": 4,
   "metadata": {
    "collapsed": false
   },
   "outputs": [
    {
     "data": {
      "text/html": [
       "<div id=\"ca2bb658-7721-412b-a724-08aa4c579951\" style=\"height: 525px; width: 100%;\" class=\"plotly-graph-div\"></div><script type=\"text/javascript\">require([\"plotly\"], function(Plotly) { window.PLOTLYENV=window.PLOTLYENV || {};window.PLOTLYENV.BASE_URL=\"https://plot.ly\";Plotly.newPlot(\"ca2bb658-7721-412b-a724-08aa4c579951\", [{\"y\": [0.875, 0.9375, 0.9375, 0.9375], \"x\": [147, 268, 1466, 2006], \"type\": \"scatter\", \"name\": \"accuracy-dir6/trial:8/learning_rate:0.00694/hidden:50\"}, {\"y\": [0.5625, 0.5625, 0.6875], \"x\": [620, 1002, 2006], \"type\": \"scatter\", \"name\": \"accuracy-dir1/trial:2/learning_rate:0.00011/hidden:10\"}, {\"y\": [0.875, 0.875, 0.875], \"x\": [449, 1072, 2003], \"type\": \"scatter\", \"name\": \"accuracy-dir3/trial:6/learning_rate:0.00010/hidden:50\"}, {\"y\": [0.9375, 0.9375], \"x\": [1429, 2002], \"type\": \"scatter\", \"name\": \"accuracy-dir12/trial:1/learning_rate:0.00933/hidden:40\"}, {\"y\": [0.9375, 0.9375], \"x\": [1330, 2005], \"type\": \"scatter\", \"name\": \"accuracy-dir2/trial:13/learning_rate:0.00631/hidden:37\"}, {\"y\": [0.9375, 0.9375, 0.9375], \"x\": [769, 1180, 2003], \"type\": \"scatter\", \"name\": \"accuracy-dir8/trial:11/learning_rate:0.00575/hidden:33\"}, {\"y\": [0.875, 0.875, 0.875], \"x\": [372, 615, 2007], \"type\": \"scatter\", \"name\": \"accuracy-dir15/trial:5/learning_rate:0.09885/hidden:39\"}, {\"y\": [0.9375, 0.9375, 0.875, 0.875], \"x\": [323, 516, 1916, 2008], \"type\": \"scatter\", \"name\": \"accuracy-dir5/trial:3/learning_rate:0.09212/hidden:10\"}, {\"y\": [0.875, 0.875, 0.875], \"x\": [798, 1355, 2003], \"type\": \"scatter\", \"name\": \"accuracy-dir9/trial:4/learning_rate:0.09935/hidden:50\"}, {\"y\": [0.9375, 0.9375, 0.9375, 0.9375], \"x\": [312, 461, 1848, 2008], \"type\": \"scatter\", \"name\": \"accuracy-dir13/trial:7/learning_rate:0.00330/hidden:50\"}, {\"y\": [0.9375, 0.9375], \"x\": [1248, 2008], \"type\": \"scatter\", \"name\": \"accuracy-dir14/trial:14/learning_rate:0.00978/hidden:33\"}, {\"y\": [0.875, 0.9375, 0.9375], \"x\": [314, 1377, 2003], \"type\": \"scatter\", \"name\": \"accuracy-dir4/trial:12/learning_rate:0.00399/hidden:42\"}, {\"y\": [0.9375, 0.9375, 0.9375], \"x\": [941, 1891, 2004], \"type\": \"scatter\", \"name\": \"accuracy-dir11/trial:10/learning_rate:0.00523/hidden:44\"}, {\"y\": [0.9375, 0.9375], \"x\": [960, 2006], \"type\": \"scatter\", \"name\": \"accuracy-dir7/trial:9/learning_rate:0.00440/hidden:50\"}, {\"y\": [0.9375, 0.9375], \"x\": [986, 2005], \"type\": \"scatter\", \"name\": \"accuracy-dir10/trial:15/learning_rate:0.01065/hidden:21\"}], {\"title\": \"accuracy\", \"xaxis\": {\"title\": \"step\"}, \"yaxis\": {\"title\": \"accuracy\"}}, {\"linkText\": \"Export to plot.ly\", \"showLink\": true})});</script>"
      ],
      "text/plain": [
       "<IPython.core.display.HTML object>"
      ]
     },
     "metadata": {},
     "output_type": "display_data"
    }
   ],
   "source": [
    "%ml summary --dir $eval_dir_pattern --name accuracy --step"
   ]
  },
  {
   "cell_type": "code",
   "execution_count": null,
   "metadata": {
    "collapsed": true
   },
   "outputs": [],
   "source": []
  }
 ],
 "metadata": {
  "kernelspec": {
   "display_name": "Python 2",
   "language": "python",
   "name": "python2"
  },
  "language_info": {
   "codemirror_mode": {
    "name": "ipython",
    "version": 2
   },
   "file_extension": ".py",
   "mimetype": "text/x-python",
   "name": "python",
   "nbconvert_exporter": "python",
   "pygments_lexer": "ipython2",
   "version": "2.7.9"
  }
 },
 "nbformat": 4,
 "nbformat_minor": 1
}
