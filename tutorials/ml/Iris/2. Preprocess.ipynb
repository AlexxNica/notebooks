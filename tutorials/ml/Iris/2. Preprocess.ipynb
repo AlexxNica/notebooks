{
 "cells": [
  {
   "cell_type": "markdown",
   "metadata": {},
   "source": [
    "### Preprocess\n",
    "\n",
    "Once you have gathered your data and decided how to preprocess them (a featureset class is already defined), we can preprocess the data. One way to preprocess the data is to use DataFlow. If your data is large, DataFlow can run in cloud in a distributed fashion. If not large, you can also run the DataFlow locally. <br><br>\n",
    "\n",
    "CloudML provides a preprocess DataFlow transformation so it can be easily plugged into the pipeline.\n",
    "\n",
    "What Datalab provides is generated code template with \"%ml preprocess\" command, so you don't have to start from scratch to author your DataFlow pipeline."
   ]
  },
  {
   "cell_type": "markdown",
   "metadata": {},
   "source": [
    "Preprocessing requires a featureset class. We've done that in previous \"1.Feature\" notebook but we need to define it again here in this notebook scope.\n",
    "Note that we choose to preprocess all numeric feature columns with [-1, 1] scale."
   ]
  },
  {
   "cell_type": "code",
   "execution_count": 19,
   "metadata": {
    "collapsed": true
   },
   "outputs": [],
   "source": [
    "import google.cloud.ml.features as features\n",
    "\n",
    "class IrisFeatures(object):\n",
    "  \"\"\"This class is generated from command line:\n",
    "        %ml features\n",
    "        path: /content/datalab/ml/data_train.csv\n",
    "        headers: key,species,sepal_length,sepal_width,petal_length,petal_width\n",
    "        target: species\n",
    "        id: key\n",
    "        Please modify it as appropriate!!!\n",
    "  \"\"\"\n",
    "  csv_columns = ('key','species','sepal_length','sepal_width','petal_length','petal_width')\n",
    "  species = features.target('species').classification()\n",
    "  key = features.key('key')\n",
    "  measurements = [\n",
    "      features.numeric('petal_width').max_abs_scale(1),\n",
    "      features.numeric('sepal_length').max_abs_scale(1),\n",
    "      features.numeric('petal_length').max_abs_scale(1),\n",
    "      features.numeric('sepal_width').max_abs_scale(1),\n",
    "  ]"
   ]
  },
  {
   "cell_type": "markdown",
   "metadata": {},
   "source": [
    "Run %preprocess, and it generates the input cell for you to fill out."
   ]
  },
  {
   "cell_type": "code",
   "execution_count": null,
   "metadata": {
    "collapsed": true
   },
   "outputs": [],
   "source": [
    "%ml preprocess"
   ]
  },
  {
   "cell_type": "markdown",
   "metadata": {},
   "source": [
    "Fill in the cell input."
   ]
  },
  {
   "cell_type": "code",
   "execution_count": null,
   "metadata": {
    "collapsed": true
   },
   "outputs": [],
   "source": [
    "%%ml preprocess\n",
    "train_data_path: /content/datalab/ml/iris/data_train.csv\n",
    "eval_data_path: /content/datalab/ml/iris/data_eval.csv\n",
    "data_format: CSV\n",
    "output_dir: /content/datalab/ml/iris/preprocessed\n",
    "feature_set_class_name: IrisFeatures\n"
   ]
  },
  {
   "cell_type": "markdown",
   "metadata": {},
   "source": [
    "Run it and below is what you get. You can run the pipeline directly (it is a local pipeline), or extend it with more DataFlow transforms."
   ]
  },
  {
   "cell_type": "code",
   "execution_count": 17,
   "metadata": {
    "collapsed": false
   },
   "outputs": [
    {
     "data": {
      "text/plain": [
       "<apache_beam.runners.direct_runner.DirectPipelineResult at 0x7f1085dbe390>"
      ]
     },
     "execution_count": 17,
     "metadata": {},
     "output_type": "execute_result"
    }
   ],
   "source": [
    "\n",
    "# header\n",
    "\"\"\"\n",
    "Following code is generated from command line:\n",
    "%%ml preprocess\n",
    "train_data_path: /content/datalab/ml/iris/data_train.csv\n",
    "eval_data_path: /content/datalab/ml/iris/data_eval.csv\n",
    "data_format: CSV\n",
    "output_dir: /content/datalab/ml/iris/preprocessed\n",
    "feature_set_class_name: IrisFeatures\n",
    "\n",
    "Please modify as appropriate!!!\n",
    "\"\"\"\n",
    "\n",
    "# imports\n",
    "import apache_beam as beam\n",
    "import google.cloud.ml as ml\n",
    "import google.cloud.ml.io as io\n",
    "import os\n",
    "\n",
    "# defines\n",
    "feature_set = IrisFeatures()\n",
    "OUTPUT_DIR = '/content/datalab/ml/iris/preprocessed'\n",
    "pipeline = beam.Pipeline('DirectPipelineRunner')\n",
    "\n",
    "\n",
    "# preprocessing\n",
    "training_data = beam.io.TextFileSource(\n",
    "    '/content/datalab/ml/iris/data_train.csv',\n",
    "    strip_trailing_newlines=True,\n",
    "    coder=io.CsvCoder.from_feature_set(feature_set, feature_set.csv_columns))\n",
    "train = pipeline | beam.Read('ReadTrainingData', training_data)\n",
    "eval_data = beam.io.TextFileSource(\n",
    "    '/content/datalab/ml/iris/data_eval.csv',\n",
    "    strip_trailing_newlines=True,\n",
    "    coder=io.CsvCoder.from_feature_set(feature_set, feature_set.csv_columns))\n",
    "eval = pipeline | beam.Read('ReadEvalData', eval_data)\n",
    "(metadata, train_features, eval_features) = ((train, eval) |\n",
    "    ml.Preprocess('Preprocess', feature_set))\n",
    "metadata | io.SaveMetadata(os.path.join(OUTPUT_DIR, \"metadata.yaml\"))\n",
    "train_features | beam.Write('WriteTraining', beam.io.TextFileSink(\n",
    "    os.path.join(OUTPUT_DIR, 'features_train')))\n",
    "\n",
    "eval_features | beam.Write('WriteEval', beam.io.TextFileSink(\n",
    "    os.path.join(OUTPUT_DIR, 'features_eval')))\n",
    "\n",
    "# run pipeline\n",
    "pipeline.run()\n"
   ]
  },
  {
   "cell_type": "markdown",
   "metadata": {},
   "source": [
    "Run the pipeline without modification, and check the output. The output is example JSON format that can be consumed by TensorFlow directly. "
   ]
  },
  {
   "cell_type": "code",
   "execution_count": 6,
   "metadata": {
    "collapsed": false
   },
   "outputs": [
    {
     "name": "stdout",
     "output_type": "stream",
     "text": [
      "features_eval-00000-of-00001  features_train-00000-of-00001  metadata.yaml\r\n"
     ]
    }
   ],
   "source": [
    "!ls /content/datalab/ml/iris/preprocessed"
   ]
  },
  {
   "cell_type": "markdown",
   "metadata": {},
   "source": [
    "You can also generate Cloud DataFlow pipeline. Just add \"--cloud\" to \"%ml preprocess\". <br>\n",
    "Note that if you need to get it running in cloud, you need: <br>\n",
    "1. Sign In using the up right sign-in button, if you have not done so. <br>\n",
    "2. Set a default project by running '%projects set Your-Project-Id'."
   ]
  },
  {
   "cell_type": "code",
   "execution_count": 7,
   "metadata": {
    "collapsed": true
   },
   "outputs": [],
   "source": [
    "%projects set cloud-ml-test-automated"
   ]
  },
  {
   "cell_type": "markdown",
   "metadata": {},
   "source": [
    "Also need to copy the data to GCS so Cloud DataFlow works."
   ]
  },
  {
   "cell_type": "code",
   "execution_count": 11,
   "metadata": {
    "collapsed": false
   },
   "outputs": [],
   "source": [
    "%%storage create --bucket gs://cloud-ml-test-automated-sampledata"
   ]
  },
  {
   "cell_type": "code",
   "execution_count": 13,
   "metadata": {
    "collapsed": false
   },
   "outputs": [
    {
     "name": "stdout",
     "output_type": "stream",
     "text": [
      "Copying file:///content/datalab/ml/iris/data_train.csv [Content-Type=text/csv]...\n",
      "Uploading   ...ml-test-automated-sampledata/iris/data_train.csv: 3.83 KiB/3.83 KiB    \n",
      "Copying file:///content/datalab/ml/iris/data_eval.csv [Content-Type=text/csv]...\n",
      "Uploading   ...-ml-test-automated-sampledata/iris/data_eval.csv: 974 B/974 B    \n"
     ]
    }
   ],
   "source": [
    "!gsutil cp /content/datalab/ml/iris/data_train.csv gs://cloud-ml-test-automated-sampledata/iris/data_train.csv \n",
    "!gsutil cp /content/datalab/ml/iris/data_eval.csv gs://cloud-ml-test-automated-sampledata/iris/data_eval.csv "
   ]
  },
  {
   "cell_type": "markdown",
   "metadata": {},
   "source": [
    "Below is the input before it generates the pipeline code."
   ]
  },
  {
   "cell_type": "code",
   "execution_count": null,
   "metadata": {
    "collapsed": true
   },
   "outputs": [],
   "source": [
    "%%ml preprocess --cloud\n",
    "train_data_path: gs://cloud-ml-test-automated-sampledata/iris/data_train.csv \n",
    "eval_data_path: gs://cloud-ml-test-automated-sampledata/iris/data_eval.csv \n",
    "data_format: CSV\n",
    "output_dir: gs://cloud-ml-test-automated-sampledata/iris/preprocessed\n",
    "feature_set_class_name: IrisFeatures"
   ]
  },
  {
   "cell_type": "markdown",
   "metadata": {},
   "source": [
    "After you run the following generated code, you can go to Developer Console to see the DataFlow job. For example, https://pantheon.corp.google.com/dataflow?project=cloud-ml-test-automated."
   ]
  },
  {
   "cell_type": "code",
   "execution_count": 32,
   "metadata": {
    "collapsed": false
   },
   "outputs": [
    {
     "name": "stderr",
     "output_type": "stream",
     "text": [
      "WARNING:root:Using fallback coder for typehint: Dict[Any, Any].\n"
     ]
    },
    {
     "data": {
      "text/plain": [
       "<DataflowPipelineResult <Job\n",
       " id: u'2016-08-17_23_58_18-1351193934937065117'\n",
       " projectId: u'cloud-ml-test-automated'\n",
       " steps: []\n",
       " tempFiles: []\n",
       " type: TypeValueValuesEnum(JOB_TYPE_BATCH, 1)> at 0x7f1085dbe290>"
      ]
     },
     "execution_count": 32,
     "metadata": {},
     "output_type": "execute_result"
    }
   ],
   "source": [
    "\n",
    "# header\n",
    "\"\"\"\n",
    "Following code is generated from command line:\n",
    "%%ml preprocess --cloud\n",
    "train_data_path: gs://cloud-ml-test-automated-sampledata/iris/data_train.csv \n",
    "eval_data_path: gs://cloud-ml-test-automated-sampledata/iris/data_eval.csv \n",
    "data_format: CSV\n",
    "output_dir: gs://cloud-ml-test-automated-sampledata/iris/preprocessed\n",
    "feature_set_class_name: IrisFeatures\n",
    "\n",
    "Please modify as appropriate!!!\n",
    "\"\"\"\n",
    "\n",
    "# imports\n",
    "import apache_beam as beam\n",
    "import google.cloud.ml as ml\n",
    "import google.cloud.ml.io as io\n",
    "import os\n",
    "\n",
    "# defines\n",
    "feature_set = IrisFeatures()\n",
    "OUTPUT_DIR = 'gs://cloud-ml-test-automated-sampledata/iris/preprocessing'\n",
    "options = {\n",
    "    'staging_location': os.path.join(OUTPUT_DIR, 'tmp', 'staging'),\n",
    "    'temp_location': os.path.join(OUTPUT_DIR, 'tmp'),\n",
    "    'job_name': 'preprocess-irisfeatures-160818-050916',\n",
    "    'project': 'cloud-ml-test-automated',\n",
    "    'extra_packages': ['gs://cloud-datalab/deploy/cloudml.tar.gz'],\n",
    "    'teardown_policy': 'TEARDOWN_ALWAYS',\n",
    "    'no_save_main_session': True\n",
    "}\n",
    "opts = beam.pipeline.PipelineOptions(flags=[], **options)\n",
    "pipeline = beam.Pipeline('DataflowPipelineRunner', options=opts)\n",
    "\n",
    "\n",
    "# preprocessing\n",
    "training_data = beam.io.TextFileSource(\n",
    "    'gs://cloud-ml-test-automated-sampledata/iris/data_train.csv',\n",
    "    strip_trailing_newlines=True,\n",
    "    coder=io.CsvCoder.from_feature_set(feature_set, feature_set.csv_columns))\n",
    "train = pipeline | beam.Read('ReadTrainingData', training_data)\n",
    "eval_data = beam.io.TextFileSource(\n",
    "    'gs://cloud-ml-test-automated-sampledata/iris/data_eval.csv',\n",
    "    coder=io.CsvCoder.from_feature_set(feature_set, feature_set.csv_columns))\n",
    "eval = pipeline | beam.Read('ReadEvalData', eval_data)\n",
    "(metadata, train_features, eval_features) = ((train, eval) |\n",
    "    ml.Preprocess('Preprocess', feature_set))\n",
    "metadata | io.SaveMetadata(os.path.join(OUTPUT_DIR, \"metadata.yaml\"))\n",
    "train_features | beam.Write('WriteTraining', beam.io.TextFileSink(\n",
    "    os.path.join(OUTPUT_DIR, 'features_train')))\n",
    "\n",
    "eval_features | beam.Write('WriteEval', beam.io.TextFileSink(\n",
    "    os.path.join(OUTPUT_DIR, 'features_eval')))\n",
    "\n",
    "# run pipeline\n",
    "pipeline.run()\n"
   ]
  },
  {
   "cell_type": "code",
   "execution_count": 34,
   "metadata": {
    "collapsed": false
   },
   "outputs": [
    {
     "name": "stdout",
     "output_type": "stream",
     "text": [
      "gs://cloud-ml-test-automated-sampledata/iris/preprocessing/features_eval-00000-of-00003\r\n",
      "gs://cloud-ml-test-automated-sampledata/iris/preprocessing/features_eval-00001-of-00003\r\n",
      "gs://cloud-ml-test-automated-sampledata/iris/preprocessing/features_eval-00002-of-00003\r\n",
      "gs://cloud-ml-test-automated-sampledata/iris/preprocessing/features_train-00000-of-00004\r\n",
      "gs://cloud-ml-test-automated-sampledata/iris/preprocessing/features_train-00001-of-00004\r\n",
      "gs://cloud-ml-test-automated-sampledata/iris/preprocessing/features_train-00002-of-00004\r\n",
      "gs://cloud-ml-test-automated-sampledata/iris/preprocessing/features_train-00003-of-00004\r\n",
      "gs://cloud-ml-test-automated-sampledata/iris/preprocessing/metadata.yaml\r\n",
      "gs://cloud-ml-test-automated-sampledata/iris/preprocessing/tmp/\r\n"
     ]
    }
   ],
   "source": [
    "!gsutil list gs://cloud-ml-test-automated-sampledata/iris/preprocessing"
   ]
  },
  {
   "cell_type": "code",
   "execution_count": null,
   "metadata": {
    "collapsed": true
   },
   "outputs": [],
   "source": []
  }
 ],
 "metadata": {
  "kernelspec": {
   "display_name": "Python 2",
   "language": "python",
   "name": "python2"
  },
  "language_info": {
   "codemirror_mode": {
    "name": "ipython",
    "version": 2
   },
   "file_extension": ".py",
   "mimetype": "text/x-python",
   "name": "python",
   "nbconvert_exporter": "python",
   "pygments_lexer": "ipython2",
   "version": "2.7.9"
  }
 },
 "nbformat": 4,
 "nbformat_minor": 1
}
