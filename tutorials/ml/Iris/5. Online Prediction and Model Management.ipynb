{
 "cells": [
  {
   "cell_type": "markdown",
   "metadata": {},
   "source": [
    "## Deployment\n",
    "\n",
    "Once you are happy with a trained model, you can upload the model so it can serve online prediction requests."
   ]
  },
  {
   "cell_type": "code",
   "execution_count": 3,
   "metadata": {
    "collapsed": false
   },
   "outputs": [],
   "source": [
    "%ml deploy --name iris.v1 --path gs://cloud-ml-test-automated-sampledata/iris/trainedmodel/model"
   ]
  },
  {
   "cell_type": "markdown",
   "metadata": {},
   "source": [
    "Listing models under current project and view a model details."
   ]
  },
  {
   "cell_type": "code",
   "execution_count": 4,
   "metadata": {
    "collapsed": false
   },
   "outputs": [
    {
     "data": {
      "text/html": [
       "<table><tr><th>name</th></tr><tr><td>projects/cloud-ml-test-automated/models/iris</td></tr></table>"
      ],
      "text/plain": [
       "<IPython.core.display.HTML object>"
      ]
     },
     "execution_count": 4,
     "metadata": {},
     "output_type": "execute_result"
    }
   ],
   "source": [
    "%ml model"
   ]
  },
  {
   "cell_type": "code",
   "execution_count": 5,
   "metadata": {
    "collapsed": false
   },
   "outputs": [
    {
     "data": {
      "text/html": [
       "<pre>{createTime: '2016-08-18T07:27:18.000Z', name: projects/cloud-ml-test-automated/models/iris/versions/v1,\n",
       "  originUri: 'gs://cloud-ml-test-automated-sampledata/iris/trainedmodel/model'}\n",
       "</pre>"
      ],
      "text/plain": [
       "<IPython.core.display.HTML object>"
      ]
     },
     "execution_count": 5,
     "metadata": {},
     "output_type": "execute_result"
    }
   ],
   "source": [
    "%ml model --name iris.v1"
   ]
  },
  {
   "cell_type": "markdown",
   "metadata": {},
   "source": [
    "## Prediction\n",
    "\n",
    "For local models, you can send requests to it without uploading the model. Note that metadata is needed to preprocess the input data on the fly. \"--label\" specifies which output in the prediction graph is label and needs to be converted from int to label. If not specified, that output will not be converted so will stay as int."
   ]
  },
  {
   "cell_type": "code",
   "execution_count": 9,
   "metadata": {
    "collapsed": false
   },
   "outputs": [
    {
     "data": {
      "text/html": [
       "<pre>- predictions: Iris-versicolor (1)\n",
       "  score:\n",
       "  - 0.0024976972490549088\n",
       "  - 0.8976318836212158\n",
       "  - 0.09987031668424606\n",
       "- predictions: Iris-versicolor (1)\n",
       "  score:\n",
       "  - 0.0002288270479766652\n",
       "  - 0.9996562004089355\n",
       "  - 0.00011494816862978041\n",
       "- predictions: Iris-versicolor (1)\n",
       "  score:\n",
       "  - 0.006318162195384502\n",
       "  - 0.9936514496803284\n",
       "  - 3.0438004614552483e-05\n",
       "- predictions: Iris-setosa (0)\n",
       "  score:\n",
       "  - 0.9998854398727417\n",
       "  - 0.00011451896716607735\n",
       "  - 1.7532464369196532e-09\n",
       "- predictions: Iris-versicolor (1)\n",
       "  score:\n",
       "  - 0.00016810755187179893\n",
       "  - 0.9997958540916443\n",
       "  - 3.6166715290164575e-05\n",
       "</pre>"
      ],
      "text/plain": [
       "<IPython.core.display.HTML object>"
      ]
     },
     "execution_count": 9,
     "metadata": {},
     "output_type": "execute_result"
    }
   ],
   "source": [
    "%%ml predict --model /content/datalab/ml/iris/model3000/model --metadata /content/datalab/ml/iris/preprocessed/metadata.yaml --label predictions\n",
    "{\"key\": 107, \"sepal_length\": 4.9, \"sepal_width\": 2.5, \"petal_length\": 4.5, \"petal_width\": 1.7}\n",
    "{\"key\": 100, \"sepal_length\": 5.7, \"sepal_width\": 2.8, \"petal_length\": 4.1, \"petal_width\": 1.3}\n",
    "{\"key\": 99, \"sepal_length\": 5.1, \"sepal_width\": 2.5, \"petal_length\": 3, \"petal_width\": 1.1}\n",
    "{\"key\": 13, \"sepal_length\": 4.8, \"sepal_width\": 3, \"petal_length\": 1.4, \"petal_width\": 0.1}\n",
    "{\"key\": 70, \"sepal_length\": 5.6, \"sepal_width\": 2.5, \"petal_length\": 3.9, \"petal_width\": 1.1}"
   ]
  },
  {
   "cell_type": "markdown",
   "metadata": {},
   "source": [
    "For cloud model, same but with --cloud. Also, the --model value needs to be a name.version model specifier instead of a local path. Let's use the model iris.v1 we just deployed."
   ]
  },
  {
   "cell_type": "code",
   "execution_count": 12,
   "metadata": {
    "collapsed": false
   },
   "outputs": [
    {
     "data": {
      "text/html": [
       "<pre>- predictions: Iris-versicolor (1)\n",
       "  score:\n",
       "  - 0.00023364729713648558\n",
       "  - 0.7087392807006836\n",
       "  - 0.29102709889411926\n",
       "- predictions: Iris-versicolor (1)\n",
       "  score:\n",
       "  - 0.0003832506772596389\n",
       "  - 0.9994137287139893\n",
       "  - 0.00020300244796089828\n",
       "- predictions: Iris-versicolor (1)\n",
       "  score:\n",
       "  - 0.009110810235142708\n",
       "  - 0.9908775687217712\n",
       "  - 1.1616696610872168e-05\n",
       "- predictions: Iris-setosa (0)\n",
       "  score:\n",
       "  - 0.9997636675834656\n",
       "  - 0.0002363227540627122\n",
       "  - 8.152678185324724e-12\n",
       "- predictions: Iris-versicolor (1)\n",
       "  score:\n",
       "  - 0.00029949849704280496\n",
       "  - 0.9996312856674194\n",
       "  - 6.925735215190798e-05\n",
       "</pre>"
      ],
      "text/plain": [
       "<IPython.core.display.HTML object>"
      ]
     },
     "execution_count": 12,
     "metadata": {},
     "output_type": "execute_result"
    }
   ],
   "source": [
    "%%ml predict --model iris.v1 --metadata /content/datalab/ml/iris/preprocessed/metadata.yaml --label predictions --cloud\n",
    "{\"key\": 107, \"sepal_length\": 4.9, \"sepal_width\": 2.5, \"petal_length\": 4.5, \"petal_width\": 1.7}\n",
    "{\"key\": 100, \"sepal_length\": 5.7, \"sepal_width\": 2.8, \"petal_length\": 4.1, \"petal_width\": 1.3}\n",
    "{\"key\": 99, \"sepal_length\": 5.1, \"sepal_width\": 2.5, \"petal_length\": 3, \"petal_width\": 1.1}\n",
    "{\"key\": 13, \"sepal_length\": 4.8, \"sepal_width\": 3, \"petal_length\": 1.4, \"petal_width\": 0.1}\n",
    "{\"key\": 70, \"sepal_length\": 5.6, \"sepal_width\": 2.5, \"petal_length\": 3.9, \"petal_width\": 1.1}"
   ]
  },
  {
   "cell_type": "markdown",
   "metadata": {},
   "source": [
    "Note that first time online prediction is slow since it needs to copy model files. Subsequent requests handling should be much faster."
   ]
  },
  {
   "cell_type": "markdown",
   "metadata": {},
   "source": [
    "You can also use pandas DataFrame as input data."
   ]
  },
  {
   "cell_type": "code",
   "execution_count": 13,
   "metadata": {
    "collapsed": true
   },
   "outputs": [],
   "source": [
    "input_data = [{\"key\": 107, \"sepal_length\": 4.9, \"sepal_width\": 2.5, \"petal_length\": 4.5, \"petal_width\": 1.7},\n",
    "              {\"key\": 100, \"sepal_length\": 5.7, \"sepal_width\": 2.8, \"petal_length\": 4.1, \"petal_width\": 1.3}]"
   ]
  },
  {
   "cell_type": "code",
   "execution_count": 14,
   "metadata": {
    "collapsed": false
   },
   "outputs": [
    {
     "data": {
      "text/html": [
       "<pre>- predictions: Iris-versicolor (1)\n",
       "  score:\n",
       "  - 0.0024976972490549088\n",
       "  - 0.8976318836212158\n",
       "  - 0.09987031668424606\n",
       "- predictions: Iris-versicolor (1)\n",
       "  score:\n",
       "  - 0.00022882726625539362\n",
       "  - 0.9996562004089355\n",
       "  - 0.00011494827776914462\n",
       "</pre>"
      ],
      "text/plain": [
       "<IPython.core.display.HTML object>"
      ]
     },
     "execution_count": 14,
     "metadata": {},
     "output_type": "execute_result"
    }
   ],
   "source": [
    "%%ml predict --model /content/datalab/ml/iris/model3000/model --metadata /content/datalab/ml/iris/preprocessed/metadata.yaml --label predictions --data input_data"
   ]
  },
  {
   "cell_type": "code",
   "execution_count": null,
   "metadata": {
    "collapsed": true
   },
   "outputs": [],
   "source": []
  }
 ],
 "metadata": {
  "kernelspec": {
   "display_name": "Python 2",
   "language": "python",
   "name": "python2"
  },
  "language_info": {
   "codemirror_mode": {
    "name": "ipython",
    "version": 2
   },
   "file_extension": ".py",
   "mimetype": "text/x-python",
   "name": "python",
   "nbconvert_exporter": "python",
   "pygments_lexer": "ipython2",
   "version": "2.7.9"
  }
 },
 "nbformat": 4,
 "nbformat_minor": 1
}
