{
 "cells": [
  {
   "cell_type": "markdown",
   "metadata": {},
   "source": [
    "## Deployment\n",
    "\n",
    "Once you are happy with a trained model, you can upload the model so it can serve online prediction requests."
   ]
  },
  {
   "cell_type": "code",
   "execution_count": 2,
   "metadata": {
    "collapsed": true
   },
   "outputs": [],
   "source": [
    "import os\n",
    "\n",
    "bucket = 'gs://' + datalab_project_id() + '-sampledata'\n",
    "model_path = os.path.join(bucket, 'iris', 'trained', 'model')"
   ]
  },
  {
   "cell_type": "code",
   "execution_count": 5,
   "metadata": {
    "collapsed": false
   },
   "outputs": [],
   "source": [
    "%ml deploy --name iris.v1 --path $model_path"
   ]
  },
  {
   "cell_type": "markdown",
   "metadata": {},
   "source": [
    "Listing models under current project and view a model details."
   ]
  },
  {
   "cell_type": "code",
   "execution_count": 6,
   "metadata": {
    "collapsed": false
   },
   "outputs": [
    {
     "data": {
      "text/html": [
       "<table><tr><th>name</th></tr><tr><td>projects/cloud-ml-test-automated/models/census</td></tr><tr><td>projects/cloud-ml-test-automated/models/iris</td></tr><tr><td>projects/cloud-ml-test-automated/models/model_service_test_84bcc7dc_6e0d_11e6_b9af_94eb2c046e56</td></tr><tr><td>projects/cloud-ml-test-automated/models/model_service_test_8526c5b3_6e0d_11e6_b1ff_94eb2c046e56</td></tr></table>"
      ],
      "text/plain": [
       "<IPython.core.display.HTML object>"
      ]
     },
     "execution_count": 6,
     "metadata": {},
     "output_type": "execute_result"
    }
   ],
   "source": [
    "%ml model"
   ]
  },
  {
   "cell_type": "code",
   "execution_count": 7,
   "metadata": {
    "collapsed": false
   },
   "outputs": [
    {
     "data": {
      "text/html": [
       "<pre>{createTime: '2016-08-31T20:37:41.000Z', deploymentUri: 'gs://cloud-ml-test-automated-sampledata/iris/trained/model',\n",
       "  isDefault: true, name: projects/cloud-ml-test-automated/models/iris/versions/v1}\n",
       "</pre>"
      ],
      "text/plain": [
       "<IPython.core.display.HTML object>"
      ]
     },
     "execution_count": 7,
     "metadata": {},
     "output_type": "execute_result"
    }
   ],
   "source": [
    "%ml model --name iris.v1"
   ]
  },
  {
   "cell_type": "markdown",
   "metadata": {},
   "source": [
    "## Prediction\n",
    "\n",
    "For local models, you can send requests to it without uploading the model. Note that metadata is needed to preprocess the input data on the fly. \"--label\" specifies which output in the prediction graph is label and needs to be converted from int to label. If not specified, that output will not be converted so will stay as int."
   ]
  },
  {
   "cell_type": "code",
   "execution_count": 1,
   "metadata": {
    "collapsed": false
   },
   "outputs": [
    {
     "data": {
      "text/html": [
       "<pre>- predictions: Iris-versicolor (1)\n",
       "  score:\n",
       "  - 0.23488451540470123\n",
       "  - 0.5432659983634949\n",
       "  - 0.2218494713306427\n",
       "- predictions: Iris-versicolor (1)\n",
       "  score:\n",
       "  - 0.22066766023635864\n",
       "  - 0.5421543121337891\n",
       "  - 0.23717796802520752\n",
       "- predictions: Iris-versicolor (1)\n",
       "  score:\n",
       "  - 0.3694055378437042\n",
       "  - 0.509781539440155\n",
       "  - 0.12081287056207657\n",
       "- predictions: Iris-setosa (0)\n",
       "  score:\n",
       "  - 0.9259026646614075\n",
       "  - 0.06275677680969238\n",
       "  - 0.011340528726577759\n",
       "- predictions: Iris-versicolor (1)\n",
       "  score:\n",
       "  - 0.2953741252422333\n",
       "  - 0.535615861415863\n",
       "  - 0.16901004314422607\n",
       "</pre>"
      ],
      "text/plain": [
       "<IPython.core.display.HTML object>"
      ]
     },
     "execution_count": 1,
     "metadata": {},
     "output_type": "execute_result"
    }
   ],
   "source": [
    "%%ml predict --model /content/datalab/tmp/ml/iris/model/model --metadata /content/datalab/tmp/ml/iris/preprocessed/metadata.yaml --label predictions\n",
    "{\"key\": 107, \"sepal_length\": 4.9, \"sepal_width\": 2.5, \"petal_length\": 4.5, \"petal_width\": 1.7}\n",
    "{\"key\": 100, \"sepal_length\": 5.7, \"sepal_width\": 2.8, \"petal_length\": 4.1, \"petal_width\": 1.3}\n",
    "{\"key\": 99, \"sepal_length\": 5.1, \"sepal_width\": 2.5, \"petal_length\": 3, \"petal_width\": 1.1}\n",
    "{\"key\": 13, \"sepal_length\": 4.8, \"sepal_width\": 3, \"petal_length\": 1.4, \"petal_width\": 0.1}\n",
    "{\"key\": 70, \"sepal_length\": 5.6, \"sepal_width\": 2.5, \"petal_length\": 3.9, \"petal_width\": 1.1}"
   ]
  },
  {
   "cell_type": "markdown",
   "metadata": {},
   "source": [
    "Note that first time online prediction is slow since it needs to copy model files. Subsequent requests handling should be much faster."
   ]
  },
  {
   "cell_type": "markdown",
   "metadata": {},
   "source": [
    "You can also use pandas DataFrame as input data."
   ]
  },
  {
   "cell_type": "code",
   "execution_count": 2,
   "metadata": {
    "collapsed": true
   },
   "outputs": [],
   "source": [
    "input_data = [{\"key\": 107, \"sepal_length\": 4.9, \"sepal_width\": 2.5, \"petal_length\": 4.5, \"petal_width\": 1.7},\n",
    "              {\"key\": 100, \"sepal_length\": 5.7, \"sepal_width\": 2.8, \"petal_length\": 4.1, \"petal_width\": 1.3}]"
   ]
  },
  {
   "cell_type": "code",
   "execution_count": 3,
   "metadata": {
    "collapsed": false
   },
   "outputs": [
    {
     "data": {
      "text/html": [
       "<pre>- predictions: Iris-versicolor (1)\n",
       "  score:\n",
       "  - 0.23488451540470123\n",
       "  - 0.5432659983634949\n",
       "  - 0.2218494713306427\n",
       "- predictions: Iris-versicolor (1)\n",
       "  score:\n",
       "  - 0.22066766023635864\n",
       "  - 0.5421543121337891\n",
       "  - 0.2371779829263687\n",
       "</pre>"
      ],
      "text/plain": [
       "<IPython.core.display.HTML object>"
      ]
     },
     "execution_count": 3,
     "metadata": {},
     "output_type": "execute_result"
    }
   ],
   "source": [
    "%%ml predict --model /content/datalab/tmp/ml/iris/model/model --metadata /content/datalab/tmp/ml/iris/preprocessed/metadata.yaml --label predictions --data input_data"
   ]
  },
  {
   "cell_type": "markdown",
   "metadata": {},
   "source": [
    "## Cloud Prediction\n",
    "\n",
    "We are working on cloud online prediction and will release the service soon."
   ]
  },
  {
   "cell_type": "code",
   "execution_count": null,
   "metadata": {
    "collapsed": true
   },
   "outputs": [],
   "source": []
  }
 ],
 "metadata": {
  "kernelspec": {
   "display_name": "Python 2",
   "language": "python",
   "name": "python2"
  },
  "language_info": {
   "codemirror_mode": {
    "name": "ipython",
    "version": 2
   },
   "file_extension": ".py",
   "mimetype": "text/x-python",
   "name": "python",
   "nbconvert_exporter": "python",
   "pygments_lexer": "ipython2",
   "version": "2.7.9"
  }
 },
 "nbformat": 4,
 "nbformat_minor": 1
}
