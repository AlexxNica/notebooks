{
 "cells": [
  {
   "cell_type": "markdown",
   "metadata": {},
   "source": [
    "## Deployment\n",
    "\n",
    "Once you are happy with a trained model, you can upload the model so it can serve online prediction requests."
   ]
  },
  {
   "cell_type": "code",
   "execution_count": 11,
   "metadata": {
    "collapsed": true
   },
   "outputs": [],
   "source": [
    "import os\n",
    "\n",
    "bucket = 'gs://' + datalab_project_id() + '-sampledata'\n",
    "model_path = os.path.join(bucket, 'iris', 'trained', 'model')"
   ]
  },
  {
   "cell_type": "code",
   "execution_count": 12,
   "metadata": {
    "collapsed": false
   },
   "outputs": [],
   "source": [
    "%ml deploy --name iris.v2 --path $model_path"
   ]
  },
  {
   "cell_type": "markdown",
   "metadata": {},
   "source": [
    "Listing models under current project and view a model details."
   ]
  },
  {
   "cell_type": "code",
   "execution_count": 3,
   "metadata": {
    "collapsed": false
   },
   "outputs": [
    {
     "data": {
      "text/html": [
       "<table><tr><th>name</th></tr><tr><td>projects/cloud-ml-test-automated/models/batchpredict_5c1626fa_7c35_11e6_8774_94eb2c0b8800</td></tr><tr><td>projects/cloud-ml-test-automated/models/batchpredict_b360e247_7d60_11e6_91b2_001a114f8c56</td></tr><tr><td>projects/cloud-ml-test-automated/models/iris</td></tr><tr><td>projects/cloud-ml-test-automated/models/model_service_test_1cda2fcf_7f58_11e6_a965_94eb2c18de50</td></tr><tr><td>projects/cloud-ml-test-automated/models/model_service_test_3b82fb82_7d61_11e6_84d2_001a114f8c56</td></tr><tr><td>projects/cloud-ml-test-automated/models/model_service_test_66120de8_7dc5_11e6_91ea_001a114f8c56</td></tr><tr><td>projects/cloud-ml-test-automated/models/model_service_test_7015bf70_7e2a_11e6_acec_001a114f8c56</td></tr><tr><td>projects/cloud-ml-test-automated/models/model_service_test_740e0fbd_7cfc_11e6_a0cf_001a114f8c56</td></tr><tr><td>projects/cloud-ml-test-automated/models/model_service_test_ab612c87_7c34_11e6_a882_94eb2c0b8800</td></tr><tr><td>projects/cloud-ml-test-automated/models/model_service_test_afeb4cfd_7e8f_11e6_a0b6_94eb2c18c08a</td></tr><tr><td>projects/cloud-ml-test-automated/models/model_service_test_ce285e7a_7c97_11e6_bd6d_94eb2c13b91e</td></tr><tr><td>projects/cloud-ml-test-automated/models/model_service_test_db4e4145_7ef3_11e6_a257_94eb2c0ba048</td></tr></table>"
      ],
      "text/plain": [
       "<IPython.core.display.HTML object>"
      ]
     },
     "execution_count": 3,
     "metadata": {},
     "output_type": "execute_result"
    }
   ],
   "source": [
    "%ml model"
   ]
  },
  {
   "cell_type": "code",
   "execution_count": 1,
   "metadata": {
    "collapsed": false
   },
   "outputs": [
    {
     "data": {
      "text/html": [
       "<pre>{createTime: '2016-09-21T23:00:55.000Z', deploymentUri: 'gs://cloud-ml-test-automated-sampledata/iris/trained/model',\n",
       "  lastUseTime: '2016-09-21T23:07:19.000Z', name: projects/cloud-ml-test-automated/models/iris/versions/v2}\n",
       "</pre>"
      ],
      "text/plain": [
       "<IPython.core.display.HTML object>"
      ]
     },
     "execution_count": 1,
     "metadata": {},
     "output_type": "execute_result"
    }
   ],
   "source": [
    "%ml model --name iris.v2"
   ]
  },
  {
   "cell_type": "markdown",
   "metadata": {},
   "source": [
    "## Prediction\n",
    "\n",
    "For local models, you can send requests to it without uploading the model. \"--label\" specifies which output field in the prediction graph is label and needs to be converted from int to label. If not specified, that output will not be converted so will stay as int.\n",
    "\n",
    "The input data should be in the same format as the training data, except that it should not include the target column."
   ]
  },
  {
   "cell_type": "code",
   "execution_count": 1,
   "metadata": {
    "collapsed": false
   },
   "outputs": [
    {
     "data": {
      "text/html": [
       "<pre>- predictions: Iris-versicolor (1)\n",
       "  score:\n",
       "  - 0.000153006796608679\n",
       "  - 0.7317665219306946\n",
       "  - 0.2680804431438446\n",
       "- predictions: Iris-versicolor (1)\n",
       "  score:\n",
       "  - 0.0002413893089396879\n",
       "  - 0.999502420425415\n",
       "  - 0.00025611548335291445\n",
       "- predictions: Iris-setosa (0)\n",
       "  score:\n",
       "  - 0.9998525381088257\n",
       "  - 0.00014743780775461346\n",
       "  - 1.226163726109064e-09\n",
       "- predictions: Iris-virginica (2)\n",
       "  score:\n",
       "  - 5.626417998172428e-09\n",
       "  - 3.5943784837400017e-07\n",
       "  - 0.9999996423721313\n",
       "</pre>"
      ],
      "text/plain": [
       "<IPython.core.display.HTML object>"
      ]
     },
     "execution_count": 1,
     "metadata": {},
     "output_type": "execute_result"
    }
   ],
   "source": [
    "%%ml predict --model /content/datalab/tmp/ml/iris/model/model --label predictions\n",
    "107,4.9,2.5,4.5,1.7\n",
    "100,5.7,2.8,4.1,1.3\n",
    "40,5.1,3.4,1.5,0.2\n",
    "101,6.3,3.3,6,2.5"
   ]
  },
  {
   "cell_type": "markdown",
   "metadata": {},
   "source": [
    "You can also use variable to predict."
   ]
  },
  {
   "cell_type": "code",
   "execution_count": 14,
   "metadata": {
    "collapsed": true
   },
   "outputs": [],
   "source": [
    "input_data = ['107, 4.9, 2.5, 4.5, 1.7', '101, 6.3, 3.3, 6, 2.5']"
   ]
  },
  {
   "cell_type": "code",
   "execution_count": 15,
   "metadata": {
    "collapsed": false
   },
   "outputs": [
    {
     "data": {
      "text/html": [
       "<pre>- predictions: Iris-versicolor (1)\n",
       "  score:\n",
       "  - 0.00015300678205676377\n",
       "  - 0.7317664623260498\n",
       "  - 0.268080472946167\n",
       "- predictions: Iris-virginica (2)\n",
       "  score:\n",
       "  - 5.626417998172428e-09\n",
       "  - 3.5943784837400017e-07\n",
       "  - 0.9999996423721313\n",
       "</pre>"
      ],
      "text/plain": [
       "<IPython.core.display.HTML object>"
      ]
     },
     "execution_count": 15,
     "metadata": {},
     "output_type": "execute_result"
    }
   ],
   "source": [
    "%%ml predict --model /content/datalab/tmp/ml/iris/model/model --label predictions --data input_data"
   ]
  },
  {
   "cell_type": "markdown",
   "metadata": {},
   "source": [
    "## Cloud Prediction\n",
    "\n",
    "We are working on cloud online prediction and will release the service soon."
   ]
  },
  {
   "cell_type": "code",
   "execution_count": null,
   "metadata": {
    "collapsed": true
   },
   "outputs": [],
   "source": []
  }
 ],
 "metadata": {
  "kernelspec": {
   "display_name": "Python 2",
   "language": "python",
   "name": "python2"
  },
  "language_info": {
   "codemirror_mode": {
    "name": "ipython",
    "version": 2
   },
   "file_extension": ".py",
   "mimetype": "text/x-python",
   "name": "python",
   "nbconvert_exporter": "python",
   "pygments_lexer": "ipython2",
   "version": "2.7.9"
  }
 },
 "nbformat": 4,
 "nbformat_minor": 1
}
