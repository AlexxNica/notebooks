{
 "cells": [
  {
   "cell_type": "markdown",
   "metadata": {},
   "source": [
    "## Training\n",
    "\n",
    "Training requires a tarball python package that includes your training program based on TensorFlow. While CloudML provides several generic purpose model training, for this sample we will use a package that is used to train Iris sample."
   ]
  },
  {
   "cell_type": "markdown",
   "metadata": {},
   "source": [
    "### Local Training\n",
    "\n",
    "First copy the package to local."
   ]
  },
  {
   "cell_type": "code",
   "execution_count": 14,
   "metadata": {
    "collapsed": false
   },
   "outputs": [
    {
     "name": "stdout",
     "output_type": "stream",
     "text": [
      "Copying gs://cloud-datalab/sampledata/ml/iris/trainer-0.1.tar.gz...\n",
      "Downloading file:///content/datalab/ml/iris/trainer-0.1.tar.gz:  6.98 KiB/6.98 KiB    \n"
     ]
    }
   ],
   "source": [
    "!gsutil cp gs://cloud-datalab/sampledata/ml/iris/trainer-0.1.tar.gz /content/datalab/ml/iris/"
   ]
  },
  {
   "cell_type": "markdown",
   "metadata": {},
   "source": [
    "Run \"%ml train\" to generate the training cell template."
   ]
  },
  {
   "cell_type": "code",
   "execution_count": null,
   "metadata": {
    "collapsed": true
   },
   "outputs": [],
   "source": [
    "%%ml train\n",
    "trainer_uri: REQUIRED_Fill_In_Gcs_or_Local_Path\n",
    "module_name: REQUIRED_Fill_In\n",
    "master_spec:\n",
    "  replica_count: 1\n",
    "worker_spec:\n",
    "  replica_count: 1\n",
    "ps_spec:\n",
    "  replica_count: 1\n",
    "train_data_paths:\n",
    "  - Fill_In_Gcs_or_Local_Path\n",
    "eval_data_paths:\n",
    "  - Fill_In_Gcs_or_Local_Path\n",
    "metadata_path: REQUIRED_Fill_In_Gcs_or_Local_Path\n",
    "output_path: REQUIRED_Fill_In_Gcs_or_Local_Path\n",
    "job_args: Your_Program_Args_Goes_Here\n"
   ]
  },
  {
   "cell_type": "markdown",
   "metadata": {},
   "source": [
    "Fill in the required fields and run. <br>\n",
    "Datalab will simulate the CloudML service by creating master, worker, and ps processes (in cloud they are different VMs) to perform a distributed training, although all these processes run in the local container VM.<br>\n",
    "You can set replica_count to 0 to not using a certain job type, such as ps. But master is required.<br>\n",
    "The output of the training will be links to the processes output logs, and also refreshed every 3 seconds to show last few lines of the logs. You can use the local run to quickly validate your training program and parameters before submitting it to cloud to do large scale training.<br>\n",
    "If for any reasons the training is stuck, just click \"Reset Session\" to reset the kernel. All training processes will be cleaned up.\n"
   ]
  },
  {
   "cell_type": "code",
   "execution_count": 17,
   "metadata": {
    "collapsed": false
   },
   "outputs": [
    {
     "data": {
      "text/html": [
       "<p>Job Running...</p>"
      ]
     },
     "metadata": {},
     "output_type": "display_data"
    },
    {
     "data": {
      "text/html": [
       "<a href=\"worker\" target=\"_blank\">worker log</a>&nbsp;&nbsp;<a href=\"master\" target=\"_blank\">master log</a>&nbsp;&nbsp;<a href=\"ps\" target=\"_blank\">ps log</a>&nbsp;&nbsp;"
      ]
     },
     "metadata": {},
     "output_type": "display_data"
    },
    {
     "data": {
      "text/html": [
       "master: Step 1200: loss = 0.02 (0.012 sec)<br/>master: <br/>master: Step 1300: loss = 0.05 (0.014 sec)<br/>master: Step 1400: loss = 0.04 (0.011 sec)<br/>master: <br/>master: Step 1500: loss = 0.05 (0.012 sec)<br/>master: Step 1600: loss = 0.04 (0.012 sec)<br/>master: <br/>master: Step 1700: loss = 0.01 (0.010 sec)<br/>master: Step 1800: loss = 0.11 (0.012 sec)<br/>master: Step 1900: loss = 0.00 (0.015 sec)<br/>master: <br/>master: Step 2000: loss = 0.11 (0.013 sec)<br/>master: Final accuracy after 2000 steps = 0.875<br/>master: <br/>master: Done training.<br/>master: <br/>worker: E0818 06:07:17.995600055  102922 tcp_client_posix.c:173]     failed to connect to 'ipv6:[::1]:50819': socket error: connection refused<br/>worker: E0818 06:07:17.995706205  102922 tcp_client_posix.c:173]     failed to connect to 'ipv4:127.0.0.1:50819': socket error: connection refused<br/>worker: "
      ]
     },
     "metadata": {},
     "output_type": "display_data"
    },
    {
     "data": {
      "text/html": [
       "<p>Job Finished.</p>"
      ]
     },
     "metadata": {},
     "output_type": "display_data"
    }
   ],
   "source": [
    "%ml train\n",
    "trainer_uri: /content/datalab/ml/iris/trainer-0.1.tar.gz\n",
    "module_name: trainer.task\n",
    "master_spec:\n",
    "  replica_count: 1\n",
    "worker_spec:\n",
    "  replica_count: 1\n",
    "ps_spec:\n",
    "  replica_count: 1\n",
    "train_data_paths:\n",
    "  - /content/datalab/ml/iris/preprocessed/features_train-00000-of-00001\n",
    "eval_data_paths:\n",
    "  - /content/datalab/ml/iris/preprocessed/features_eval-00000-of-00001\n",
    "metadata_path: /content/datalab/ml/iris/preprocessed/metadata.yaml\n",
    "output_path: /content/datalab/ml/iris/model"
   ]
  },
  {
   "cell_type": "markdown",
   "metadata": {},
   "source": [
    "Check the output of the training. \"model\" dir includes the model file (last checkpoint, graph metadata, etc). \"summaries\" dir includes summary events."
   ]
  },
  {
   "cell_type": "code",
   "execution_count": 9,
   "metadata": {
    "collapsed": false
   },
   "outputs": [
    {
     "name": "stdout",
     "output_type": "stream",
     "text": [
      "eval  logdir  model  summaries\r\n"
     ]
    }
   ],
   "source": [
    "!ls /content/datalab/ml/iris/model"
   ]
  },
  {
   "cell_type": "markdown",
   "metadata": {},
   "source": [
    "You can start TensorBoard to view training results."
   ]
  },
  {
   "cell_type": "code",
   "execution_count": 25,
   "metadata": {
    "collapsed": false
   },
   "outputs": [
    {
     "data": {
      "text/html": [
       "<p>TensorBoard was started successfully with pid 129581. Click <a href=\"/_proxy/43293/\" target=\"_blank\">here</a> to access it.</p>"
      ],
      "text/plain": [
       "<IPython.core.display.HTML object>"
      ]
     },
     "execution_count": 25,
     "metadata": {},
     "output_type": "execute_result"
    }
   ],
   "source": [
    "%tensorboard start --logdir /content/datalab/ml/iris/model/"
   ]
  },
  {
   "cell_type": "markdown",
   "metadata": {},
   "source": [
    "Shut down the tensorboard server."
   ]
  },
  {
   "cell_type": "code",
   "execution_count": 26,
   "metadata": {
    "collapsed": true
   },
   "outputs": [],
   "source": [
    "%tensorboard stop --pid 129581"
   ]
  },
  {
   "cell_type": "markdown",
   "metadata": {},
   "source": [
    "Let's train another one for fun (with steps equal to 3000). \"max_steps\" is an arg defined in training program in the package."
   ]
  },
  {
   "cell_type": "code",
   "execution_count": 18,
   "metadata": {
    "collapsed": false
   },
   "outputs": [
    {
     "data": {
      "text/html": [
       "<p>Job Running...</p>"
      ]
     },
     "metadata": {},
     "output_type": "display_data"
    },
    {
     "data": {
      "text/html": [
       "<a href=\"worker\" target=\"_blank\">worker log</a>&nbsp;&nbsp;<a href=\"master\" target=\"_blank\">master log</a>&nbsp;&nbsp;<a href=\"ps\" target=\"_blank\">ps log</a>&nbsp;&nbsp;"
      ]
     },
     "metadata": {},
     "output_type": "display_data"
    },
    {
     "data": {
      "text/html": [
       "master: Step 1300: loss = 0.05 (0.011 sec)<br/>master: Step 1500: loss = 0.05 (0.012 sec)<br/>master: <br/>master: Step 1700: loss = 0.11 (0.012 sec)<br/>master: Step 1800: loss = 0.02 (0.011 sec)<br/>master: Step 1900: loss = 0.05 (0.012 sec)<br/>master: <br/>master: Step 2100: loss = 0.11 (0.009 sec)<br/>master: Step 2200: loss = 0.01 (0.012 sec)<br/>master: Step 2400: loss = 0.01 (0.009 sec)<br/>master: <br/>master: Step 2700: loss = 0.00 (0.012 sec)<br/>master: Step 2800: loss = 0.02 (0.012 sec)<br/>master: Step 3000: loss = 0.01 (0.012 sec)<br/>master: Final accuracy after 3000 steps = 0.875<br/>master: <br/>master: Done training.<br/>master: <br/>worker: Done training.<br/>worker: "
      ]
     },
     "metadata": {},
     "output_type": "display_data"
    },
    {
     "data": {
      "text/html": [
       "<p>Job Finished.</p>"
      ]
     },
     "metadata": {},
     "output_type": "display_data"
    }
   ],
   "source": [
    "%ml train\n",
    "trainer_uri: /content/datalab/ml/iris/trainer-0.1.tar.gz\n",
    "module_name: trainer.task\n",
    "master_spec:\n",
    "  replica_count: 1\n",
    "worker_spec:\n",
    "  replica_count: 1\n",
    "ps_spec:\n",
    "  replica_count: 1\n",
    "train_data_paths:\n",
    "  - /content/datalab/ml/iris/preprocessed/features_train-00000-of-00001\n",
    "eval_data_paths:\n",
    "  - /content/datalab/ml/iris/preprocessed/features_eval-00000-of-00001\n",
    "metadata_path: /content/datalab/ml/iris/preprocessed/metadata.yaml\n",
    "output_path: /content/datalab/ml/iris/model3000\n",
    "job_args:\n",
    "  - '--max_steps'\n",
    "  - '3000'"
   ]
  },
  {
   "cell_type": "markdown",
   "metadata": {},
   "source": [
    "### Cloud Training\n",
    "\n",
    "Cloud training is similar but with \"--cloud\" flag, and use all GCS paths instead of local paths. <br>\n",
    "You also need to make sure you have a project whitelisted for CloudML, and use \"%projects set project-id\" to set it."
   ]
  },
  {
   "cell_type": "code",
   "execution_count": 28,
   "metadata": {
    "collapsed": false
   },
   "outputs": [
    {
     "name": "stdout",
     "output_type": "stream",
     "text": [
      "Copying file:///content/datalab/ml/iris/trainer-0.1.tar.gz [Content-Type=application/x-tar]...\n",
      "Uploading   ...tomated-sampledata/iris/model/trainer-0.1.tar.gz: 6.98 KiB/6.98 KiB    \n"
     ]
    }
   ],
   "source": [
    "!gsutil cp /content/datalab/ml/iris/trainer-0.1.tar.gz gs://cloud-ml-test-automated-sampledata/iris/model/trainer-0.1.tar.gz"
   ]
  },
  {
   "cell_type": "code",
   "execution_count": 6,
   "metadata": {
    "collapsed": false
   },
   "outputs": [
    {
     "data": {
      "text/html": [
       "<p>Job \"trainer_task_160818_071848\" was submitted successfully.<br/>Run \"%ml jobs --name trainer_task_160818_071848\" to view the status of the job.</p><p>Click <a href=\"https://console.developers.google.com/logs/viewer?project=cloud-ml-test-automated&resource=ml.googleapis.com%2Fjob_id%2Ftrainer_task_160818_071848\" target=\"_blank\">here</a> to view cloud log. <br/>Start TensorBoard by running \"%tensorboard start --logdir=&lt;YourLogDir&gt;\".</p>"
      ],
      "text/plain": [
       "<IPython.core.display.HTML object>"
      ]
     },
     "execution_count": 6,
     "metadata": {},
     "output_type": "execute_result"
    }
   ],
   "source": [
    "%ml train --cloud\n",
    "trainer_uri: gs://cloud-ml-test-automated-sampledata/iris/model/trainer-0.1.tar.gz\n",
    "module_name: trainer.task\n",
    "master_spec:\n",
    "  replica_count: 1\n",
    "worker_spec:\n",
    "  replica_count: 1\n",
    "ps_spec:\n",
    "  replica_count: 1\n",
    "train_data_paths:\n",
    "  - gs://cloud-ml-test-automated-sampledata/iris/preprocessing/features_train-00000-of-00004\n",
    "  - gs://cloud-ml-test-automated-sampledata/iris/preprocessing/features_train-00001-of-00004\n",
    "  - gs://cloud-ml-test-automated-sampledata/iris/preprocessing/features_train-00002-of-00004\n",
    "  - gs://cloud-ml-test-automated-sampledata/iris/preprocessing/features_train-00003-of-00004\n",
    "eval_data_paths:\n",
    "  - gs://cloud-ml-test-automated-sampledata/iris/preprocessing/features_eval-00000-of-00003\n",
    "  - gs://cloud-ml-test-automated-sampledata/iris/preprocessing/features_eval-00001-of-00003\n",
    "  - gs://cloud-ml-test-automated-sampledata/iris/preprocessing/features_eval-00002-of-00003\n",
    "metadata_path: gs://cloud-ml-test-automated-sampledata/iris/preprocessing/metadata.yaml\n",
    "output_path: gs://cloud-ml-test-automated-sampledata/iris/trainedmodel"
   ]
  },
  {
   "cell_type": "markdown",
   "metadata": {},
   "source": [
    "View the job status. (Also, run \"%ml jobs --active\" to see all active ML jobs in that project)"
   ]
  },
  {
   "cell_type": "code",
   "execution_count": 7,
   "metadata": {
    "collapsed": false
   },
   "outputs": [
    {
     "data": {
      "text/html": [
       "<pre>metadata:\n",
       "  '@type': type.googleapis.com/google.cloud.ml.v1alpha3.JobMetadata\n",
       "  createTime: '2016-08-18T07:18:50.000Z'\n",
       "  jobState: PREPARING\n",
       "  trainingRequest:\n",
       "    evalDataPaths: ['gs://cloud-ml-test-automated-sampledata/iris/preprocessing/features_eval-00000-of-00003',\n",
       "      'gs://cloud-ml-test-automated-sampledata/iris/preprocessing/features_eval-00001-of-00003',\n",
       "      'gs://cloud-ml-test-automated-sampledata/iris/preprocessing/features_eval-00002-of-00003']\n",
       "    jobName: trainer_task_160818_071848\n",
       "    masterSpec:\n",
       "      replicaCount: '1'\n",
       "      resources: {cpus: '4', ram: '6442450944'}\n",
       "    metadataPath: gs://cloud-ml-test-automated-sampledata/iris/preprocessing/metadata.yaml\n",
       "    moduleName: trainer.task\n",
       "    outputPath: gs://cloud-ml-test-automated-sampledata/iris/trainedmodel\n",
       "    parent: projects/cloud-ml-test-automated\n",
       "    psSpec:\n",
       "      replicaCount: '1'\n",
       "      resources: {cpus: '4', ram: '6442450944'}\n",
       "    trainDataPaths: ['gs://cloud-ml-test-automated-sampledata/iris/preprocessing/features_train-00000-of-00004',\n",
       "      'gs://cloud-ml-test-automated-sampledata/iris/preprocessing/features_train-00001-of-00004',\n",
       "      'gs://cloud-ml-test-automated-sampledata/iris/preprocessing/features_train-00002-of-00004',\n",
       "      'gs://cloud-ml-test-automated-sampledata/iris/preprocessing/features_train-00003-of-00004']\n",
       "    trainerUri: ['gs://cloud-ml-test-automated-sampledata/iris/model/trainer-0.1.tar.gz']\n",
       "    workerSpec:\n",
       "      replicaCount: '1'\n",
       "      resources: {cpus: '4', ram: '6442450944'}\n",
       "name: projects/cloud-ml-test-automated/operations/trainer_task_160818_071848\n",
       "</pre>"
      ],
      "text/plain": [
       "<IPython.core.display.HTML object>"
      ]
     },
     "execution_count": 7,
     "metadata": {},
     "output_type": "execute_result"
    }
   ],
   "source": [
    "%ml jobs --name trainer_task_160818_071848"
   ]
  },
  {
   "cell_type": "markdown",
   "metadata": {},
   "source": [
    "View the trained model:"
   ]
  },
  {
   "cell_type": "code",
   "execution_count": 8,
   "metadata": {
    "collapsed": false
   },
   "outputs": [
    {
     "name": "stdout",
     "output_type": "stream",
     "text": [
      "gs://cloud-ml-test-automated-sampledata/iris/trainedmodel/eval/\r\n",
      "gs://cloud-ml-test-automated-sampledata/iris/trainedmodel/logdir/\r\n",
      "gs://cloud-ml-test-automated-sampledata/iris/trainedmodel/model/\r\n",
      "gs://cloud-ml-test-automated-sampledata/iris/trainedmodel/summaries/\r\n"
     ]
    }
   ],
   "source": [
    "!gsutil ls gs://cloud-ml-test-automated-sampledata/iris/trainedmodel"
   ]
  },
  {
   "cell_type": "markdown",
   "metadata": {},
   "source": [
    "TensorBoard works with GCS path so it works with Cloud training too."
   ]
  },
  {
   "cell_type": "code",
   "execution_count": null,
   "metadata": {
    "collapsed": true
   },
   "outputs": [],
   "source": []
  }
 ],
 "metadata": {
  "kernelspec": {
   "display_name": "Python 2",
   "language": "python",
   "name": "python2"
  },
  "language_info": {
   "codemirror_mode": {
    "name": "ipython",
    "version": 2
   },
   "file_extension": ".py",
   "mimetype": "text/x-python",
   "name": "python",
   "nbconvert_exporter": "python",
   "pygments_lexer": "ipython2",
   "version": "2.7.9"
  }
 },
 "nbformat": 4,
 "nbformat_minor": 1
}
