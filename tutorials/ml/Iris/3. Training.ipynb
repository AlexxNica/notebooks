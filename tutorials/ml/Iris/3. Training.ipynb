{
 "cells": [
  {
   "cell_type": "markdown",
   "metadata": {},
   "source": [
    "## Training\n",
    "\n",
    "Training requires a tarball python package that includes your training program based on TensorFlow. While CloudML provides several generic purpose model training, for this sample we will use a package that is used to train Iris sample."
   ]
  },
  {
   "cell_type": "markdown",
   "metadata": {},
   "source": [
    "### Local Training\n",
    "\n",
    "First copy the package to local."
   ]
  },
  {
   "cell_type": "code",
   "execution_count": 1,
   "metadata": {
    "collapsed": false
   },
   "outputs": [
    {
     "name": "stdout",
     "output_type": "stream",
     "text": [
      "Copying gs://cloud-datalab/sampledata/ml/iris/trainer-0.3.tar.gz...\n",
      "Downloading ...//content/datalab/tmp/ml/iris/trainer-0.3.tar.gz: 7.32 KiB/7.32 KiB    \n"
     ]
    }
   ],
   "source": [
    "!gsutil cp gs://cloud-datalab/sampledata/ml/iris/trainer-0.3.tar.gz /content/datalab/tmp/ml/iris"
   ]
  },
  {
   "cell_type": "markdown",
   "metadata": {},
   "source": [
    "Run \"%ml train\" to generate the training cell template."
   ]
  },
  {
   "cell_type": "code",
   "execution_count": null,
   "metadata": {
    "collapsed": false
   },
   "outputs": [],
   "source": [
    "%%ml train"
   ]
  },
  {
   "cell_type": "markdown",
   "metadata": {},
   "source": [
    "Fill in the required fields and run. <br>\n",
    "Datalab will simulate the CloudML service by creating master, worker, and ps processes (in cloud they are different VMs) to perform a distributed training, although all these processes run in the local container VM.<br>\n",
    "You can set replica_count to 0 to not using a certain job type, such as ps. But master is required.<br>\n",
    "The output of the training will be links to the processes output logs, and also refreshed every 3 seconds to show last few lines of the logs. You can use the local run to quickly validate your training program and parameters before submitting it to cloud to do large scale training.<br>\n",
    "If for any reasons the training is stuck, just click \"Reset Session\" to reset the kernel. All training processes will be cleaned up. <br><br>\n",
    "\n",
    "Note that we replaced \"scale_tier: BASIC\" to \"scale_tier: CUSTOM\" and set \"worker_count\" and \"parameter_server_count\" explicitly.\n"
   ]
  },
  {
   "cell_type": "code",
   "execution_count": 2,
   "metadata": {
    "collapsed": false
   },
   "outputs": [
    {
     "data": {
      "text/html": [
       "<p>Job Running...</p>"
      ]
     },
     "metadata": {},
     "output_type": "display_data"
    },
    {
     "data": {
      "text/html": [
       "<a href=\"/_nocachecontent/worker\" target=\"_blank\">worker log</a>&nbsp;&nbsp;<a href=\"/_nocachecontent/master\" target=\"_blank\">master log</a>&nbsp;&nbsp;<a href=\"/_nocachecontent/ps\" target=\"_blank\">ps log</a>&nbsp;&nbsp;"
      ]
     },
     "metadata": {},
     "output_type": "display_data"
    },
    {
     "data": {
      "text/html": [
       "master: E tensorflow/core/client/tensor_c_api.cc:485] Reached limit of 1<br/>master: \t [[Node: input_producer/limit_epochs/CountUpTo = CountUpTo[T=DT_INT64, _class=[\"loc:@input_producer/limit_epochs/epochs\"], limit=1, _device=\"/job:localhost/replica:0/task:0/cpu:0\"](input_producer/limit_epochs/epochs)]]<br/>master: Eval, step 775: accuracy = 0.875<br/>master: E tensorflow/core/client/tensor_c_api.cc:485] FIFOQueue '_3_input_producer' is closed and has insufficient elements (requested 1, current size 0)<br/>master: \t [[Node: ReaderRead = ReaderRead[_class=[\"loc:@TFRecordReader\", \"loc:@input_producer\"], _device=\"/job:localhost/replica:0/task:0/cpu:0\"](TFRecordReader, input_producer)]]<br/>master: Step 800: loss = 0.41 (0.013 sec)<br/>master: Step 900: loss = 0.39 (0.013 sec)<br/>master: Step 1000: loss = 0.28 (0.016 sec)<br/>master: <br/>master: E tensorflow/core/client/tensor_c_api.cc:485] Reached limit of 1<br/>master: \t [[Node: input_producer/limit_epochs/CountUpTo = CountUpTo[T=DT_INT64, _class=[\"loc:@input_producer/limit_epochs/epochs\"], limit=1, _device=\"/job:localhost/replica:0/task:0/cpu:0\"](input_producer/limit_epochs/epochs)]]<br/>master: Final accuracy after 1000 steps = 0.938<br/>master: E tensorflow/core/client/tensor_c_api.cc:485] FIFOQueue '_6_input_producer' is closed and has insufficient elements (requested 1, current size 0)<br/>master: \t [[Node: ReaderRead = ReaderRead[_class=[\"loc:@TFRecordReader\", \"loc:@input_producer\"], _device=\"/job:localhost/replica:0/task:0/cpu:0\"](TFRecordReader, input_producer)]]<br/>master: E tensorflow/core/client/tensor_c_api.cc:485] Enqueue operation was cancelled<br/>master: \t [[Node: input_producer/input_producer_EnqueueMany = QueueEnqueueMany[Tcomponents=[DT_STRING], _class=[\"loc:@input_producer\"], timeout_ms=-1, _device=\"/job:master/replica:0/task:0/cpu:0\"](input_producer, input_producer/Identity)]]<br/>master: E tensorflow/core/client/tensor_c_api.cc:485] Enqueue operation was cancelled<br/>master: \t [[Node: batch/fifo_queue_enqueue = QueueEnqueue[Tcomponents=[DT_STRING, DT_STRING], _class=[\"loc:@batch/fifo_queue\"], timeout_ms=-1, _device=\"/job:master/replica:0/task:0/cpu:0\"](batch/fifo_queue, ReaderRead, ReaderRead:1)]]<br/>master: Done training.<br/>master: "
      ]
     },
     "metadata": {},
     "output_type": "display_data"
    },
    {
     "data": {
      "text/html": [
       "<p>Job Finished.</p>"
      ]
     },
     "metadata": {},
     "output_type": "display_data"
    }
   ],
   "source": [
    "%ml train\n",
    "package_uris: /content/datalab/tmp/ml/iris/trainer-0.3.tar.gz\n",
    "python_module: trainer.task\n",
    "scale_tier: CUSTOM\n",
    "worker_count: 1\n",
    "parameter_server_count: 1\n",
    "args:\n",
    "  train_data_paths:\n",
    "    - /content/datalab/tmp/ml/iris/preprocessed/features_train\n",
    "  eval_data_paths:\n",
    "    - /content/datalab/tmp/ml/iris/preprocessed/features_eval\n",
    "  metadata_path: /content/datalab/tmp/ml/iris/preprocessed/metadata.yaml\n",
    "  output_path: /content/datalab/tmp/ml/iris/model\n",
    "  max_steps: 1000"
   ]
  },
  {
   "cell_type": "markdown",
   "metadata": {},
   "source": [
    "Note that after training is completed, you can increment \"max_steps\" and run it again. Training will resume from previous checkpoint."
   ]
  },
  {
   "cell_type": "markdown",
   "metadata": {},
   "source": [
    "Check the output of the training. \"model\" dir includes the model file (last checkpoint, graph metadata, etc). \"summaries\" dir includes summary events."
   ]
  },
  {
   "cell_type": "code",
   "execution_count": 3,
   "metadata": {
    "collapsed": false
   },
   "outputs": [
    {
     "name": "stdout",
     "output_type": "stream",
     "text": [
      "eval  logdir  model  summaries\r\n"
     ]
    }
   ],
   "source": [
    "!ls /content/datalab/tmp/ml/iris/model"
   ]
  },
  {
   "cell_type": "markdown",
   "metadata": {},
   "source": [
    "You can start TensorBoard to view training results."
   ]
  },
  {
   "cell_type": "code",
   "execution_count": 4,
   "metadata": {
    "collapsed": false
   },
   "outputs": [
    {
     "data": {
      "text/html": [
       "<p>TensorBoard was started successfully with pid 121454. Click <a href=\"/_proxy/45564/\" target=\"_blank\">here</a> to access it.</p>"
      ],
      "text/plain": [
       "<IPython.core.display.HTML object>"
      ]
     },
     "execution_count": 4,
     "metadata": {},
     "output_type": "execute_result"
    }
   ],
   "source": [
    "%tensorboard start --logdir /content/datalab/tmp/ml/iris/model/"
   ]
  },
  {
   "cell_type": "markdown",
   "metadata": {},
   "source": [
    "Shut down the tensorboard server."
   ]
  },
  {
   "cell_type": "code",
   "execution_count": 5,
   "metadata": {
    "collapsed": true
   },
   "outputs": [],
   "source": [
    "%tensorboard stop --pid 121454"
   ]
  },
  {
   "cell_type": "markdown",
   "metadata": {},
   "source": [
    "Let's train another one for fun (with learning_rate equal to 0.001). learning_rate is an arg defined in training program in the package and default value is 0.01."
   ]
  },
  {
   "cell_type": "code",
   "execution_count": 6,
   "metadata": {
    "collapsed": false
   },
   "outputs": [
    {
     "data": {
      "text/html": [
       "<p>Job Running...</p>"
      ]
     },
     "metadata": {},
     "output_type": "display_data"
    },
    {
     "data": {
      "text/html": [
       "<a href=\"/_nocachecontent/master\" target=\"_blank\">master log</a>&nbsp;&nbsp;"
      ]
     },
     "metadata": {},
     "output_type": "display_data"
    },
    {
     "data": {
      "text/html": [
       "master: Step 800: loss = 0.88 (0.009 sec)<br/>master: E tensorflow/core/client/tensor_c_api.cc:485] Reached limit of 1<br/>master: \t [[Node: input_producer/limit_epochs/CountUpTo = CountUpTo[T=DT_INT64, _class=[\"loc:@input_producer/limit_epochs/epochs\"], limit=1, _device=\"/job:localhost/replica:0/task:0/cpu:0\"](input_producer/limit_epochs/epochs)]]<br/>master: Eval, step 801: accuracy = 0.812<br/>master: E tensorflow/core/client/tensor_c_api.cc:485] FIFOQueue '_3_input_producer' is closed and has insufficient elements (requested 1, current size 0)<br/>master: \t [[Node: ReaderRead = ReaderRead[_class=[\"loc:@TFRecordReader\", \"loc:@input_producer\"], _device=\"/job:localhost/replica:0/task:0/cpu:0\"](TFRecordReader, input_producer)]]<br/>master: Step 900: loss = 0.80 (0.011 sec)<br/>master: Step 1000: loss = 0.88 (0.010 sec)<br/>master: E tensorflow/core/client/tensor_c_api.cc:485] Reached limit of 1<br/>master: \t [[Node: input_producer/limit_epochs/CountUpTo = CountUpTo[T=DT_INT64, _class=[\"loc:@input_producer/limit_epochs/epochs\"], limit=1, _device=\"/job:localhost/replica:0/task:0/cpu:0\"](input_producer/limit_epochs/epochs)]]<br/>master: Final accuracy after 1000 steps = 0.812<br/>master: E tensorflow/core/client/tensor_c_api.cc:485] FIFOQueue '_6_input_producer' is closed and has insufficient elements (requested 1, current size 0)<br/>master: \t [[Node: ReaderRead = ReaderRead[_class=[\"loc:@TFRecordReader\", \"loc:@input_producer\"], _device=\"/job:localhost/replica:0/task:0/cpu:0\"](TFRecordReader, input_producer)]]<br/>master: <br/>master: E tensorflow/core/client/tensor_c_api.cc:485] Enqueue operation was cancelled<br/>master: \t [[Node: batch/fifo_queue_enqueue = QueueEnqueue[Tcomponents=[DT_STRING, DT_STRING], _class=[\"loc:@batch/fifo_queue\"], timeout_ms=-1, _device=\"/job:master/replica:0/task:0/cpu:0\"](batch/fifo_queue, ReaderRead, ReaderRead:1)]]<br/>master: E tensorflow/core/client/tensor_c_api.cc:485] Enqueue operation was cancelled<br/>master: \t [[Node: input_producer/input_producer_EnqueueMany = QueueEnqueueMany[Tcomponents=[DT_STRING], _class=[\"loc:@input_producer\"], timeout_ms=-1, _device=\"/job:master/replica:0/task:0/cpu:0\"](input_producer, input_producer/Identity)]]<br/>master: Done training.<br/>master: "
      ]
     },
     "metadata": {},
     "output_type": "display_data"
    },
    {
     "data": {
      "text/html": [
       "<p>Job Finished.</p>"
      ]
     },
     "metadata": {},
     "output_type": "display_data"
    }
   ],
   "source": [
    "%ml train\n",
    "package_uris: /content/datalab/tmp/ml/iris/trainer-0.3.tar.gz\n",
    "python_module: trainer.task\n",
    "scale_tier: BASIC\n",
    "args:\n",
    "  train_data_paths:\n",
    "    - /content/datalab/tmp/ml/iris/preprocessed/features_train\n",
    "  eval_data_paths:\n",
    "    - /content/datalab/tmp/ml/iris/preprocessed/features_eval\n",
    "  metadata_path: /content/datalab/tmp/ml/iris/preprocessed/metadata.yaml\n",
    "  output_path: /content/datalab/tmp/ml/iris/model_lr\n",
    "  max_steps: 1000\n",
    "  learning_rate: 0.001"
   ]
  },
  {
   "cell_type": "markdown",
   "metadata": {},
   "source": [
    "### Cloud Training\n",
    "\n",
    "Cloud training is similar but with \"--cloud\" flag, and use all GCS paths instead of local paths. <br>\n",
    "We will use the preprocessed files created by cloud preprocessing in previous \"Preprocess\" notebook."
   ]
  },
  {
   "cell_type": "markdown",
   "metadata": {},
   "source": [
    "Define variables that will be used later."
   ]
  },
  {
   "cell_type": "code",
   "execution_count": 16,
   "metadata": {
    "collapsed": false
   },
   "outputs": [],
   "source": [
    "import os\n",
    "\n",
    "bucket = 'gs://' + datalab_project_id() + '-sampledata'\n",
    "package_path = os.path.join(bucket, 'iris', 'model', 'trainer-0.3.tar.gz')\n",
    "train_data_path = os.path.join(bucket, 'iris', 'preprocessed', 'features_train')\n",
    "eval_data_path = os.path.join(bucket, 'iris', 'preprocessed', 'features_eval')\n",
    "metadata_path = os.path.join(bucket, 'iris', 'preprocessed', 'metadata.yaml')\n",
    "output_path = os.path.join(bucket, 'iris', 'trained')"
   ]
  },
  {
   "cell_type": "code",
   "execution_count": 17,
   "metadata": {
    "collapsed": false
   },
   "outputs": [
    {
     "name": "stdout",
     "output_type": "stream",
     "text": [
      "Copying gs://cloud-datalab/sampledata/ml/iris/trainer-0.3.tar.gz [Content-Type=application/gzip]...\n",
      "Copying     ...tomated-sampledata/iris/model/trainer-0.3.tar.gz: 7.32 KiB/7.32 KiB    \n"
     ]
    }
   ],
   "source": [
    "!gsutil cp gs://cloud-datalab/sampledata/ml/iris/trainer-0.3.tar.gz $package_path"
   ]
  },
  {
   "cell_type": "code",
   "execution_count": 18,
   "metadata": {
    "collapsed": false
   },
   "outputs": [
    {
     "data": {
      "text/html": [
       "<p>Job \"trainer_task_160901_052526\" was submitted successfully.<br/>Run \"%ml jobs --name trainer_task_160901_052526\" to view the status of the job.</p><p>Click <a href=\"https://console.developers.google.com/logs/viewer?project=cloud-ml-test-automated&resource=ml.googleapis.com%2Fjob_id%2Ftrainer_task_160901_052526\" target=\"_blank\">here</a> to view cloud log. <br/>Start TensorBoard by running \"%tensorboard start --logdir=&lt;YourLogDir&gt;\".</p>"
      ],
      "text/plain": [
       "<IPython.core.display.HTML object>"
      ]
     },
     "execution_count": 18,
     "metadata": {},
     "output_type": "execute_result"
    }
   ],
   "source": [
    "%ml train --cloud\n",
    "package_uris: $package_path\n",
    "python_module: trainer.task\n",
    "scale_tier: BASIC\n",
    "region: us-central1\n",
    "args:\n",
    "  train_data_paths:\n",
    "    - $train_data_path\n",
    "  eval_data_paths:\n",
    "    - $eval_data_path\n",
    "  metadata_path: $metadata_path\n",
    "  output_path: $output_path"
   ]
  },
  {
   "cell_type": "markdown",
   "metadata": {},
   "source": [
    "View the job status as described in the output. You can also run \"%ml jobs --filter state!=SUCCEEDED\" to see all active ML jobs in that project."
   ]
  },
  {
   "cell_type": "code",
   "execution_count": 24,
   "metadata": {
    "collapsed": false
   },
   "outputs": [
    {
     "data": {
      "text/html": [
       "<pre>createTime: '2016-09-01T05:25:27.000Z'\n",
       "endTime: '2016-09-01T05:28:49.000Z'\n",
       "jobId: trainer_task_160901_052526\n",
       "startTime: '2016-09-01T05:25:37.000Z'\n",
       "state: SUCCEEDED\n",
       "trainingInput:\n",
       "  args: [--train_data_paths, 'gs://cloud-ml-test-automated-sampledata/iris/preprocessed/features_train',\n",
       "    --metadata_path, 'gs://cloud-ml-test-automated-sampledata/iris/preprocessed/metadata.yaml',\n",
       "    --output_path, 'gs://cloud-ml-test-automated-sampledata/iris/trained', --eval_data_paths,\n",
       "    'gs://cloud-ml-test-automated-sampledata/iris/preprocessed/features_eval']\n",
       "  packageUris: ['gs://cloud-ml-test-automated-sampledata/iris/model/trainer-0.3.tar.gz']\n",
       "  pythonModule: trainer.task\n",
       "  region: us-central1\n",
       "</pre>"
      ],
      "text/plain": [
       "<IPython.core.display.HTML object>"
      ]
     },
     "execution_count": 24,
     "metadata": {},
     "output_type": "execute_result"
    }
   ],
   "source": [
    "%ml jobs --name trainer_task_160901_052526"
   ]
  },
  {
   "cell_type": "markdown",
   "metadata": {},
   "source": [
    "View the trained model once the state is 'SUCCEEDED':"
   ]
  },
  {
   "cell_type": "code",
   "execution_count": 21,
   "metadata": {
    "collapsed": false
   },
   "outputs": [
    {
     "name": "stdout",
     "output_type": "stream",
     "text": [
      "gs://cloud-ml-test-automated-sampledata/iris/trained/eval/\r\n",
      "gs://cloud-ml-test-automated-sampledata/iris/trained/logdir/\r\n",
      "gs://cloud-ml-test-automated-sampledata/iris/trained/model/\r\n",
      "gs://cloud-ml-test-automated-sampledata/iris/trained/summaries/\r\n"
     ]
    }
   ],
   "source": [
    "!gsutil ls $output_path"
   ]
  },
  {
   "cell_type": "markdown",
   "metadata": {},
   "source": [
    "TensorBoard works with GCS path so it works with Cloud training too."
   ]
  }
 ],
 "metadata": {
  "kernelspec": {
   "display_name": "Python 2",
   "language": "python",
   "name": "python2"
  },
  "language_info": {
   "codemirror_mode": {
    "name": "ipython",
    "version": 2
   },
   "file_extension": ".py",
   "mimetype": "text/x-python",
   "name": "python",
   "nbconvert_exporter": "python",
   "pygments_lexer": "ipython2",
   "version": "2.7.9"
  }
 },
 "nbformat": 4,
 "nbformat_minor": 1
}
