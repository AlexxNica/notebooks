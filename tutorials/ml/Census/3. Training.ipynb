{
 "cells": [
  {
   "cell_type": "markdown",
   "metadata": {},
   "source": [
    "## Training\n",
    "\n",
    "Training requires a tarball python package that includes your training program based on TensorFlow. While CloudML provides several generic purpose model training, for this sample we will use a package that is specifically created to train Census sample."
   ]
  },
  {
   "cell_type": "markdown",
   "metadata": {},
   "source": [
    "### Local Training\n",
    "\n",
    "First copy the package to local."
   ]
  },
  {
   "cell_type": "code",
   "execution_count": 19,
   "metadata": {
    "collapsed": false
   },
   "outputs": [
    {
     "name": "stdout",
     "output_type": "stream",
     "text": [
      "Copying gs://cloud-datalab/sampledata/ml/census/trainer-0.1.tar.gz...\n",
      "Downloading ...:///content/datalab/ml/census/trainer-0.1.tar.gz: 6.49 KiB/6.49 KiB    \n"
     ]
    }
   ],
   "source": [
    "!gsutil cp gs://cloud-datalab/sampledata/ml/census/trainer-0.1.tar.gz /content/datalab/ml/census/"
   ]
  },
  {
   "cell_type": "markdown",
   "metadata": {},
   "source": [
    "Run \"%ml train\" to generate the training cell template."
   ]
  },
  {
   "cell_type": "code",
   "execution_count": null,
   "metadata": {
    "collapsed": true
   },
   "outputs": [],
   "source": [
    "%%ml train\n",
    "trainer_uri: REQUIRED_Fill_In_Gcs_or_Local_Path\n",
    "module_name: REQUIRED_Fill_In\n",
    "master_spec:\n",
    "  replica_count: 1\n",
    "worker_spec:\n",
    "  replica_count: 1\n",
    "ps_spec:\n",
    "  replica_count: 1\n",
    "train_data_paths:\n",
    "  - Fill_In_Gcs_or_Local_Path\n",
    "eval_data_paths:\n",
    "  - Fill_In_Gcs_or_Local_Path\n",
    "metadata_path: REQUIRED_Fill_In_Gcs_or_Local_Path\n",
    "output_path: REQUIRED_Fill_In_Gcs_or_Local_Path\n",
    "job_args: Your_Program_Args_Goes_Here"
   ]
  },
  {
   "cell_type": "markdown",
   "metadata": {},
   "source": [
    "Fill in the required fields and run. <br>\n",
    "Datalab will simulate the CloudML service by creating master, worker, and ps processes (in cloud they are different VMs) to perform a distributed training, although all these processes run in the local container VM.<br>\n",
    "You can set replica_count to 0 to not using a certain job type, such as ps. But master is required. In this case, we only enable master.<br>\n",
    "The output of the training will be links to the processes output logs, and also refreshed every 3 seconds to show last few lines of the logs. You can use the local run to quickly validate your training program and parameters before submitting it to cloud to do large scale training.<br>\n",
    "If for any reasons the training is stuck, just click \"Reset Session\" to reset the kernel. All training processes will be cleaned up."
   ]
  },
  {
   "cell_type": "code",
   "execution_count": 21,
   "metadata": {
    "collapsed": false
   },
   "outputs": [
    {
     "data": {
      "text/html": [
       "<p>Job Running...</p>"
      ]
     },
     "metadata": {},
     "output_type": "display_data"
    },
    {
     "data": {
      "text/html": [
       "<a href=\"master\" target=\"_blank\">master log</a>&nbsp;&nbsp;"
      ]
     },
     "metadata": {},
     "output_type": "display_data"
    },
    {
     "data": {
      "text/html": [
       "master: Step 1500: loss = 44536.45 (0.049 sec)<br/>master: <br/>master: Eval, step 1510: error = 46633.148<br/>master: <br/>master: Step 1600: loss = 42878.66 (0.049 sec)<br/>master: <br/>master: Eval, step 1688: error = 46750.691<br/>master: Step 1700: loss = 47552.72 (0.053 sec)<br/>master: <br/>master: Step 1800: loss = 54818.93 (0.058 sec)<br/>master: <br/>master: Eval, step 1865: error = 46871.859<br/>master: <br/>master: Step 1900: loss = 61210.05 (0.046 sec)<br/>master: <br/>master: Step 2000: loss = 59204.53 (0.055 sec)<br/>master: <br/>master: Final error after 2000 steps = 46946.523<br/>master: Done training.<br/>master: "
      ]
     },
     "metadata": {},
     "output_type": "display_data"
    },
    {
     "data": {
      "text/html": [
       "<p>Job Finished.</p>"
      ]
     },
     "metadata": {},
     "output_type": "display_data"
    }
   ],
   "source": [
    "%ml train\n",
    "trainer_uri: /content/census/dist/trainer-0.1.tar.gz\n",
    "module_name: trainer.task\n",
    "master_spec:\n",
    "  replica_count: 1\n",
    "worker_spec:\n",
    "  replica_count: 0\n",
    "ps_spec:\n",
    "  replica_count: 0\n",
    "train_data_paths:\n",
    "  - /content/datalab/ml/census/preprocessed/features_train-00000-of-00001\n",
    "eval_data_paths:\n",
    "  - /content/datalab/ml/census/preprocessed/features_eval-00000-of-00001\n",
    "metadata_path: /content/datalab/ml/census/preprocessed/metadata.yaml\n",
    "output_path: /content/datalab/ml/census/model"
   ]
  },
  {
   "cell_type": "markdown",
   "metadata": {},
   "source": [
    "Check the training output."
   ]
  },
  {
   "cell_type": "code",
   "execution_count": 3,
   "metadata": {
    "collapsed": false
   },
   "outputs": [
    {
     "name": "stdout",
     "output_type": "stream",
     "text": [
      "eval  logdir  model  summaries\r\n"
     ]
    }
   ],
   "source": [
    "!ls /content/datalab/ml/census/model"
   ]
  },
  {
   "cell_type": "markdown",
   "metadata": {},
   "source": [
    "You can start TensorBoard to view training results."
   ]
  },
  {
   "cell_type": "code",
   "execution_count": 4,
   "metadata": {
    "collapsed": false
   },
   "outputs": [
    {
     "data": {
      "text/html": [
       "<p>TensorBoard was started successfully with pid 244. Click <a href=\"/_proxy/39301/\" target=\"_blank\">here</a> to access it.</p>"
      ],
      "text/plain": [
       "<IPython.core.display.HTML object>"
      ]
     },
     "execution_count": 4,
     "metadata": {},
     "output_type": "execute_result"
    }
   ],
   "source": [
    "%tensorboard start --logdir /content/datalab/ml/census/model"
   ]
  },
  {
   "cell_type": "markdown",
   "metadata": {},
   "source": [
    "Shut down the tensorboard serverwhen you are done with it."
   ]
  },
  {
   "cell_type": "code",
   "execution_count": 5,
   "metadata": {
    "collapsed": true
   },
   "outputs": [],
   "source": [
    "%tensorboard stop --pid 244"
   ]
  },
  {
   "cell_type": "markdown",
   "metadata": {},
   "source": [
    "### Cloud Training\n",
    "\n",
    "Cloud training is similar but with \"--cloud\" flag, and use all GCS paths instead of local paths. <br>\n",
    "You also need to make sure you have a project whitelisted for CloudML, and use \"%projects set project-id\" to set it."
   ]
  },
  {
   "cell_type": "code",
   "execution_count": 6,
   "metadata": {
    "collapsed": false
   },
   "outputs": [
    {
     "name": "stdout",
     "output_type": "stream",
     "text": [
      "Copying file:///content/datalab/ml/census/trainer-0.1.tar.gz [Content-Type=application/x-tar]...\n",
      "Uploading   ...mated-sampledata/census/model/trainer-0.1.tar.gz: 6.49 KiB/6.49 KiB    \n"
     ]
    }
   ],
   "source": [
    "!gsutil cp /content/datalab/ml/census/trainer-0.1.tar.gz gs://cloud-ml-test-automated-sampledata/census/model/trainer-0.1.tar.gz"
   ]
  },
  {
   "cell_type": "markdown",
   "metadata": {},
   "source": [
    "Start training using the Cloud DataFlow output from the \"2. Preprocessing\" notebook."
   ]
  },
  {
   "cell_type": "code",
   "execution_count": 8,
   "metadata": {
    "collapsed": false
   },
   "outputs": [
    {
     "data": {
      "text/html": [
       "<p>Job \"trainer_task_160819_055928\" was submitted successfully.<br/>Run \"%ml jobs --name trainer_task_160819_055928\" to view the status of the job.</p><p>Click <a href=\"https://console.developers.google.com/logs/viewer?project=cloud-ml-test-automated&resource=ml.googleapis.com%2Fjob_id%2Ftrainer_task_160819_055928\" target=\"_blank\">here</a> to view cloud log. <br/>Start TensorBoard by running \"%tensorboard start --logdir=&lt;YourLogDir&gt;\".</p>"
      ],
      "text/plain": [
       "<IPython.core.display.HTML object>"
      ]
     },
     "execution_count": 8,
     "metadata": {},
     "output_type": "execute_result"
    }
   ],
   "source": [
    "%ml train --cloud\n",
    "trainer_uri: gs://cloud-ml-test-automated-sampledata/census/model/trainer-0.1.tar.gz\n",
    "module_name: trainer.task\n",
    "master_spec:\n",
    "  replica_count: 1\n",
    "worker_spec:\n",
    "  replica_count: 1\n",
    "ps_spec:\n",
    "  replica_count: 1\n",
    "train_data_paths:\n",
    "  - gs://cloud-ml-test-automated-sampledata/census/preprocessed/features_train-00000-of-00008\n",
    "  - gs://cloud-ml-test-automated-sampledata/census/preprocessed/features_train-00001-of-00008\n",
    "  - gs://cloud-ml-test-automated-sampledata/census/preprocessed/features_train-00002-of-00008\n",
    "  - gs://cloud-ml-test-automated-sampledata/census/preprocessed/features_train-00003-of-00008\n",
    "  - gs://cloud-ml-test-automated-sampledata/census/preprocessed/features_train-00004-of-00008\n",
    "  - gs://cloud-ml-test-automated-sampledata/census/preprocessed/features_train-00005-of-00008\n",
    "  - gs://cloud-ml-test-automated-sampledata/census/preprocessed/features_train-00006-of-00008\n",
    "  - gs://cloud-ml-test-automated-sampledata/census/preprocessed/features_train-00007-of-00008\n",
    "eval_data_paths:\n",
    "  - gs://cloud-ml-test-automated-sampledata/census/preprocessed/features_eval-00000-of-00009\n",
    "  - gs://cloud-ml-test-automated-sampledata/census/preprocessed/features_eval-00001-of-00009\n",
    "  - gs://cloud-ml-test-automated-sampledata/census/preprocessed/features_eval-00002-of-00009\n",
    "  - gs://cloud-ml-test-automated-sampledata/census/preprocessed/features_eval-00003-of-00009\n",
    "  - gs://cloud-ml-test-automated-sampledata/census/preprocessed/features_eval-00004-of-00009\n",
    "  - gs://cloud-ml-test-automated-sampledata/census/preprocessed/features_eval-00005-of-00009\n",
    "  - gs://cloud-ml-test-automated-sampledata/census/preprocessed/features_eval-00006-of-00009\n",
    "  - gs://cloud-ml-test-automated-sampledata/census/preprocessed/features_eval-00007-of-00009\n",
    "  - gs://cloud-ml-test-automated-sampledata/census/preprocessed/features_eval-00008-of-00009\n",
    "metadata_path: gs://cloud-ml-test-automated-sampledata/census/preprocessed/metadata.yaml\n",
    "output_path: gs://cloud-ml-test-automated-sampledata/census/trainedmodel"
   ]
  },
  {
   "cell_type": "markdown",
   "metadata": {},
   "source": [
    "View the trained model:"
   ]
  },
  {
   "cell_type": "code",
   "execution_count": 10,
   "metadata": {
    "collapsed": false
   },
   "outputs": [
    {
     "name": "stdout",
     "output_type": "stream",
     "text": [
      "gs://cloud-ml-test-automated-sampledata/census/trainedmodel/eval/\r\n",
      "gs://cloud-ml-test-automated-sampledata/census/trainedmodel/logdir/\r\n",
      "gs://cloud-ml-test-automated-sampledata/census/trainedmodel/model/\r\n",
      "gs://cloud-ml-test-automated-sampledata/census/trainedmodel/summaries/\r\n"
     ]
    }
   ],
   "source": [
    "!gsutil ls gs://cloud-ml-test-automated-sampledata/census/trainedmodel"
   ]
  },
  {
   "cell_type": "code",
   "execution_count": 6,
   "metadata": {
    "collapsed": false
   },
   "outputs": [
    {
     "data": {
      "text/html": [
       "<pre>- predicted:\n",
       "  - 46702.37890625\n",
       "  - 46702.37890625\n",
       "</pre>"
      ],
      "text/plain": [
       "<IPython.core.display.HTML object>"
      ]
     },
     "execution_count": 6,
     "metadata": {},
     "output_type": "execute_result"
    }
   ],
   "source": [
    "%%ml predict --model /content/datalab/ml/census/model/model --metadata /content/datalab/ml/census/preprocessed/metadata.yaml\n",
    "{\"WATP\": 1200, \"FS\": 2, \"SMX\": 0, \"PSF\": 1, \"STOV\": 1, \"MULTG\": 4, \"WKEXREL\": 1, \"BATH\": 1, \"INSP\": 490, \"ACR\": 1, \"NPF\": 0, \"YBL\": 8, \"HFL\": 1, \"TAXP\": 2, \"GASP\": 50, \"MODEM\": 1, \"FIBEROP\": 2, \"RESMODE\": 2010, \"SATELLITE\": 2, \"DIALUP\": 2, \"TEL\": 1, \"TEN\": 1, \"R18\": 0, \"BUS\": 2, \"HUPAC\": 1, \"SMOCP\": 3, \"HANDHELD\": 1, \"HUPARC\": 1, \"ELEP\": 60, \"RMSP\": 6, \"R60\": 0, \"VEH\": 2, \"HINCP\": 0, \"NP\": 3, \"NR\": 1, \"SRNT\": 0, \"OTHSVCEX\": 2, \"MRGI\": 1, \"WIF\": 1, \"SERIALNO\": 705, \"LAPTOP\": 1, \"REFR\": 1, \"TOIL\": 1, \"DSL\": 2, \"FPARC\": 1, \"MRGX\": 1, \"FES\": 1, \"HHT\": 1, \"MRGT\": 1, \"BLD\": 3, \"MRGP\": 1800, \"FULP\": 2, \"HUGCL\": 1, \"SSMC\": 1, \"PUMA\": 11605, \"LNGI\": 1, \"VALP\": 351000, \"NRC\": 0, \"BDSP\": 3, \"HUPAOC\": 1, \"KIT\": 1, \"ACCESS\": 1, \"R65\": 3, \"NOC\": 3, \"MV\": 1, \"COMPOTHX\": 1, \"SVAL\": 36, \"RWAT\": 1, \"BROADBND\": 1, \"PARTNER\": 1, \"PLM\": 0, \"HHL\": 2, \"NPP\": 0, \"SINK\": 1}\n",
    "{\"WATP\": 1200, \"FS\": 2, \"SMX\": 0, \"PSF\": 1, \"STOV\": 1, \"MULTG\": 4, \"WKEXREL\": 1, \"BATH\": 1, \"INSP\": 490, \"ACR\": 1, \"NPF\": 0, \"YBL\": 8, \"HFL\": 1, \"TAXP\": 2, \"GASP\": 50, \"MODEM\": 1, \"FIBEROP\": 2, \"RESMODE\": 2010, \"SATELLITE\": 2, \"DIALUP\": 2, \"TEL\": 1, \"TEN\": 1, \"R18\": 0, \"BUS\": 2, \"HUPAC\": 1, \"SMOCP\": 3, \"HANDHELD\": 1, \"HUPARC\": 1, \"ELEP\": 60, \"RMSP\": 6, \"R60\": 0, \"VEH\": 2, \"HINCP\": 0, \"NP\": 3, \"NR\": 1, \"SRNT\": 0, \"OTHSVCEX\": 2, \"MRGI\": 1, \"WIF\": 1, \"SERIALNO\": 705, \"LAPTOP\": 1, \"REFR\": 1, \"TOIL\": 1, \"DSL\": 2, \"FPARC\": 1, \"MRGX\": 1, \"FES\": 1, \"HHT\": 1, \"MRGT\": 1, \"BLD\": 3, \"MRGP\": 1800, \"FULP\": 2, \"HUGCL\": 1, \"SSMC\": 1, \"PUMA\": 11605, \"LNGI\": 1, \"VALP\": 351000, \"NRC\": 0, \"BDSP\": 3, \"HUPAOC\": 1, \"KIT\": 1, \"ACCESS\": 1, \"R65\": 3, \"NOC\": 3, \"MV\": 1, \"COMPOTHX\": 1, \"SVAL\": 36, \"RWAT\": 1, \"BROADBND\": 1, \"PARTNER\": 1, \"PLM\": 0, \"HHL\": 2, \"NPP\": 0, \"SINK\": 1}"
   ]
  },
  {
   "cell_type": "code",
   "execution_count": 1,
   "metadata": {
    "collapsed": false
   },
   "outputs": [],
   "source": [
    "data = \\\n",
    "['705,11605,3,1,1,,1,3,3,1,2,1,,2,2,60,2,2,2,50,1,1,490,1,,1,1,1800,1,1,2,1,6,,,1,2,1,,1,1,1,1,351000,2,1200,8,1,1,,2,1,0,1,1,1,1,1,1,4,1,3,0,0,1,0,1,0,1,0,0,3,2010,3,0,0,1,36,2,1,1',\n",
    "'1204,11503,1,3,1,,1,4,2,,2,2,,,,20,,2,2,40,2,1,1500,2,,,,,,3,,1,9,,,1,,1,,1,1,2,1,200000,1,930,5,,,,1,6,0,4,4,4,1,1,1,7,0,,0,0,0,0,1,0,0,1,1,1,430,,0,0,1,32,,,',\n",
    "'1758,10800,1,3,,,1,1,8,,,2,,,,1,,2,1,1,2,3,,2,,,,,,,,1,3,2,630,1,,1,,2,1,3,1,,1,1,8,,,630,1,4,0,4,4,4,2,1,1,4,0,,0,0,0,0,1,0,0,1,1,1,,,1,0,0,,,,']"
   ]
  },
  {
   "cell_type": "code",
   "execution_count": 2,
   "metadata": {
    "collapsed": true
   },
   "outputs": [],
   "source": [
    "csv_columns = ('SERIALNO','PUMA','SVALNP','ACCESS','ACR','AGS','BATH','BDSP','BLD','BROADBND','BUS','COMPOTHX','CONP','DIALUP','DSL','ELEP','FIBEROP','FS','FULP','GASP','HANDHELD','HFL','INSP','LAPTOP','MHP','MODEM','MRGI','MRGP','MRGT','MRGX','OTHSVCEX','REFR','RMSP','RNTM','RNTP','RWAT','SATELLITE','SINK','SMP','STOV','TEL','TEN','TOIL','VALP','VEH','WATP','YBL','FES','FPARC','GRNTP','HHL','HHT','HINCP','HUGCL','HUPAC','HUPAOC','HUPARC','KIT','LNGI','MULTG','MV','NOC','NPF','NPP','NR','NRC','PARTNER','PLM','PSF','R18','R60','R65','RESMODE','SMOCP','SMX','SRNT','SSMC','SVAL','TAXP','WIF','WKEXREL','WORKSTAT')"
   ]
  },
  {
   "cell_type": "code",
   "execution_count": 11,
   "metadata": {
    "collapsed": false
   },
   "outputs": [
    {
     "name": "stdout",
     "output_type": "stream",
     "text": [
      "\"WATP\": 1200, \"FS\": 2, \"SMX\": 0, \"PSF\": 1, \"STOV\": 1, \"MULTG\": 4, \"WKEXREL\": 1, \"BATH\": 1, \"INSP\": 490, \"ACR\": 1, \"NPF\": 0, \"YBL\": 8, \"HFL\": 1, \"TAXP\": 2, \"GASP\": 50, \"MODEM\": 1, \"FIBEROP\": 2, \"RESMODE\": 2010, \"SATELLITE\": 2, \"DIALUP\": 2, \"TEL\": 1, \"TEN\": 1, \"R18\": 0, \"BUS\": 2, \"HUPAC\": 1, \"SMOCP\": 3, \"HANDHELD\": 1, \"HUPARC\": 1, \"ELEP\": 60, \"RMSP\": 6, \"R60\": 0, \"VEH\": 2, \"HINCP\": 0, \"NP\": 3, \"NR\": 1, \"SRNT\": 0, \"OTHSVCEX\": 2, \"MRGI\": 1, \"WIF\": 1, \"SERIALNO\": 705, \"LAPTOP\": 1, \"REFR\": 1, \"TOIL\": 1, \"DSL\": 2, \"FPARC\": 1, \"MRGX\": 1, \"FES\": 1, \"HHT\": 1, \"MRGT\": 1, \"BLD\": 3, \"MRGP\": 1800, \"FULP\": 2, \"HUGCL\": 1, \"SSMC\": 1, \"PUMA\": 11605, \"LNGI\": 1, \"VALP\": 351000, \"NRC\": 0, \"BDSP\": 3, \"HUPAOC\": 1, \"KIT\": 1, \"ACCESS\": 1, \"R65\": 3, \"NOC\": 3, \"MV\": 1, \"COMPOTHX\": 1, \"SVAL\": 36, \"RWAT\": 1, \"BROADBND\": 1, \"PARTNER\": 1, \"PLM\": 0, \"HHL\": 2, \"NPP\": 0, \"SINK\": 1, \n"
     ]
    }
   ],
   "source": [
    "import csv\n",
    "reader = csv.DictReader([data[0]], fieldnames=csv_columns)\n",
    "for row in reader:\n",
    "  line = ''\n",
    "  for k,v in row.iteritems():\n",
    "    if v:\n",
    "      line += '\"%s\": %s, ' % (k,v)\n",
    "  print line"
   ]
  },
  {
   "cell_type": "code",
   "execution_count": 4,
   "metadata": {
    "collapsed": false
   },
   "outputs": [
    {
     "data": {
      "text/plain": [
       "[{u'predicted': 46702.37890625}]"
      ]
     },
     "execution_count": 4,
     "metadata": {},
     "output_type": "execute_result"
    }
   ],
   "source": [
    "import json\n",
    "import datalab\n",
    "\n",
    "d = json.loads('{\"WATP\": 1200, \"FS\": 2, \"SMX\": 0, \"PSF\": 1, \"STOV\": 1, \"MULTG\": 4, \"WKEXREL\": 1, \"BATH\": 1, \"INSP\": 490, \"ACR\": 1, \"NPF\": 0, \"YBL\": 8, \"HFL\": 1, \"TAXP\": 2, \"GASP\": 50, \"MODEM\": 1, \"FIBEROP\": 2, \"RESMODE\": 2010, \"SATELLITE\": 2, \"DIALUP\": 2, \"TEL\": 1, \"TEN\": 1, \"R18\": 0, \"BUS\": 2, \"HUPAC\": 1, \"SMOCP\": 3, \"HANDHELD\": 1, \"HUPARC\": 1, \"ELEP\": 60, \"RMSP\": 6, \"R60\": 0, \"VEH\": 2, \"HINCP\": 0, \"NP\": 3, \"NR\": 1, \"SRNT\": 0, \"OTHSVCEX\": 2, \"MRGI\": 1, \"WIF\": 1, \"SERIALNO\": 705, \"LAPTOP\": 1, \"REFR\": 1, \"TOIL\": 1, \"DSL\": 2, \"FPARC\": 1, \"MRGX\": 1, \"FES\": 1, \"HHT\": 1, \"MRGT\": 1, \"BLD\": 3, \"MRGP\": 1800, \"FULP\": 2, \"HUGCL\": 1, \"SSMC\": 1, \"PUMA\": 11605, \"LNGI\": 1, \"VALP\": 351000, \"NRC\": 0, \"BDSP\": 3, \"HUPAOC\": 1, \"KIT\": 1, \"ACCESS\": 1, \"R65\": 3, \"NOC\": 3, \"MV\": 1, \"COMPOTHX\": 1, \"SVAL\": 36, \"RWAT\": 1, \"BROADBND\": 1, \"PARTNER\": 1, \"PLM\": 0, \"HHL\": 2, \"NPP\": 0, \"SINK\": 1}')\n",
    "data = [d]\n",
    "lp = datalab.ml.LocalPredictor('/content/datalab/ml/census/model/model',\n",
    "                               metadata_path='/content/datalab/ml/census/preprocessed/metadata.yaml')\n",
    "lp.predict(data)"
   ]
  },
  {
   "cell_type": "code",
   "execution_count": 14,
   "metadata": {
    "collapsed": false
   },
   "outputs": [
    {
     "data": {
      "text/plain": [
       "[(46702.379,)]"
      ]
     },
     "execution_count": 14,
     "metadata": {},
     "output_type": "execute_result"
    }
   ],
   "source": [
    "r = [[46702.379]]\n",
    "zip(*r)"
   ]
  },
  {
   "cell_type": "code",
   "execution_count": 22,
   "metadata": {
    "collapsed": false
   },
   "outputs": [
    {
     "data": {
      "text/plain": [
       "list"
      ]
     },
     "execution_count": 22,
     "metadata": {},
     "output_type": "execute_result"
    }
   ],
   "source": [
    "import array\n",
    "d = [[ 46702.37890625,  46702.37890625]]\n",
    "type(d)"
   ]
  },
  {
   "cell_type": "code",
   "execution_count": 11,
   "metadata": {
    "collapsed": false
   },
   "outputs": [
    {
     "ename": "NameError",
     "evalue": "name 'array' is not defined",
     "output_type": "error",
     "traceback": [
      "\u001b[0;31m\u001b[0m",
      "\u001b[0;31mNameError\u001b[0mTraceback (most recent call last)",
      "\u001b[0;32m<ipython-input-11-fd79680818a3>\u001b[0m in \u001b[0;36m<module>\u001b[0;34m()\u001b[0m\n\u001b[0;32m----> 1\u001b[0;31m \u001b[0md1\u001b[0m \u001b[0;34m=\u001b[0m \u001b[0;34m[\u001b[0m\u001b[0marray\u001b[0m\u001b[0;34m(\u001b[0m\u001b[0;34m[\u001b[0m\u001b[0;34m[\u001b[0m \u001b[0;36m0.0024977\u001b[0m \u001b[0;34m,\u001b[0m  \u001b[0;36m0.89763188\u001b[0m\u001b[0;34m,\u001b[0m  \u001b[0;36m0.09987032\u001b[0m\u001b[0;34m]\u001b[0m\u001b[0;34m]\u001b[0m\u001b[0;34m,\u001b[0m \u001b[0mdtype\u001b[0m\u001b[0;34m=\u001b[0m\u001b[0mfloat32\u001b[0m\u001b[0;34m)\u001b[0m\u001b[0;34m,\u001b[0m \u001b[0marray\u001b[0m\u001b[0;34m(\u001b[0m\u001b[0;34m[\u001b[0m\u001b[0;36m1\u001b[0m\u001b[0;34m]\u001b[0m\u001b[0;34m)\u001b[0m\u001b[0;34m]\u001b[0m\u001b[0;34m\u001b[0m\u001b[0m\n\u001b[0m",
      "\u001b[0;31mNameError\u001b[0m: name 'array' is not defined"
     ]
    }
   ],
   "source": [
    "d1 = [array([[ 0.0024977 ,  0.89763188,  0.09987032]], dtype=float32), array([1])]"
   ]
  },
  {
   "cell_type": "code",
   "execution_count": 2,
   "metadata": {
    "collapsed": false
   },
   "outputs": [
    {
     "data": {
      "text/html": [
       "<pre>- predictions: Iris-versicolor (1)\n",
       "  score:\n",
       "  - 0.0024976972490549088\n",
       "  - 0.8976318836212158\n",
       "  - 0.09987031668424606\n",
       "- predictions: Iris-versicolor (1)\n",
       "  score:\n",
       "  - 0.0024976972490549088\n",
       "  - 0.8976318836212158\n",
       "  - 0.09987031668424606\n",
       "</pre>"
      ],
      "text/plain": [
       "<IPython.core.display.HTML object>"
      ]
     },
     "execution_count": 2,
     "metadata": {},
     "output_type": "execute_result"
    }
   ],
   "source": [
    "%%ml predict --model /content/datalab/ml/iris/model3000/model --metadata /content/datalab/ml/iris/preprocessed/metadata.yaml --label predictions\n",
    "{\"key\": 107, \"sepal_length\": 4.9, \"sepal_width\": 2.5, \"petal_length\": 4.5, \"petal_width\": 1.7}\n",
    "{\"key\": 107, \"sepal_length\": 4.9, \"sepal_width\": 2.5, \"petal_length\": 4.5, \"petal_width\": 1.7}"
   ]
  },
  {
   "cell_type": "code",
   "execution_count": null,
   "metadata": {
    "collapsed": true
   },
   "outputs": [],
   "source": []
  }
 ],
 "metadata": {
  "kernelspec": {
   "display_name": "Python 2",
   "language": "python",
   "name": "python2"
  },
  "language_info": {
   "codemirror_mode": {
    "name": "ipython",
    "version": 2
   },
   "file_extension": ".py",
   "mimetype": "text/x-python",
   "name": "python",
   "nbconvert_exporter": "python",
   "pygments_lexer": "ipython2",
   "version": "2.7.9"
  }
 },
 "nbformat": 4,
 "nbformat_minor": 1
}
