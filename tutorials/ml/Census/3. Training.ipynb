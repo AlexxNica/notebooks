{
 "cells": [
  {
   "cell_type": "markdown",
   "metadata": {},
   "source": [
    "## Training\n",
    "\n",
    "Training requires a tarball python package that includes your training program based on TensorFlow. While CloudML provides several generic purpose model training, for this sample we will use a package that is specifically created to train Census sample."
   ]
  },
  {
   "cell_type": "markdown",
   "metadata": {},
   "source": [
    "### Local Training\n",
    "\n",
    "First copy the package to local."
   ]
  },
  {
   "cell_type": "code",
   "execution_count": 19,
   "metadata": {
    "collapsed": false
   },
   "outputs": [
    {
     "name": "stdout",
     "output_type": "stream",
     "text": [
      "Copying gs://cloud-datalab/sampledata/ml/census/trainer-0.1.tar.gz...\n",
      "Downloading ...:///content/datalab/ml/census/trainer-0.1.tar.gz: 6.49 KiB/6.49 KiB    \n"
     ]
    }
   ],
   "source": [
    "!gsutil cp gs://cloud-datalab/sampledata/ml/census/trainer-0.1.tar.gz /content/datalab/ml/census/"
   ]
  },
  {
   "cell_type": "markdown",
   "metadata": {},
   "source": [
    "Run \"%ml train\" to generate the training cell template."
   ]
  },
  {
   "cell_type": "code",
   "execution_count": null,
   "metadata": {
    "collapsed": true
   },
   "outputs": [],
   "source": [
    "%%ml train\n",
    "trainer_uri: REQUIRED_Fill_In_Gcs_or_Local_Path\n",
    "module_name: REQUIRED_Fill_In\n",
    "master_spec:\n",
    "  replica_count: 1\n",
    "worker_spec:\n",
    "  replica_count: 1\n",
    "ps_spec:\n",
    "  replica_count: 1\n",
    "train_data_paths:\n",
    "  - Fill_In_Gcs_or_Local_Path\n",
    "eval_data_paths:\n",
    "  - Fill_In_Gcs_or_Local_Path\n",
    "metadata_path: REQUIRED_Fill_In_Gcs_or_Local_Path\n",
    "output_path: REQUIRED_Fill_In_Gcs_or_Local_Path\n",
    "job_args: Your_Program_Args_Goes_Here"
   ]
  },
  {
   "cell_type": "markdown",
   "metadata": {},
   "source": [
    "Fill in the required fields and run. <br>\n",
    "Datalab will simulate the CloudML service by creating master, worker, and ps processes (in cloud they are different VMs) to perform a distributed training, although all these processes run in the local container VM.<br>\n",
    "You can set replica_count to 0 to not using a certain job type, such as ps. But master is required. In this case, we only enable master.<br>\n",
    "The output of the training will be links to the processes output logs, and also refreshed every 3 seconds to show last few lines of the logs. You can use the local run to quickly validate your training program and parameters before submitting it to cloud to do large scale training.<br>\n",
    "If for any reasons the training is stuck, just click \"Reset Session\" to reset the kernel. All training processes will be cleaned up."
   ]
  },
  {
   "cell_type": "code",
   "execution_count": 21,
   "metadata": {
    "collapsed": false
   },
   "outputs": [
    {
     "data": {
      "text/html": [
       "<p>Job Running...</p>"
      ]
     },
     "metadata": {},
     "output_type": "display_data"
    },
    {
     "data": {
      "text/html": [
       "<a href=\"master\" target=\"_blank\">master log</a>&nbsp;&nbsp;"
      ]
     },
     "metadata": {},
     "output_type": "display_data"
    },
    {
     "data": {
      "text/html": [
       "master: Step 1500: loss = 44536.45 (0.049 sec)<br/>master: <br/>master: Eval, step 1510: error = 46633.148<br/>master: <br/>master: Step 1600: loss = 42878.66 (0.049 sec)<br/>master: <br/>master: Eval, step 1688: error = 46750.691<br/>master: Step 1700: loss = 47552.72 (0.053 sec)<br/>master: <br/>master: Step 1800: loss = 54818.93 (0.058 sec)<br/>master: <br/>master: Eval, step 1865: error = 46871.859<br/>master: <br/>master: Step 1900: loss = 61210.05 (0.046 sec)<br/>master: <br/>master: Step 2000: loss = 59204.53 (0.055 sec)<br/>master: <br/>master: Final error after 2000 steps = 46946.523<br/>master: Done training.<br/>master: "
      ]
     },
     "metadata": {},
     "output_type": "display_data"
    },
    {
     "data": {
      "text/html": [
       "<p>Job Finished.</p>"
      ]
     },
     "metadata": {},
     "output_type": "display_data"
    }
   ],
   "source": [
    "%ml train\n",
    "trainer_uri: /content/datalab/ml/census/trainer-0.1.tar.gz\n",
    "module_name: trainer.task\n",
    "master_spec:\n",
    "  replica_count: 1\n",
    "worker_spec:\n",
    "  replica_count: 0\n",
    "ps_spec:\n",
    "  replica_count: 0\n",
    "train_data_paths:\n",
    "  - /content/datalab/ml/census/preprocessed/features_train-00000-of-00001\n",
    "eval_data_paths:\n",
    "  - /content/datalab/ml/census/preprocessed/features_eval-00000-of-00001\n",
    "metadata_path: /content/datalab/ml/census/preprocessed/metadata.yaml\n",
    "output_path: /content/datalab/ml/census/model"
   ]
  },
  {
   "cell_type": "markdown",
   "metadata": {},
   "source": [
    "Check the training output."
   ]
  },
  {
   "cell_type": "code",
   "execution_count": 3,
   "metadata": {
    "collapsed": false
   },
   "outputs": [
    {
     "name": "stdout",
     "output_type": "stream",
     "text": [
      "eval  logdir  model  summaries\r\n"
     ]
    }
   ],
   "source": [
    "!ls /content/datalab/ml/census/model"
   ]
  },
  {
   "cell_type": "markdown",
   "metadata": {},
   "source": [
    "You can start TensorBoard to view training results."
   ]
  },
  {
   "cell_type": "code",
   "execution_count": 4,
   "metadata": {
    "collapsed": false
   },
   "outputs": [
    {
     "data": {
      "text/html": [
       "<p>TensorBoard was started successfully with pid 244. Click <a href=\"/_proxy/39301/\" target=\"_blank\">here</a> to access it.</p>"
      ],
      "text/plain": [
       "<IPython.core.display.HTML object>"
      ]
     },
     "execution_count": 4,
     "metadata": {},
     "output_type": "execute_result"
    }
   ],
   "source": [
    "%tensorboard start --logdir /content/datalab/ml/census/model"
   ]
  },
  {
   "cell_type": "markdown",
   "metadata": {},
   "source": [
    "Shut down the tensorboard serverwhen you are done with it."
   ]
  },
  {
   "cell_type": "code",
   "execution_count": 5,
   "metadata": {
    "collapsed": true
   },
   "outputs": [],
   "source": [
    "%tensorboard stop --pid 244"
   ]
  },
  {
   "cell_type": "markdown",
   "metadata": {},
   "source": [
    "### Cloud Training\n",
    "\n",
    "Cloud training is similar but with \"--cloud\" flag, and use all GCS paths instead of local paths. <br>\n",
    "You also need to make sure you have a project whitelisted for CloudML, and use \"%projects set project-id\" to set it."
   ]
  },
  {
   "cell_type": "code",
   "execution_count": 6,
   "metadata": {
    "collapsed": false
   },
   "outputs": [
    {
     "name": "stdout",
     "output_type": "stream",
     "text": [
      "Copying file:///content/datalab/ml/census/trainer-0.1.tar.gz [Content-Type=application/x-tar]...\n",
      "Uploading   ...mated-sampledata/census/model/trainer-0.1.tar.gz: 6.49 KiB/6.49 KiB    \n"
     ]
    }
   ],
   "source": [
    "!gsutil cp /content/datalab/ml/census/trainer-0.1.tar.gz gs://cloud-ml-test-automated-sampledata/census/model/trainer-0.1.tar.gz"
   ]
  },
  {
   "cell_type": "markdown",
   "metadata": {},
   "source": [
    "Start training using the Cloud DataFlow output from the \"2. Preprocessing\" notebook."
   ]
  },
  {
   "cell_type": "code",
   "execution_count": 8,
   "metadata": {
    "collapsed": false
   },
   "outputs": [
    {
     "data": {
      "text/html": [
       "<p>Job \"trainer_task_160819_055928\" was submitted successfully.<br/>Run \"%ml jobs --name trainer_task_160819_055928\" to view the status of the job.</p><p>Click <a href=\"https://console.developers.google.com/logs/viewer?project=cloud-ml-test-automated&resource=ml.googleapis.com%2Fjob_id%2Ftrainer_task_160819_055928\" target=\"_blank\">here</a> to view cloud log. <br/>Start TensorBoard by running \"%tensorboard start --logdir=&lt;YourLogDir&gt;\".</p>"
      ],
      "text/plain": [
       "<IPython.core.display.HTML object>"
      ]
     },
     "execution_count": 8,
     "metadata": {},
     "output_type": "execute_result"
    }
   ],
   "source": [
    "%ml train --cloud\n",
    "trainer_uri: gs://cloud-ml-test-automated-sampledata/census/model/trainer-0.1.tar.gz\n",
    "module_name: trainer.task\n",
    "master_spec:\n",
    "  replica_count: 1\n",
    "worker_spec:\n",
    "  replica_count: 1\n",
    "ps_spec:\n",
    "  replica_count: 1\n",
    "train_data_paths:\n",
    "  - gs://cloud-ml-test-automated-sampledata/census/preprocessed/features_train-00000-of-00008\n",
    "  - gs://cloud-ml-test-automated-sampledata/census/preprocessed/features_train-00001-of-00008\n",
    "  - gs://cloud-ml-test-automated-sampledata/census/preprocessed/features_train-00002-of-00008\n",
    "  - gs://cloud-ml-test-automated-sampledata/census/preprocessed/features_train-00003-of-00008\n",
    "  - gs://cloud-ml-test-automated-sampledata/census/preprocessed/features_train-00004-of-00008\n",
    "  - gs://cloud-ml-test-automated-sampledata/census/preprocessed/features_train-00005-of-00008\n",
    "  - gs://cloud-ml-test-automated-sampledata/census/preprocessed/features_train-00006-of-00008\n",
    "  - gs://cloud-ml-test-automated-sampledata/census/preprocessed/features_train-00007-of-00008\n",
    "eval_data_paths:\n",
    "  - gs://cloud-ml-test-automated-sampledata/census/preprocessed/features_eval-00000-of-00009\n",
    "  - gs://cloud-ml-test-automated-sampledata/census/preprocessed/features_eval-00001-of-00009\n",
    "  - gs://cloud-ml-test-automated-sampledata/census/preprocessed/features_eval-00002-of-00009\n",
    "  - gs://cloud-ml-test-automated-sampledata/census/preprocessed/features_eval-00003-of-00009\n",
    "  - gs://cloud-ml-test-automated-sampledata/census/preprocessed/features_eval-00004-of-00009\n",
    "  - gs://cloud-ml-test-automated-sampledata/census/preprocessed/features_eval-00005-of-00009\n",
    "  - gs://cloud-ml-test-automated-sampledata/census/preprocessed/features_eval-00006-of-00009\n",
    "  - gs://cloud-ml-test-automated-sampledata/census/preprocessed/features_eval-00007-of-00009\n",
    "  - gs://cloud-ml-test-automated-sampledata/census/preprocessed/features_eval-00008-of-00009\n",
    "metadata_path: gs://cloud-ml-test-automated-sampledata/census/preprocessed/metadata.yaml\n",
    "output_path: gs://cloud-ml-test-automated-sampledata/census/trainedmodel"
   ]
  },
  {
   "cell_type": "markdown",
   "metadata": {},
   "source": [
    "View the trained model:"
   ]
  },
  {
   "cell_type": "code",
   "execution_count": 10,
   "metadata": {
    "collapsed": false
   },
   "outputs": [
    {
     "name": "stdout",
     "output_type": "stream",
     "text": [
      "gs://cloud-ml-test-automated-sampledata/census/trainedmodel/eval/\r\n",
      "gs://cloud-ml-test-automated-sampledata/census/trainedmodel/logdir/\r\n",
      "gs://cloud-ml-test-automated-sampledata/census/trainedmodel/model/\r\n",
      "gs://cloud-ml-test-automated-sampledata/census/trainedmodel/summaries/\r\n"
     ]
    }
   ],
   "source": [
    "!gsutil ls gs://cloud-ml-test-automated-sampledata/census/trainedmodel"
   ]
  },
  {
   "cell_type": "code",
   "execution_count": null,
   "metadata": {
    "collapsed": true
   },
   "outputs": [],
   "source": []
  }
 ],
 "metadata": {
  "kernelspec": {
   "display_name": "Python 2",
   "language": "python",
   "name": "python2"
  },
  "language_info": {
   "codemirror_mode": {
    "name": "ipython",
    "version": 2
   },
   "file_extension": ".py",
   "mimetype": "text/x-python",
   "name": "python",
   "nbconvert_exporter": "python",
   "pygments_lexer": "ipython2",
   "version": "2.7.9"
  }
 },
 "nbformat": 4,
 "nbformat_minor": 1
}
