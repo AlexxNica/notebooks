{
 "cells": [
  {
   "cell_type": "markdown",
   "metadata": {},
   "source": [
    "### Hyperparameter Tuning\n",
    "\n",
    "CloudML service supports hyperparams tuning. Any program args exposed from your training program can be tuned. To do so, in the cloud run input, add \"hyperparameters\" section."
   ]
  },
  {
   "cell_type": "code",
   "execution_count": 4,
   "metadata": {
    "collapsed": false
   },
   "outputs": [],
   "source": [
    "import os\n",
    "\n",
    "bucket = 'gs://' + datalab_project_id() + '-sampledata'\n",
    "package_path = os.path.join(bucket, 'census', 'model', 'trainer-0.1.tar.gz')\n",
    "train_data_path = os.path.join(bucket, 'census', 'preprocessed', 'features_train')\n",
    "eval_data_path = os.path.join(bucket, 'census', 'preprocessed', 'features_eval')\n",
    "metadata_path = os.path.join(bucket, 'census', 'preprocessed', 'metadata.yaml')\n",
    "output_path = os.path.join(bucket, 'census', 'hptuning')\n",
    "summary_dir_pattern = os.path.join(bucket, 'census', 'hptuning', '*', 'summaries')\n",
    "eval_dir_pattern = os.path.join(bucket, 'census', 'hptuning', '*', 'eval')"
   ]
  },
  {
   "cell_type": "markdown",
   "metadata": {},
   "source": [
    "The following sample shows 3 hyperparams \"hidden1\", \"hidden2\", and \"hidden3\", indicating the size for the 3 hidden layers. We will submit 15 runs with various parameter values (the CloudML service will set those values in each trial)."
   ]
  },
  {
   "cell_type": "code",
   "execution_count": 5,
   "metadata": {
    "collapsed": false
   },
   "outputs": [
    {
     "data": {
      "text/html": [
       "<p>Job \"trainer_task_160922_014919\" was submitted successfully.<br/>Run \"%ml jobs --name trainer_task_160922_014919\" to view the status of the job.</p><p>Click <a href=\"https://console.developers.google.com/logs/viewer?project=cloud-ml-test-automated&resource=ml.googleapis.com%2Fjob_id%2Ftrainer_task_160922_014919\" target=\"_blank\">here</a> to view cloud log. <br/>Start TensorBoard by running \"%tensorboard start --logdir=&lt;YourLogDir&gt;\".</p>"
      ],
      "text/plain": [
       "<IPython.core.display.HTML object>"
      ]
     },
     "execution_count": 5,
     "metadata": {},
     "output_type": "execute_result"
    }
   ],
   "source": [
    "%ml train --cloud\n",
    "package_uris: $package_path\n",
    "python_module: trainer.task\n",
    "scale_tier: BASIC\n",
    "region: us-west1\n",
    "args:\n",
    "  train_data_paths:\n",
    "    - $train_data_path\n",
    "  eval_data_paths:\n",
    "    - $eval_data_path\n",
    "  metadata_path: $metadata_path\n",
    "  output_path: $output_path\n",
    "  max_steps: 3000\n",
    "hyperparameters:\n",
    "  goal: MINIMIZE\n",
    "  max_trials: 15\n",
    "  max_parallel_trials: 5\n",
    "  params:\n",
    "    - parameter_name: hidden1\n",
    "      type: INTEGER\n",
    "      min_value: 100\n",
    "      max_value: 300\n",
    "      scale_type: UNIT_LINEAR_SCALE\n",
    "    - parameter_name: hidden2\n",
    "      type: INTEGER\n",
    "      min_value: 50\n",
    "      max_value: 100\n",
    "      scale_type: UNIT_LINEAR_SCALE    \n",
    "    - parameter_name: hidden3\n",
    "      type: INTEGER\n",
    "      min_value: 10\n",
    "      max_value: 50\n",
    "      scale_type: UNIT_LINEAR_SCALE           "
   ]
  },
  {
   "cell_type": "markdown",
   "metadata": {},
   "source": [
    "The training results will show in \"trainingOutput\" field of the job. Initially it is empty, but once some trials finish, they will show up."
   ]
  },
  {
   "cell_type": "code",
   "execution_count": 17,
   "metadata": {
    "collapsed": false
   },
   "outputs": [
    {
     "data": {
      "text/html": [
       "<pre>createTime: '2016-09-22T01:49:20Z'\n",
       "endTime: '2016-09-22T02:07:45Z'\n",
       "jobId: trainer_task_160922_014919\n",
       "startTime: '2016-09-22T01:49:22Z'\n",
       "state: SUCCEEDED\n",
       "trainingInput:\n",
       "  args: [--train_data_paths, 'gs://cloud-ml-test-automated-sampledata/census/preprocessed/features_train',\n",
       "    --metadata_path, 'gs://cloud-ml-test-automated-sampledata/census/preprocessed/metadata.yaml',\n",
       "    --max_steps, '3000', --output_path, 'gs://cloud-ml-test-automated-sampledata/census/hptuning',\n",
       "    --eval_data_paths, 'gs://cloud-ml-test-automated-sampledata/census/preprocessed/features_eval']\n",
       "  hyperparameters:\n",
       "    goal: MINIMIZE\n",
       "    maxParallelTrials: 5\n",
       "    maxTrials: 15\n",
       "    params:\n",
       "    - {maxValue: 300, minValue: 100, parameterName: hidden1, scaleType: UNIT_LINEAR_SCALE,\n",
       "      type: INTEGER}\n",
       "    - {maxValue: 100, minValue: 50, parameterName: hidden2, scaleType: UNIT_LINEAR_SCALE,\n",
       "      type: INTEGER}\n",
       "    - {maxValue: 50, minValue: 10, parameterName: hidden3, scaleType: UNIT_LINEAR_SCALE,\n",
       "      type: INTEGER}\n",
       "  packageUris: ['gs://cloud-ml-test-automated-sampledata/census/model/trainer-0.1.tar.gz']\n",
       "  pythonModule: trainer.task\n",
       "  region: us-west1\n",
       "trainingOutput:\n",
       "  completedTrialCount: '15'\n",
       "  trials:\n",
       "  - hyperparameters: {hidden1: '300', hidden2: '51', hidden3: '10'}\n",
       "    trialId: '3'\n",
       "  - finalMetric: {objectiveValue: 48636.4765625, trainingStep: '3000'}\n",
       "    hyperparameters: {hidden1: '102', hidden2: '100', hidden3: '10'}\n",
       "    trialId: '8'\n",
       "  - finalMetric: {objectiveValue: 48654.48828125, trainingStep: '3000'}\n",
       "    hyperparameters: {hidden1: '100', hidden2: '100', hidden3: '10'}\n",
       "    trialId: '10'\n",
       "  - finalMetric: {objectiveValue: 48717.5078125, trainingStep: '3000'}\n",
       "    hyperparameters: {hidden1: '105', hidden2: '100', hidden3: '10'}\n",
       "    trialId: '2'\n",
       "  - finalMetric: {objectiveValue: 48810.13671875, trainingStep: '3000'}\n",
       "    hyperparameters: {hidden1: '100', hidden2: '100', hidden3: '22'}\n",
       "    trialId: '7'\n",
       "  - finalMetric: {objectiveValue: 48961.984375, trainingStep: '3000'}\n",
       "    hyperparameters: {hidden1: '101', hidden2: '52', hidden3: '48'}\n",
       "    trialId: '14'\n",
       "  - finalMetric: {objectiveValue: 49304.1484375, trainingStep: '3000'}\n",
       "    hyperparameters: {hidden1: '300', hidden2: '100', hidden3: '13'}\n",
       "    trialId: '5'\n",
       "  - finalMetric: {objectiveValue: 49326.34375, trainingStep: '3000'}\n",
       "    hyperparameters: {hidden1: '258', hidden2: '98', hidden3: '11'}\n",
       "    trialId: '11'\n",
       "  - finalMetric: {objectiveValue: 49440.32421875, trainingStep: '3000'}\n",
       "    hyperparameters: {hidden1: '102', hidden2: '51', hidden3: '11'}\n",
       "    trialId: '4'\n",
       "  - finalMetric: {objectiveValue: 49467.5390625, trainingStep: '3000'}\n",
       "    hyperparameters: {hidden1: '100', hidden2: '100', hidden3: '44'}\n",
       "    trialId: '9'\n",
       "  - finalMetric: {objectiveValue: 49588.1171875, trainingStep: '3000'}\n",
       "    hyperparameters: {hidden1: '257', hidden2: '51', hidden3: '50'}\n",
       "    trialId: '13'\n",
       "  - finalMetric: {objectiveValue: 49772.16796875, trainingStep: '3000'}\n",
       "    hyperparameters: {hidden1: '222', hidden2: '71', hidden3: '50'}\n",
       "    trialId: '1'\n",
       "  - finalMetric: {objectiveValue: 49837.10546875, trainingStep: '3000'}\n",
       "    hyperparameters: {hidden1: '300', hidden2: '57', hidden3: '50'}\n",
       "    trialId: '15'\n",
       "  - finalMetric: {objectiveValue: 50038.2265625, trainingStep: '3000'}\n",
       "    hyperparameters: {hidden1: '259', hidden2: '97', hidden3: '50'}\n",
       "    trialId: '12'\n",
       "  - finalMetric: {objectiveValue: 50072, trainingStep: '3000'}\n",
       "    hyperparameters: {hidden1: '300', hidden2: '100', hidden3: '34'}\n",
       "    trialId: '6'\n",
       "</pre>"
      ],
      "text/plain": [
       "<IPython.core.display.HTML object>"
      ]
     },
     "execution_count": 17,
     "metadata": {},
     "output_type": "execute_result"
    }
   ],
   "source": [
    "%ml jobs --name trainer_task_160922_014919"
   ]
  },
  {
   "cell_type": "markdown",
   "metadata": {},
   "source": [
    "\"--trials\" flag tells Datalab to plot the parallel coordination graph given the results."
   ]
  },
  {
   "cell_type": "code",
   "execution_count": 21,
   "metadata": {
    "collapsed": false
   },
   "outputs": [
    {
     "data": {
      "text/html": [
       "\n",
       "<div id=\"v9_147451749882\" class=\"parcoords\" style=\"height:300px;\"></div>\n",
       "<div id=\"g10_147451749882\" class=\"parcoords_grid\"></div>\n",
       "<script>\n",
       "  require.config({\n",
       "    paths: {\n",
       "      d3: 'http://d3js.org/d3.v3.min',\n",
       "      sylvester: '/nbextensions/gcpdatalab/extern/sylvester',\n",
       "      parcoords: '/nbextensions/gcpdatalab/extern/d3.parcoords',\n",
       "    },\n",
       "    shim: {\n",
       "      parcoords: {\n",
       "        deps: ['d3', 'sylvester'],\n",
       "        exports: 'd3'\n",
       "      },\n",
       "    }\n",
       "  });\n",
       "  require(['parcoords',\n",
       "           '/nbextensions/gcpdatalab/parcoords.js',\n",
       "           'nbextensions/gcpdatalab/style!/nbextensions/gcpdatalab/extern/d3.parcoords.css'],\n",
       "          function(d3, lib) {\n",
       "            var data = {\"Objective\": [48636.4765625, 48654.48828125, 48717.5078125, 48810.13671875, 48961.984375, 49304.1484375, 49326.34375, 49440.32421875, 49467.5390625, 49588.1171875, 49772.16796875, 49837.10546875, 50038.2265625, 50072], \"Trial\": [\"8\", \"10\", \"2\", \"7\", \"14\", \"5\", \"11\", \"4\", \"9\", \"13\", \"1\", \"15\", \"12\", \"6\"], \"Training Step\": [\"3000\", \"3000\", \"3000\", \"3000\", \"3000\", \"3000\", \"3000\", \"3000\", \"3000\", \"3000\", \"3000\", \"3000\", \"3000\", \"3000\"], \"hidden3\": [\"10\", \"10\", \"10\", \"22\", \"48\", \"13\", \"11\", \"11\", \"44\", \"50\", \"50\", \"50\", \"50\", \"34\"], \"hidden2\": [\"100\", \"100\", \"100\", \"100\", \"52\", \"100\", \"98\", \"51\", \"100\", \"51\", \"71\", \"57\", \"97\", \"100\"], \"hidden1\": [\"102\", \"100\", \"105\", \"100\", \"101\", \"300\", \"258\", \"102\", \"100\", \"257\", \"222\", \"300\", \"259\", \"300\"]};\n",
       "            lib.plot(d3, [48636.4765625, 50072], false, data, 'v9_147451749882', 'g10_147451749882');\n",
       "          });\n",
       "</script>\n"
      ],
      "text/plain": [
       "<IPython.core.display.HTML object>"
      ]
     },
     "execution_count": 21,
     "metadata": {},
     "output_type": "execute_result"
    }
   ],
   "source": [
    "%ml jobs --name trainer_task_160922_014919 --trials"
   ]
  },
  {
   "cell_type": "markdown",
   "metadata": {},
   "source": [
    "\"%ml summary\" can be used to compare the runs with TF events."
   ]
  },
  {
   "cell_type": "code",
   "execution_count": 22,
   "metadata": {
    "collapsed": false
   },
   "outputs": [
    {
     "data": {
      "text/html": [
       "<div id=\"d41d71be-f73c-4740-8d3e-0980bda0a6e9\" style=\"height: 525px; width: 100%;\" class=\"plotly-graph-div\"></div><script type=\"text/javascript\">require([\"plotly\"], function(Plotly) { window.PLOTLYENV=window.PLOTLYENV || {};window.PLOTLYENV.BASE_URL=\"https://plot.ly\";Plotly.newPlot(\"d41d71be-f73c-4740-8d3e-0980bda0a6e9\", [{\"y\": [89344.9375, 65039.28125, 65287.84765625, 45991.2109375, 46492.5546875, 53606.2578125, 49422.2578125, 54589.34765625, 47522.2265625, 41816.8046875, 36347.0703125, 52282.6171875, 55735.4921875, 45587.90234375, 54346.52734375], \"x\": [200, 400, 600, 800, 1000, 1200, 1400, 1600, 1800, 2000, 2200, 2400, 2600, 2800, 3000], \"type\": \"scatter\", \"name\": \"loss-gs://cloud-ml-test-automated-sampledata/census/hptuning/1/summaries\"}, {\"y\": [93146.234375, 79970.9453125, 81148.546875, 57817.921875, 55817.60546875, 58015.96484375, 54028.265625, 56390.5234375, 48466.671875, 41894.7109375, 36725.5234375, 52835.59765625, 55737.10546875, 45736.9609375, 54443.82421875], \"x\": [200, 400, 600, 800, 1000, 1200, 1400, 1600, 1800, 2000, 2200, 2400, 2600, 2800, 3000], \"type\": \"scatter\", \"name\": \"loss-gs://cloud-ml-test-automated-sampledata/census/hptuning/7/summaries\"}, {\"y\": [93489.9609375, 81819.09375, 84899.359375, 62479.18359375, 61313.375, 63295.80859375, 58796.7890625, 58753.765625, 50320.23828125, 42158.046875, 37079.7734375, 53405.09375, 55582.29296875, 45983.62109375, 54436.046875], \"x\": [200, 400, 600, 800, 1000, 1200, 1400, 1600, 1800, 2000, 2200, 2400, 2600, 2800, 3000], \"type\": \"scatter\", \"name\": \"loss-gs://cloud-ml-test-automated-sampledata/census/hptuning/10/summaries\"}, {\"y\": [90393.5546875, 66284.671875, 65442.3203125, 46007.859375, 46489.9609375, 53600.859375, 49418.4375, 54584.78515625, 47513.546875, 41808.046875, 36328.859375, 52270.578125, 55734.421875, 45587.015625, 54344.796875], \"x\": [200, 400, 600, 800, 1000, 1200, 1400, 1600, 1800, 2000, 2200, 2400, 2600, 2800, 3000], \"type\": \"scatter\", \"name\": \"loss-gs://cloud-ml-test-automated-sampledata/census/hptuning/15/summaries\"}, {\"y\": [92803.28125, 78375.3125, 77919.4765625, 54108.84765625, 51840.578125, 55130.30859375, 51479.7109375, 55280.6171875, 47854.7109375, 41904.22265625, 36614.9453125, 52595.625, 55795.2421875, 45651.48046875, 54430.546875], \"x\": [200, 400, 600, 800, 1000, 1200, 1400, 1600, 1800, 2000, 2200, 2400, 2600, 2800, 3000], \"type\": \"scatter\", \"name\": \"loss-gs://cloud-ml-test-automated-sampledata/census/hptuning/14/summaries\"}, {\"y\": [93318.5390625, 80950.984375, 83344.6171875, 60884.7578125, 59789.859375, 62085.1015625, 58021.0, 58522.3984375, 50226.37109375, 42171.8125, 37118.2890625, 53473.9921875, 55563.18359375, 46038.0703125, 54427.57421875], \"x\": [200, 400, 600, 800, 1000, 1200, 1400, 1600, 1800, 2000, 2200, 2400, 2600, 2800, 3000], \"type\": \"scatter\", \"name\": \"loss-gs://cloud-ml-test-automated-sampledata/census/hptuning/8/summaries\"}, {\"y\": [91196.8671875, 69842.859375, 67208.03125, 46719.51953125, 46735.8046875, 53630.8203125, 49531.96875, 54655.7109375, 47572.125, 41853.09375, 36412.09375, 52332.11328125, 55754.484375, 45602.3828125, 54370.28125], \"x\": [200, 400, 600, 800, 1000, 1200, 1400, 1600, 1800, 2000, 2200, 2400, 2600, 2800, 3000], \"type\": \"scatter\", \"name\": \"loss-gs://cloud-ml-test-automated-sampledata/census/hptuning/13/summaries\"}, {\"y\": [93373.765625, 82032.5, 86411.921875, 65703.5859375, 66514.90625, 70990.28125, 68351.90625, 65368.4375, 58739.29296875, 46205.796875, 40504.30078125, 58240.67578125, 55503.35546875, 48542.96875, 54435.32421875], \"x\": [200, 400, 600, 800, 1000, 1200, 1400, 1600, 1800, 2000, 2200, 2400, 2600, 2800, 3000], \"type\": \"scatter\", \"name\": \"loss-gs://cloud-ml-test-automated-sampledata/census/hptuning/4/summaries\"}, {\"y\": [90922.015625, 71238.0859375, 69120.015625, 47970.609375, 47424.828125, 53671.9453125, 49808.7109375, 54739.13671875, 47624.5703125, 41894.59765625, 36483.3125, 52415.90625, 55780.55078125, 45614.16796875, 54394.47265625], \"x\": [200, 400, 600, 800, 1000, 1200, 1400, 1600, 1800, 2000, 2200, 2400, 2600, 2800, 3000], \"type\": \"scatter\", \"name\": \"loss-gs://cloud-ml-test-automated-sampledata/census/hptuning/11/summaries\"}, {\"y\": [91813.34375, 73356.8046875, 70793.8828125, 48869.46875, 47917.875, 53730.70703125, 49960.1328125, 54777.3203125, 47642.75, 41896.41015625, 36501.1328125, 52440.5546875, 55784.8984375, 45615.4296875, 54397.9140625], \"x\": [200, 400, 600, 800, 1000, 1200, 1400, 1600, 1800, 2000, 2200, 2400, 2600, 2800, 3000], \"type\": \"scatter\", \"name\": \"loss-gs://cloud-ml-test-automated-sampledata/census/hptuning/5/summaries\"}, {\"y\": [93537.109375, 82314.6796875, 86275.296875, 64781.09765625, 64551.88671875, 67628.2265625, 63624.1796875, 61694.04296875, 53660.015625, 43264.2890625, 38057.46484375, 54682.53125, 55344.06640625, 46597.0390625, 54379.96875], \"x\": [200, 400, 600, 800, 1000, 1200, 1400, 1600, 1800, 2000, 2200, 2400, 2600, 2800, 3000], \"type\": \"scatter\", \"name\": \"loss-gs://cloud-ml-test-automated-sampledata/census/hptuning/2/summaries\"}, {\"y\": [92861.7109375, 78528.890625, 78374.546875, 54779.375, 52662.4140625, 55689.97265625, 52004.078125, 55510.8203125, 47963.44921875, 41873.5703125, 36620.12109375, 52645.71484375, 55771.0, 45675.0859375, 54428.1640625], \"x\": [200, 400, 600, 800, 1000, 1200, 1400, 1600, 1800, 2000, 2200, 2400, 2600, 2800, 3000], \"type\": \"scatter\", \"name\": \"loss-gs://cloud-ml-test-automated-sampledata/census/hptuning/3/summaries\"}, {\"y\": [91253.2109375, 70524.625, 67833.078125, 47042.06640625, 46882.05078125, 53640.953125, 49581.875, 54666.015625, 47595.01953125, 41869.921875, 36439.30859375, 52380.27734375, 55766.46484375, 45602.23046875, 54381.5625], \"x\": [200, 400, 600, 800, 1000, 1200, 1400, 1600, 1800, 2000, 2200, 2400, 2600, 2800, 3000], \"type\": \"scatter\", \"name\": \"loss-gs://cloud-ml-test-automated-sampledata/census/hptuning/9/summaries\"}, {\"y\": [89338.484375, 62270.5546875, 64774.90625, 45772.8359375, 46370.9453125, 53576.890625, 49366.265625, 54538.84375, 47468.875, 41769.36328125, 36269.9765625, 52208.1171875, 55709.8359375, 45585.75, 54325.984375], \"x\": [200, 400, 600, 800, 1000, 1200, 1400, 1600, 1800, 2000, 2200, 2400, 2600, 2800, 3000], \"type\": \"scatter\", \"name\": \"loss-gs://cloud-ml-test-automated-sampledata/census/hptuning/12/summaries\"}, {\"y\": [88385.140625, 61026.42578125, 64747.9453125, 45746.52734375, 46355.3046875, 53564.1875, 49355.12109375, 54523.921875, 47456.76953125, 41759.84375, 36247.078125, 52194.8984375, 55700.9765625, 45587.15625, 54326.046875], \"x\": [200, 400, 600, 800, 1000, 1200, 1400, 1600, 1800, 2000, 2200, 2400, 2600, 2800, 3000], \"type\": \"scatter\", \"name\": \"loss-gs://cloud-ml-test-automated-sampledata/census/hptuning/6/summaries\"}], {\"title\": \"loss\", \"xaxis\": {\"title\": \"step\"}, \"yaxis\": {\"title\": \"loss\"}}, {\"linkText\": \"Export to plot.ly\", \"showLink\": true})});</script>"
      ],
      "text/plain": [
       "<IPython.core.display.HTML object>"
      ]
     },
     "metadata": {},
     "output_type": "display_data"
    }
   ],
   "source": [
    "%ml summary --dir $summary_dir_pattern --name loss --step"
   ]
  },
  {
   "cell_type": "code",
   "execution_count": 20,
   "metadata": {
    "collapsed": false
   },
   "outputs": [
    {
     "data": {
      "text/html": [
       "<div id=\"4bccdb05-c10f-4ab1-89d4-2b1c3ffc728e\" style=\"height: 525px; width: 100%;\" class=\"plotly-graph-div\"></div><script type=\"text/javascript\">require([\"plotly\"], function(Plotly) { window.PLOTLYENV=window.PLOTLYENV || {};window.PLOTLYENV.BASE_URL=\"https://plot.ly\";Plotly.newPlot(\"4bccdb05-c10f-4ab1-89d4-2b1c3ffc728e\", [{\"y\": [72263.9609375, 62382.10546875, 53629.33203125, 50161.7890625, 48872.07421875, 48602.53125, 48554.21875, 48610.203125, 48669.94921875, 48744.33984375, 48832.546875, 48932.40234375, 49030.0859375, 49098.4375, 49167.515625, 49251.390625, 49252.8359375], \"x\": [389, 563, 776, 961, 1157, 1326, 1498, 1663, 1798, 1961, 2128, 2338, 2520, 2664, 2801, 2999, 3000], \"type\": \"scatter\", \"name\": \"error-gs://cloud-ml-test-automated-sampledata/census/hptuning/11/eval\"}, {\"y\": [71921.1875, 60817.6796875, 51953.41796875, 49193.1171875, 48583.75390625, 48545.24609375, 48607.046875, 48700.22265625, 48799.203125, 48904.6171875, 49018.44140625, 49118.0234375, 49217.8671875, 49304.41796875, 49395.609375], \"x\": [384, 554, 767, 965, 1157, 1354, 1507, 1664, 1831, 2006, 2205, 2398, 2590, 2793, 3000], \"type\": \"scatter\", \"name\": \"error-gs://cloud-ml-test-automated-sampledata/census/hptuning/9/eval\"}, {\"y\": [82463.4140625, 81162.0234375, 78080.265625, 74596.96875, 70838.1796875, 67110.71875, 63533.52734375, 60176.27734375, 57276.6875, 54981.74609375, 52727.0625, 51490.265625, 50524.5390625, 49813.44921875, 49333.1796875], \"x\": [384, 518, 745, 946, 1141, 1328, 1513, 1699, 1884, 2061, 2289, 2460, 2635, 2820, 3000], \"type\": \"scatter\", \"name\": \"error-gs://cloud-ml-test-automated-sampledata/census/hptuning/4/eval\"}, {\"y\": [67572.0390625, 55902.2265625, 50058.046875, 48718.55078125, 48620.0859375, 48700.28515625, 48810.15234375, 48942.90234375, 49030.9140625, 49149.3359375, 49234.80078125, 49344.57421875, 49441.1171875, 49526.41796875, 49621.484375, 49677.09765625, 49728.15625, 49764.6171875], \"x\": [384, 546, 723, 923, 1106, 1272, 1401, 1590, 1715, 1885, 2004, 2185, 2361, 2530, 2709, 2814, 2888, 3000], \"type\": \"scatter\", \"name\": \"error-gs://cloud-ml-test-automated-sampledata/census/hptuning/15/eval\"}, {\"y\": [80768.140625, 76092.6640625, 69078.9921875, 61714.0703125, 55968.67578125, 52231.4140625, 50119.14453125, 49159.32421875, 48747.125, 48612.55078125, 48583.9765625, 48622.9609375, 48673.65625, 48733.22265625], \"x\": [380, 560, 767, 980, 1185, 1390, 1601, 1801, 2003, 2201, 2421, 2622, 2806, 3000], \"type\": \"scatter\", \"name\": \"error-gs://cloud-ml-test-automated-sampledata/census/hptuning/7/eval\"}, {\"y\": [82352.0390625, 79638.390625, 74550.90625, 68590.984375, 63225.3828125, 57457.703125, 53801.1328125, 51312.57421875, 49918.0390625, 49167.2109375, 48765.81640625, 48596.4921875, 48541.78515625, 48575.95703125, 48573.96875], \"x\": [381, 553, 763, 964, 1141, 1357, 1547, 1742, 1934, 2123, 2324, 2544, 2728, 2947, 3000], \"type\": \"scatter\", \"name\": \"error-gs://cloud-ml-test-automated-sampledata/census/hptuning/10/eval\"}, {\"y\": [66036.6015625, 57411.91796875, 49666.64453125, 48663.4609375, 48588.73828125, 48716.16015625, 48842.09375, 48979.140625, 49090.7734375, 49197.64453125, 49323.35546875, 49419.609375, 49518.9609375, 49605.05078125, 49703.99609375, 49698.75390625], \"x\": [385, 504, 739, 941, 1121, 1312, 1499, 1680, 1862, 2027, 2241, 2405, 2589, 2781, 2990, 3000], \"type\": \"scatter\", \"name\": \"error-gs://cloud-ml-test-automated-sampledata/census/hptuning/1/eval\"}, {\"y\": [79346.921875, 73780.140625, 64923.296875, 57481.53515625, 52528.4140625, 50266.0859375, 49405.82421875, 48807.02734375, 48638.48828125, 48576.2265625, 48590.1015625, 48627.4453125, 48683.5390625, 48741.015625, 48791.1171875, 48854.6171875, 48886.796875], \"x\": [382, 541, 751, 949, 1153, 1327, 1457, 1642, 1801, 1992, 2125, 2307, 2441, 2615, 2751, 2885, 3000], \"type\": \"scatter\", \"name\": \"error-gs://cloud-ml-test-automated-sampledata/census/hptuning/14/eval\"}, {\"y\": [75377.9140625, 66228.890625, 55746.7109375, 50956.47265625, 49192.44140625, 48683.984375, 48575.5390625, 48627.8984375, 48715.6640625, 48818.1328125, 48908.09375, 49012.703125, 49087.5, 49189.82421875, 49230.64453125], \"x\": [371, 538, 765, 966, 1159, 1354, 1562, 1758, 1937, 2142, 2324, 2512, 2693, 2883, 3000], \"type\": \"scatter\", \"name\": \"error-gs://cloud-ml-test-automated-sampledata/census/hptuning/5/eval\"}, {\"y\": [82698.8359375, 81021.6953125, 76988.4140625, 72212.125, 67446.21875, 62382.59765625, 57860.21484375, 54847.6328125, 52468.015625, 50890.6328125, 49925.15625, 49368.4296875, 48986.49609375, 48743.98046875, 48628.71875], \"x\": [389, 535, 762, 964, 1149, 1350, 1555, 1731, 1919, 2101, 2271, 2426, 2602, 2801, 3000], \"type\": \"scatter\", \"name\": \"error-gs://cloud-ml-test-automated-sampledata/census/hptuning/2/eval\"}, {\"y\": [70091.2265625, 57691.8828125, 50606.5859375, 48797.84765625, 48503.01953125, 48567.5859375, 48657.50390625, 48791.75, 48882.2265625, 48985.47265625, 49054.359375, 49160.32421875, 49265.14453125, 49343.7734375, 49430.0390625, 49516.2734375, 49515.140625], \"x\": [401, 589, 800, 998, 1175, 1353, 1541, 1711, 1860, 2013, 2150, 2337, 2480, 2663, 2821, 2987, 3000], \"type\": \"scatter\", \"name\": \"error-gs://cloud-ml-test-automated-sampledata/census/hptuning/13/eval\"}, {\"y\": [64255.046875, 53066.91796875, 48857.76171875, 48592.02734375, 48709.27734375, 48882.12890625, 49025.57421875, 49187.25, 49280.87890625, 49370.51171875, 49467.03515625, 49594.40625, 49673.58203125, 49769.66796875, 49812.734375, 49907.09375, 49965.6640625], \"x\": [373, 529, 733, 866, 1099, 1300, 1468, 1669, 1796, 1951, 2068, 2266, 2401, 2573, 2697, 2850, 3000], \"type\": \"scatter\", \"name\": \"error-gs://cloud-ml-test-automated-sampledata/census/hptuning/12/eval\"}, {\"y\": [79722.9453125, 74955.96875, 68606.828125, 61246.10546875, 54818.62109375, 51529.59375, 49858.47265625, 49188.05859375, 48787.5625, 48659.04296875, 48652.5859375, 48693.3125, 48759.37109375, 48822.515625, 48898.44921875, 48898.44921875], \"x\": [373, 520, 682, 871, 1087, 1274, 1459, 1601, 1801, 2001, 2201, 2401, 2598, 2784, 3000, 3000], \"type\": \"scatter\", \"name\": \"error-gs://cloud-ml-test-automated-sampledata/census/hptuning/3/eval\"}, {\"y\": [62800.39453125, 52999.83203125, 49016.80859375, 48662.91796875, 48751.96484375, 48943.00390625, 49104.8359375, 49251.30078125, 49366.796875, 49485.2265625, 49617.07421875, 49722.40234375, 49826.44140625, 49935.25, 50000.02734375], \"x\": [373, 515, 713, 889, 1086, 1300, 1509, 1682, 1861, 2034, 2235, 2434, 2627, 2838, 3000], \"type\": \"scatter\", \"name\": \"error-gs://cloud-ml-test-automated-sampledata/census/hptuning/6/eval\"}, {\"y\": [81798.0546875, 78712.453125, 72954.6796875, 66240.1328125, 60026.02734375, 55107.5390625, 52455.50390625, 50691.640625, 49619.19140625, 49010.39453125, 48694.609375, 48562.9609375, 48542.82421875, 48555.0], \"x\": [367, 532, 753, 982, 1207, 1439, 1621, 1810, 2001, 2201, 2419, 2636, 2810, 3000], \"type\": \"scatter\", \"name\": \"error-gs://cloud-ml-test-automated-sampledata/census/hptuning/8/eval\"}], {\"title\": \"error\", \"xaxis\": {\"title\": \"step\"}, \"yaxis\": {\"title\": \"error\"}}, {\"linkText\": \"Export to plot.ly\", \"showLink\": true})});</script>"
      ],
      "text/plain": [
       "<IPython.core.display.HTML object>"
      ]
     },
     "metadata": {},
     "output_type": "display_data"
    }
   ],
   "source": [
    "%ml summary --dir $eval_dir_pattern --name error --step"
   ]
  },
  {
   "cell_type": "code",
   "execution_count": null,
   "metadata": {
    "collapsed": true
   },
   "outputs": [],
   "source": []
  }
 ],
 "metadata": {
  "kernelspec": {
   "display_name": "Python 2",
   "language": "python",
   "name": "python2"
  },
  "language_info": {
   "codemirror_mode": {
    "name": "ipython",
    "version": 2
   },
   "file_extension": ".py",
   "mimetype": "text/x-python",
   "name": "python",
   "nbconvert_exporter": "python",
   "pygments_lexer": "ipython2",
   "version": "2.7.9"
  }
 },
 "nbformat": 4,
 "nbformat_minor": 1
}
