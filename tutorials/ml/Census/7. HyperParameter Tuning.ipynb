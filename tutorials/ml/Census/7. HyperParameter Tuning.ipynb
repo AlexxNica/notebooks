{
 "cells": [
  {
   "cell_type": "markdown",
   "metadata": {},
   "source": [
    "### Hyperparameter Tuning\n",
    "\n",
    "CloudML service supports hyperparams tuning. Any program args exposed from your training program can be tuned. To do so, in the cloud run input, add \"hyperparameters\" section."
   ]
  },
  {
   "cell_type": "code",
   "execution_count": 3,
   "metadata": {
    "collapsed": false
   },
   "outputs": [],
   "source": [
    "import os\n",
    "\n",
    "bucket = 'gs://' + datalab_project_id() + '-sampledata'\n",
    "package_path = os.path.join(bucket, 'census', 'model', 'trainer-0.3.tar.gz')\n",
    "train_data_path = os.path.join(bucket, 'census', 'preprocessed', 'features_train')\n",
    "eval_data_path = os.path.join(bucket, 'census', 'preprocessed', 'features_eval')\n",
    "metadata_path = os.path.join(bucket, 'census', 'preprocessed', 'metadata.yaml')\n",
    "output_path = os.path.join(bucket, 'census', 'hptuning')\n",
    "summary_dir_pattern = os.path.join(bucket, 'census', 'hptuning', '*', 'summaries')\n",
    "eval_dir_pattern = os.path.join(bucket, 'census', 'hptuning', '*', 'eval')"
   ]
  },
  {
   "cell_type": "code",
   "execution_count": 15,
   "metadata": {
    "collapsed": false
   },
   "outputs": [
    {
     "name": "stdout",
     "output_type": "stream",
     "text": [
      "Copying gs://cloud-datalab/sampledata/ml/census/trainer-0.3.tar.gz [Content-Type=application/gzip]...\n",
      "Copying     ...mated-sampledata/census/model/trainer-0.3.tar.gz: 6.36 KiB/6.36 KiB    \n"
     ]
    }
   ],
   "source": [
    "!gsutil cp gs://cloud-datalab/sampledata/ml/census/trainer-0.3.tar.gz $package_path"
   ]
  },
  {
   "cell_type": "markdown",
   "metadata": {},
   "source": [
    "The following sample shows 3 hyperparams \"hidden1\", \"hidden2\", and \"hidden3\", indicating the size for the 3 hidden layers. We will submit 15 runs with various parameter values (the CloudML service will set those values in each trial)."
   ]
  },
  {
   "cell_type": "code",
   "execution_count": 16,
   "metadata": {
    "collapsed": false
   },
   "outputs": [
    {
     "data": {
      "text/html": [
       "<p>Job \"trainer_task_160902_000413\" was submitted successfully.<br/>Run \"%ml jobs --name trainer_task_160902_000413\" to view the status of the job.</p><p>Click <a href=\"https://console.developers.google.com/logs/viewer?project=cloud-ml-test-automated&resource=ml.googleapis.com%2Fjob_id%2Ftrainer_task_160902_000413\" target=\"_blank\">here</a> to view cloud log. <br/>Start TensorBoard by running \"%tensorboard start --logdir=&lt;YourLogDir&gt;\".</p>"
      ],
      "text/plain": [
       "<IPython.core.display.HTML object>"
      ]
     },
     "execution_count": 16,
     "metadata": {},
     "output_type": "execute_result"
    }
   ],
   "source": [
    "%ml train --cloud\n",
    "package_uris: $package_path\n",
    "python_module: trainer.task\n",
    "scale_tier: BASIC\n",
    "region: us-west1\n",
    "args:\n",
    "  train_data_paths:\n",
    "    - $train_data_path\n",
    "  eval_data_paths:\n",
    "    - $eval_data_path\n",
    "  metadata_path: $metadata_path\n",
    "  output_path: $output_path\n",
    "  max_steps: 3000\n",
    "hyperparameters:\n",
    "  goal: MAXIMIZE\n",
    "  max_trials: 15\n",
    "  max_parallel_trials: 3\n",
    "  params:\n",
    "    - parameter_name: hidden1\n",
    "      type: INTEGER\n",
    "      min_value: 100\n",
    "      max_value: 300\n",
    "      scale_type: UNIT_LINEAR_SCALE\n",
    "    - parameter_name: hidden2\n",
    "      type: INTEGER\n",
    "      min_value: 50\n",
    "      max_value: 100\n",
    "      scale_type: UNIT_LINEAR_SCALE    \n",
    "    - parameter_name: hidden3\n",
    "      type: INTEGER\n",
    "      min_value: 10\n",
    "      max_value: 50\n",
    "      scale_type: UNIT_LINEAR_SCALE           "
   ]
  },
  {
   "cell_type": "markdown",
   "metadata": {},
   "source": [
    "The training results will show in \"trainingOutput\" field of the job. Initially it is empty, but once some trials finish, they will show up."
   ]
  },
  {
   "cell_type": "code",
   "execution_count": 11,
   "metadata": {
    "collapsed": false
   },
   "outputs": [
    {
     "data": {
      "text/html": [
       "<pre>createTime: '2016-09-02T00:04:14.000Z'\n",
       "jobId: trainer_task_160902_000413\n",
       "startTime: '2016-09-02T00:04:16.000Z'\n",
       "state: RUNNING\n",
       "trainingInput:\n",
       "  args: [--train_data_paths, 'gs://cloud-ml-test-automated-sampledata/census/preprocessed/features_train',\n",
       "    --metadata_path, 'gs://cloud-ml-test-automated-sampledata/census/preprocessed/metadata.yaml',\n",
       "    --max_steps, '3000', --output_path, 'gs://cloud-ml-test-automated-sampledata/census/hptuning',\n",
       "    --eval_data_paths, 'gs://cloud-ml-test-automated-sampledata/census/preprocessed/features_eval']\n",
       "  hyperparameters:\n",
       "    goal: MAXIMIZE\n",
       "    maxParallelTrials: 3\n",
       "    maxTrials: 15\n",
       "    params:\n",
       "    - {maxValue: 300, minValue: 100, parameterName: hidden1, scaleType: UNIT_LINEAR_SCALE,\n",
       "      type: INTEGER}\n",
       "    - {maxValue: 100, minValue: 50, parameterName: hidden2, scaleType: UNIT_LINEAR_SCALE,\n",
       "      type: INTEGER}\n",
       "    - {maxValue: 50, minValue: 10, parameterName: hidden3, scaleType: UNIT_LINEAR_SCALE,\n",
       "      type: INTEGER}\n",
       "  packageUris: ['gs://cloud-ml-test-automated-sampledata/census/model/trainer-0.3.tar.gz']\n",
       "  pythonModule: trainer.task\n",
       "  region: us-west1\n",
       "trainingOutput:\n",
       "  completedTrialCount: '8'\n",
       "  trials:\n",
       "  - hyperparameters: {hidden1: '203', hidden2: '51', hidden3: '30'}\n",
       "    trialId: '1'\n",
       "  - hyperparameters: {hidden1: '103', hidden2: '100', hidden3: '10'}\n",
       "    trialId: '2'\n",
       "  - hyperparameters: {hidden1: '295', hidden2: '100', hidden3: '50'}\n",
       "    trialId: '3'\n",
       "  - hyperparameters: {hidden1: '100', hidden2: '80', hidden3: '50'}\n",
       "    trialId: '4'\n",
       "  - hyperparameters: {hidden1: '100', hidden2: '54', hidden3: '50'}\n",
       "    trialId: '5'\n",
       "  - hyperparameters: {hidden1: '100', hidden2: '66', hidden3: '50'}\n",
       "    trialId: '6'\n",
       "  - hyperparameters: {hidden1: '102', hidden2: '100', hidden3: '50'}\n",
       "    trialId: '7'\n",
       "  - hyperparameters: {hidden1: '101', hidden2: '52', hidden3: '50'}\n",
       "    trialId: '8'\n",
       "</pre>"
      ],
      "text/plain": [
       "<IPython.core.display.HTML object>"
      ]
     },
     "execution_count": 11,
     "metadata": {},
     "output_type": "execute_result"
    }
   ],
   "source": [
    "%ml jobs --name trainer_task_160902_000413"
   ]
  },
  {
   "cell_type": "code",
   "execution_count": 18,
   "metadata": {
    "collapsed": false
   },
   "outputs": [
    {
     "data": {
      "text/html": [
       "<div id=\"6f1363a7-63f8-43c0-9a49-9992c337f196\" style=\"height: 525px; width: 100%;\" class=\"plotly-graph-div\"></div><script type=\"text/javascript\">require([\"plotly\"], function(Plotly) { window.PLOTLYENV=window.PLOTLYENV || {};window.PLOTLYENV.BASE_URL=\"https://plot.ly\";Plotly.newPlot(\"6f1363a7-63f8-43c0-9a49-9992c337f196\", [{\"y\": [65061.046875, 99732.875, 72061.0078125, 58495.7421875, 58299.21875, 61281.49609375, 71392.2421875, 55723.46875, 42872.48046875, 51908.671875, 44606.2734375, 34478.6640625, 41413.42578125, 57033.734375, 48896.47265625], \"x\": [200, 400, 600, 800, 1000, 1200, 1400, 1600, 1800, 2000, 2200, 2400, 2600, 2800, 3000], \"type\": \"scatter\", \"name\": \"loss-gs://cloud-ml-test-automated-sampledata/census/hptuning/1/summaries\"}, {\"y\": [62665.796875, 88634.234375, 56909.68359375, 44937.30078125, 53000.0703125, 53005.02734375, 69586.0625, 53417.31640625, 43093.0078125, 51637.6015625, 44123.515625, 34176.88671875, 41340.796875, 56865.984375, 48709.6875], \"x\": [200, 400, 600, 800, 1000, 1200, 1400, 1600, 1800, 2000, 2200, 2400, 2600, 2800, 3000], \"type\": \"scatter\", \"name\": \"loss-gs://cloud-ml-test-automated-sampledata/census/hptuning/7/summaries\"}, {\"y\": [62867.640625, 88877.390625, 56883.875, 44916.46484375, 53007.55078125], \"x\": [200, 400, 600, 800, 1000], \"type\": \"scatter\", \"name\": \"loss-gs://cloud-ml-test-automated-sampledata/census/hptuning/10/summaries\"}, {\"y\": [65001.046875, 100549.6484375, 75019.5859375, 64591.0390625, 65123.49609375, 72055.015625, 78152.265625, 62724.31640625, 45458.1484375, 54219.84375, 47208.5859375, 35895.8984375, 41356.51171875, 58018.71875, 49025.375], \"x\": [200, 400, 600, 800, 1000, 1200, 1400, 1600, 1800, 2000, 2200, 2400, 2600, 2800, 3000], \"type\": \"scatter\", \"name\": \"loss-gs://cloud-ml-test-automated-sampledata/census/hptuning/2/summaries\"}, {\"y\": [64700.4609375, 98288.8515625, 69609.9921875, 55213.8203125, 56011.640625, 58121.57421875, 70374.921875, 54711.92578125, 42930.296875, 51816.01953125, 44467.21875, 34407.5546875, 41422.98828125, 56977.03125, 48868.1875], \"x\": [200, 400, 600, 800, 1000, 1200, 1400, 1600, 1800, 2000, 2200, 2400, 2600, 2800, 3000], \"type\": \"scatter\", \"name\": \"loss-gs://cloud-ml-test-automated-sampledata/census/hptuning/8/summaries\"}, {\"y\": [64800.29296875, 98376.0078125, 69618.1640625, 55141.9609375, 55932.296875, 57991.5703125, 70335.25, 54653.31640625, 42953.890625, 51824.3828125, 44455.91015625, 34411.94140625, 41435.6796875, 56981.03125, 48887.015625], \"x\": [200, 400, 600, 800, 1000, 1200, 1400, 1600, 1800, 2000, 2200, 2400, 2600, 2800, 3000], \"type\": \"scatter\", \"name\": \"loss-gs://cloud-ml-test-automated-sampledata/census/hptuning/5/summaries\"}, {\"y\": [64269.78515625, 95428.453125, 64178.3359375, 49324.078125, 53235.98828125, 54191.98828125, 69633.53125, 53712.96484375, 43087.8359375, 51737.07421875, 44271.765625, 34298.96875, 41404.3203125, 56922.1171875, 48792.703125], \"x\": [200, 400, 600, 800, 1000, 1200, 1400, 1600, 1800, 2000, 2200, 2400, 2600, 2800, 3000], \"type\": \"scatter\", \"name\": \"loss-gs://cloud-ml-test-automated-sampledata/census/hptuning/4/summaries\"}, {\"y\": [62422.703125, 86824.59375, 55707.3671875, 44578.70703125, 53116.3828125, 52910.30859375, 69565.2734375], \"x\": [200, 400, 600, 800, 1000, 1200, 1400], \"type\": \"scatter\", \"name\": \"loss-gs://cloud-ml-test-automated-sampledata/census/hptuning/11/summaries\"}, {\"y\": [59971.765625, 78903.484375, 53435.4375, 44348.98828125, 53370.62109375, 52794.1953125, 69493.4765625, 53327.81640625, 43000.65625, 51525.21875, 43930.1171875, 34028.8828125, 41260.05078125, 56800.9921875, 48586.54296875], \"x\": [200, 400, 600, 800, 1000, 1200, 1400, 1600, 1800, 2000, 2200, 2400, 2600, 2800, 3000], \"type\": \"scatter\", \"name\": \"loss-gs://cloud-ml-test-automated-sampledata/census/hptuning/3/summaries\"}, {\"y\": [62822.26953125, 89124.5078125, 57176.2421875, 45053.86328125, 52976.2421875, 53017.12109375, 69588.0, 53418.5078125, 43093.33984375, 51651.375, 44126.54296875, 34189.81640625, 41345.75, 56869.0625, 48712.30078125], \"x\": [200, 400, 600, 800, 1000, 1200, 1400, 1600, 1800, 2000, 2200, 2400, 2600, 2800, 3000], \"type\": \"scatter\", \"name\": \"loss-gs://cloud-ml-test-automated-sampledata/census/hptuning/9/summaries\"}, {\"y\": [64198.75390625, 96152.9609375, 65965.90625, 51062.59765625, 53845.3046875, 55137.8203125, 69735.125, 53932.2734375, 43030.94921875, 51746.171875, 44318.234375, 34321.24609375, 41408.8046875, 56933.1640625, 48813.375], \"x\": [200, 400, 600, 800, 1000, 1200, 1400, 1600, 1800, 2000, 2200, 2400, 2600, 2800, 3000], \"type\": \"scatter\", \"name\": \"loss-gs://cloud-ml-test-automated-sampledata/census/hptuning/6/summaries\"}], {\"title\": \"loss\", \"xaxis\": {\"title\": \"step\"}, \"yaxis\": {\"title\": \"loss\"}}, {\"linkText\": \"Export to plot.ly\", \"showLink\": true})});</script>"
      ],
      "text/plain": [
       "<IPython.core.display.HTML object>"
      ]
     },
     "metadata": {},
     "output_type": "display_data"
    }
   ],
   "source": [
    "%ml summary --dir $summary_dir_pattern --name loss --step"
   ]
  },
  {
   "cell_type": "code",
   "execution_count": 9,
   "metadata": {
    "collapsed": false
   },
   "outputs": [
    {
     "data": {
      "text/html": [
       "<div id=\"de5017bb-9cb8-4497-a24e-aca03375c89a\" style=\"height: 525px; width: 100%;\" class=\"plotly-graph-div\"></div><script type=\"text/javascript\">require([\"plotly\"], function(Plotly) { window.PLOTLYENV=window.PLOTLYENV || {};window.PLOTLYENV.BASE_URL=\"https://plot.ly\";Plotly.newPlot(\"de5017bb-9cb8-4497-a24e-aca03375c89a\", [{\"y\": [73771.4921875, 58745.05078125, 50766.75, 48795.7265625, 48666.140625, 48747.484375, 48884.30859375, 49032.02734375, 49155.1328125, 49301.90625, 49400.19921875, 49515.1796875, 49582.3359375], \"x\": [341, 565, 786, 1019, 1250, 1475, 1700, 1932, 2163, 2385, 2611, 2840, 3000], \"type\": \"scatter\", \"name\": \"error-gs://cloud-ml-test-automated-sampledata/census/hptuning/9/eval\"}, {\"y\": [78733.5078125, 67830.78125, 56814.0703125, 50844.3359375, 49122.32421875, 48708.92578125, 48665.2109375, 48716.1640625, 48811.98828125, 48915.71484375, 49017.27734375, 49136.359375, 49215.77734375], \"x\": [344, 569, 801, 1043, 1274, 1447, 1671, 1896, 2112, 2337, 2574, 2787, 3000], \"type\": \"scatter\", \"name\": \"error-gs://cloud-ml-test-automated-sampledata/census/hptuning/4/eval\"}, {\"y\": [75227.8828125, 60869.640625, 51426.8203125, 48990.75, 48633.10546875, 48672.15625, 48795.69921875, 48890.44921875, 49018.76171875, 49140.98828125, 49254.97265625, 49353.15234375, 49458.7734375, 49538.02734375, 49574.55078125], \"x\": [313, 522, 740, 951, 1149, 1353, 1543, 1707, 1906, 2104, 2311, 2521, 2723, 2923, 3000], \"type\": \"scatter\", \"name\": \"error-gs://cloud-ml-test-automated-sampledata/census/hptuning/7/eval\"}, {\"y\": [82203.921875, 77358.71875, 69320.3984375, 60764.89453125, 54477.19921875, 50950.34765625, 49426.5859375, 48852.1875, 48642.1484375, 48612.80078125, 48650.65625, 48726.60546875, 48781.5859375], \"x\": [332, 540, 765, 999, 1232, 1464, 1688, 1893, 2121, 2337, 2576, 2796, 3000], \"type\": \"scatter\", \"name\": \"error-gs://cloud-ml-test-automated-sampledata/census/hptuning/1/eval\"}, {\"y\": [82374.65625, 76489.0625, 66697.6015625, 57834.7109375, 52506.2734375, 49885.80078125, 48894.98828125, 48592.91796875, 48563.3203125, 48612.41015625, 48672.71875, 48777.60546875, 48848.82421875], \"x\": [272, 495, 737, 972, 1190, 1414, 1648, 1884, 2117, 2343, 2547, 2774, 3000], \"type\": \"scatter\", \"name\": \"error-gs://cloud-ml-test-automated-sampledata/census/hptuning/5/eval\"}, {\"y\": [83186.796875, 81358.28125, 77787.9765625, 73150.6328125, 68301.96875, 63280.83203125, 58666.59765625, 55417.42578125, 52735.109375, 51035.8203125, 49896.9765625, 49234.640625, 48887.19140625, 48688.34375, 48689.69140625], \"x\": [253, 439, 656, 871, 1071, 1283, 1498, 1692, 1908, 2117, 2333, 2551, 2762, 2989, 3000], \"type\": \"scatter\", \"name\": \"error-gs://cloud-ml-test-automated-sampledata/census/hptuning/2/eval\"}, {\"y\": [66161.1328125, 51565.60546875, 48793.40625, 48810.35546875, 49048.9296875, 49200.55078125, 49413.515625, 49545.00390625, 49713.4765625, 49841.8203125, 49950.71484375, 50062.8828125, 50162.6640625, 50210.4609375], \"x\": [323, 522, 744, 970, 1195, 1409, 1616, 1834, 2041, 2257, 2471, 2690, 2904, 3000], \"type\": \"scatter\", \"name\": \"error-gs://cloud-ml-test-automated-sampledata/census/hptuning/3/eval\"}, {\"y\": [81922.328125, 74765.953125, 66438.28125, 56974.90234375, 52299.55859375, 49922.4375, 48993.17578125, 48707.77734375, 48617.87109375, 48649.28515625, 48720.5703125, 48822.44140625, 48899.58203125, 49006.59765625, 49072.28515625], \"x\": [242, 458, 635, 860, 1037, 1233, 1401, 1588, 1744, 1946, 2168, 2373, 2584, 2801, 3000], \"type\": \"scatter\", \"name\": \"error-gs://cloud-ml-test-automated-sampledata/census/hptuning/6/eval\"}, {\"y\": [81107.40625, 74138.5703125, 64180.44140625, 55610.16796875, 51166.87890625, 49331.51171875, 48725.8203125, 48589.49609375, 48571.3359375, 48653.984375, 48730.62109375, 48814.6640625, 48858.9765625], \"x\": [333, 557, 801, 1052, 1292, 1522, 1761, 1985, 2211, 2426, 2666, 2890, 3000], \"type\": \"scatter\", \"name\": \"error-gs://cloud-ml-test-automated-sampledata/census/hptuning/8/eval\"}], {\"title\": \"error\", \"xaxis\": {\"title\": \"step\"}, \"yaxis\": {\"title\": \"error\"}}, {\"linkText\": \"Export to plot.ly\", \"showLink\": true})});</script>"
      ],
      "text/plain": [
       "<IPython.core.display.HTML object>"
      ]
     },
     "metadata": {},
     "output_type": "display_data"
    }
   ],
   "source": [
    "%ml summary --dir $eval_dir_pattern --name error --step"
   ]
  },
  {
   "cell_type": "code",
   "execution_count": null,
   "metadata": {
    "collapsed": true
   },
   "outputs": [],
   "source": []
  }
 ],
 "metadata": {
  "kernelspec": {
   "display_name": "Python 2",
   "language": "python",
   "name": "python2"
  },
  "language_info": {
   "codemirror_mode": {
    "name": "ipython",
    "version": 2
   },
   "file_extension": ".py",
   "mimetype": "text/x-python",
   "name": "python",
   "nbconvert_exporter": "python",
   "pygments_lexer": "ipython2",
   "version": "2.7.9"
  }
 },
 "nbformat": 4,
 "nbformat_minor": 1
}
