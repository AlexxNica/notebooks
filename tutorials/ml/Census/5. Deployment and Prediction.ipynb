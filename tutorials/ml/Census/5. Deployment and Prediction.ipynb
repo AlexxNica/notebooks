{
 "cells": [
  {
   "cell_type": "markdown",
   "metadata": {},
   "source": [
    "## Deployment\n",
    "\n",
    "Once you are happy with a trained model, you can upload the model so it can serve online prediction requests."
   ]
  },
  {
   "cell_type": "code",
   "execution_count": 3,
   "metadata": {
    "collapsed": true
   },
   "outputs": [],
   "source": [
    "%ml deploy --name census.v1 --path gs://cloud-ml-test-automated-sampledata/census/trainedmodel/model"
   ]
  },
  {
   "cell_type": "markdown",
   "metadata": {},
   "source": [
    "List models under current project."
   ]
  },
  {
   "cell_type": "code",
   "execution_count": 4,
   "metadata": {
    "collapsed": false
   },
   "outputs": [
    {
     "data": {
      "text/html": [
       "<table><tr><th>name</th></tr><tr><td>projects/cloud-ml-test-automated/models/census</td></tr><tr><td>projects/cloud-ml-test-automated/models/iris</td></tr></table>"
      ],
      "text/plain": [
       "<IPython.core.display.HTML object>"
      ]
     },
     "execution_count": 4,
     "metadata": {},
     "output_type": "execute_result"
    }
   ],
   "source": [
    "%ml model"
   ]
  },
  {
   "cell_type": "markdown",
   "metadata": {},
   "source": [
    "View details of a model."
   ]
  },
  {
   "cell_type": "code",
   "execution_count": 6,
   "metadata": {
    "collapsed": false
   },
   "outputs": [
    {
     "data": {
      "text/html": [
       "<pre>{createTime: '2016-08-19T06:07:01.000Z', name: projects/cloud-ml-test-automated/models/census/versions/v1,\n",
       "  originUri: 'gs://cloud-ml-test-automated-sampledata/census/trainedmodel/model'}\n",
       "</pre>"
      ],
      "text/plain": [
       "<IPython.core.display.HTML object>"
      ]
     },
     "execution_count": 6,
     "metadata": {},
     "output_type": "execute_result"
    }
   ],
   "source": [
    "%ml model --name census.v1"
   ]
  },
  {
   "cell_type": "markdown",
   "metadata": {},
   "source": [
    "## Prediction\n",
    "\n",
    "For local models, you can send requests to it without uploading the model. Note that metadata is needed to preprocess the input data on the fly. If not provided, it assumes the input data is preprocessed data."
   ]
  },
  {
   "cell_type": "code",
   "execution_count": 12,
   "metadata": {
    "collapsed": false
   },
   "outputs": [
    {
     "data": {
      "text/html": [
       "<pre>- predicted:\n",
       "  - 43486.734375\n",
       "  - 40331.8828125\n",
       "  - 39784.28125\n",
       "</pre>"
      ],
      "text/plain": [
       "<IPython.core.display.HTML object>"
      ]
     },
     "execution_count": 12,
     "metadata": {},
     "output_type": "execute_result"
    }
   ],
   "source": [
    "%%ml predict --model /content/datalab/ml/census/model/model --metadata /content/datalab/ml/census/preprocessed/metadata.yaml\n",
    "{\"WATP\": 1200, \"FS\": 2, \"SMX\": 0, \"PSF\": 1, \"STOV\": 1, \"MULTG\": 4, \"WKEXREL\": 1, \"BATH\": 1, \"INSP\": 490, \"ACR\": 1, \"NPF\": 0, \"YBL\": 8, \"HFL\": 1, \"TAXP\": 2, \"GASP\": 50, \"MODEM\": 1, \"FIBEROP\": 2, \"RESMODE\": 2010, \"SATELLITE\": 2, \"DIALUP\": 2, \"TEL\": 1, \"TEN\": 1, \"R18\": 0, \"BUS\": 2, \"HUPAC\": 1, \"SMOCP\": 3, \"HANDHELD\": 1, \"HUPARC\": 1, \"ELEP\": 60, \"RMSP\": 6, \"R60\": 0, \"VEH\": 2, \"HINCP\": 0, \"COMPOTHX\": 1, \"NR\": 1, \"SRNT\": 0, \"OTHSVCEX\": 2, \"MRGI\": 1, \"WIF\": 1, \"SERIALNO\": 705, \"LAPTOP\": 1, \"REFR\": 1, \"TOIL\": 1, \"DSL\": 2, \"FPARC\": 1, \"MRGX\": 1, \"FES\": 1, \"HHT\": 1, \"MRGT\": 1, \"BLD\": 3, \"MRGP\": 1800, \"FULP\": 2, \"HUGCL\": 1, \"SSMC\": 1, \"PUMA\": 11605, \"LNGI\": 1, \"VALP\": 351000, \"NRC\": 0, \"BDSP\": 3, \"HUPAOC\": 1, \"KIT\": 1, \"ACCESS\": 1, \"R65\": 3, \"NOC\": 3, \"MV\": 1, \"SVALNP\": 3, \"SVAL\": 36, \"RWAT\": 1, \"BROADBND\": 1, \"PARTNER\": 1, \"PLM\": 0, \"HHL\": 2, \"NPP\": 0, \"SINK\": 1}\n",
    "{\"WATP\": 930, \"FS\": 2, \"SMX\": 0, \"PSF\": 0, \"STOV\": 1, \"MULTG\": 7, \"BATH\": 1, \"INSP\": 1500, \"ACR\": 1, \"NPF\": 0, \"YBL\": 5, \"HFL\": 1, \"GASP\": 40, \"RESMODE\": 430, \"TEL\": 1, \"TEN\": 2, \"R18\": 1, \"BUS\": 2, \"HUPAC\": 4, \"HANDHELD\": 2, \"HUPARC\": 1, \"ELEP\": 20, \"RMSP\": 9, \"R60\": 1, \"VEH\": 1, \"HINCP\": 0, \"COMPOTHX\": 2, \"NR\": 0, \"SRNT\": 0, \"SERIALNO\": 1204, \"LAPTOP\": 2, \"REFR\": 1, \"TOIL\": 1, \"MRGX\": 3, \"HHT\": 6, \"BLD\": 2, \"FULP\": 2, \"HUGCL\": 4, \"SSMC\": 1, \"PUMA\": 11503, \"LNGI\": 1, \"VALP\": 200000, \"NRC\": 0, \"BDSP\": 4, \"HUPAOC\": 4, \"KIT\": 1, \"ACCESS\": 3, \"R65\": 1, \"MV\": 0, \"SVALNP\": 1, \"SVAL\": 32, \"RWAT\": 1, \"PARTNER\": 1, \"PLM\": 0, \"HHL\": 1, \"NPP\": 0, \"SINK\": 1}\n",
    "{\"WATP\": 1, \"FS\": 2, \"SMX\": 1, \"PSF\": 0, \"STOV\": 2, \"MULTG\": 4, \"BATH\": 1, \"NPF\": 0, \"YBL\": 8, \"HFL\": 3, \"GASP\": 1, \"GRNTP\": 630, \"TEL\": 1, \"TEN\": 3, \"R18\": 1, \"HUPAC\": 4, \"HANDHELD\": 2, \"HUPARC\": 2, \"ELEP\": 1, \"RMSP\": 3, \"R60\": 1, \"VEH\": 1, \"HINCP\": 0, \"COMPOTHX\": 2, \"NR\": 0, \"SRNT\": 0, \"RNTM\": 2, \"RNTP\": 630, \"SERIALNO\": 1758, \"LAPTOP\": 2, \"REFR\": 1, \"TOIL\": 1, \"HHT\": 4, \"BLD\": 8, \"FULP\": 1, \"HUGCL\": 4, \"SSMC\": 0, \"PUMA\": 10800, \"LNGI\": 1, \"NRC\": 0, \"BDSP\": 1, \"HUPAOC\": 4, \"KIT\": 1, \"ACCESS\": 3, \"R65\": 1, \"MV\": 0, \"SVALNP\": 1, \"RWAT\": 1, \"PARTNER\": 1, \"PLM\": 0, \"HHL\": 1, \"NPP\": 0, \"SINK\": 1}"
   ]
  },
  {
   "cell_type": "markdown",
   "metadata": {},
   "source": [
    "For cloud model, same but with --cloud. Also, the --model value needs to be a name.version model specifier instead of a local path. Let's use the model census.v1 we just deployed."
   ]
  },
  {
   "cell_type": "code",
   "execution_count": 13,
   "metadata": {
    "collapsed": false
   },
   "outputs": [
    {
     "data": {
      "text/html": [
       "<pre>- predicted: 43266.671875\n",
       "- predicted: 39491.875\n",
       "- predicted: 38965.40234375\n",
       "</pre>"
      ],
      "text/plain": [
       "<IPython.core.display.HTML object>"
      ]
     },
     "execution_count": 13,
     "metadata": {},
     "output_type": "execute_result"
    }
   ],
   "source": [
    "%%ml predict --model census.v1 --metadata /content/datalab/ml/census/preprocessed/metadata.yaml --cloud\n",
    "{\"WATP\": 1200, \"FS\": 2, \"SMX\": 0, \"PSF\": 1, \"STOV\": 1, \"MULTG\": 4, \"WKEXREL\": 1, \"BATH\": 1, \"INSP\": 490, \"ACR\": 1, \"NPF\": 0, \"YBL\": 8, \"HFL\": 1, \"TAXP\": 2, \"GASP\": 50, \"MODEM\": 1, \"FIBEROP\": 2, \"RESMODE\": 2010, \"SATELLITE\": 2, \"DIALUP\": 2, \"TEL\": 1, \"TEN\": 1, \"R18\": 0, \"BUS\": 2, \"HUPAC\": 1, \"SMOCP\": 3, \"HANDHELD\": 1, \"HUPARC\": 1, \"ELEP\": 60, \"RMSP\": 6, \"R60\": 0, \"VEH\": 2, \"HINCP\": 0, \"COMPOTHX\": 1, \"NR\": 1, \"SRNT\": 0, \"OTHSVCEX\": 2, \"MRGI\": 1, \"WIF\": 1, \"SERIALNO\": 705, \"LAPTOP\": 1, \"REFR\": 1, \"TOIL\": 1, \"DSL\": 2, \"FPARC\": 1, \"MRGX\": 1, \"FES\": 1, \"HHT\": 1, \"MRGT\": 1, \"BLD\": 3, \"MRGP\": 1800, \"FULP\": 2, \"HUGCL\": 1, \"SSMC\": 1, \"PUMA\": 11605, \"LNGI\": 1, \"VALP\": 351000, \"NRC\": 0, \"BDSP\": 3, \"HUPAOC\": 1, \"KIT\": 1, \"ACCESS\": 1, \"R65\": 3, \"NOC\": 3, \"MV\": 1, \"SVALNP\": 3, \"SVAL\": 36, \"RWAT\": 1, \"BROADBND\": 1, \"PARTNER\": 1, \"PLM\": 0, \"HHL\": 2, \"NPP\": 0, \"SINK\": 1}\n",
    "{\"WATP\": 930, \"FS\": 2, \"SMX\": 0, \"PSF\": 0, \"STOV\": 1, \"MULTG\": 7, \"BATH\": 1, \"INSP\": 1500, \"ACR\": 1, \"NPF\": 0, \"YBL\": 5, \"HFL\": 1, \"GASP\": 40, \"RESMODE\": 430, \"TEL\": 1, \"TEN\": 2, \"R18\": 1, \"BUS\": 2, \"HUPAC\": 4, \"HANDHELD\": 2, \"HUPARC\": 1, \"ELEP\": 20, \"RMSP\": 9, \"R60\": 1, \"VEH\": 1, \"HINCP\": 0, \"COMPOTHX\": 2, \"NR\": 0, \"SRNT\": 0, \"SERIALNO\": 1204, \"LAPTOP\": 2, \"REFR\": 1, \"TOIL\": 1, \"MRGX\": 3, \"HHT\": 6, \"BLD\": 2, \"FULP\": 2, \"HUGCL\": 4, \"SSMC\": 1, \"PUMA\": 11503, \"LNGI\": 1, \"VALP\": 200000, \"NRC\": 0, \"BDSP\": 4, \"HUPAOC\": 4, \"KIT\": 1, \"ACCESS\": 3, \"R65\": 1, \"MV\": 0, \"SVALNP\": 1, \"SVAL\": 32, \"RWAT\": 1, \"PARTNER\": 1, \"PLM\": 0, \"HHL\": 1, \"NPP\": 0, \"SINK\": 1}\n",
    "{\"WATP\": 1, \"FS\": 2, \"SMX\": 1, \"PSF\": 0, \"STOV\": 2, \"MULTG\": 4, \"BATH\": 1, \"NPF\": 0, \"YBL\": 8, \"HFL\": 3, \"GASP\": 1, \"GRNTP\": 630, \"TEL\": 1, \"TEN\": 3, \"R18\": 1, \"HUPAC\": 4, \"HANDHELD\": 2, \"HUPARC\": 2, \"ELEP\": 1, \"RMSP\": 3, \"R60\": 1, \"VEH\": 1, \"HINCP\": 0, \"COMPOTHX\": 2, \"NR\": 0, \"SRNT\": 0, \"RNTM\": 2, \"RNTP\": 630, \"SERIALNO\": 1758, \"LAPTOP\": 2, \"REFR\": 1, \"TOIL\": 1, \"HHT\": 4, \"BLD\": 8, \"FULP\": 1, \"HUGCL\": 4, \"SSMC\": 0, \"PUMA\": 10800, \"LNGI\": 1, \"NRC\": 0, \"BDSP\": 1, \"HUPAOC\": 4, \"KIT\": 1, \"ACCESS\": 3, \"R65\": 1, \"MV\": 0, \"SVALNP\": 1, \"RWAT\": 1, \"PARTNER\": 1, \"PLM\": 0, \"HHL\": 1, \"NPP\": 0, \"SINK\": 1}"
   ]
  },
  {
   "cell_type": "markdown",
   "metadata": {},
   "source": [
    "Note that first time online prediction is slow since it needs to copy model files. Subsequent requests handling should be much faster."
   ]
  },
  {
   "cell_type": "markdown",
   "metadata": {},
   "source": [
    "You can also use pandas DataFrame as input data."
   ]
  },
  {
   "cell_type": "code",
   "execution_count": 16,
   "metadata": {
    "collapsed": true
   },
   "outputs": [],
   "source": [
    "input_data = \\\n",
    "[{\"WATP\": 1200, \"FS\": 2, \"SMX\": 0, \"PSF\": 1, \"STOV\": 1, \"MULTG\": 4, \"WKEXREL\": 1, \"BATH\": 1, \"INSP\": 490, \"ACR\": 1, \"NPF\": 0, \"YBL\": 8, \"HFL\": 1, \"TAXP\": 2, \"GASP\": 50, \"MODEM\": 1, \"FIBEROP\": 2, \"RESMODE\": 2010, \"SATELLITE\": 2, \"DIALUP\": 2, \"TEL\": 1, \"TEN\": 1, \"R18\": 0, \"BUS\": 2, \"HUPAC\": 1, \"SMOCP\": 3, \"HANDHELD\": 1, \"HUPARC\": 1, \"ELEP\": 60, \"RMSP\": 6, \"R60\": 0, \"VEH\": 2, \"HINCP\": 0, \"COMPOTHX\": 1, \"NR\": 1, \"SRNT\": 0, \"OTHSVCEX\": 2, \"MRGI\": 1, \"WIF\": 1, \"SERIALNO\": 705, \"LAPTOP\": 1, \"REFR\": 1, \"TOIL\": 1, \"DSL\": 2, \"FPARC\": 1, \"MRGX\": 1, \"FES\": 1, \"HHT\": 1, \"MRGT\": 1, \"BLD\": 3, \"MRGP\": 1800, \"FULP\": 2, \"HUGCL\": 1, \"SSMC\": 1, \"PUMA\": 11605, \"LNGI\": 1, \"VALP\": 351000, \"NRC\": 0, \"BDSP\": 3, \"HUPAOC\": 1, \"KIT\": 1, \"ACCESS\": 1, \"R65\": 3, \"NOC\": 3, \"MV\": 1, \"SVALNP\": 3, \"SVAL\": 36, \"RWAT\": 1, \"BROADBND\": 1, \"PARTNER\": 1, \"PLM\": 0, \"HHL\": 2, \"NPP\": 0, \"SINK\": 1},\n",
    "{\"WATP\": 930, \"FS\": 2, \"SMX\": 0, \"PSF\": 0, \"STOV\": 1, \"MULTG\": 7, \"BATH\": 1, \"INSP\": 1500, \"ACR\": 1, \"NPF\": 0, \"YBL\": 5, \"HFL\": 1, \"GASP\": 40, \"RESMODE\": 430, \"TEL\": 1, \"TEN\": 2, \"R18\": 1, \"BUS\": 2, \"HUPAC\": 4, \"HANDHELD\": 2, \"HUPARC\": 1, \"ELEP\": 20, \"RMSP\": 9, \"R60\": 1, \"VEH\": 1, \"HINCP\": 0, \"COMPOTHX\": 2, \"NR\": 0, \"SRNT\": 0, \"SERIALNO\": 1204, \"LAPTOP\": 2, \"REFR\": 1, \"TOIL\": 1, \"MRGX\": 3, \"HHT\": 6, \"BLD\": 2, \"FULP\": 2, \"HUGCL\": 4, \"SSMC\": 1, \"PUMA\": 11503, \"LNGI\": 1, \"VALP\": 200000, \"NRC\": 0, \"BDSP\": 4, \"HUPAOC\": 4, \"KIT\": 1, \"ACCESS\": 3, \"R65\": 1, \"MV\": 0, \"SVALNP\": 1, \"SVAL\": 32, \"RWAT\": 1, \"PARTNER\": 1, \"PLM\": 0, \"HHL\": 1, \"NPP\": 0, \"SINK\": 1},\n",
    "{\"WATP\": 1, \"FS\": 2, \"SMX\": 1, \"PSF\": 0, \"STOV\": 2, \"MULTG\": 4, \"BATH\": 1, \"NPF\": 0, \"YBL\": 8, \"HFL\": 3, \"GASP\": 1, \"GRNTP\": 630, \"TEL\": 1, \"TEN\": 3, \"R18\": 1, \"HUPAC\": 4, \"HANDHELD\": 2, \"HUPARC\": 2, \"ELEP\": 1, \"RMSP\": 3, \"R60\": 1, \"VEH\": 1, \"HINCP\": 0, \"COMPOTHX\": 2, \"NR\": 0, \"SRNT\": 0, \"RNTM\": 2, \"RNTP\": 630, \"SERIALNO\": 1758, \"LAPTOP\": 2, \"REFR\": 1, \"TOIL\": 1, \"HHT\": 4, \"BLD\": 8, \"FULP\": 1, \"HUGCL\": 4, \"SSMC\": 0, \"PUMA\": 10800, \"LNGI\": 1, \"NRC\": 0, \"BDSP\": 1, \"HUPAOC\": 4, \"KIT\": 1, \"ACCESS\": 3, \"R65\": 1, \"MV\": 0, \"SVALNP\": 1, \"RWAT\": 1, \"PARTNER\": 1, \"PLM\": 0, \"HHL\": 1, \"NPP\": 0, \"SINK\": 1}]"
   ]
  },
  {
   "cell_type": "code",
   "execution_count": 17,
   "metadata": {
    "collapsed": false
   },
   "outputs": [
    {
     "data": {
      "text/html": [
       "<pre>- predicted:\n",
       "  - 43486.734375\n",
       "  - 40331.8828125\n",
       "  - 39784.28125\n",
       "</pre>"
      ],
      "text/plain": [
       "<IPython.core.display.HTML object>"
      ]
     },
     "execution_count": 17,
     "metadata": {},
     "output_type": "execute_result"
    }
   ],
   "source": [
    "%%ml predict --model /content/datalab/ml/census/model/model --metadata /content/datalab/ml/census/preprocessed/metadata.yaml --data input_data"
   ]
  },
  {
   "cell_type": "code",
   "execution_count": null,
   "metadata": {
    "collapsed": true
   },
   "outputs": [],
   "source": []
  }
 ],
 "metadata": {
  "kernelspec": {
   "display_name": "Python 2",
   "language": "python",
   "name": "python2"
  },
  "language_info": {
   "codemirror_mode": {
    "name": "ipython",
    "version": 2
   },
   "file_extension": ".py",
   "mimetype": "text/x-python",
   "name": "python",
   "nbconvert_exporter": "python",
   "pygments_lexer": "ipython2",
   "version": "2.7.9"
  }
 },
 "nbformat": 4,
 "nbformat_minor": 1
}
